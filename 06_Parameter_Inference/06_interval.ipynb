{
 "cells": [
  {
   "cell_type": "markdown",
   "metadata": {
    "tags": []
   },
   "source": [
    "# Testing confidence intervals\n",
    "Author: Aleksander Filip Żarnecki (University of Warsaw)"
   ]
  },
  {
   "cell_type": "markdown",
   "metadata": {
    "tags": []
   },
   "source": [
    "### (0) Import libraries "
   ]
  },
  {
   "cell_type": "code",
   "execution_count": 1,
   "metadata": {},
   "outputs": [],
   "source": [
    "import math\n",
    "import numpy as np\n",
    "import matplotlib.pyplot as plt"
   ]
  },
  {
   "cell_type": "markdown",
   "metadata": {
    "tags": []
   },
   "source": [
    "### (1) Definition of random number generation and limits"
   ]
  },
  {
   "cell_type": "code",
   "execution_count": 2,
   "metadata": {},
   "outputs": [],
   "source": [
    "# Parameters of the gaussian distribution\n",
    "\n",
    "mean = 0\n",
    "sigma = 1\n",
    "\n",
    "# Considered limits\n",
    "\n",
    "limlow = np.array([mean-sigma, mean-2*sigma,mean-3*sigma,mean-4*sigma,mean-5*sigma])\n",
    "limhig = np.array([mean+sigma, mean+2*sigma,mean+3*sigma,mean+4*sigma,mean+5*sigma])\n",
    "\n",
    "# Number generation procedure\n",
    "\n",
    "def myrnd(N=1):\n",
    "    \n",
    "    rvec = np.random.normal(mean,sigma, size=(N))\n",
    "\n",
    "    return rvec\n"
   ]
  },
  {
   "cell_type": "markdown",
   "metadata": {},
   "source": [
    "### (2) Generate multiple numbers"
   ]
  },
  {
   "cell_type": "code",
   "execution_count": 3,
   "metadata": {},
   "outputs": [],
   "source": [
    "Nmc = 100000000\n",
    "\n",
    "rvec = myrnd(Nmc)"
   ]
  },
  {
   "cell_type": "markdown",
   "metadata": {},
   "source": [
    "### (3)  Count limit probability"
   ]
  },
  {
   "cell_type": "code",
   "execution_count": 6,
   "metadata": {},
   "outputs": [
    {
     "name": "stdout",
     "output_type": "stream",
     "text": [
      "\n",
      "Lower limit probability:\n",
      " P ( x <  -1 ) =  0.15868235  +/-  3.6537961327703754e-05\n",
      " P ( x <  -2 ) =  0.0227639  +/-  1.4914994085412841e-05\n",
      " P ( x <  -3 ) =  0.00134431  +/-  3.6640180548462093e-06\n",
      " P ( x <  -4 ) =  3.164e-05  +/-  5.624855456845092e-07\n",
      " P ( x <  -5 ) =  3.8e-07  +/-  6.164412831730204e-08\n",
      "\n",
      "Upper limit probability:\n",
      " P ( x >  1 ) =  0.1586844  +/-  3.65381528264142e-05\n",
      " P ( x >  2 ) =  0.02276074  +/-  1.4913982940399389e-05\n",
      " P ( x >  3 ) =  0.00135359  +/-  3.6766258908296613e-06\n",
      " P ( x >  4 ) =  3.159e-05  +/-  5.620409422088395e-07\n",
      " P ( x >  5 ) =  3.1e-07  +/-  5.567763499826479e-08\n"
     ]
    }
   ],
   "source": [
    "print(\"\\nLower limit probability:\")\n",
    "\n",
    "for ll in limlow :\n",
    "    nl = np.sum(rvec < ll)\n",
    "    p = nl/Nmc\n",
    "    ep = np.sqrt(p*(1-p)/Nmc)\n",
    "    print (\" P ( x < \",ll,\") = \",p,\" +/- \",ep)\n",
    "    \n",
    "print(\"\\nUpper limit probability:\")\n",
    "\n",
    "for ul in limhig :\n",
    "    nl = np.sum(rvec > ul)\n",
    "    p = nl/Nmc\n",
    "    ep = np.sqrt(p*(1-p)/Nmc)\n",
    "    print (\" P ( x > \",ul,\") = \",p,\" +/- \",ep)\n",
    "    "
   ]
  },
  {
   "cell_type": "markdown",
   "metadata": {},
   "source": [
    "### (4) Plot distribution histogram"
   ]
  },
  {
   "cell_type": "code",
   "execution_count": 10,
   "metadata": {},
   "outputs": [
    {
     "data": {
      "image/png": "[encoded data removed]",
      "text/plain": [
       "<Figure size 648x432 with 1 Axes>"
      ]
     },
     "metadata": {
      "needs_background": "light"
     },
     "output_type": "display_data"
    }
   ],
   "source": [
    "# Range for result histogram\n",
    "\n",
    "Xmax=10.\n",
    "Nbin = 100\n",
    "\n",
    "# Plot histogram\n",
    "\n",
    "plt.figure(figsize=(9, 6))\n",
    "\n",
    "plt.hist(rvec,bins=Nbin, range=[-Xmax,Xmax], density=True, log=True, histtype='step',linewidth=3)\n",
    "\n",
    "plt.title(\"Probability distribution from MC\",size=24)\n",
    "plt.xlabel('variable',size=24)\n",
    "plt.ylabel('Probability density',size=24)\n",
    "plt.xticks(fontsize=20)\n",
    "plt.yticks(fontsize=20)\n",
    "plt.xlim([-Xmax,Xmax])\n",
    "plt.grid(which='major', axis='both')\n",
    "\n",
    "fname = '06_interval.png'\n",
    "plt.savefig(fname)\n",
    "\n",
    "plt.show()"
   ]
  }
 ],
 "metadata": {
  "kernelspec": {
   "display_name": "Python 3",
   "language": "python",
   "name": "python3"
  },
  "language_info": {
   "codemirror_mode": {
    "name": "ipython",
    "version": 3
   },
   "file_extension": ".py",
   "mimetype": "text/x-python",
   "name": "python",
   "nbconvert_exporter": "python",
   "pygments_lexer": "ipython3",
   "version": "3.9.7"
  }
 },
 "nbformat": 4,
 "nbformat_minor": 4
}
