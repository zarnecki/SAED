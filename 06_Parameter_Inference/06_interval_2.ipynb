{
 "cells": [
  {
   "cell_type": "markdown",
   "metadata": {
    "tags": []
   },
   "source": [
    "# Testing confidence intervals\n",
    "Author: Aleksander Filip Żarnecki (University of Warsaw)"
   ]
  },
  {
   "cell_type": "markdown",
   "metadata": {
    "tags": []
   },
   "source": [
    "### (0) Import libraries "
   ]
  },
  {
   "cell_type": "code",
   "execution_count": 1,
   "metadata": {},
   "outputs": [],
   "source": [
    "import math\n",
    "import numpy as np\n",
    "import matplotlib.pyplot as plt"
   ]
  },
  {
   "cell_type": "markdown",
   "metadata": {
    "tags": []
   },
   "source": [
    "### (1) Definition of random number generation and limits"
   ]
  },
  {
   "cell_type": "code",
   "execution_count": 2,
   "metadata": {},
   "outputs": [],
   "source": [
    "# Parameters of the Poisson distribution\n",
    "\n",
    "mean = 10\n",
    "sigma = np.sqrt(mean)\n",
    "\n",
    "# Considered limits\n",
    "\n",
    "limlow = np.array([mean-sigma, mean-2*sigma,mean-3*sigma,mean-4*sigma,mean-5*sigma])\n",
    "limhig = np.array([mean+sigma, mean+2*sigma,mean+3*sigma,mean+4*sigma,mean+5*sigma])\n",
    "\n",
    "# Number generation procedure\n",
    "\n",
    "def myrnd(N=1):\n",
    "    \n",
    "    rvec = np.random.poisson(mean,size=(N))\n",
    "\n",
    "    return rvec\n"
   ]
  },
  {
   "cell_type": "markdown",
   "metadata": {},
   "source": [
    "### (2) Generate multiple numbers"
   ]
  },
  {
   "cell_type": "code",
   "execution_count": 3,
   "metadata": {},
   "outputs": [],
   "source": [
    "Nmc = 100000000\n",
    "\n",
    "rvec = myrnd(Nmc)"
   ]
  },
  {
   "cell_type": "markdown",
   "metadata": {},
   "source": [
    "### (3)  Count limit probability"
   ]
  },
  {
   "cell_type": "code",
   "execution_count": 4,
   "metadata": {},
   "outputs": [
    {
     "name": "stdout",
     "output_type": "stream",
     "text": [
      "\n",
      "Lower limit probability:\n",
      " P ( x <  6.83772233983162 ) =  0.1301248  +/-  3.3644068782619023e-05\n",
      " P ( x <  3.675444679663241 ) =  0.01034356  +/-  1.0117593966218649e-05\n",
      " P ( x <  0.5131670194948619 ) =  4.537e-05  +/-  6.735572845950076e-07\n",
      " P ( x <  -2.649110640673518 ) =  0.0  +/-  0.0\n",
      " P ( x <  -5.811388300841898 ) =  0.0  +/-  0.0\n",
      "\n",
      "Upper limit probability:\n",
      " P ( x >  13.16227766016838 ) =  0.13556716  +/-  3.42328358640552e-05\n",
      " P ( x >  16.32455532033676 ) =  0.02704376  +/-  1.6221095846169705e-05\n",
      " P ( x >  19.486832980505138 ) =  0.0034543  +/-  5.867169514774565e-06\n",
      " P ( x >  22.64911064067352 ) =  0.00029327  +/-  1.7122616409506463e-06\n",
      " P ( x >  25.811388300841898 ) =  1.717e-05  +/-  4.1436342974615896e-07\n"
     ]
    }
   ],
   "source": [
    "print(\"\\nLower limit probability:\")\n",
    "\n",
    "for ll in limlow :\n",
    "    nl = np.sum(rvec < ll)\n",
    "    p = nl/Nmc\n",
    "    ep = np.sqrt(p*(1-p)/Nmc)\n",
    "    print (\" P ( x < \",ll,\") = \",p,\" +/- \",ep)\n",
    "    \n",
    "print(\"\\nUpper limit probability:\")\n",
    "\n",
    "for ul in limhig :\n",
    "    nl = np.sum(rvec > ul)\n",
    "    p = nl/Nmc\n",
    "    ep = np.sqrt(p*(1-p)/Nmc)\n",
    "    print (\" P ( x > \",ul,\") = \",p,\" +/- \",ep)\n",
    "    "
   ]
  },
  {
   "cell_type": "markdown",
   "metadata": {},
   "source": [
    "### (4) Plot distribution histogram"
   ]
  },
  {
   "cell_type": "code",
   "execution_count": 8,
   "metadata": {},
   "outputs": [
    {
     "data": {
      "image/png": "[encoded data removed]",
      "text/plain": [
       "<Figure size 648x432 with 1 Axes>"
      ]
     },
     "metadata": {
      "needs_background": "light"
     },
     "output_type": "display_data"
    }
   ],
   "source": [
    "# Range for result histogram\n",
    "\n",
    "Xmax=30.5\n",
    "Nbin = 31\n",
    "\n",
    "# Plot histogram\n",
    "\n",
    "plt.figure(figsize=(9, 6))\n",
    "\n",
    "plt.hist(rvec,bins=Nbin, range=[-0.5,Xmax], density=True, log=True, histtype='step',linewidth=3)\n",
    "\n",
    "plt.title(\"Probability distribution from MC\",size=24)\n",
    "plt.xlabel('variable',size=24)\n",
    "plt.ylabel('Probability density',size=24)\n",
    "plt.xticks(fontsize=20)\n",
    "plt.yticks(fontsize=20)\n",
    "plt.xlim([-0.5,Xmax])\n",
    "plt.grid(which='major', axis='both')\n",
    "\n",
    "fname = '06_interval_2.png'\n",
    "plt.savefig(fname)\n",
    "\n",
    "plt.show()"
   ]
  },
  {
   "cell_type": "code",
   "execution_count": null,
   "metadata": {},
   "outputs": [],
   "source": []
  }
 ],
 "metadata": {
  "kernelspec": {
   "display_name": "Python 3",
   "language": "python",
   "name": "python3"
  },
  "language_info": {
   "codemirror_mode": {
    "name": "ipython",
    "version": 3
   },
   "file_extension": ".py",
   "mimetype": "text/x-python",
   "name": "python",
   "nbconvert_exporter": "python",
   "pygments_lexer": "ipython3",
   "version": "3.9.7"
  }
 },
 "nbformat": 4,
 "nbformat_minor": 4
}
