{
 "cells": [
  {
   "cell_type": "markdown",
   "metadata": {
    "tags": []
   },
   "source": [
    "# Binomial distribution \n",
    "Author: Aleksander Filip Żarnecki (University of Warsaw)"
   ]
  },
  {
   "cell_type": "code",
   "execution_count": 1,
   "metadata": {},
   "outputs": [],
   "source": [
    "import math\n",
    "import numpy as np\n",
    "import scipy.special as scisp\n",
    "import scipy.stats as scist\n",
    "import matplotlib.pyplot as plt"
   ]
  },
  {
   "cell_type": "markdown",
   "metadata": {
    "tags": []
   },
   "source": [
    "### (1) Define parameters"
   ]
  },
  {
   "cell_type": "code",
   "execution_count": 2,
   "metadata": {},
   "outputs": [],
   "source": [
    "# Number of tries\n",
    "\n",
    "Ntry = 5\n",
    "# Ntry = 22\n",
    "\n",
    "# Probability of success in single try\n",
    "\n",
    "ppp = 1./6.\n",
    "# ppp = 0.9\n",
    "\n",
    "# Probability distribution\n",
    "\n",
    "qqq = 1.0 - ppp\n",
    "\n",
    "def mypdf(n):\n",
    "\n",
    "    # using explicit formula with Newton factor from SciPy\n",
    "\n",
    "    pdf = scisp.binom(Ntry,n) * (ppp ** n) * (qqq ** (Ntry-n))\n",
    "\n",
    "    # Alternative: using SciPy probability distribution (check it give same result)\n",
    "    \n",
    "#    pdf = scist.binom.pmf(n,Ntry,ppp)    \n",
    "\n",
    "    return pdf\n"
   ]
  },
  {
   "cell_type": "markdown",
   "metadata": {},
   "source": [
    "### (2) Calculate pdf"
   ]
  },
  {
   "cell_type": "code",
   "execution_count": 3,
   "metadata": {},
   "outputs": [
    {
     "name": "stdout",
     "output_type": "stream",
     "text": [
      "0  successes with probability  0.401877572016461\n",
      "1  successes with probability  0.40187757201646096\n",
      "2  successes with probability  0.1607510288065844\n",
      "3  successes with probability  0.03215020576131687\n",
      "4  successes with probability  0.003215020576131687\n",
      "5  successes with probability  0.00012860082304526745\n",
      "Total probability (check):     1.0000000000000002\n"
     ]
    }
   ],
   "source": [
    "# Array to store results (count different outcomes), initialized to zeros\n",
    "\n",
    "exp_data = np.zeros(Ntry+1)\n",
    "\n",
    "# Sum of probabilities, for check\n",
    "\n",
    "spdf=0.0\n",
    "\n",
    "for i in  range(Ntry+1):\n",
    "    pdf = mypdf(i)\n",
    "    exp_data[i] = pdf\n",
    "    print(i,' successes with probability ',pdf)\n",
    "    spdf+=pdf\n",
    "    \n",
    "print('Total probability (check):    ',spdf)"
   ]
  },
  {
   "cell_type": "markdown",
   "metadata": {
    "tags": []
   },
   "source": [
    "### (3) Plot results"
   ]
  },
  {
   "cell_type": "code",
   "execution_count": 4,
   "metadata": {},
   "outputs": [
    {
     "data": {
      "image/png": "[encoded data removed]",
      "text/plain": [
       "<Figure size 648x432 with 1 Axes>"
      ]
     },
     "metadata": {
      "needs_background": "light"
     },
     "output_type": "display_data"
    }
   ],
   "source": [
    "# Plot count vs number\n",
    "\n",
    "cnt = np.arange(0,Ntry+1,dtype=int)\n",
    "\n",
    "plt.figure(figsize=(9, 6))\n",
    "\n",
    "plt.plot(cnt,exp_data,'o',markersize=10)\n",
    "plt.xlabel('n',size=24)\n",
    "plt.ylabel('P(n)',size=24)\n",
    "plt.xticks(fontsize=20)\n",
    "plt.yticks(fontsize=20)\n",
    "plt.title(\"Binomial probability distribution\",size=24)\n",
    "plt.xlim([-0.5,Ntry+0.5])\n",
    "\n",
    "fname = '03_binomial_'+str(Ntry)+'.png'\n",
    "plt.savefig(fname)\n",
    "\n",
    "plt.show()"
   ]
  },
  {
   "cell_type": "code",
   "execution_count": null,
   "metadata": {},
   "outputs": [],
   "source": []
  }
 ],
 "metadata": {
  "kernelspec": {
   "display_name": "Python 3",
   "language": "python",
   "name": "python3"
  },
  "language_info": {
   "codemirror_mode": {
    "name": "ipython",
    "version": 3
   },
   "file_extension": ".py",
   "mimetype": "text/x-python",
   "name": "python",
   "nbconvert_exporter": "python",
   "pygments_lexer": "ipython3",
   "version": "3.9.7"
  }
 },
 "nbformat": 4,
 "nbformat_minor": 4
}
