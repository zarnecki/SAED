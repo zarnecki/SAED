{
 "cells": [
  {
   "cell_type": "markdown",
   "metadata": {
    "tags": []
   },
   "source": [
    "# Testing confidence intervals\n",
    "Author: Aleksander Filip Żarnecki (University of Warsaw)"
   ]
  },
  {
   "cell_type": "markdown",
   "metadata": {
    "tags": []
   },
   "source": [
    "### (0) Import libraries "
   ]
  },
  {
   "cell_type": "code",
   "execution_count": 1,
   "metadata": {},
   "outputs": [],
   "source": [
    "import math\n",
    "import numpy as np\n",
    "import matplotlib.pyplot as plt\n",
    "\n",
    "from scipy.stats import norm"
   ]
  },
  {
   "cell_type": "markdown",
   "metadata": {
    "tags": []
   },
   "source": [
    "### (1) Definition of unified probability interval\n",
    "\n",
    "Assuming Gausian probability distribution with physical bound on true mean"
   ]
  },
  {
   "cell_type": "code",
   "execution_count": 2,
   "metadata": {},
   "outputs": [],
   "source": [
    "# Variable pdf width!!!\n",
    "# Precision better for small than for large mean\n",
    "\n",
    "def sigma(mean):\n",
    "    sig = 1.+np.arctan(mean-1)/np.pi\n",
    "    return sig\n",
    "\n",
    "# Return unified interval corresponsing to given CL\n",
    "\n",
    "def problim(mean,cl):\n",
    "    \n",
    "# Find sum range required for % level precision\n",
    "\n",
    "    prec = 0.001*(1-cl)\n",
    "\n",
    "    sig = sigma(mean)\n",
    "    xmin = mean+sig*norm.isf(1-prec)\n",
    "    xmax = mean+sig*norm.isf(prec)\n",
    "\n",
    "    nbin=1000\n",
    "    dx=(xmax-xmin)/nbin\n",
    "    \n",
    "# Considered interval candidates\n",
    "\n",
    "    xtab = np.linspace(xmin+0.5*dx,xmax-0.5*dx,nbin)\n",
    "    ptab = norm.pdf(xtab,mean,sig)\n",
    "\n",
    "# Highest likelihood for each candidate\n",
    "\n",
    "    xbest = xtab * (xtab > 0.)\n",
    "    pbest = norm.pdf(xtab,xbest,sig)\n",
    "    \n",
    "# Sort candidates according to the probability ratio\n",
    "\n",
    "    prat = ptab/pbest\n",
    "    \n",
    "    isort= np.argsort(prat)\n",
    "\n",
    "    xlo=xmax\n",
    "    xhi=xmin\n",
    "    psum=0\n",
    "\n",
    "    \n",
    "    for ip in reversed(isort):\n",
    "        psum += dx*ptab[ip]\n",
    "        if(xlo>xtab[ip]): xlo=xtab[ip]\n",
    "        if(xhi<xtab[ip]): xhi=xtab[ip]\n",
    "        if(psum>cl): break\n",
    "        \n",
    "    return xlo-dx/2.,xhi+dx/2.\n",
    "\n",
    "# Help function to check coverage\n",
    "\n",
    "def probsum(mean,x1,x2):\n",
    "    sig = sigma(mean)\n",
    "    p12= norm.cdf(x2,mean,sig) - norm.cdf(x1,mean,sig)\n",
    "    return p12\n"
   ]
  },
  {
   "cell_type": "markdown",
   "metadata": {},
   "source": [
    "### (2) Define set of hypothesis"
   ]
  },
  {
   "cell_type": "code",
   "execution_count": 3,
   "metadata": {},
   "outputs": [],
   "source": [
    "# Considered values of true mean\n",
    "\n",
    "#vmean = np.linspace(0.,5.5,12)\n",
    "vmean = np.linspace(0.,6.,121)\n",
    "# vmean = np.linspace(0.,6.,601)\n",
    "\n",
    "CL = 0.90\n",
    "\n",
    "# Upper an lower edges of x probability intervals\n",
    "\n",
    "vlow = np.empty(vmean.size)\n",
    "vhig = np.empty(vmean.size)\n",
    "\n",
    "for im in range(vmean.size):\n",
    "    vlow[im],vhig[im] = problim(vmean[im],CL)\n"
   ]
  },
  {
   "cell_type": "markdown",
   "metadata": {},
   "source": [
    "### (3)  Print interval information"
   ]
  },
  {
   "cell_type": "code",
   "execution_count": 4,
   "metadata": {},
   "outputs": [
    {
     "name": "stdout",
     "output_type": "stream",
     "text": [
      "\n",
      "Probability intervals for x:\n",
      "\n",
      "  true mean     n_low     n_high    CL\n",
      "     0.000     -2.789     0.965     0.900814\n",
      "     0.050     -2.770     1.026     0.900814\n",
      "     0.100     -2.752     1.087     0.900814\n",
      "     0.150     -2.735     1.148     0.900814\n",
      "     0.200     -2.440     1.210     0.900528\n",
      "     0.250     -2.003     1.285     0.901184\n",
      "     0.300     -1.725     1.361     0.900035\n",
      "     0.350     -1.539     1.449     0.900539\n",
      "     0.400     -1.411     1.533     0.900058\n",
      "     0.450     -1.299     1.625     0.900354\n",
      "     0.500     -1.218     1.711     0.900377\n",
      "     0.550     -1.143     1.799     0.900266\n",
      "     0.600     -1.074     1.888     0.900133\n",
      "     0.650     -1.024     1.972     0.900147\n",
      "     0.700     -0.973     2.056     0.900003\n",
      "     0.750     -0.923     2.149     0.900641\n",
      "     0.800     -0.880     2.236     0.900747\n",
      "     0.850     -0.843     2.317     0.900453\n",
      "     0.900     -0.800     2.405     0.900376\n",
      "     0.950     -0.770     2.487     0.900617\n",
      "     1.000     -0.733     2.569     0.900183\n",
      "     1.050     -0.703     2.652     0.900379\n",
      "     1.100     -0.673     2.735     0.900556\n",
      "     1.150     -0.634     2.817     0.900023\n",
      "     1.200     -0.602     2.900     0.900154\n",
      "     1.250     -0.570     2.982     0.900267\n",
      "     1.300     -0.545     3.056     0.900267\n",
      "     1.350     -0.511     3.137     0.900360\n",
      "     1.400     -0.476     3.218     0.900435\n",
      "     1.450     -0.449     3.290     0.900435\n",
      "     1.500     -0.412     3.369     0.900491\n",
      "     1.550     -0.383     3.440     0.900491\n",
      "     1.600     -0.344     3.518     0.900529\n",
      "     1.650     -0.313     3.587     0.900529\n",
      "     1.700     -0.281     3.654     0.900529\n",
      "     1.750     -0.239     3.731     0.900547\n",
      "     1.800     -0.206     3.797     0.900547\n",
      "     1.850     -0.172     3.862     0.900547\n",
      "     1.900     -0.136     3.927     0.900547\n",
      "     1.950     -0.101     3.991     0.900547\n",
      "     2.000     -0.064     4.055     0.900547\n",
      "     2.050     -0.027     4.118     0.900547\n",
      "     2.100      0.020     4.189     0.900547\n",
      "     2.150      0.059     4.251     0.900547\n",
      "     2.200      0.098     4.312     0.900547\n",
      "     2.250      0.137     4.372     0.900547\n",
      "     2.300      0.177     4.432     0.900547\n",
      "     2.350      0.218     4.492     0.900547\n",
      "     2.400      0.259     4.551     0.900547\n",
      "     2.450      0.300     4.610     0.900547\n",
      "     2.500      0.342     4.668     0.900547\n",
      "     2.550      0.384     4.726     0.900547\n",
      "     2.600      0.427     4.783     0.900547\n",
      "     2.650      0.469     4.840     0.900547\n",
      "     2.700      0.513     4.897     0.900547\n",
      "     2.750      0.556     4.954     0.900547\n",
      "     2.800      0.600     5.010     0.900547\n",
      "     2.850      0.644     5.066     0.900547\n",
      "     2.900      0.688     5.122     0.900547\n",
      "     2.950      0.732     5.178     0.900547\n",
      "     3.000      0.777     5.233     0.900547\n",
      "     3.050      0.822     5.288     0.900547\n",
      "     3.100      0.867     5.343     0.900547\n",
      "     3.150      0.912     5.398     0.900547\n",
      "     3.200      0.958     5.453     0.900547\n",
      "     3.250      1.003     5.507     0.900547\n",
      "     3.300      1.049     5.561     0.900547\n",
      "     3.350      1.095     5.615     0.900547\n",
      "     3.400      1.141     5.669     0.900547\n",
      "     3.450      1.187     5.723     0.900547\n",
      "     3.500      1.233     5.777     0.900547\n",
      "     3.550      1.280     5.830     0.900547\n",
      "     3.600      1.326     5.884     0.900547\n",
      "     3.650      1.373     5.937     0.900547\n",
      "     3.700      1.420     5.990     0.900547\n",
      "     3.750      1.467     6.044     0.900547\n",
      "     3.800      1.514     6.097     0.900547\n",
      "     3.850      1.561     6.149     0.900547\n",
      "     3.900      1.608     6.202     0.900547\n",
      "     3.950      1.655     6.255     0.900547\n",
      "     4.000      1.703     6.308     0.900547\n",
      "     4.050      1.750     6.360     0.900547\n",
      "     4.100      1.798     6.413     0.900547\n",
      "     4.150      1.845     6.465     0.900547\n",
      "     4.200      1.893     6.518     0.900547\n",
      "     4.250      1.940     6.570     0.900547\n",
      "     4.300      1.988     6.622     0.900547\n",
      "     4.350      2.036     6.674     0.900547\n",
      "     4.400      2.084     6.727     0.900547\n",
      "     4.450      2.132     6.779     0.900547\n",
      "     4.500      2.180     6.831     0.900547\n",
      "     4.550      2.228     6.883     0.900547\n",
      "     4.600      2.276     6.934     0.900547\n",
      "     4.650      2.324     6.986     0.900547\n",
      "     4.700      2.372     7.038     0.900547\n",
      "     4.750      2.421     7.090     0.900547\n",
      "     4.800      2.469     7.142     0.900547\n",
      "     4.850      2.517     7.193     0.900547\n",
      "     4.900      2.566     7.245     0.900547\n",
      "     4.950      2.614     7.297     0.900547\n",
      "     5.000      2.662     7.348     0.900547\n",
      "     5.050      2.711     7.400     0.900547\n",
      "     5.100      2.759     7.451     0.900547\n",
      "     5.150      2.808     7.503     0.900547\n",
      "     5.200      2.857     7.554     0.900547\n",
      "     5.250      2.905     7.605     0.900547\n",
      "     5.300      2.954     7.657     0.900547\n",
      "     5.350      3.003     7.708     0.900547\n",
      "     5.400      3.051     7.759     0.900547\n",
      "     5.450      3.100     7.811     0.900547\n",
      "     5.500      3.149     7.862     0.900547\n",
      "     5.550      3.197     7.913     0.900547\n",
      "     5.600      3.246     7.964     0.900547\n",
      "     5.650      3.295     8.016     0.900547\n",
      "     5.700      3.344     8.067     0.900547\n",
      "     5.750      3.393     8.118     0.900547\n",
      "     5.800      3.442     8.169     0.900547\n",
      "     5.850      3.491     8.220     0.900547\n",
      "     5.900      3.540     8.271     0.900547\n",
      "     5.950      3.589     8.322     0.900547\n",
      "     6.000      3.638     8.373     0.900547\n"
     ]
    }
   ],
   "source": [
    "print(\"\\nProbability intervals for x:\")\n",
    "\n",
    "print(\"\\n  true mean     n_low     n_high    CL\")\n",
    "\n",
    "for im in range(vmean.size) :\n",
    "    ucl = probsum(vmean[im],vlow[im],vhig[im])\n",
    "    \n",
    "    print (\"%10.3f   %8.3f  %8.3f     %8.6f\" % (vmean[im],vlow[im],vhig[im],ucl))\n"
   ]
  },
  {
   "cell_type": "markdown",
   "metadata": {},
   "source": [
    "### (4) Draw probability intervals"
   ]
  },
  {
   "cell_type": "code",
   "execution_count": 8,
   "metadata": {},
   "outputs": [
    {
     "data": {
      "image/png": "[encoded data removed]",
      "text/plain": [
       "<Figure size 576x576 with 1 Axes>"
      ]
     },
     "metadata": {
      "needs_background": "light"
     },
     "output_type": "display_data"
    }
   ],
   "source": [
    "# Plot ranges\n",
    "\n",
    "Xmin=-2\n",
    "Xmax=4\n",
    "Ymin=0\n",
    "Ymax=6\n",
    "\n",
    "\n",
    "plt.figure(figsize=(8, 8))\n",
    "\n",
    "plt.hlines(vmean,vlow,vhig,color='lightgreen',linewidth=5)\n",
    "\n",
    "plt.plot(vlow,vmean,'-',linewidth=3,color='red')\n",
    "plt.plot(vhig,vmean,'-',linewidth=3,color='blue')\n",
    "\n",
    "plt.title(\"Confidence intervals\",size=24)\n",
    "plt.xlabel(\"Measured mean x\",size=24)\n",
    "plt.ylabel(\"True mean $\\mu$\",size=24)\n",
    "plt.xticks(fontsize=20)\n",
    "plt.yticks(fontsize=20)\n",
    "plt.xlim([Xmin,Xmax])\n",
    "plt.ylim([Ymin,Ymax])\n",
    "plt.grid(which='major', axis='both')\n",
    "\n",
    "\n",
    "fname = '07_gauss_interval4_1.png'\n",
    "plt.savefig(fname)\n"
   ]
  },
  {
   "cell_type": "markdown",
   "metadata": {},
   "source": [
    "### (5) Hypothetical measurement"
   ]
  },
  {
   "cell_type": "code",
   "execution_count": 9,
   "metadata": {},
   "outputs": [
    {
     "name": "stdout",
     "output_type": "stream",
     "text": [
      "Upper limit : 4.6249\n",
      "Lower limit : 0.8397\n"
     ]
    }
   ],
   "source": [
    "Xm = 2.3\n",
    "\n",
    "# Look for limit point in the probability interval tables\n",
    "\n",
    "iuh = np.argmax(Xm < vhig)\n",
    "iul = np.argmax(Xm < vlow)\n",
    "\n",
    "# Interpolate between points for higher precision (linear interpolation)\n",
    "\n",
    "frac = (Xm-vlow[iul-1])/(vlow[iul]-vlow[iul-1])\n",
    "ul=frac*vmean[iul]+(1-frac)*vmean[iul-1]\n",
    "print('Upper limit : %.4f' % (ul))\n",
    "\n",
    "frac = (Xm-vhig[iuh-1])/(vhig[iuh]-vhig[iuh-1])\n",
    "ll = frac*vmean[iuh]+(1-frac)*vmean[iuh-1]\n",
    "print('Lower limit : %.4f' % (ll))"
   ]
  },
  {
   "cell_type": "code",
   "execution_count": 10,
   "metadata": {},
   "outputs": [
    {
     "data": {
      "image/png": "[encoded data removed]",
      "text/plain": [
       "<Figure size 576x576 with 1 Axes>"
      ]
     },
     "metadata": {
      "needs_background": "light"
     },
     "output_type": "display_data"
    }
   ],
   "source": [
    "plt.figure(figsize=(8, 8))\n",
    "\n",
    "plt.hlines(vmean,vlow,vhig,color='lightgreen',linewidth=5)\n",
    "\n",
    "plt.plot(vlow,vmean,'-',linewidth=3,color='red')\n",
    "plt.plot(vhig,vmean,'-',linewidth=3,color='blue')\n",
    "\n",
    "plt.vlines(Xm,Ymin,Ymax,color='black',linewidth=2,linestyles='dashed')\n",
    "plt.vlines(Xm,ll,ul,color='black',linewidth=5,linestyles='solid')\n",
    "\n",
    "plt.title(\"Confidence intervals\",size=24)\n",
    "plt.xlabel(\"Measured mean x\",size=24)\n",
    "plt.ylabel(\"True mean $\\mu$\",size=24)\n",
    "plt.xticks(fontsize=20)\n",
    "plt.yticks(fontsize=20)\n",
    "plt.xlim([Xmin,Xmax])\n",
    "plt.ylim([Ymin,Ymax])\n",
    "plt.grid(which='major', axis='both')\n",
    "\n",
    "\n",
    "fname = '07_gauss_interval4_2.png'\n",
    "plt.savefig(fname)\n"
   ]
  },
  {
   "cell_type": "code",
   "execution_count": null,
   "metadata": {},
   "outputs": [],
   "source": []
  }
 ],
 "metadata": {
  "kernelspec": {
   "display_name": "Python 3",
   "language": "python",
   "name": "python3"
  },
  "language_info": {
   "codemirror_mode": {
    "name": "ipython",
    "version": 3
   },
   "file_extension": ".py",
   "mimetype": "text/x-python",
   "name": "python",
   "nbconvert_exporter": "python",
   "pygments_lexer": "ipython3",
   "version": "3.9.7"
  }
 },
 "nbformat": 4,
 "nbformat_minor": 4
}
