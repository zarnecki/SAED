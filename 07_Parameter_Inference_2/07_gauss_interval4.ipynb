{
 "cells": [
  {
   "cell_type": "markdown",
   "metadata": {
    "tags": []
   },
   "source": [
    "# Testing confidence intervals\n",
    "Author: Aleksander Filip Żarnecki (University of Warsaw)"
   ]
  },
  {
   "cell_type": "markdown",
   "metadata": {
    "tags": []
   },
   "source": [
    "### (0) Import libraries "
   ]
  },
  {
   "cell_type": "code",
   "execution_count": 1,
   "metadata": {},
   "outputs": [],
   "source": [
    "import math\n",
    "import numpy as np\n",
    "import matplotlib.pyplot as plt\n",
    "\n",
    "from scipy.stats import norm"
   ]
  },
  {
   "cell_type": "markdown",
   "metadata": {
    "tags": []
   },
   "source": [
    "### (1) Definition of unified probability interval\n",
    "\n",
    "Assuming Gausian probability distribution with physical bound on true mean"
   ]
  },
  {
   "cell_type": "code",
   "execution_count": 2,
   "metadata": {},
   "outputs": [],
   "source": [
    "# Variable pdf width!!!\n",
    "# Precision better for small than for large mean\n",
    "\n",
    "def sigma(mean):\n",
    "    sig = 1. + 0.8*np.arctan(mean-1)/np.pi\n",
    "    return sig\n",
    "\n",
    "# Return unified interval corresponsing to given CL\n",
    "\n",
    "def problim(mean,cl):\n",
    "    \n",
    "# Find sum range required for % level precision\n",
    "\n",
    "    prec = 0.001*(1-cl)\n",
    "\n",
    "    sig = sigma(mean)\n",
    "    xmin = mean+sig*norm.isf(1-prec)\n",
    "    xmax = mean+sig*norm.isf(prec)\n",
    "\n",
    "    nbin=1000\n",
    "    dx=(xmax-xmin)/nbin\n",
    "    \n",
    "# Considered interval candidates\n",
    "\n",
    "    xtab = np.linspace(xmin+0.5*dx,xmax-0.5*dx,nbin)\n",
    "    ptab = norm.pdf(xtab,mean,sig)\n",
    "\n",
    "# Highest likelihood for each candidate\n",
    "\n",
    "    xbest = xtab * (xtab > 0.)\n",
    "    sbest = sigma(xbest)\n",
    "    pbest = norm.pdf(xtab,xbest,sbest)\n",
    "    \n",
    "# Sort candidates according to the probability ratio\n",
    "\n",
    "    prat = ptab/pbest\n",
    "    \n",
    "    isort= np.argsort(prat)\n",
    "\n",
    "    xlo=xmax\n",
    "    xhi=xmin\n",
    "    psum=0\n",
    "\n",
    "    \n",
    "    for ip in reversed(isort):\n",
    "        psum += dx*ptab[ip]\n",
    "        if(xlo>xtab[ip]): xlo=xtab[ip]\n",
    "        if(xhi<xtab[ip]): xhi=xtab[ip]\n",
    "        if(psum>cl): break\n",
    "        \n",
    "    return xlo-dx/2.,xhi+dx/2.\n",
    "\n",
    "# Help function to check coverage\n",
    "\n",
    "def probsum(mean,x1,x2):\n",
    "    sig = sigma(mean)\n",
    "    p12= norm.cdf(x2,mean,sig) - norm.cdf(x1,mean,sig)\n",
    "    return p12\n"
   ]
  },
  {
   "cell_type": "markdown",
   "metadata": {},
   "source": [
    "### (2) Define set of hypothesis"
   ]
  },
  {
   "cell_type": "code",
   "execution_count": 3,
   "metadata": {},
   "outputs": [],
   "source": [
    "# Considered values of true mean\n",
    "\n",
    "# vmean = np.linspace(0.,6.,13)\n",
    "vmean = np.linspace(0.,6.,121)\n",
    "# vmean = np.linspace(0.,6.,601)\n",
    "\n",
    "CL = 0.90\n",
    "\n",
    "# Upper an lower edges of x probability intervals\n",
    "\n",
    "vlow = np.empty(vmean.size)\n",
    "vhig = np.empty(vmean.size)\n",
    "\n",
    "for im in range(vmean.size):\n",
    "    vlow[im],vhig[im] = problim(vmean[im],CL)\n"
   ]
  },
  {
   "cell_type": "markdown",
   "metadata": {},
   "source": [
    "### (3)  Print interval information"
   ]
  },
  {
   "cell_type": "code",
   "execution_count": 4,
   "metadata": {},
   "outputs": [
    {
     "name": "stdout",
     "output_type": "stream",
     "text": [
      "\n",
      "Probability intervals for x:\n",
      "\n",
      "  true mean     n_low     n_high    CL\n",
      "     0.000     -2.975     1.029     0.900814\n",
      "     0.050     -2.949     1.088     0.900814\n",
      "     0.100     -2.925     1.147     0.900814\n",
      "     0.150     -2.902     1.206     0.900814\n",
      "     0.200     -2.880     1.266     0.900814\n",
      "     0.250     -2.430     1.326     0.900241\n",
      "     0.300     -1.767     1.418     0.900043\n",
      "     0.350     -1.516     1.518     0.900058\n",
      "     0.400     -1.364     1.619     0.900801\n",
      "     0.450     -1.243     1.715     0.900419\n",
      "     0.500     -1.153     1.805     0.900147\n",
      "     0.550     -1.063     1.904     0.900065\n",
      "     0.600     -0.992     1.997     0.900116\n",
      "     0.650     -0.934     2.085     0.900183\n",
      "     0.700     -0.877     2.174     0.900023\n",
      "     0.750     -0.826     2.263     0.900360\n",
      "     0.800     -0.775     2.354     0.900529\n",
      "     0.850     -0.724     2.446     0.900529\n",
      "     0.900     -0.680     2.531     0.900435\n",
      "     0.950     -0.636     2.617     0.900267\n",
      "     1.000     -0.592     2.703     0.900023\n",
      "     1.050     -0.554     2.790     0.900556\n",
      "     1.100     -0.509     2.877     0.900183\n",
      "     1.150     -0.479     2.956     0.900840\n",
      "     1.200     -0.433     3.044     0.900376\n",
      "     1.250     -0.394     3.123     0.900116\n",
      "     1.300     -0.362     3.202     0.900739\n",
      "     1.350     -0.322     3.280     0.900453\n",
      "     1.400     -0.281     3.358     0.900147\n",
      "     1.450     -0.247     3.436     0.900747\n",
      "     1.500     -0.205     3.513     0.900415\n",
      "     1.550     -0.170     3.580     0.900415\n",
      "     1.600     -0.126     3.656     0.900065\n",
      "     1.650     -0.090     3.723     0.900065\n",
      "     1.700     -0.053     3.789     0.900065\n",
      "     1.750     -0.016     3.862     0.900641\n",
      "     1.800      0.022     3.918     0.900065\n",
      "     1.850      0.060     3.982     0.900065\n",
      "     1.900      0.099     4.045     0.900065\n",
      "     1.950      0.139     4.107     0.900065\n",
      "     2.000      0.179     4.169     0.900065\n",
      "     2.050      0.211     4.221     0.900415\n",
      "     2.100      0.252     4.282     0.900415\n",
      "     2.150      0.293     4.342     0.900415\n",
      "     2.200      0.335     4.402     0.900415\n",
      "     2.250      0.368     4.452     0.900747\n",
      "     2.300      0.411     4.501     0.900147\n",
      "     2.350      0.454     4.559     0.900147\n",
      "     2.400      0.497     4.617     0.900147\n",
      "     2.450      0.531     4.665     0.900453\n",
      "     2.500      0.575     4.723     0.900453\n",
      "     2.550      0.619     4.779     0.900453\n",
      "     2.600      0.654     4.827     0.900739\n",
      "     2.650      0.699     4.873     0.900116\n",
      "     2.700      0.744     4.929     0.900116\n",
      "     2.750      0.789     4.985     0.900116\n",
      "     2.800      0.824     5.031     0.900376\n",
      "     2.850      0.870     5.086     0.900376\n",
      "     2.900      0.906     5.131     0.900617\n",
      "     2.950      0.952     5.186     0.900617\n",
      "     3.000      0.988     5.231     0.900840\n",
      "     3.050      1.034     5.286     0.900840\n",
      "     3.100      1.080     5.330     0.900183\n",
      "     3.150      1.127     5.384     0.900183\n",
      "     3.200      1.164     5.428     0.900379\n",
      "     3.250      1.210     5.482     0.900379\n",
      "     3.300      1.257     5.536     0.900379\n",
      "     3.350      1.294     5.579     0.900556\n",
      "     3.400      1.341     5.633     0.900556\n",
      "     3.450      1.379     5.676     0.900714\n",
      "     3.500      1.426     5.729     0.900714\n",
      "     3.550      1.473     5.773     0.900023\n",
      "     3.600      1.520     5.825     0.900023\n",
      "     3.650      1.568     5.878     0.900023\n",
      "     3.700      1.606     5.921     0.900154\n",
      "     3.750      1.653     5.974     0.900154\n",
      "     3.800      1.701     6.026     0.900154\n",
      "     3.850      1.749     6.078     0.900154\n",
      "     3.900      1.787     6.121     0.900267\n",
      "     3.950      1.834     6.173     0.900267\n",
      "     4.000      1.882     6.225     0.900267\n",
      "     4.050      1.930     6.278     0.900267\n",
      "     4.100      1.978     6.330     0.900267\n",
      "     4.150      2.017     6.372     0.900360\n",
      "     4.200      2.065     6.424     0.900360\n",
      "     4.250      2.113     6.476     0.900360\n",
      "     4.300      2.161     6.527     0.900360\n",
      "     4.350      2.210     6.579     0.900360\n",
      "     4.400      2.258     6.631     0.900360\n",
      "     4.450      2.296     6.673     0.900435\n",
      "     4.500      2.345     6.724     0.900435\n",
      "     4.550      2.393     6.776     0.900435\n",
      "     4.600      2.442     6.828     0.900435\n",
      "     4.650      2.490     6.879     0.900435\n",
      "     4.700      2.539     6.930     0.900435\n",
      "     4.750      2.588     6.982     0.900435\n",
      "     4.800      2.636     7.033     0.900435\n",
      "     4.850      2.675     7.075     0.900491\n",
      "     4.900      2.724     7.126     0.900491\n",
      "     4.950      2.772     7.177     0.900491\n",
      "     5.000      2.821     7.229     0.900491\n",
      "     5.050      2.870     7.280     0.900491\n",
      "     5.100      2.919     7.331     0.900491\n",
      "     5.150      2.968     7.382     0.900491\n",
      "     5.200      3.016     7.433     0.900491\n",
      "     5.250      3.065     7.485     0.900491\n",
      "     5.300      3.114     7.536     0.900491\n",
      "     5.350      3.163     7.587     0.900491\n",
      "     5.400      3.212     7.638     0.900491\n",
      "     5.450      3.261     7.689     0.900491\n",
      "     5.500      3.310     7.740     0.900491\n",
      "     5.550      3.349     7.781     0.900529\n",
      "     5.600      3.398     7.832     0.900529\n",
      "     5.650      3.447     7.883     0.900529\n",
      "     5.700      3.496     7.934     0.900529\n",
      "     5.750      3.546     7.985     0.900529\n",
      "     5.800      3.595     8.035     0.900529\n",
      "     5.850      3.644     8.086     0.900529\n",
      "     5.900      3.693     8.137     0.900529\n",
      "     5.950      3.742     8.188     0.900529\n",
      "     6.000      3.791     8.239     0.900529\n"
     ]
    }
   ],
   "source": [
    "print(\"\\nProbability intervals for x:\")\n",
    "\n",
    "print(\"\\n  true mean     n_low     n_high    CL\")\n",
    "\n",
    "for im in range(vmean.size) :\n",
    "    ucl = probsum(vmean[im],vlow[im],vhig[im])\n",
    "    \n",
    "    print (\"%10.3f   %8.3f  %8.3f     %8.6f\" % (vmean[im],vlow[im],vhig[im],ucl))\n"
   ]
  },
  {
   "cell_type": "markdown",
   "metadata": {},
   "source": [
    "### (4) Draw probability intervals"
   ]
  },
  {
   "cell_type": "code",
   "execution_count": 5,
   "metadata": {},
   "outputs": [
    {
     "data": {
      "image/png": "[encoded data removed]",
      "text/plain": [
       "<Figure size 576x576 with 1 Axes>"
      ]
     },
     "metadata": {
      "needs_background": "light"
     },
     "output_type": "display_data"
    }
   ],
   "source": [
    "# Plot ranges\n",
    "\n",
    "Xmin=-2\n",
    "Xmax=4\n",
    "Ymin=0\n",
    "Ymax=6\n",
    "\n",
    "\n",
    "plt.figure(figsize=(8, 8))\n",
    "\n",
    "plt.hlines(vmean,vlow,vhig,color='lightgreen',linewidth=5)\n",
    "\n",
    "plt.plot(vlow,vmean,'-',linewidth=3,color='red')\n",
    "plt.plot(vhig,vmean,'-',linewidth=3,color='blue')\n",
    "\n",
    "plt.title(\"Confidence intervals\",size=24)\n",
    "plt.xlabel(\"Measured mean x\",size=24)\n",
    "plt.ylabel(\"True mean $\\mu$\",size=24)\n",
    "plt.xticks(fontsize=20)\n",
    "plt.yticks(fontsize=20)\n",
    "plt.xlim([Xmin,Xmax])\n",
    "plt.ylim([Ymin,Ymax])\n",
    "plt.grid(which='major', axis='both')\n",
    "\n",
    "\n",
    "fname = '07_gauss_interval4_1.png'\n",
    "plt.savefig(fname)\n"
   ]
  },
  {
   "cell_type": "markdown",
   "metadata": {},
   "source": [
    "### (5) Hypothetical measurement"
   ]
  },
  {
   "cell_type": "code",
   "execution_count": 6,
   "metadata": {},
   "outputs": [
    {
     "name": "stdout",
     "output_type": "stream",
     "text": [
      "Upper limit : 4.4537\n",
      "Lower limit : 0.7702\n"
     ]
    }
   ],
   "source": [
    "Xm = 2.3\n",
    "\n",
    "# Look for limit point in the probability interval tables\n",
    "\n",
    "iuh = np.argmax(Xm < vhig)\n",
    "iul = np.argmax(Xm < vlow)\n",
    "\n",
    "# Interpolate between points for higher precision (linear interpolation)\n",
    "\n",
    "frac = (Xm-vlow[iul-1])/(vlow[iul]-vlow[iul-1])\n",
    "ul=frac*vmean[iul]+(1-frac)*vmean[iul-1]\n",
    "print('Upper limit : %.4f' % (ul))\n",
    "\n",
    "frac = (Xm-vhig[iuh-1])/(vhig[iuh]-vhig[iuh-1])\n",
    "ll = frac*vmean[iuh]+(1-frac)*vmean[iuh-1]\n",
    "print('Lower limit : %.4f' % (ll))"
   ]
  },
  {
   "cell_type": "code",
   "execution_count": 7,
   "metadata": {},
   "outputs": [
    {
     "data": {
      "image/png": "[encoded data removed]",
      "text/plain": [
       "<Figure size 576x576 with 1 Axes>"
      ]
     },
     "metadata": {
      "needs_background": "light"
     },
     "output_type": "display_data"
    }
   ],
   "source": [
    "plt.figure(figsize=(8, 8))\n",
    "\n",
    "plt.hlines(vmean,vlow,vhig,color='lightgreen',linewidth=5)\n",
    "\n",
    "plt.plot(vlow,vmean,'-',linewidth=3,color='red')\n",
    "plt.plot(vhig,vmean,'-',linewidth=3,color='blue')\n",
    "\n",
    "plt.vlines(Xm,Ymin,Ymax,color='black',linewidth=2,linestyles='dashed')\n",
    "plt.vlines(Xm,ll,ul,color='black',linewidth=5,linestyles='solid')\n",
    "\n",
    "plt.title(\"Confidence intervals\",size=24)\n",
    "plt.xlabel(\"Measured mean x\",size=24)\n",
    "plt.ylabel(\"True mean $\\mu$\",size=24)\n",
    "plt.xticks(fontsize=20)\n",
    "plt.yticks(fontsize=20)\n",
    "plt.xlim([Xmin,Xmax])\n",
    "plt.ylim([Ymin,Ymax])\n",
    "plt.grid(which='major', axis='both')\n",
    "\n",
    "\n",
    "fname = '07_gauss_interval4_2.png'\n",
    "plt.savefig(fname)\n"
   ]
  }
 ],
 "metadata": {
  "kernelspec": {
   "display_name": "Python 3",
   "language": "python",
   "name": "python3"
  },
  "language_info": {
   "codemirror_mode": {
    "name": "ipython",
    "version": 3
   },
   "file_extension": ".py",
   "mimetype": "text/x-python",
   "name": "python",
   "nbconvert_exporter": "python",
   "pygments_lexer": "ipython3",
   "version": "3.9.7"
  }
 },
 "nbformat": 4,
 "nbformat_minor": 4
}
