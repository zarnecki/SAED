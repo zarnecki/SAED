{
 "cells": [
  {
   "cell_type": "markdown",
   "metadata": {
    "tags": []
   },
   "source": [
    "# Testing confidence intervals\n",
    "Author: Aleksander Filip Żarnecki (University of Warsaw)"
   ]
  },
  {
   "cell_type": "markdown",
   "metadata": {
    "tags": []
   },
   "source": [
    "### (0) Import libraries "
   ]
  },
  {
   "cell_type": "code",
   "execution_count": 1,
   "metadata": {},
   "outputs": [],
   "source": [
    "import math\n",
    "import numpy as np\n",
    "import matplotlib.pyplot as plt\n",
    "\n",
    "from scipy.stats import poisson"
   ]
  },
  {
   "cell_type": "markdown",
   "metadata": {
    "tags": []
   },
   "source": [
    "### (1) Definition of probability intervals for assumed probability density function\n",
    "\n",
    "Assuming Poisson probability distribution"
   ]
  },
  {
   "cell_type": "code",
   "execution_count": 2,
   "metadata": {},
   "outputs": [],
   "source": [
    "# Return value of n corresponsing to upper (one-side) limit on given CL\n",
    "# Use 1-CL for lower limit\n",
    "\n",
    "def problim(mean,cl):\n",
    "    \n",
    "# Use inverse survival function from scipy (inverse of 1 - cumulative distribution)\n",
    "\n",
    "    xlim = poisson.isf(1-cl,mean)\n",
    "\n",
    "    return xlim \n",
    "\n",
    "# Help function to check coverage\n",
    "\n",
    "def probsum(mean,n1,n2):\n",
    "    nn = np.arange(n1,n2+1)\n",
    "    pn=poisson.pmf(nn,mean)\n",
    "    return np.sum(pn)"
   ]
  },
  {
   "cell_type": "code",
   "execution_count": 3,
   "metadata": {},
   "outputs": [],
   "source": [
    "# Bayesian limit\n",
    "\n",
    "def bayeslim(nm,cl):\n",
    "    \n",
    "    # numerical integration settings\n",
    "    \n",
    "    mmin = 0.0\n",
    "    mmax = nm+1+15*np.sqrt(nm+1.0)\n",
    "    mbin = 2000\n",
    "    \n",
    "    dm = (mmax-mmin)/mbin\n",
    "    mval = np.linspace(mmin+dm/2,mmax-dm/2,mbin)\n",
    "    dp = dm*poisson.pmf(nm,mval)\n",
    "    \n",
    "    pint = np.sum(dp)   # Should be 1, if no constraints\n",
    "    \n",
    "    psum = 0\n",
    "    mlim = mmin\n",
    "    \n",
    "    for im in range(mbin):\n",
    "        psum+=dp[im]/pint\n",
    "        if(psum>cl):\n",
    "            mlim = mval[im]-dm/2\n",
    "            break\n",
    "#        print(mval[im],sval[im],dp[im],psum)  # Debug output\n",
    "    \n",
    "    return mlim\n"
   ]
  },
  {
   "cell_type": "markdown",
   "metadata": {},
   "source": [
    "### (2) Define set of hypothesis"
   ]
  },
  {
   "cell_type": "code",
   "execution_count": 6,
   "metadata": {},
   "outputs": [],
   "source": [
    "# Considered values of true mean\n",
    "\n",
    "# vmean = np.linspace(0.5,15.,30)\n",
    "# vmean = np.linspace(0.1,15.,150)\n",
    "vmean = np.linspace(0.02,15.,750)\n",
    "\n",
    "CL = 0.95            # One sided! So the inteval will be 90% CL\n",
    "\n",
    "# Upper an lower edges of x probability intervals\n",
    "\n",
    "vhig = problim(vmean,CL)\n",
    "vlow = problim(vmean,1-CL)\n",
    "\n",
    "# Values of measured n (for Bayesian curve)\n",
    "\n",
    "vmeas = np.linspace(0.,15.,16)\n",
    "\n",
    "vbay = np.empty(vmeas.size)\n",
    "\n",
    "for im in range(vmeas.size):\n",
    "    vbay[im] = bayeslim(vmeas[im],CL)\n"
   ]
  },
  {
   "cell_type": "markdown",
   "metadata": {
    "tags": []
   },
   "source": [
    "### (3)  Print Bayes interval information"
   ]
  },
  {
   "cell_type": "code",
   "execution_count": 7,
   "metadata": {},
   "outputs": [
    {
     "name": "stdout",
     "output_type": "stream",
     "text": [
      "\n",
      " Bayes upper limit for true mean:\n",
      "\n",
      "  Observed      mu_ul       CL\n",
      "         0      2.992       0.949813\n",
      "         1      4.735       0.949653\n",
      "         2      6.289       0.949745\n",
      "         3      7.752       0.949945\n",
      "         4      9.153       0.949999\n",
      "         5     10.493       0.949421\n",
      "         6     11.835       0.949795\n",
      "         7     13.136       0.949683\n",
      "         8     14.418       0.949579\n",
      "         9     15.680       0.949375\n",
      "        10     16.949       0.949692\n",
      "        11     18.197       0.949763\n",
      "        12     19.421       0.949516\n",
      "        13     20.652       0.949641\n",
      "        14     21.855       0.949350\n",
      "        15     23.066       0.949367\n"
     ]
    }
   ],
   "source": [
    "print(\"\\n Bayes upper limit for true mean:\")\n",
    "\n",
    "print(\"\\n  Observed      mu_ul       CL\")\n",
    "\n",
    "for im in range(vmeas.size) :\n",
    "    bcl = 1 - probsum(vbay[im],0,vmeas[im])\n",
    "    print (\"%10d   %8.3f       %8.6f\" % (vmeas[im],vbay[im],bcl))\n"
   ]
  },
  {
   "cell_type": "markdown",
   "metadata": {
    "tags": []
   },
   "source": [
    "### (4) Draw probability intervals"
   ]
  },
  {
   "cell_type": "code",
   "execution_count": 10,
   "metadata": {},
   "outputs": [
    {
     "data": {
      "image/png": "[encoded data removed]",
      "text/plain": [
       "<Figure size 576x576 with 1 Axes>"
      ]
     },
     "metadata": {
      "needs_background": "light"
     },
     "output_type": "display_data"
    }
   ],
   "source": [
    "# Frame range\n",
    "\n",
    "Xmin=0\n",
    "Xmax=15\n",
    "Ymin=0\n",
    "Ymax=15\n",
    "\n",
    "plt.figure(figsize=(8, 8))\n",
    "\n",
    "# Probability intervals for n (Frequentist)\n",
    "\n",
    "plt.hlines(vmean,vlow,vhig,color='lightgreen',linewidth=5)\n",
    "\n",
    "# Bayes limits for mu\n",
    "\n",
    "plt.plot(vmeas,vbay,'o',color='blue')\n",
    "\n",
    "\n",
    "plt.title(\"Confidence intervals\",size=24)\n",
    "plt.xlabel(\"Measured n\",size=24)\n",
    "plt.ylabel(\"True mean $\\mu$\",size=24)\n",
    "plt.xticks(fontsize=20)\n",
    "plt.yticks(fontsize=20)\n",
    "plt.xlim([Xmin,Xmax])\n",
    "plt.ylim([Ymin,Ymax])\n",
    "plt.grid(which='major', axis='both')\n",
    "\n",
    "fname = '07_poisson_bayes.png'\n",
    "plt.savefig(fname)\n"
   ]
  }
 ],
 "metadata": {
  "kernelspec": {
   "display_name": "Python 3",
   "language": "python",
   "name": "python3"
  },
  "language_info": {
   "codemirror_mode": {
    "name": "ipython",
    "version": 3
   },
   "file_extension": ".py",
   "mimetype": "text/x-python",
   "name": "python",
   "nbconvert_exporter": "python",
   "pygments_lexer": "ipython3",
   "version": "3.9.7"
  }
 },
 "nbformat": 4,
 "nbformat_minor": 4
}
