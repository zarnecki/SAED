{
 "cells": [
  {
   "cell_type": "markdown",
   "metadata": {
    "tags": []
   },
   "source": [
    "# Testing confidence intervals\n",
    "Author: Aleksander Filip Żarnecki (University of Warsaw)"
   ]
  },
  {
   "cell_type": "markdown",
   "metadata": {
    "tags": []
   },
   "source": [
    "### (0) Import libraries "
   ]
  },
  {
   "cell_type": "code",
   "execution_count": 1,
   "metadata": {},
   "outputs": [],
   "source": [
    "import math\n",
    "import numpy as np\n",
    "import matplotlib.pyplot as plt\n",
    "\n",
    "from scipy.stats import norm"
   ]
  },
  {
   "cell_type": "markdown",
   "metadata": {
    "tags": []
   },
   "source": [
    "### (1) Definition of probability intervals for assumed probability density function\n",
    "\n",
    "Assuming gaussian probability distribution with variable sigma"
   ]
  },
  {
   "cell_type": "code",
   "execution_count": 2,
   "metadata": {},
   "outputs": [],
   "source": [
    "# Variable pdf width!!!\n",
    "# Precision better for small than for large mean\n",
    "\n",
    "def sigma(mean):\n",
    "    sig = 1.+np.arctan(mean-1)/np.pi\n",
    "    return sig\n",
    "\n",
    "# Return value of x corresponsing to upper (one-side) limit on given CL\n",
    "# Use 1-CL for lower limit\n",
    "\n",
    "def problim(mean,cl):\n",
    "    \n",
    "# Use inverse survival function from scipy (inverse of 1 - cumulative distribution)\n",
    "\n",
    "    xlim = norm.isf(1-cl)\n",
    "\n",
    "    return mean+xlim*sigma(mean) "
   ]
  },
  {
   "cell_type": "code",
   "execution_count": 3,
   "metadata": {},
   "outputs": [],
   "source": [
    "# Bayesian limit\n",
    "\n",
    "def bayeslim(xm,cl):\n",
    "    \n",
    "    sigm = sigma(xm)\n",
    "    \n",
    "    # numerical integration settings\n",
    "    \n",
    "    mmin = xm-5*sigm\n",
    "    mmax = xm+5*sigm\n",
    "    mbin = 2000\n",
    "    \n",
    "    dm = (mmax-mmin)/mbin\n",
    "    mval = np.linspace(mmin+dm/2,mmax-dm/2,mbin)\n",
    "    sval = sigma(mval)\n",
    "    dp = dm*norm.pdf(xm,mval,sval)\n",
    "    \n",
    "    pint = np.sum(dp)\n",
    "    \n",
    "    psum = 0\n",
    "    mlim = mmin\n",
    "    \n",
    "    for im in range(mbin):\n",
    "        psum+=dp[im]/pint\n",
    "        if(psum>cl):\n",
    "            mlim = mval[im]-dm/2\n",
    "            break\n",
    "#        print(mval[im],sval[im],dp[im],psum)  # Debug output\n",
    "    \n",
    "    return mlim\n"
   ]
  },
  {
   "cell_type": "markdown",
   "metadata": {},
   "source": [
    "### (2) Define set of hypothesis"
   ]
  },
  {
   "cell_type": "code",
   "execution_count": 4,
   "metadata": {},
   "outputs": [],
   "source": [
    "# Considered values of true mean\n",
    "\n",
    "# vmean = np.linspace(0.,6.0,13)\n",
    "vmean = np.linspace(0.,6.0,121)\n",
    "# vmean = np.linspace(0.,6.0,601)\n",
    "\n",
    "CL = 0.95            # One sided! So the central inteval will be 90% CL\n",
    "\n",
    "# Upper an lower edges of x probability intervals\n",
    "\n",
    "vhig = problim(vmean,CL)\n",
    "vlow = problim(vmean,1-CL)\n",
    "\n",
    "# Values of measured x (for Bayesian curve)\n",
    "\n",
    "vmeas = np.linspace(-2.,4.,61)\n",
    "\n",
    "vbay = np.empty(vmeas.size)\n",
    "\n",
    "for im in range(vmeas.size):\n",
    "    vbay[im] = bayeslim(vmeas[im],CL)\n"
   ]
  },
  {
   "cell_type": "markdown",
   "metadata": {},
   "source": [
    "### (3)  Print interval information"
   ]
  },
  {
   "cell_type": "code",
   "execution_count": 5,
   "metadata": {},
   "outputs": [
    {
     "name": "stdout",
     "output_type": "stream",
     "text": [
      "\n",
      "Upper Bayes limit for mu:\n",
      "\n",
      "  Measured x     mu_ul \n",
      "    -2.000     -0.834 \n",
      "    -1.900     -0.704 \n",
      "    -1.800     -0.566 \n",
      "    -1.700     -0.425 \n",
      "    -1.600     -0.274 \n",
      "    -1.500     -0.115 \n",
      "    -1.400      0.052 \n",
      "    -1.300      0.223 \n",
      "    -1.200      0.396 \n",
      "    -1.100      0.568 \n",
      "    -1.000      0.736 \n",
      "    -0.900      0.896 \n",
      "    -0.800      1.049 \n",
      "    -0.700      1.194 \n",
      "    -0.600      1.335 \n",
      "    -0.500      1.469 \n",
      "    -0.400      1.602 \n",
      "    -0.300      1.730 \n",
      "    -0.200      1.859 \n",
      "    -0.100      1.983 \n",
      "     0.000      2.107 \n",
      "     0.100      2.232 \n",
      "     0.200      2.355 \n",
      "     0.300      2.479 \n",
      "     0.400      2.598 \n",
      "     0.500      2.721 \n",
      "     0.600      2.837 \n",
      "     0.700      2.954 \n",
      "     0.800      3.073 \n",
      "     0.900      3.190 \n",
      "     1.000      3.300 \n",
      "     1.100      3.416 \n",
      "     1.200      3.528 \n",
      "     1.300      3.639 \n",
      "     1.400      3.749 \n",
      "     1.500      3.853 \n",
      "     1.600      3.962 \n",
      "     1.700      4.071 \n",
      "     1.800      4.175 \n",
      "     1.900      4.280 \n",
      "     2.000      4.387 \n",
      "     2.100      4.491 \n",
      "     2.200      4.591 \n",
      "     2.300      4.695 \n",
      "     2.400      4.797 \n",
      "     2.500      4.896 \n",
      "     2.600      5.000 \n",
      "     2.700      5.102 \n",
      "     2.800      5.203 \n",
      "     2.900      5.302 \n",
      "     3.000      5.401 \n",
      "     3.100      5.505 \n",
      "     3.200      5.601 \n",
      "     3.300      5.703 \n",
      "     3.400      5.805 \n",
      "     3.500      5.906 \n",
      "     3.600      6.007 \n",
      "     3.700      6.107 \n",
      "     3.800      6.206 \n",
      "     3.900      6.305 \n",
      "     4.000      6.404 \n"
     ]
    }
   ],
   "source": [
    "print(\"\\nUpper Bayes limit for mu:\")\n",
    "\n",
    "print(\"\\n  Measured x     mu_ul \")\n",
    "\n",
    "for im in range(vmeas.size) :\n",
    "    print (\"%10.3f   %8.3f \" % (vmeas[im],vbay[im]))\n"
   ]
  },
  {
   "cell_type": "markdown",
   "metadata": {},
   "source": [
    "### (4) Draw probability intervals"
   ]
  },
  {
   "cell_type": "code",
   "execution_count": 6,
   "metadata": {},
   "outputs": [
    {
     "data": {
      "image/png": "[encoded data removed]",
      "text/plain": [
       "<Figure size 576x576 with 1 Axes>"
      ]
     },
     "metadata": {
      "needs_background": "light"
     },
     "output_type": "display_data"
    }
   ],
   "source": [
    "# Plot ranges\n",
    "\n",
    "Xmin=-2\n",
    "Xmax=4\n",
    "Ymin=0\n",
    "Ymax=6\n",
    "\n",
    "\n",
    "plt.figure(figsize=(8, 8))\n",
    "\n",
    "plt.hlines(vmean,vlow,vhig,color='lightgreen',linewidth=5)\n",
    "\n",
    "plt.plot(vmeas,vbay,'-',color='blue')\n",
    "\n",
    "plt.title(\"Confidence intervals\",size=24)\n",
    "plt.xlabel(\"Measured mean x\",size=24)\n",
    "plt.ylabel(\"True mean $\\mu$\",size=24)\n",
    "plt.xticks(fontsize=20)\n",
    "plt.yticks(fontsize=20)\n",
    "plt.xlim([Xmin,Xmax])\n",
    "plt.ylim([Ymin,Ymax])\n",
    "plt.grid(which='major', axis='both')\n",
    "\n",
    "\n",
    "fname = '07_gauss_bayes.png'\n",
    "plt.savefig(fname)\n"
   ]
  },
  {
   "cell_type": "code",
   "execution_count": null,
   "metadata": {},
   "outputs": [],
   "source": []
  }
 ],
 "metadata": {
  "kernelspec": {
   "display_name": "Python 3",
   "language": "python",
   "name": "python3"
  },
  "language_info": {
   "codemirror_mode": {
    "name": "ipython",
    "version": 3
   },
   "file_extension": ".py",
   "mimetype": "text/x-python",
   "name": "python",
   "nbconvert_exporter": "python",
   "pygments_lexer": "ipython3",
   "version": "3.9.7"
  }
 },
 "nbformat": 4,
 "nbformat_minor": 4
}
