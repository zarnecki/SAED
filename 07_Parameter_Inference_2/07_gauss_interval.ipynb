{
 "cells": [
  {
   "cell_type": "markdown",
   "metadata": {
    "tags": []
   },
   "source": [
    "# Testing confidence intervals\n",
    "Author: Aleksander Filip Żarnecki (University of Warsaw)"
   ]
  },
  {
   "cell_type": "markdown",
   "metadata": {
    "tags": []
   },
   "source": [
    "### (0) Import libraries "
   ]
  },
  {
   "cell_type": "code",
   "execution_count": 1,
   "metadata": {},
   "outputs": [],
   "source": [
    "import math\n",
    "import numpy as np\n",
    "import matplotlib.pyplot as plt\n",
    "\n",
    "from scipy.stats import norm"
   ]
  },
  {
   "cell_type": "markdown",
   "metadata": {
    "tags": []
   },
   "source": [
    "### (1) Definition of probability intervals for assumed probability density function\n",
    "\n",
    "Assuming gaussian probability distribution with fixed sigma"
   ]
  },
  {
   "cell_type": "code",
   "execution_count": 2,
   "metadata": {},
   "outputs": [],
   "source": [
    "# Assume constant pdf width, independent on mean\n",
    "\n",
    "def sigma(mean):\n",
    "    sig = 1\n",
    "    return sig\n",
    "\n",
    "# Return value of x corresponsing to upper (one-side) limit on given CL\n",
    "# Use 1-CL for lower limit\n",
    "\n",
    "def problim(mean,cl):\n",
    "    \n",
    "# Use inverse survival function from scipy (inverse of 1 - cumulative distribution)\n",
    "\n",
    "    xlim = norm.isf(1-cl)\n",
    "\n",
    "    return mean+xlim*sigma(mean) \n"
   ]
  },
  {
   "cell_type": "markdown",
   "metadata": {},
   "source": [
    "### (2) Define set of hypothesis"
   ]
  },
  {
   "cell_type": "code",
   "execution_count": 3,
   "metadata": {},
   "outputs": [],
   "source": [
    "# Considered values of true mean\n",
    "\n",
    "vmean = np.linspace(0.,5.5,12)\n",
    "# vmean = np.linspace(0.,5.65,114)\n",
    "# vmean = np.linspace(0.,5.65,566)\n",
    "\n",
    "CL = 0.95            # One sided! So the inteval will be 90% CL\n",
    "\n",
    "# Upper an lower edges of x probability intervals\n",
    "\n",
    "vhig = problim(vmean,CL)\n",
    "vlow = problim(vmean,1-CL)\n"
   ]
  },
  {
   "cell_type": "markdown",
   "metadata": {},
   "source": [
    "### (3)  Print interval information"
   ]
  },
  {
   "cell_type": "code",
   "execution_count": 4,
   "metadata": {},
   "outputs": [
    {
     "name": "stdout",
     "output_type": "stream",
     "text": [
      "\n",
      "Probability intervals for x:\n",
      "\n",
      "  true mean     x_low     x_high\n",
      "     0.000     -1.645     1.645\n",
      "     0.500     -1.145     2.145\n",
      "     1.000     -0.645     2.645\n",
      "     1.500     -0.145     3.145\n",
      "     2.000      0.355     3.645\n",
      "     2.500      0.855     4.145\n",
      "     3.000      1.355     4.645\n",
      "     3.500      1.855     5.145\n",
      "     4.000      2.355     5.645\n",
      "     4.500      2.855     6.145\n",
      "     5.000      3.355     6.645\n",
      "     5.500      3.855     7.145\n"
     ]
    }
   ],
   "source": [
    "print(\"\\nProbability intervals for x:\")\n",
    "\n",
    "print(\"\\n  true mean     x_low     x_high\")\n",
    "\n",
    "for im in range(vmean.size) :\n",
    "    print (\"%10.3f   %8.3f  %8.3f\" % (vmean[im],vlow[im],vhig[im]))\n"
   ]
  },
  {
   "cell_type": "markdown",
   "metadata": {},
   "source": [
    "### (4) Draw probability intervals"
   ]
  },
  {
   "cell_type": "code",
   "execution_count": 5,
   "metadata": {},
   "outputs": [
    {
     "data": {
      "image/png": "[encoded data removed]",
      "text/plain": [
       "<Figure size 576x576 with 1 Axes>"
      ]
     },
     "metadata": {
      "needs_background": "light"
     },
     "output_type": "display_data"
    }
   ],
   "source": [
    "# Plot ranges\n",
    "\n",
    "Xmin=-2\n",
    "Xmax=4\n",
    "Ymin=0\n",
    "Ymax=6\n",
    "\n",
    "\n",
    "plt.figure(figsize=(8, 8))\n",
    "\n",
    "plt.hlines(vmean,vlow,vhig,color='lightgreen',linewidth=5)\n",
    "\n",
    "plt.plot(vlow,vmean,'o',color='red')\n",
    "plt.plot(vhig,vmean,'o',color='blue')\n",
    "\n",
    "plt.title(\"Confidence intervals\",size=24)\n",
    "plt.xlabel(\"Measured mean x\",size=24)\n",
    "plt.ylabel(\"True mean $\\mu$\",size=24)\n",
    "plt.xticks(fontsize=20)\n",
    "plt.yticks(fontsize=20)\n",
    "plt.xlim([Xmin,Xmax])\n",
    "plt.ylim([Ymin,Ymax])\n",
    "plt.grid(which='major', axis='both')\n",
    "\n",
    "\n",
    "fname = '07_gauss_interval_1.png'\n",
    "plt.savefig(fname)\n"
   ]
  },
  {
   "cell_type": "markdown",
   "metadata": {},
   "source": [
    "### (5) Hypothetical measurement"
   ]
  },
  {
   "cell_type": "code",
   "execution_count": 6,
   "metadata": {},
   "outputs": [
    {
     "name": "stdout",
     "output_type": "stream",
     "text": [
      "Upper limit : 3.9449\n",
      "Lower limit : 0.6551\n"
     ]
    }
   ],
   "source": [
    "Xm = 2.3\n",
    "\n",
    "# Look for limit point in the probability interval tables\n",
    "\n",
    "iuh = np.argmax(Xm < vhig)\n",
    "iul = np.argmax(Xm < vlow)\n",
    "\n",
    "# Interpolate between points for higher precision (linear interpolation)\n",
    "\n",
    "frac = (Xm-vlow[iul-1])/(vlow[iul]-vlow[iul-1])\n",
    "ul=frac*vmean[iul]+(1-frac)*vmean[iul-1]\n",
    "print('Upper limit : %.4f' % (ul))\n",
    "\n",
    "frac = (Xm-vhig[iuh-1])/(vhig[iuh]-vhig[iuh-1])\n",
    "ll = frac*vmean[iuh]+(1-frac)*vmean[iuh-1]\n",
    "print('Lower limit : %.4f' % (ll))"
   ]
  },
  {
   "cell_type": "code",
   "execution_count": 7,
   "metadata": {},
   "outputs": [
    {
     "data": {
      "image/png": "[encoded data removed]",
      "text/plain": [
       "<Figure size 576x576 with 1 Axes>"
      ]
     },
     "metadata": {
      "needs_background": "light"
     },
     "output_type": "display_data"
    }
   ],
   "source": [
    "plt.figure(figsize=(8, 8))\n",
    "\n",
    "plt.hlines(vmean,vlow,vhig,color='lightgreen',linewidth=5)\n",
    "\n",
    "plt.plot(vlow,vmean,'o',color='red')\n",
    "plt.plot(vhig,vmean,'o',color='blue')\n",
    "\n",
    "plt.vlines(Xm,Ymin,Ymax,color='black',linewidth=2,linestyles='dashed')\n",
    "plt.vlines(Xm,ll,ul,color='black',linewidth=5,linestyles='solid')\n",
    "\n",
    "plt.title(\"Confidence intervals\",size=24)\n",
    "plt.xlabel(\"Measured mean x\",size=24)\n",
    "plt.ylabel(\"True mean $\\mu$\",size=24)\n",
    "plt.xticks(fontsize=20)\n",
    "plt.yticks(fontsize=20)\n",
    "plt.xlim([Xmin,Xmax])\n",
    "plt.ylim([Ymin,Ymax])\n",
    "plt.grid(which='major', axis='both')\n",
    "\n",
    "\n",
    "fname = '07_gauss_interval_2.png'\n",
    "plt.savefig(fname)\n"
   ]
  },
  {
   "cell_type": "code",
   "execution_count": null,
   "metadata": {},
   "outputs": [],
   "source": []
  }
 ],
 "metadata": {
  "kernelspec": {
   "display_name": "Python 3",
   "language": "python",
   "name": "python3"
  },
  "language_info": {
   "codemirror_mode": {
    "name": "ipython",
    "version": 3
   },
   "file_extension": ".py",
   "mimetype": "text/x-python",
   "name": "python",
   "nbconvert_exporter": "python",
   "pygments_lexer": "ipython3",
   "version": "3.9.7"
  }
 },
 "nbformat": 4,
 "nbformat_minor": 4
}
