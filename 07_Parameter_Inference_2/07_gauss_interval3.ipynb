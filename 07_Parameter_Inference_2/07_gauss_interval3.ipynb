{
 "cells": [
  {
   "cell_type": "markdown",
   "metadata": {
    "tags": []
   },
   "source": [
    "# Testing confidence intervals\n",
    "Author: Aleksander Filip Żarnecki (University of Warsaw)"
   ]
  },
  {
   "cell_type": "markdown",
   "metadata": {
    "tags": []
   },
   "source": [
    "### (0) Import libraries "
   ]
  },
  {
   "cell_type": "code",
   "execution_count": 1,
   "metadata": {},
   "outputs": [],
   "source": [
    "import math\n",
    "import numpy as np\n",
    "import matplotlib.pyplot as plt\n",
    "\n",
    "from scipy.stats import norm"
   ]
  },
  {
   "cell_type": "markdown",
   "metadata": {
    "tags": []
   },
   "source": [
    "### (1) Definition of unified probability interval\n",
    "\n",
    "Assuming Gausian probability distribution with physical bound on true mean"
   ]
  },
  {
   "cell_type": "code",
   "execution_count": 2,
   "metadata": {},
   "outputs": [],
   "source": [
    "# Fixed pdf width\n",
    "\n",
    "def sigma(mean):\n",
    "    sig = 1\n",
    "    return sig\n",
    "\n",
    "# Return unified interval corresponsing to given CL\n",
    "\n",
    "def problim(mean,cl):\n",
    "    \n",
    "# Find sum range required for % level precision\n",
    "\n",
    "    prec = 0.001*(1-cl)\n",
    "\n",
    "    sig = sigma(mean)\n",
    "    xmin = mean+sig*norm.isf(1-prec)\n",
    "    xmax = mean+sig*norm.isf(prec)\n",
    "\n",
    "    nbin=1000\n",
    "    dx=(xmax-xmin)/nbin\n",
    "    \n",
    "# Considered interval candidates\n",
    "\n",
    "    xtab = np.linspace(xmin+0.5*dx,xmax-0.5*dx,nbin)\n",
    "    ptab = norm.pdf(xtab,mean,sig)\n",
    "\n",
    "# Highest likelihood for each candidate\n",
    "\n",
    "    xbest = xtab * (xtab > 0.)\n",
    "    pbest = norm.pdf(xtab,xbest,sig)\n",
    "    \n",
    "# Sort candidates according to the probability ratio\n",
    "\n",
    "    prat = ptab/pbest\n",
    "    \n",
    "    isort= np.argsort(prat)\n",
    "\n",
    "    xlo=xmax\n",
    "    xhi=xmin\n",
    "    psum=0\n",
    "\n",
    "    \n",
    "    for ip in reversed(isort):\n",
    "        psum += dx*ptab[ip]\n",
    "        if(xlo>xtab[ip]): xlo=xtab[ip]\n",
    "        if(xhi<xtab[ip]): xhi=xtab[ip]\n",
    "        if(psum>cl): break\n",
    "        \n",
    "    return xlo-dx/2.,xhi+dx/2.\n",
    "\n",
    "# Help function to check coverage\n",
    "\n",
    "def probsum(mean,x1,x2):\n",
    "    sig = sigma(mean)\n",
    "    p12= norm.cdf(x2,mean,sig) - norm.cdf(x1,mean,sig)\n",
    "    return p12\n"
   ]
  },
  {
   "cell_type": "markdown",
   "metadata": {},
   "source": [
    "### (2) Define set of hypothesis"
   ]
  },
  {
   "cell_type": "code",
   "execution_count": 3,
   "metadata": {},
   "outputs": [],
   "source": [
    "# Considered values of true mean\n",
    "\n",
    "#vmean = np.linspace(0.,5.5,12)\n",
    "vmean = np.linspace(0.,6.,121)\n",
    "# vmean = np.linspace(0.,6.,601)\n",
    "\n",
    "CL = 0.90\n",
    "\n",
    "# Upper an lower edges of x probability intervals\n",
    "\n",
    "vlow = np.empty(vmean.size)\n",
    "vhig = np.empty(vmean.size)\n",
    "\n",
    "for im in range(vmean.size):\n",
    "    vlow[im],vhig[im] = problim(vmean[im],CL)\n"
   ]
  },
  {
   "cell_type": "markdown",
   "metadata": {},
   "source": [
    "### (3)  Print interval information"
   ]
  },
  {
   "cell_type": "code",
   "execution_count": 4,
   "metadata": {},
   "outputs": [
    {
     "name": "stdout",
     "output_type": "stream",
     "text": [
      "\n",
      "Probability intervals for x:\n",
      "\n",
      "  true mean     n_low     n_high    CL\n",
      "     0.000     -3.719     1.287     0.900814\n",
      "     0.050     -3.669     1.337     0.900814\n",
      "     0.100     -3.619     1.387     0.900814\n",
      "     0.150     -3.569     1.437     0.900814\n",
      "     0.200     -3.519     1.487     0.900814\n",
      "     0.250     -3.164     1.537     0.900594\n",
      "     0.300     -2.623     1.594     0.900472\n",
      "     0.350     -2.261     1.659     0.900232\n",
      "     0.400     -2.002     1.731     0.900331\n",
      "     0.450     -1.811     1.804     0.900213\n",
      "     0.500     -1.657     1.876     0.900093\n",
      "     0.550     -1.510     1.956     0.900423\n",
      "     0.600     -1.393     2.028     0.900260\n",
      "     0.650     -1.291     2.100     0.900419\n",
      "     0.700     -1.189     2.173     0.900160\n",
      "     0.750     -1.110     2.238     0.900095\n",
      "     0.800     -1.022     2.310     0.900265\n",
      "     0.850     -0.950     2.375     0.900415\n",
      "     0.900     -0.870     2.447     0.900739\n",
      "     0.950     -0.805     2.505     0.900376\n",
      "     1.000     -0.733     2.569     0.900183\n",
      "     1.050     -0.668     2.634     0.900556\n",
      "     1.100     -0.603     2.692     0.900023\n",
      "     1.150     -0.538     2.757     0.900267\n",
      "     1.200     -0.481     2.814     0.900360\n",
      "     1.250     -0.424     2.871     0.900435\n",
      "     1.300     -0.366     2.929     0.900491\n",
      "     1.350     -0.309     2.986     0.900529\n",
      "     1.400     -0.259     3.036     0.900529\n",
      "     1.450     -0.201     3.094     0.900547\n",
      "     1.500     -0.151     3.144     0.900547\n",
      "     1.550     -0.101     3.194     0.900547\n",
      "     1.600     -0.051     3.244     0.900547\n",
      "     1.650      0.006     3.301     0.900547\n",
      "     1.700      0.056     3.351     0.900547\n",
      "     1.750      0.106     3.401     0.900547\n",
      "     1.800      0.156     3.451     0.900547\n",
      "     1.850      0.206     3.501     0.900547\n",
      "     1.900      0.256     3.551     0.900547\n",
      "     1.950      0.306     3.601     0.900547\n",
      "     2.000      0.356     3.651     0.900547\n",
      "     2.050      0.406     3.701     0.900547\n",
      "     2.100      0.456     3.751     0.900547\n",
      "     2.150      0.506     3.801     0.900547\n",
      "     2.200      0.556     3.851     0.900547\n",
      "     2.250      0.606     3.901     0.900547\n",
      "     2.300      0.656     3.951     0.900547\n",
      "     2.350      0.706     4.001     0.900547\n",
      "     2.400      0.756     4.051     0.900547\n",
      "     2.450      0.806     4.101     0.900547\n",
      "     2.500      0.856     4.151     0.900547\n",
      "     2.550      0.906     4.201     0.900547\n",
      "     2.600      0.956     4.251     0.900547\n",
      "     2.650      1.006     4.301     0.900547\n",
      "     2.700      1.056     4.351     0.900547\n",
      "     2.750      1.106     4.401     0.900547\n",
      "     2.800      1.156     4.451     0.900547\n",
      "     2.850      1.206     4.501     0.900547\n",
      "     2.900      1.256     4.551     0.900547\n",
      "     2.950      1.306     4.601     0.900547\n",
      "     3.000      1.356     4.651     0.900547\n",
      "     3.050      1.406     4.701     0.900547\n",
      "     3.100      1.456     4.751     0.900547\n",
      "     3.150      1.506     4.801     0.900547\n",
      "     3.200      1.556     4.851     0.900547\n",
      "     3.250      1.606     4.901     0.900547\n",
      "     3.300      1.656     4.951     0.900547\n",
      "     3.350      1.706     5.001     0.900547\n",
      "     3.400      1.756     5.051     0.900547\n",
      "     3.450      1.806     5.101     0.900547\n",
      "     3.500      1.856     5.151     0.900547\n",
      "     3.550      1.906     5.201     0.900547\n",
      "     3.600      1.956     5.251     0.900547\n",
      "     3.650      2.006     5.301     0.900547\n",
      "     3.700      2.056     5.351     0.900547\n",
      "     3.750      2.106     5.401     0.900547\n",
      "     3.800      2.156     5.451     0.900547\n",
      "     3.850      2.206     5.501     0.900547\n",
      "     3.900      2.256     5.551     0.900547\n",
      "     3.950      2.306     5.601     0.900547\n",
      "     4.000      2.356     5.651     0.900547\n",
      "     4.050      2.406     5.701     0.900547\n",
      "     4.100      2.456     5.751     0.900547\n",
      "     4.150      2.506     5.801     0.900547\n",
      "     4.200      2.556     5.851     0.900547\n",
      "     4.250      2.606     5.901     0.900547\n",
      "     4.300      2.656     5.951     0.900547\n",
      "     4.350      2.706     6.001     0.900547\n",
      "     4.400      2.756     6.051     0.900547\n",
      "     4.450      2.806     6.101     0.900547\n",
      "     4.500      2.856     6.151     0.900547\n",
      "     4.550      2.906     6.201     0.900547\n",
      "     4.600      2.956     6.251     0.900547\n",
      "     4.650      3.006     6.301     0.900547\n",
      "     4.700      3.056     6.351     0.900547\n",
      "     4.750      3.106     6.401     0.900547\n",
      "     4.800      3.156     6.451     0.900547\n",
      "     4.850      3.206     6.501     0.900547\n",
      "     4.900      3.256     6.551     0.900547\n",
      "     4.950      3.306     6.601     0.900547\n",
      "     5.000      3.356     6.651     0.900547\n",
      "     5.050      3.406     6.701     0.900547\n",
      "     5.100      3.456     6.751     0.900547\n",
      "     5.150      3.506     6.801     0.900547\n",
      "     5.200      3.556     6.851     0.900547\n",
      "     5.250      3.606     6.901     0.900547\n",
      "     5.300      3.656     6.951     0.900547\n",
      "     5.350      3.706     7.001     0.900547\n",
      "     5.400      3.756     7.051     0.900547\n",
      "     5.450      3.806     7.101     0.900547\n",
      "     5.500      3.856     7.151     0.900547\n",
      "     5.550      3.906     7.201     0.900547\n",
      "     5.600      3.956     7.251     0.900547\n",
      "     5.650      4.006     7.301     0.900547\n",
      "     5.700      4.056     7.351     0.900547\n",
      "     5.750      4.106     7.401     0.900547\n",
      "     5.800      4.156     7.451     0.900547\n",
      "     5.850      4.206     7.501     0.900547\n",
      "     5.900      4.256     7.551     0.900547\n",
      "     5.950      4.306     7.601     0.900547\n",
      "     6.000      4.356     7.651     0.900547\n"
     ]
    }
   ],
   "source": [
    "print(\"\\nProbability intervals for x:\")\n",
    "\n",
    "print(\"\\n  true mean     n_low     n_high    CL\")\n",
    "\n",
    "for im in range(vmean.size) :\n",
    "    ucl = probsum(vmean[im],vlow[im],vhig[im])\n",
    "    \n",
    "    print (\"%10.3f   %8.3f  %8.3f     %8.6f\" % (vmean[im],vlow[im],vhig[im],ucl))\n"
   ]
  },
  {
   "cell_type": "markdown",
   "metadata": {},
   "source": [
    "### (4) Draw probability intervals"
   ]
  },
  {
   "cell_type": "code",
   "execution_count": 11,
   "metadata": {},
   "outputs": [
    {
     "data": {
      "image/png": "[encoded data removed]",
      "text/plain": [
       "<Figure size 576x576 with 1 Axes>"
      ]
     },
     "metadata": {
      "needs_background": "light"
     },
     "output_type": "display_data"
    }
   ],
   "source": [
    "# Plot ranges\n",
    "\n",
    "Xmin=-2\n",
    "Xmax=4\n",
    "Ymin=0\n",
    "Ymax=6\n",
    "\n",
    "\n",
    "plt.figure(figsize=(8, 8))\n",
    "\n",
    "plt.hlines(vmean,vlow,vhig,color='lightgreen',linewidth=5)\n",
    "\n",
    "plt.plot(vlow,vmean,'-',linewidth=3,color='red')\n",
    "plt.plot(vhig,vmean,'-',linewidth=3,color='blue')\n",
    "\n",
    "plt.title(\"Confidence intervals\",size=24)\n",
    "plt.xlabel(\"Measured mean x\",size=24)\n",
    "plt.ylabel(\"True mean $\\mu$\",size=24)\n",
    "plt.xticks(fontsize=20)\n",
    "plt.yticks(fontsize=20)\n",
    "plt.xlim([Xmin,Xmax])\n",
    "plt.ylim([Ymin,Ymax])\n",
    "plt.grid(which='major', axis='both')\n",
    "\n",
    "\n",
    "fname = '07_gauss_interval3_1.png'\n",
    "plt.savefig(fname)\n"
   ]
  },
  {
   "cell_type": "markdown",
   "metadata": {},
   "source": [
    "### (5) Hypothetical measurement"
   ]
  },
  {
   "cell_type": "code",
   "execution_count": 12,
   "metadata": {},
   "outputs": [
    {
     "name": "stdout",
     "output_type": "stream",
     "text": [
      "Upper limit : 3.9438\n",
      "Lower limit : 0.7931\n"
     ]
    }
   ],
   "source": [
    "Xm = 2.3\n",
    "\n",
    "# Look for limit point in the probability interval tables\n",
    "\n",
    "iuh = np.argmax(Xm < vhig)\n",
    "iul = np.argmax(Xm < vlow)\n",
    "\n",
    "# Interpolate between points for higher precision (linear interpolation)\n",
    "\n",
    "frac = (Xm-vlow[iul-1])/(vlow[iul]-vlow[iul-1])\n",
    "ul=frac*vmean[iul]+(1-frac)*vmean[iul-1]\n",
    "print('Upper limit : %.4f' % (ul))\n",
    "\n",
    "frac = (Xm-vhig[iuh-1])/(vhig[iuh]-vhig[iuh-1])\n",
    "ll = frac*vmean[iuh]+(1-frac)*vmean[iuh-1]\n",
    "print('Lower limit : %.4f' % (ll))"
   ]
  },
  {
   "cell_type": "code",
   "execution_count": 13,
   "metadata": {},
   "outputs": [
    {
     "data": {
      "image/png": "[encoded data removed]",
      "text/plain": [
       "<Figure size 576x576 with 1 Axes>"
      ]
     },
     "metadata": {
      "needs_background": "light"
     },
     "output_type": "display_data"
    }
   ],
   "source": [
    "plt.figure(figsize=(8, 8))\n",
    "\n",
    "plt.hlines(vmean,vlow,vhig,color='lightgreen',linewidth=5)\n",
    "\n",
    "plt.plot(vlow,vmean,'-',linewidth=3,color='red')\n",
    "plt.plot(vhig,vmean,'-',linewidth=3,color='blue')\n",
    "\n",
    "plt.vlines(Xm,Ymin,Ymax,color='black',linewidth=2,linestyles='dashed')\n",
    "plt.vlines(Xm,ll,ul,color='black',linewidth=5,linestyles='solid')\n",
    "\n",
    "plt.title(\"Confidence intervals\",size=24)\n",
    "plt.xlabel(\"Measured mean x\",size=24)\n",
    "plt.ylabel(\"True mean $\\mu$\",size=24)\n",
    "plt.xticks(fontsize=20)\n",
    "plt.yticks(fontsize=20)\n",
    "plt.xlim([Xmin,Xmax])\n",
    "plt.ylim([Ymin,Ymax])\n",
    "plt.grid(which='major', axis='both')\n",
    "\n",
    "\n",
    "fname = '07_gauss_interval3_2.png'\n",
    "plt.savefig(fname)\n"
   ]
  },
  {
   "cell_type": "code",
   "execution_count": null,
   "metadata": {},
   "outputs": [],
   "source": []
  }
 ],
 "metadata": {
  "kernelspec": {
   "display_name": "Python 3",
   "language": "python",
   "name": "python3"
  },
  "language_info": {
   "codemirror_mode": {
    "name": "ipython",
    "version": 3
   },
   "file_extension": ".py",
   "mimetype": "text/x-python",
   "name": "python",
   "nbconvert_exporter": "python",
   "pygments_lexer": "ipython3",
   "version": "3.9.7"
  }
 },
 "nbformat": 4,
 "nbformat_minor": 4
}
