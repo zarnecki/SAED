{
 "cells": [
  {
   "cell_type": "markdown",
   "metadata": {
    "tags": []
   },
   "source": [
    "# Testing confidence intervals\n",
    "Author: Aleksander Filip Żarnecki (University of Warsaw)"
   ]
  },
  {
   "cell_type": "markdown",
   "metadata": {
    "tags": []
   },
   "source": [
    "### (0) Import libraries "
   ]
  },
  {
   "cell_type": "code",
   "execution_count": 2,
   "metadata": {},
   "outputs": [],
   "source": [
    "import math\n",
    "import numpy as np\n",
    "import matplotlib.pyplot as plt\n",
    "\n",
    "from scipy.stats import norm"
   ]
  },
  {
   "cell_type": "markdown",
   "metadata": {
    "tags": []
   },
   "source": [
    "### (1) Definition of probability intervals for assumed probability density function\n",
    "\n",
    "Assuming gaussian probability distribution with variable sigma"
   ]
  },
  {
   "cell_type": "code",
   "execution_count": 3,
   "metadata": {},
   "outputs": [],
   "source": [
    "# Variable pdf width!!!\n",
    "# Precision better for small than for large mean\n",
    "\n",
    "def sigma(mean):\n",
    "    sig = 1.+np.arctan(mean-1)/np.pi\n",
    "    return sig\n",
    "\n",
    "# Return value of x corresponsing to upper (one-side) limit on given CL\n",
    "# Use 1-CL for lower limit\n",
    "\n",
    "def problim(mean,cl):\n",
    "    \n",
    "# Use inverse survival function from scipy (inverse of 1 - cumulative distribution)\n",
    "\n",
    "    xlim = norm.isf(1-cl)\n",
    "\n",
    "    return mean+xlim*sigma(mean) \n"
   ]
  },
  {
   "cell_type": "markdown",
   "metadata": {},
   "source": [
    "### (2) Define set of hypothesis"
   ]
  },
  {
   "cell_type": "code",
   "execution_count": 10,
   "metadata": {},
   "outputs": [],
   "source": [
    "# Considered values of true mean\n",
    "\n",
    "# vmean = np.linspace(0.,6.0,13)\n",
    "vmean = np.linspace(0.,6.0,121)\n",
    "# vmean = np.linspace(0.,6.0,601)\n",
    "\n",
    "CL = 0.95            # One sided! \n",
    "\n",
    "# Lower edge of x probability intervals\n",
    "\n",
    "vlow = problim(vmean,1-CL)\n"
   ]
  },
  {
   "cell_type": "markdown",
   "metadata": {},
   "source": [
    "### (3)  Print interval information"
   ]
  },
  {
   "cell_type": "code",
   "execution_count": 11,
   "metadata": {},
   "outputs": [
    {
     "name": "stdout",
     "output_type": "stream",
     "text": [
      "\n",
      "Probability intervals for x:\n",
      "\n",
      "  true mean     x_low\n",
      "     0.000     -1.234\n",
      "     0.050     -1.197\n",
      "     0.100     -1.161\n",
      "     0.150     -1.126\n",
      "     0.200     -1.092\n",
      "     0.250     -1.058\n",
      "     0.300     -1.025\n",
      "     0.350     -0.993\n",
      "     0.400     -0.962\n",
      "     0.450     -0.932\n",
      "     0.500     -0.902\n",
      "     0.550     -0.873\n",
      "     0.600     -0.846\n",
      "     0.650     -0.819\n",
      "     0.700     -0.792\n",
      "     0.750     -0.767\n",
      "     0.800     -0.742\n",
      "     0.850     -0.717\n",
      "     0.900     -0.693\n",
      "     0.950     -0.669\n",
      "     1.000     -0.645\n",
      "     1.050     -0.621\n",
      "     1.100     -0.597\n",
      "     1.150     -0.573\n",
      "     1.200     -0.548\n",
      "     1.250     -0.523\n",
      "     1.300     -0.497\n",
      "     1.350     -0.471\n",
      "     1.400     -0.444\n",
      "     1.450     -0.416\n",
      "     1.500     -0.388\n",
      "     1.550     -0.358\n",
      "     1.600     -0.328\n",
      "     1.650     -0.297\n",
      "     1.700     -0.265\n",
      "     1.750     -0.232\n",
      "     1.800     -0.198\n",
      "     1.850     -0.164\n",
      "     1.900     -0.129\n",
      "     1.950     -0.093\n",
      "     2.000     -0.056\n",
      "     2.050     -0.019\n",
      "     2.100      0.019\n",
      "     2.150      0.057\n",
      "     2.200      0.096\n",
      "     2.250      0.136\n",
      "     2.300      0.176\n",
      "     2.350      0.217\n",
      "     2.400      0.257\n",
      "     2.450      0.299\n",
      "     2.500      0.341\n",
      "     2.550      0.383\n",
      "     2.600      0.425\n",
      "     2.650      0.468\n",
      "     2.700      0.511\n",
      "     2.750      0.555\n",
      "     2.800      0.598\n",
      "     2.850      0.642\n",
      "     2.900      0.686\n",
      "     2.950      0.731\n",
      "     3.000      0.775\n",
      "     3.050      0.820\n",
      "     3.100      0.865\n",
      "     3.150      0.911\n",
      "     3.200      0.956\n",
      "     3.250      1.002\n",
      "     3.300      1.047\n",
      "     3.350      1.093\n",
      "     3.400      1.139\n",
      "     3.450      1.186\n",
      "     3.500      1.232\n",
      "     3.550      1.278\n",
      "     3.600      1.325\n",
      "     3.650      1.372\n",
      "     3.700      1.418\n",
      "     3.750      1.465\n",
      "     3.800      1.512\n",
      "     3.850      1.559\n",
      "     3.900      1.607\n",
      "     3.950      1.654\n",
      "     4.000      1.701\n",
      "     4.050      1.749\n",
      "     4.100      1.796\n",
      "     4.150      1.844\n",
      "     4.200      1.891\n",
      "     4.250      1.939\n",
      "     4.300      1.987\n",
      "     4.350      2.035\n",
      "     4.400      2.082\n",
      "     4.450      2.130\n",
      "     4.500      2.178\n",
      "     4.550      2.226\n",
      "     4.600      2.275\n",
      "     4.650      2.323\n",
      "     4.700      2.371\n",
      "     4.750      2.419\n",
      "     4.800      2.467\n",
      "     4.850      2.516\n",
      "     4.900      2.564\n",
      "     4.950      2.613\n",
      "     5.000      2.661\n",
      "     5.050      2.709\n",
      "     5.100      2.758\n",
      "     5.150      2.807\n",
      "     5.200      2.855\n",
      "     5.250      2.904\n",
      "     5.300      2.952\n",
      "     5.350      3.001\n",
      "     5.400      3.050\n",
      "     5.450      3.098\n",
      "     5.500      3.147\n",
      "     5.550      3.196\n",
      "     5.600      3.245\n",
      "     5.650      3.294\n",
      "     5.700      3.342\n",
      "     5.750      3.391\n",
      "     5.800      3.440\n",
      "     5.850      3.489\n",
      "     5.900      3.538\n",
      "     5.950      3.587\n",
      "     6.000      3.636\n"
     ]
    }
   ],
   "source": [
    "print(\"\\nProbability intervals for x:\")\n",
    "\n",
    "print(\"\\n  true mean     x_low\")\n",
    "\n",
    "for im in range(vmean.size) :\n",
    "    print (\"%10.3f   %8.3f\" % (vmean[im],vlow[im]))\n"
   ]
  },
  {
   "cell_type": "markdown",
   "metadata": {},
   "source": [
    "### (4) Draw probability intervals"
   ]
  },
  {
   "cell_type": "code",
   "execution_count": 16,
   "metadata": {},
   "outputs": [
    {
     "data": {
      "image/png": "[encoded data removed]",
      "text/plain": [
       "<Figure size 576x576 with 1 Axes>"
      ]
     },
     "metadata": {
      "needs_background": "light"
     },
     "output_type": "display_data"
    }
   ],
   "source": [
    "# Plot ranges\n",
    "\n",
    "Xmin=-2\n",
    "Xmax=4\n",
    "Ymin=0\n",
    "Ymax=6\n",
    "\n",
    "\n",
    "plt.figure(figsize=(8, 8))\n",
    "\n",
    "plt.hlines(vmean,vlow,Xmax,color='lightgreen',linewidth=5)\n",
    "\n",
    "plt.plot(vlow,vmean,'o',color='red')\n",
    "\n",
    "plt.title(\"Confidence limit\",size=24)\n",
    "plt.xlabel(\"Measured mean x\",size=24)\n",
    "plt.ylabel(\"True mean $\\mu$\",size=24)\n",
    "plt.xticks(fontsize=20)\n",
    "plt.yticks(fontsize=20)\n",
    "plt.xlim([Xmin,Xmax])\n",
    "plt.ylim([Ymin,Ymax])\n",
    "plt.grid(which='major', axis='both')\n",
    "\n",
    "\n",
    "fname = '07_gauss_interval2_ul_1.png'\n",
    "plt.savefig(fname)\n"
   ]
  },
  {
   "cell_type": "markdown",
   "metadata": {},
   "source": [
    "### (5) Hypothetical measurement"
   ]
  },
  {
   "cell_type": "code",
   "execution_count": 13,
   "metadata": {},
   "outputs": [
    {
     "name": "stdout",
     "output_type": "stream",
     "text": [
      "Upper limit : 4.6264\n"
     ]
    }
   ],
   "source": [
    "Xm = 2.3\n",
    "\n",
    "# Look for limit point in the probability limit tables\n",
    "\n",
    "iul = np.argmax(Xm < vlow)\n",
    "\n",
    "# Interpolate between points for higher precision (linear interpolation)\n",
    "\n",
    "frac = (Xm-vlow[iul-1])/(vlow[iul]-vlow[iul-1])\n",
    "ul=frac*vmean[iul]+(1-frac)*vmean[iul-1]\n",
    "print('Upper limit : %.4f' % (ul))\n"
   ]
  },
  {
   "cell_type": "code",
   "execution_count": 17,
   "metadata": {},
   "outputs": [
    {
     "data": {
      "image/png": "[encoded data removed]",
      "text/plain": [
       "<Figure size 576x576 with 1 Axes>"
      ]
     },
     "metadata": {
      "needs_background": "light"
     },
     "output_type": "display_data"
    }
   ],
   "source": [
    "plt.figure(figsize=(8, 8))\n",
    "\n",
    "plt.hlines(vmean,vlow,Xmax,color='lightgreen',linewidth=5)\n",
    "\n",
    "plt.plot(vlow,vmean,'o',color='red')\n",
    "\n",
    "plt.vlines(Xm,Ymin,Ymax,color='black',linewidth=2,linestyles='dashed')\n",
    "plt.vlines(Xm,Ymin,ul,color='black',linewidth=5,linestyles='solid')\n",
    "\n",
    "plt.title(\"Confidence limit\",size=24)\n",
    "plt.xlabel(\"Measured mean x\",size=24)\n",
    "plt.ylabel(\"True mean $\\mu$\",size=24)\n",
    "plt.xticks(fontsize=20)\n",
    "plt.yticks(fontsize=20)\n",
    "plt.xlim([Xmin,Xmax])\n",
    "plt.ylim([Ymin,Ymax])\n",
    "plt.grid(which='major', axis='both')\n",
    "\n",
    "\n",
    "fname = '07_gauss_interval2_ul_2.png'\n",
    "plt.savefig(fname)\n"
   ]
  },
  {
   "cell_type": "code",
   "execution_count": null,
   "metadata": {},
   "outputs": [],
   "source": []
  }
 ],
 "metadata": {
  "kernelspec": {
   "display_name": "Python 3",
   "language": "python",
   "name": "python3"
  },
  "language_info": {
   "codemirror_mode": {
    "name": "ipython",
    "version": 3
   },
   "file_extension": ".py",
   "mimetype": "text/x-python",
   "name": "python",
   "nbconvert_exporter": "python",
   "pygments_lexer": "ipython3",
   "version": "3.9.7"
  }
 },
 "nbformat": 4,
 "nbformat_minor": 4
}
