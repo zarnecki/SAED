{
 "cells": [
  {
   "cell_type": "markdown",
   "metadata": {
    "tags": []
   },
   "source": [
    "# Testing confidence intervals\n",
    "Author: Aleksander Filip Żarnecki (University of Warsaw)"
   ]
  },
  {
   "cell_type": "markdown",
   "metadata": {
    "tags": []
   },
   "source": [
    "### (0) Import libraries "
   ]
  },
  {
   "cell_type": "code",
   "execution_count": 1,
   "metadata": {},
   "outputs": [],
   "source": [
    "import math\n",
    "import numpy as np\n",
    "import matplotlib.pyplot as plt\n",
    "\n",
    "from scipy.stats import norm"
   ]
  },
  {
   "cell_type": "markdown",
   "metadata": {
    "tags": []
   },
   "source": [
    "### (1) Definition of probability intervals for assumed probability density function\n",
    "\n",
    "Assuming gaussian probability distribution with variable sigma"
   ]
  },
  {
   "cell_type": "code",
   "execution_count": 2,
   "metadata": {},
   "outputs": [],
   "source": [
    "# Variable pdf width!!!\n",
    "# Precision better for small than for large mean\n",
    "\n",
    "def sigma(mean):\n",
    "    sig = 1.+np.arctan(mean-1)/np.pi\n",
    "    return sig\n",
    "\n",
    "# Return value of x corresponsing to upper (one-side) limit on given CL\n",
    "# Use 1-CL for lower limit\n",
    "\n",
    "def problim(mean,cl):\n",
    "    \n",
    "# Use inverse survival function from scipy (inverse of 1 - cumulative distribution)\n",
    "\n",
    "    xlim = norm.isf(1-cl)\n",
    "\n",
    "    return mean+xlim*sigma(mean) \n"
   ]
  },
  {
   "cell_type": "markdown",
   "metadata": {},
   "source": [
    "### (2) Define set of hypothesis"
   ]
  },
  {
   "cell_type": "code",
   "execution_count": 11,
   "metadata": {},
   "outputs": [],
   "source": [
    "# Considered values of true mean\n",
    "\n",
    "# vmean = np.linspace(0.,6.0,13)\n",
    "vmean = np.linspace(0.,6.0,121)\n",
    "# vmean = np.linspace(0.,6.0,601)\n",
    "\n",
    "CL = 0.95            # One sided! So the inteval will be 90% CL\n",
    "\n",
    "# Upper an lower edges of x probability intervals\n",
    "\n",
    "vhig = problim(vmean,CL)\n",
    "vlow = problim(vmean,1-CL)\n"
   ]
  },
  {
   "cell_type": "markdown",
   "metadata": {},
   "source": [
    "### (3)  Print interval information"
   ]
  },
  {
   "cell_type": "code",
   "execution_count": 12,
   "metadata": {},
   "outputs": [
    {
     "name": "stdout",
     "output_type": "stream",
     "text": [
      "\n",
      "Probability intervals for x:\n",
      "\n",
      "  true mean     x_low     x_high\n",
      "     0.000     -1.234     1.234\n",
      "     0.050     -1.197     1.297\n",
      "     0.100     -1.161     1.361\n",
      "     0.150     -1.126     1.426\n",
      "     0.200     -1.092     1.492\n",
      "     0.250     -1.058     1.558\n",
      "     0.300     -1.025     1.625\n",
      "     0.350     -0.993     1.693\n",
      "     0.400     -0.962     1.762\n",
      "     0.450     -0.932     1.832\n",
      "     0.500     -0.902     1.902\n",
      "     0.550     -0.873     1.973\n",
      "     0.600     -0.846     2.046\n",
      "     0.650     -0.819     2.119\n",
      "     0.700     -0.792     2.192\n",
      "     0.750     -0.767     2.267\n",
      "     0.800     -0.742     2.342\n",
      "     0.850     -0.717     2.417\n",
      "     0.900     -0.693     2.493\n",
      "     0.950     -0.669     2.569\n",
      "     1.000     -0.645     2.645\n",
      "     1.050     -0.621     2.721\n",
      "     1.100     -0.597     2.797\n",
      "     1.150     -0.573     2.873\n",
      "     1.200     -0.548     2.948\n",
      "     1.250     -0.523     3.023\n",
      "     1.300     -0.497     3.097\n",
      "     1.350     -0.471     3.171\n",
      "     1.400     -0.444     3.244\n",
      "     1.450     -0.416     3.316\n",
      "     1.500     -0.388     3.388\n",
      "     1.550     -0.358     3.458\n",
      "     1.600     -0.328     3.528\n",
      "     1.650     -0.297     3.597\n",
      "     1.700     -0.265     3.665\n",
      "     1.750     -0.232     3.732\n",
      "     1.800     -0.198     3.798\n",
      "     1.850     -0.164     3.864\n",
      "     1.900     -0.129     3.929\n",
      "     1.950     -0.093     3.993\n",
      "     2.000     -0.056     4.056\n",
      "     2.050     -0.019     4.119\n",
      "     2.100      0.019     4.181\n",
      "     2.150      0.057     4.243\n",
      "     2.200      0.096     4.304\n",
      "     2.250      0.136     4.364\n",
      "     2.300      0.176     4.424\n",
      "     2.350      0.217     4.483\n",
      "     2.400      0.257     4.543\n",
      "     2.450      0.299     4.601\n",
      "     2.500      0.341     4.659\n",
      "     2.550      0.383     4.717\n",
      "     2.600      0.425     4.775\n",
      "     2.650      0.468     4.832\n",
      "     2.700      0.511     4.889\n",
      "     2.750      0.555     4.945\n",
      "     2.800      0.598     5.002\n",
      "     2.850      0.642     5.058\n",
      "     2.900      0.686     5.114\n",
      "     2.950      0.731     5.169\n",
      "     3.000      0.775     5.225\n",
      "     3.050      0.820     5.280\n",
      "     3.100      0.865     5.335\n",
      "     3.150      0.911     5.389\n",
      "     3.200      0.956     5.444\n",
      "     3.250      1.002     5.498\n",
      "     3.300      1.047     5.553\n",
      "     3.350      1.093     5.607\n",
      "     3.400      1.139     5.661\n",
      "     3.450      1.186     5.714\n",
      "     3.500      1.232     5.768\n",
      "     3.550      1.278     5.822\n",
      "     3.600      1.325     5.875\n",
      "     3.650      1.372     5.928\n",
      "     3.700      1.418     5.982\n",
      "     3.750      1.465     6.035\n",
      "     3.800      1.512     6.088\n",
      "     3.850      1.559     6.141\n",
      "     3.900      1.607     6.193\n",
      "     3.950      1.654     6.246\n",
      "     4.000      1.701     6.299\n",
      "     4.050      1.749     6.351\n",
      "     4.100      1.796     6.404\n",
      "     4.150      1.844     6.456\n",
      "     4.200      1.891     6.509\n",
      "     4.250      1.939     6.561\n",
      "     4.300      1.987     6.613\n",
      "     4.350      2.035     6.665\n",
      "     4.400      2.082     6.718\n",
      "     4.450      2.130     6.770\n",
      "     4.500      2.178     6.822\n",
      "     4.550      2.226     6.874\n",
      "     4.600      2.275     6.925\n",
      "     4.650      2.323     6.977\n",
      "     4.700      2.371     7.029\n",
      "     4.750      2.419     7.081\n",
      "     4.800      2.467     7.133\n",
      "     4.850      2.516     7.184\n",
      "     4.900      2.564     7.236\n",
      "     4.950      2.613     7.287\n",
      "     5.000      2.661     7.339\n",
      "     5.050      2.709     7.391\n",
      "     5.100      2.758     7.442\n",
      "     5.150      2.807     7.493\n",
      "     5.200      2.855     7.545\n",
      "     5.250      2.904     7.596\n",
      "     5.300      2.952     7.648\n",
      "     5.350      3.001     7.699\n",
      "     5.400      3.050     7.750\n",
      "     5.450      3.098     7.802\n",
      "     5.500      3.147     7.853\n",
      "     5.550      3.196     7.904\n",
      "     5.600      3.245     7.955\n",
      "     5.650      3.294     8.006\n",
      "     5.700      3.342     8.058\n",
      "     5.750      3.391     8.109\n",
      "     5.800      3.440     8.160\n",
      "     5.850      3.489     8.211\n",
      "     5.900      3.538     8.262\n",
      "     5.950      3.587     8.313\n",
      "     6.000      3.636     8.364\n"
     ]
    }
   ],
   "source": [
    "print(\"\\nProbability intervals for x:\")\n",
    "\n",
    "print(\"\\n  true mean     x_low     x_high\")\n",
    "\n",
    "for im in range(vmean.size) :\n",
    "    print (\"%10.3f   %8.3f  %8.3f\" % (vmean[im],vlow[im],vhig[im]))\n"
   ]
  },
  {
   "cell_type": "markdown",
   "metadata": {},
   "source": [
    "### (4) Draw probability intervals"
   ]
  },
  {
   "cell_type": "code",
   "execution_count": 13,
   "metadata": {},
   "outputs": [
    {
     "data": {
      "image/png": "[encoded data removed]",
      "text/plain": [
       "<Figure size 576x576 with 1 Axes>"
      ]
     },
     "metadata": {
      "needs_background": "light"
     },
     "output_type": "display_data"
    }
   ],
   "source": [
    "# Plot ranges\n",
    "\n",
    "Xmin=-2\n",
    "Xmax=4\n",
    "Ymin=0\n",
    "Ymax=6\n",
    "\n",
    "\n",
    "plt.figure(figsize=(8, 8))\n",
    "\n",
    "plt.hlines(vmean,vlow,vhig,color='lightgreen',linewidth=5)\n",
    "\n",
    "plt.plot(vlow,vmean,'o',color='red')\n",
    "plt.plot(vhig,vmean,'o',color='blue')\n",
    "\n",
    "plt.title(\"Confidence intervals\",size=24)\n",
    "plt.xlabel(\"Measured mean x\",size=24)\n",
    "plt.ylabel(\"True mean $\\mu$\",size=24)\n",
    "plt.xticks(fontsize=20)\n",
    "plt.yticks(fontsize=20)\n",
    "plt.xlim([Xmin,Xmax])\n",
    "plt.ylim([Ymin,Ymax])\n",
    "plt.grid(which='major', axis='both')\n",
    "\n",
    "\n",
    "fname = '07_gauss_interval2_1.png'\n",
    "plt.savefig(fname)\n"
   ]
  },
  {
   "cell_type": "markdown",
   "metadata": {},
   "source": [
    "### (5) Hypothetical measurement"
   ]
  },
  {
   "cell_type": "code",
   "execution_count": 14,
   "metadata": {},
   "outputs": [
    {
     "name": "stdout",
     "output_type": "stream",
     "text": [
      "Upper limit : 4.6264\n",
      "Lower limit : 0.7723\n"
     ]
    }
   ],
   "source": [
    "Xm = 2.3\n",
    "\n",
    "# Look for limit point in the probability interval tables\n",
    "\n",
    "iuh = np.argmax(Xm < vhig)\n",
    "iul = np.argmax(Xm < vlow)\n",
    "\n",
    "# Interpolate between points for higher precision (linear interpolation)\n",
    "\n",
    "frac = (Xm-vlow[iul-1])/(vlow[iul]-vlow[iul-1])\n",
    "ul=frac*vmean[iul]+(1-frac)*vmean[iul-1]\n",
    "print('Upper limit : %.4f' % (ul))\n",
    "\n",
    "frac = (Xm-vhig[iuh-1])/(vhig[iuh]-vhig[iuh-1])\n",
    "ll = frac*vmean[iuh]+(1-frac)*vmean[iuh-1]\n",
    "print('Lower limit : %.4f' % (ll))"
   ]
  },
  {
   "cell_type": "code",
   "execution_count": 15,
   "metadata": {},
   "outputs": [
    {
     "data": {
      "image/png": "[encoded data removed]",
      "text/plain": [
       "<Figure size 576x576 with 1 Axes>"
      ]
     },
     "metadata": {
      "needs_background": "light"
     },
     "output_type": "display_data"
    }
   ],
   "source": [
    "plt.figure(figsize=(8, 8))\n",
    "\n",
    "plt.hlines(vmean,vlow,vhig,color='lightgreen',linewidth=5)\n",
    "\n",
    "plt.plot(vlow,vmean,'o',color='red')\n",
    "plt.plot(vhig,vmean,'o',color='blue')\n",
    "\n",
    "plt.vlines(Xm,Ymin,Ymax,color='black',linewidth=2,linestyles='dashed')\n",
    "plt.vlines(Xm,ll,ul,color='black',linewidth=5,linestyles='solid')\n",
    "\n",
    "plt.title(\"Confidence intervals\",size=24)\n",
    "plt.xlabel(\"Measured mean x\",size=24)\n",
    "plt.ylabel(\"True mean $\\mu$\",size=24)\n",
    "plt.xticks(fontsize=20)\n",
    "plt.yticks(fontsize=20)\n",
    "plt.xlim([Xmin,Xmax])\n",
    "plt.ylim([Ymin,Ymax])\n",
    "plt.grid(which='major', axis='both')\n",
    "\n",
    "\n",
    "fname = '07_gauss_interval2_2.png'\n",
    "plt.savefig(fname)\n"
   ]
  },
  {
   "cell_type": "code",
   "execution_count": null,
   "metadata": {},
   "outputs": [],
   "source": []
  }
 ],
 "metadata": {
  "kernelspec": {
   "display_name": "Python 3",
   "language": "python",
   "name": "python3"
  },
  "language_info": {
   "codemirror_mode": {
    "name": "ipython",
    "version": 3
   },
   "file_extension": ".py",
   "mimetype": "text/x-python",
   "name": "python",
   "nbconvert_exporter": "python",
   "pygments_lexer": "ipython3",
   "version": "3.9.7"
  }
 },
 "nbformat": 4,
 "nbformat_minor": 4
}
