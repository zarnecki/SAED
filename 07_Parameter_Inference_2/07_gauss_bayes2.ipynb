{
 "cells": [
  {
   "cell_type": "markdown",
   "metadata": {
    "tags": []
   },
   "source": [
    "# Testing confidence intervals\n",
    "Author: Aleksander Filip Żarnecki (University of Warsaw)"
   ]
  },
  {
   "cell_type": "markdown",
   "metadata": {
    "tags": []
   },
   "source": [
    "### (0) Import libraries "
   ]
  },
  {
   "cell_type": "code",
   "execution_count": 1,
   "metadata": {},
   "outputs": [],
   "source": [
    "import math\n",
    "import numpy as np\n",
    "import matplotlib.pyplot as plt\n",
    "\n",
    "from scipy.stats import norm"
   ]
  },
  {
   "cell_type": "markdown",
   "metadata": {
    "tags": []
   },
   "source": [
    "### (1) Definition of probability intervals for assumed probability density function\n",
    "\n",
    "Assuming gaussian probability distribution with variable sigma"
   ]
  },
  {
   "cell_type": "code",
   "execution_count": 2,
   "metadata": {},
   "outputs": [],
   "source": [
    "# Variable pdf width!!!\n",
    "# Precision better for small than for large mean\n",
    "\n",
    "def sigma(mean):\n",
    "    sig = 1.+np.arctan(mean-1)/np.pi\n",
    "    return sig\n",
    "\n",
    "# Return value of x corresponsing to upper (one-side) limit on given CL\n",
    "# Use 1-CL for lower limit\n",
    "\n",
    "def problim(mean,cl):\n",
    "    \n",
    "# Use inverse survival function from scipy (inverse of 1 - cumulative distribution)\n",
    "\n",
    "    xlim = norm.isf(1-cl)\n",
    "\n",
    "    return mean+xlim*sigma(mean) "
   ]
  },
  {
   "cell_type": "code",
   "execution_count": 3,
   "metadata": {},
   "outputs": [],
   "source": [
    "# Bayesian limit\n",
    "\n",
    "def bayeslim(xm,cl):\n",
    "    \n",
    "    sigm = sigma(xm)\n",
    "    \n",
    "    # numerical integration settings\n",
    "    \n",
    "    mmin = 0             # True value constrained to be positive\n",
    "    mmax = xm+5*sigm\n",
    "    mbin = 2000\n",
    "    \n",
    "    dm = (mmax-mmin)/mbin\n",
    "    mval = np.linspace(mmin+dm/2,mmax-dm/2,mbin)\n",
    "    sval = sigma(mval)\n",
    "    dp = dm*norm.pdf(xm,mval,sval)\n",
    "    \n",
    "    pint = np.sum(dp)\n",
    "    \n",
    "    psum = 0\n",
    "    mlim = mmin\n",
    "    \n",
    "    for im in range(mbin):\n",
    "        psum+=dp[im]/pint\n",
    "        if(psum>cl):\n",
    "            mlim = mval[im]-dm/2\n",
    "            break\n",
    "#        print(mval[im],sval[im],dp[im],psum)  # Debug output\n",
    "    \n",
    "    return mlim\n"
   ]
  },
  {
   "cell_type": "markdown",
   "metadata": {},
   "source": [
    "### (2) Define set of hypothesis"
   ]
  },
  {
   "cell_type": "code",
   "execution_count": 4,
   "metadata": {},
   "outputs": [],
   "source": [
    "# Considered values of true mean\n",
    "\n",
    "# vmean = np.linspace(0.,6.0,13)\n",
    "vmean = np.linspace(0.,6.0,121)\n",
    "# vmean = np.linspace(0.,6.0,601)\n",
    "\n",
    "CL = 0.95            # One sided! So the central inteval will be 90% CL\n",
    "\n",
    "# Upper an lower edges of x probability intervals\n",
    "\n",
    "vhig = problim(vmean,CL)\n",
    "vlow = problim(vmean,1-CL)\n",
    "\n",
    "# Values of measured x (for Bayesian curve)\n",
    "\n",
    "vmeas = np.linspace(-2.,4.,61)\n",
    "\n",
    "vbay = np.empty(vmeas.size)\n",
    "\n",
    "for im in range(vmeas.size):\n",
    "    vbay[im] = bayeslim(vmeas[im],CL)\n"
   ]
  },
  {
   "cell_type": "markdown",
   "metadata": {},
   "source": [
    "### (3)  Print interval information"
   ]
  },
  {
   "cell_type": "code",
   "execution_count": 5,
   "metadata": {},
   "outputs": [
    {
     "name": "stdout",
     "output_type": "stream",
     "text": [
      "\n",
      "Upper Bayes limit for mu:\n",
      "\n",
      "  Measured x     mu_ul \n",
      "    -2.000      0.929 \n",
      "    -1.900      1.030 \n",
      "    -1.800      1.131 \n",
      "    -1.700      1.229 \n",
      "    -1.600      1.323 \n",
      "    -1.500      1.415 \n",
      "    -1.400      1.503 \n",
      "    -1.300      1.586 \n",
      "    -1.200      1.665 \n",
      "    -1.100      1.741 \n",
      "    -1.000      1.812 \n",
      "    -0.900      1.880 \n",
      "    -0.800      1.945 \n",
      "    -0.700      2.010 \n",
      "    -0.600      2.074 \n",
      "    -0.500      2.137 \n",
      "    -0.400      2.201 \n",
      "    -0.300      2.266 \n",
      "    -0.200      2.335 \n",
      "    -0.100      2.404 \n",
      "     0.000      2.477 \n",
      "     0.100      2.551 \n",
      "     0.200      2.630 \n",
      "     0.300      2.711 \n",
      "     0.400      2.797 \n",
      "     0.500      2.883 \n",
      "     0.600      2.974 \n",
      "     0.700      3.068 \n",
      "     0.800      3.163 \n",
      "     0.900      3.258 \n",
      "     1.000      3.357 \n",
      "     1.100      3.458 \n",
      "     1.200      3.560 \n",
      "     1.300      3.663 \n",
      "     1.400      3.766 \n",
      "     1.500      3.869 \n",
      "     1.600      3.973 \n",
      "     1.700      4.078 \n",
      "     1.800      4.181 \n",
      "     1.900      4.283 \n",
      "     2.000      4.389 \n",
      "     2.100      4.491 \n",
      "     2.200      4.594 \n",
      "     2.300      4.698 \n",
      "     2.400      4.800 \n",
      "     2.500      4.899 \n",
      "     2.600      5.002 \n",
      "     2.700      5.102 \n",
      "     2.800      5.202 \n",
      "     2.900      5.306 \n",
      "     3.000      5.403 \n",
      "     3.100      5.505 \n",
      "     3.200      5.607 \n",
      "     3.300      5.703 \n",
      "     3.400      5.803 \n",
      "     3.500      5.904 \n",
      "     3.600      6.004 \n",
      "     3.700      6.105 \n",
      "     3.800      6.205 \n",
      "     3.900      6.305 \n",
      "     4.000      6.406 \n"
     ]
    }
   ],
   "source": [
    "print(\"\\nUpper Bayes limit for mu:\")\n",
    "\n",
    "print(\"\\n  Measured x     mu_ul \")\n",
    "\n",
    "for im in range(vmeas.size) :\n",
    "    print (\"%10.3f   %8.3f \" % (vmeas[im],vbay[im]))\n"
   ]
  },
  {
   "cell_type": "markdown",
   "metadata": {},
   "source": [
    "### (4) Draw probability intervals"
   ]
  },
  {
   "cell_type": "code",
   "execution_count": 6,
   "metadata": {},
   "outputs": [
    {
     "data": {
      "image/png": "[encoded data removed]",
      "text/plain": [
       "<Figure size 576x576 with 1 Axes>"
      ]
     },
     "metadata": {
      "needs_background": "light"
     },
     "output_type": "display_data"
    }
   ],
   "source": [
    "# Plot ranges\n",
    "\n",
    "Xmin=-2\n",
    "Xmax=4\n",
    "Ymin=0\n",
    "Ymax=6\n",
    "\n",
    "\n",
    "plt.figure(figsize=(8, 8))\n",
    "\n",
    "plt.hlines(vmean,vlow,vhig,color='lightgreen',linewidth=5)\n",
    "\n",
    "plt.plot(vmeas,vbay,'-',color='blue')\n",
    "\n",
    "plt.title(\"Confidence intervals\",size=24)\n",
    "plt.xlabel(\"Measured mean x\",size=24)\n",
    "plt.ylabel(\"True mean $\\mu$\",size=24)\n",
    "plt.xticks(fontsize=20)\n",
    "plt.yticks(fontsize=20)\n",
    "plt.xlim([Xmin,Xmax])\n",
    "plt.ylim([Ymin,Ymax])\n",
    "plt.grid(which='major', axis='both')\n",
    "\n",
    "\n",
    "fname = '07_gauss_bayes2.png'\n",
    "plt.savefig(fname)\n"
   ]
  },
  {
   "cell_type": "markdown",
   "metadata": {},
   "source": [
    "### (5) Hypothetical measurement"
   ]
  },
  {
   "cell_type": "code",
   "execution_count": 7,
   "metadata": {},
   "outputs": [
    {
     "name": "stdout",
     "output_type": "stream",
     "text": [
      "Upper limit : 1.1307\n"
     ]
    }
   ],
   "source": [
    "Xm = -1.8\n",
    "\n",
    "# Look for limit point in the probability interval tables\n",
    "\n",
    "iul = np.argmax(Xm < vmeas)\n",
    "\n",
    "# Interpolate between points for higher precision (linear interpolation)\n",
    "\n",
    "frac = (Xm-vmeas[iul-1])/(vmeas[iul]-vmeas[iul-1])\n",
    "ul=frac*vbay[iul]+(1-frac)*vbay[iul-1]\n",
    "print('Upper limit : %.4f' % (ul))\n"
   ]
  },
  {
   "cell_type": "code",
   "execution_count": null,
   "metadata": {},
   "outputs": [],
   "source": []
  }
 ],
 "metadata": {
  "kernelspec": {
   "display_name": "Python 3",
   "language": "python",
   "name": "python3"
  },
  "language_info": {
   "codemirror_mode": {
    "name": "ipython",
    "version": 3
   },
   "file_extension": ".py",
   "mimetype": "text/x-python",
   "name": "python",
   "nbconvert_exporter": "python",
   "pygments_lexer": "ipython3",
   "version": "3.9.7"
  }
 },
 "nbformat": 4,
 "nbformat_minor": 4
}
