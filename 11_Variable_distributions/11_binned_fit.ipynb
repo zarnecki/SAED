{
 "cells": [
  {
   "cell_type": "markdown",
   "metadata": {
    "tags": []
   },
   "source": [
    "# Binned $\\chi^2$ fit example\n",
    "Author: Aleksander Filip Żarnecki (University of Warsaw)"
   ]
  },
  {
   "cell_type": "markdown",
   "metadata": {
    "tags": []
   },
   "source": [
    "### (0) Import libraries "
   ]
  },
  {
   "cell_type": "code",
   "execution_count": 1,
   "metadata": {},
   "outputs": [],
   "source": [
    "import math\n",
    "import numpy as np\n",
    "import matplotlib.pyplot as plt"
   ]
  },
  {
   "cell_type": "markdown",
   "metadata": {
    "tags": []
   },
   "source": [
    "### (1) Define fit model"
   ]
  },
  {
   "cell_type": "code",
   "execution_count": 2,
   "metadata": {},
   "outputs": [],
   "source": [
    "tmax = 100\n",
    "\n",
    "# Exponential decay + uniform background\n",
    "\n",
    "def myfun(x,par):\n",
    "\n",
    "    # decay time\n",
    "    \n",
    "    tdec = par[0]\n",
    "    \n",
    "    # Decay normalisation\n",
    "    \n",
    "    ndec = par[1]\n",
    "\n",
    "    # Background normalisation\n",
    "    \n",
    "    nbg = par[2]\n",
    "    \n",
    "    # Exponential probability distribution\n",
    "    \n",
    "    val = ndec/tdec * np.exp(-x/tdec)\n",
    "\n",
    "    # Add constant term\n",
    "    \n",
    "    val += nbg \n",
    "\n",
    "    return val\n",
    "\n",
    "# Full model: returns values and derivatives\n",
    "\n",
    "def myfunder(x,par):\n",
    "\n",
    "    # output arrays\n",
    "    \n",
    "    val = np.zeros(x.size)\n",
    "    der = np.zeros((x.size,3))\n",
    "\n",
    "    # decay time\n",
    "    \n",
    "    tdec = par[0]\n",
    "    \n",
    "    # Decay normalisation\n",
    "    \n",
    "    ndec = par[1]\n",
    "\n",
    "    # Background normalisation\n",
    "    \n",
    "    nbg = par[2]\n",
    "    \n",
    "    # Exponential probability distribution\n",
    "    \n",
    "    val = 1/tdec * np.exp(-x/tdec)\n",
    "\n",
    "    der[:,0] = ndec*val*(x-tdec)/tdec/tdec\n",
    "    \n",
    "    der[:,1] = val\n",
    "    \n",
    "    der[:,2] =  1.\n",
    "    \n",
    "    val = ndec*val + nbg\n",
    "\n",
    "    return val,der\n",
    "\n",
    "# myfunder(np.array([0.,1.,2.,3.,4.,5.,6.,7.]),np.array([2.2,1000.,10.]))"
   ]
  },
  {
   "cell_type": "markdown",
   "metadata": {},
   "source": [
    "### (2) Read input data"
   ]
  },
  {
   "cell_type": "code",
   "execution_count": 3,
   "metadata": {},
   "outputs": [],
   "source": [
    "# Nevt = 100\n",
    "# infile = \"http://hep.fuw.edu.pl/u/zarnecki/saed23/11_example_data_\"+str(Nevt)+\".dat\"\n",
    "\n",
    "# Old data (as shown in lecture slides)\n",
    "\n",
    "Nevt = 10000\n",
    "infile = \"http://hep.fuw.edu.pl/u/zarnecki/saed22/10_example_data_\"+str(Nevt)+\".dat\"\n",
    "\n",
    "\n",
    "ttab = np.loadtxt(infile)"
   ]
  },
  {
   "cell_type": "code",
   "execution_count": 4,
   "metadata": {},
   "outputs": [],
   "source": [
    "# Create  histogram\n",
    "\n",
    "tmax = 100.\n",
    "Nbin = 100\n",
    "\n",
    "counts, bins = np.histogram(ttab,range=[0,tmax],bins=Nbin)\n",
    "\n",
    "xvec = bins[:Nbin] + bins[1]/2.\n",
    "yvec = counts\n",
    "\n",
    "# Poisson errors, add 1 to take bins with zero events into account\n",
    "\n",
    "svec = np.sqrt(yvec+1)\n",
    "s2vec = svec*svec\n"
   ]
  },
  {
   "cell_type": "markdown",
   "metadata": {},
   "source": [
    "### (3) Iterative fit"
   ]
  },
  {
   "cell_type": "code",
   "execution_count": 5,
   "metadata": {},
   "outputs": [
    {
     "name": "stdout",
     "output_type": "stream",
     "text": [
      "\n",
      "Iterative fit procedure starting from parameter values\n",
      "  [2.e+00 2.e+04 1.e+02]\n",
      "  chi^2 =  49553.969   chi^2/N = 495.53969 \n"
     ]
    }
   ],
   "source": [
    "# Number of function parameters to consider  (fixed for this model)\n",
    "\n",
    "Nfun = 3\n",
    "\n",
    "# Initial guess for parameters\n",
    "\n",
    "parini = np.zeros(Nfun)\n",
    "parini[0] = 2.\n",
    "parini[1] = 2.*Nevt\n",
    "parini[2] = 0.01*Nevt\n",
    "\n",
    "# Initial function vales\n",
    "\n",
    "# fini,dini = myfunder(xvec,parini) \n",
    "fini = myfun(xvec,parini) \n",
    "\n",
    "# Initial printout\n",
    "\n",
    "chi2ini = np.sum((yvec-fini)**2/s2vec)\n",
    "\n",
    "print(\"\\nIterative fit procedure starting from parameter values\")\n",
    "print(\" \",parini)\n",
    "print(\"  chi^2 =  %8.3f   chi^2/N = %8.5f \" % (chi2ini,chi2ini/xvec.size))"
   ]
  },
  {
   "cell_type": "code",
   "execution_count": 6,
   "metadata": {},
   "outputs": [
    {
     "name": "stdout",
     "output_type": "stream",
     "text": [
      "\n",
      "Iteration step  1  with lambda =  0.01\n",
      "  [2.26747602e+00 1.98597723e+04 1.49824345e+01]\n",
      "  chi^2 =  16580.043   chi^2/N = 170.92827 \n",
      "  distance to minimum:  33166.298900949776\n",
      "\n",
      "Iteration step  2  with lambda =  0.001\n",
      "  [2.31250803e+00 1.86123119e+04 1.48575197e+01]\n",
      "  chi^2 =  13262.159   chi^2/N = 136.72329 \n",
      "  distance to minimum:  1755.1927443985703\n",
      "\n",
      "Iteration step  3  with lambda =  0.0001\n",
      "  [2.29961473e+00 1.29024621e+04 1.68611500e+01]\n",
      "  chi^2 =  2880.168   chi^2/N = 29.69245 \n",
      "  distance to minimum:  7140.0560360355485\n",
      "\n",
      "Iteration step  4  with lambda =  1e-05\n",
      "  [2.26460395e+00 8.45668366e+03 1.84476297e+01]\n",
      "  chi^2 =   144.241   chi^2/N =  1.48702 \n",
      "  distance to minimum:  2553.304852306413\n",
      "\n",
      "Iteration step  5  with lambda =  1.0000000000000002e-06\n",
      "  [2.24084934e+00 8.08477085e+03 1.85787712e+01]\n",
      "  chi^2 =   127.088   chi^2/N =  1.31019 \n",
      "  distance to minimum:  17.33759072989749\n",
      "\n",
      "Iteration step  6  with lambda =  1.0000000000000002e-07\n",
      "  [2.23940586e+00 8.08166158e+03 1.85801409e+01]\n",
      "  chi^2 =   127.085   chi^2/N =  1.31015 \n",
      "  distance to minimum:  0.0036741243481439373\n",
      "\n",
      "Iteration step  7  with lambda =  1.0000000000000002e-08\n",
      "  [2.23938282e+00 8.08165560e+03 1.85801896e+01]\n",
      "  chi^2 =   127.085   chi^2/N =  1.31015 \n",
      "  distance to minimum:  6.56986748528793e-07\n"
     ]
    }
   ],
   "source": [
    "# Main loop\n",
    "\n",
    "lam = 0.01       # Low value -> jump close to minimum, high value -> smaller step along gradient\n",
    "\n",
    "dcut = 0.001   # Required precision (distance from minimum)\n",
    "\n",
    "chi2min = chi2ini\n",
    "parmin = parini\n",
    "\n",
    "par = parini\n",
    "Nit = 0\n",
    "\n",
    "Cov = np.zeros((Nfun,Nfun))\n",
    "\n",
    "dist = dcut+1\n",
    "\n",
    "while dist > dcut :\n",
    "\n",
    "    # work space\n",
    "    \n",
    "    A = np.zeros((Nfun,Nfun))\n",
    "    B = np.zeros(Nfun)\n",
    "\n",
    "    # Values and derivatives at the current point\n",
    "    \n",
    "    fval,fder = myfunder(xvec,par)\n",
    "    \n",
    "    dyvec = yvec-fval\n",
    "    \n",
    "    for l in range(Nfun):\n",
    "        B[l] = np.sum(fder[:,l]*dyvec/s2vec)\n",
    "        for k in range(Nfun):\n",
    "            A[l,k] = np.sum(fder[:,l]*fder[:,k]/s2vec)\n",
    "\n",
    "    # Do not try to jump directly to the maximum (lam = 0)\n",
    "\n",
    "    C = A\n",
    "    for l in range(Nfun):\n",
    "#        C[l,l] *= 1 + lam\n",
    "        C[l,l] += lam\n",
    "        \n",
    "    # Inverse of matrix\n",
    "\n",
    "    Cinv = np.linalg.inv(C)\n",
    "\n",
    "    # Solution to the problem - required parameter change\n",
    "\n",
    "    dpar = Cinv @ B\n",
    "\n",
    "    # Check new parameter values\n",
    "    \n",
    "    parnew = par+dpar\n",
    "\n",
    "    fnew = myfun(xvec,parnew) \n",
    "\n",
    "    chi2new = np.sum((yvec-fnew)**2/s2vec)\n",
    "\n",
    "    # Distance to minimum (assuming current errors)\n",
    "\n",
    "    Cov = np.linalg.inv(A)\n",
    "    e2par = np.diagonal(Cov)\n",
    "    dist = np.sum(dpar*dpar/e2par)\n",
    "    \n",
    "    Nit+=1\n",
    "    if chi2new < chi2min :\n",
    "        print(\"\\nIteration step \",Nit,\" with lambda = \",lam)\n",
    "        print(\" \",parnew)\n",
    "        print(\"  chi^2 =  %8.3f   chi^2/N = %8.5f \" % (chi2new,chi2new/(xvec.size-Nfun)))\n",
    "        print(\"  distance to minimum: \",dist)\n",
    "    \n",
    "        lam /= 10\n",
    "        chi2min = chi2new\n",
    "        par = parnew\n",
    "    else:\n",
    "        lam *= 10\n"
   ]
  },
  {
   "cell_type": "code",
   "execution_count": 7,
   "metadata": {},
   "outputs": [
    {
     "name": "stdout",
     "output_type": "stream",
     "text": [
      "\n",
      " Fit results:\n",
      "\n",
      "     par         sigma_p\n",
      "\n",
      "     2.239  +/-  0.029 \n",
      "  8081.656  +/- 91.865 \n",
      "    18.580  +/-  0.476 \n",
      "\n",
      " Correlation matrix\n",
      "\n",
      "[ 1.     0.05  -0.131]\n",
      "[ 0.05   1.    -0.067]\n",
      "[-0.131 -0.067  1.   ]\n",
      "\n",
      " chi^2 =   127.085   chi^2/Ndf =  1.31015 \n"
     ]
    }
   ],
   "source": [
    "# Parameter uncertainties \n",
    "# (assuming no need to recalculate Cov, even if there was a slight improvement in the last step)\n",
    "\n",
    "epar = np.sqrt(np.diagonal(Cov))\n",
    "\n",
    "print(\"\\n Fit results:\\n\\n     par         sigma_p\\n\")\n",
    "\n",
    "for ip in range(par.size):\n",
    "    print(\"  %8.3f  +/- %6.3f \" % (par[ip],epar[ip]))\n",
    "\n",
    "# Calculate correlation matrix, including rounding\n",
    "\n",
    "Corr = Cov\n",
    "\n",
    "print(\"\\n Correlation matrix\\n\")\n",
    "for ip in range(par.size):\n",
    "    for jp in range(par.size):\n",
    "        Corr[ip,jp]=int(1000.*Corr[ip,jp]/epar[ip]/epar[jp]+0.5)/1000.\n",
    "        \n",
    "    print(Corr[ip,:])\n",
    "\n",
    "# Fitted function\n",
    "\n",
    "fvec = myfun(xvec,par) \n",
    "\n",
    "# Chi^2 printout\n",
    "\n",
    "chi2 = np.sum((yvec-fvec)**2/s2vec)\n",
    "\n",
    "print(\"\\n chi^2 =  %8.3f   chi^2/Ndf = %8.5f \" % (chi2,chi2/(xvec.size-Nfun)))\n",
    "\n",
    "# print(\"\\n  x       y         f(x) \")\n",
    "# for ix in range(xvec.size):\n",
    "#     print(\"%6.3f  %8.5f  %8.5f \" % (xvec[ix],yvec[ix],fvec[ix]))"
   ]
  },
  {
   "cell_type": "markdown",
   "metadata": {
    "tags": []
   },
   "source": [
    "### (4) Draw data and fit"
   ]
  },
  {
   "cell_type": "code",
   "execution_count": 8,
   "metadata": {},
   "outputs": [
    {
     "data": {
      "image/png": "[encoded data removed]",
      "text/plain": [
       "<Figure size 648x432 with 1 Axes>"
      ]
     },
     "metadata": {
      "needs_background": "light"
     },
     "output_type": "display_data"
    }
   ],
   "source": [
    "Nf = 100\n",
    "xfun = np.linspace(0.,tmax,Nf)\n",
    "yfun = myfun(xfun,par)\n",
    "\n",
    "plt.figure(figsize=(9, 6))\n",
    "\n",
    "plt.hist(ttab,range=[0,tmax],bins=Nbin,log=True, histtype='step',linewidth=3)\n",
    "plt.plot(xfun,yfun,'r-')\n",
    "plt.xlim([0,tmax])\n",
    "\n",
    "plt.title('Binned $\\chi^2$ fit   Npar = {}    $\\chi^2$ = {:.2f} / {}        t = {:.3f} $\\pm$ {:.3f} $\\mu s$'.format(Nfun,chi2,xvec.size-Nfun,par[0],epar[0]),size=16)\n",
    "plt.ylabel('Counts',size=20)\n",
    "plt.xlabel('Time [$\\mu s$]',size=20)\n",
    "\n",
    "plt.xticks(fontsize=18)\n",
    "plt.yticks(fontsize=18)\n",
    "plt.grid(which='major', axis='both')\n",
    "\n",
    "\n",
    "fname = '11_binned_fit_'+str(Nevt)+'_'+str(Nbin)+'.png'\n",
    "plt.savefig(fname)"
   ]
  },
  {
   "cell_type": "code",
   "execution_count": null,
   "metadata": {},
   "outputs": [],
   "source": []
  }
 ],
 "metadata": {
  "kernelspec": {
   "display_name": "Python 3",
   "language": "python",
   "name": "python3"
  },
  "language_info": {
   "codemirror_mode": {
    "name": "ipython",
    "version": 3
   },
   "file_extension": ".py",
   "mimetype": "text/x-python",
   "name": "python",
   "nbconvert_exporter": "python",
   "pygments_lexer": "ipython3",
   "version": "3.9.7"
  }
 },
 "nbformat": 4,
 "nbformat_minor": 4
}
