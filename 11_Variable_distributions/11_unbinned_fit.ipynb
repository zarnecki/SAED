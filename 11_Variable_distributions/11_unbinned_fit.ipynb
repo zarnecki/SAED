{
 "cells": [
  {
   "cell_type": "markdown",
   "metadata": {
    "tags": []
   },
   "source": [
    "# Unbinned likelihood fit example\n",
    "Author: Aleksander Filip Żarnecki (University of Warsaw)"
   ]
  },
  {
   "cell_type": "markdown",
   "metadata": {
    "tags": []
   },
   "source": [
    "### (0) Import libraries "
   ]
  },
  {
   "cell_type": "code",
   "execution_count": 1,
   "metadata": {},
   "outputs": [],
   "source": [
    "import math\n",
    "import numpy as np\n",
    "import matplotlib.pyplot as plt"
   ]
  },
  {
   "cell_type": "markdown",
   "metadata": {
    "tags": []
   },
   "source": [
    "### (1) Define fit model"
   ]
  },
  {
   "cell_type": "code",
   "execution_count": 2,
   "metadata": {},
   "outputs": [],
   "source": [
    "tmax = 100\n",
    "\n",
    "# Exponential decay + uniform background\n",
    "\n",
    "def myfun(x,par):\n",
    "\n",
    "    # decay time\n",
    "    \n",
    "    tdec = par[0]\n",
    "    \n",
    "    # Decay fraction\n",
    "    \n",
    "    fdec = par[1]\n",
    "\n",
    "    # Exponential probability distribution\n",
    "    \n",
    "    val = fdec/tdec * np.exp(-x/tdec)\n",
    "\n",
    "    # Add constant term\n",
    "    \n",
    "    val += (1-fdec)* 1./tmax\n",
    "\n",
    "    return val\n",
    "\n",
    "# Full model: returns values and derivatives\n",
    "\n",
    "def myfunder(x,par):\n",
    "\n",
    "    # output arrays\n",
    "    \n",
    "    val = np.zeros(x.size)\n",
    "    der = np.zeros((x.size,2))\n",
    "\n",
    "    # decay time\n",
    "    \n",
    "    tdec = par[0]\n",
    "    \n",
    "    # Decay fraction\n",
    "    \n",
    "    fdec = par[1]\n",
    "\n",
    "    # Exponential probability distribution\n",
    "    \n",
    "    val = 1/tdec * np.exp(-x/tdec)\n",
    "\n",
    "    der[:,0] = val*(x-tdec)/tdec/tdec\n",
    "    \n",
    "    # Take background fraction into account\n",
    "    \n",
    "    der[:0] *= fdec\n",
    "    \n",
    "    der[:,1] = val - 1./tmax\n",
    "    \n",
    "    val = fdec*val + (1-fdec)* 1./tmax\n",
    "\n",
    "    return val,der\n"
   ]
  },
  {
   "cell_type": "markdown",
   "metadata": {},
   "source": [
    "### (2) Read input data"
   ]
  },
  {
   "cell_type": "code",
   "execution_count": 3,
   "metadata": {},
   "outputs": [],
   "source": [
    "# Read background fit output\n",
    "\n",
    "# Nevt = 100\n",
    "# infile = \"http://hep.fuw.edu.pl/u/zarnecki/saed23/11_example_data_\"+str(Nevt)+\".dat\"\n",
    "\n",
    "# Old data (as shown in lecture slides)\n",
    "\n",
    "Nevt = 100\n",
    "infile = \"http://hep.fuw.edu.pl/u/zarnecki/saed22/10_example_data_\"+str(Nevt)+\".dat\"\n",
    "\n",
    "\n",
    "xvec = np.loadtxt(infile)"
   ]
  },
  {
   "cell_type": "code",
   "execution_count": 4,
   "metadata": {},
   "outputs": [],
   "source": [
    "# Histogram for display\n",
    "\n",
    "tmax = 100.\n",
    "Nbin = 100"
   ]
  },
  {
   "cell_type": "markdown",
   "metadata": {},
   "source": [
    "### (3) Iterative fit"
   ]
  },
  {
   "cell_type": "code",
   "execution_count": 5,
   "metadata": {},
   "outputs": [
    {
     "name": "stdout",
     "output_type": "stream",
     "text": [
      "\n",
      "Iterative fit procedure starting from parameter values\n",
      "  [2.   0.99]\n",
      "  LL =  -323.821   LL/N = -3.23821 \n"
     ]
    }
   ],
   "source": [
    "# Number of function parameters to consider  (fixed for this model)\n",
    "\n",
    "Nfun = 2\n",
    "\n",
    "# Initial guess for parameters\n",
    "\n",
    "parini = np.zeros(Nfun)\n",
    "parini[0] = 2.\n",
    "parini[1] = 0.99\n",
    "\n",
    "# Initial function vales\n",
    "\n",
    "# fini,dini = myfunder(xvec,parini) \n",
    "fini = myfun(xvec,parini) \n",
    "\n",
    "# Initial printout\n",
    "\n",
    "loglini = np.sum(np.log(fini))\n",
    "\n",
    "print(\"\\nIterative fit procedure starting from parameter values\")\n",
    "print(\" \",parini)\n",
    "print(\"  LL =  %8.3f   LL/N = %8.5f \" % (loglini,loglini/xvec.size))"
   ]
  },
  {
   "cell_type": "code",
   "execution_count": 6,
   "metadata": {},
   "outputs": [
    {
     "name": "stdout",
     "output_type": "stream",
     "text": [
      "\n",
      "Iteration step  1  with lambda =  0.01\n",
      "  [2.20652822 0.98035806]\n",
      "  LL =  -310.964   LL = -3.17310 \n",
      "  distance to minimum:  18.256760017154143\n",
      "\n",
      "Iteration step  2  with lambda =  0.001\n",
      "  [2.27697261 0.96200322]\n",
      "  LL =  -299.852   LL = -3.05971 \n",
      "  distance to minimum:  16.055809095213057\n",
      "\n",
      "Iteration step  3  with lambda =  0.0001\n",
      "  [2.25641675 0.92926082]\n",
      "  LL =  -290.576   LL = -2.96506 \n",
      "  distance to minimum:  13.733304978656628\n",
      "\n",
      "Iteration step  4  with lambda =  1e-05\n",
      "  [2.2097543  0.87854167]\n",
      "  LL =  -284.214   LL = -2.90014 \n",
      "  distance to minimum:  9.781356684965749\n",
      "\n",
      "Iteration step  5  with lambda =  1.0000000000000002e-06\n",
      "  [2.16209    0.82068906]\n",
      "  LL =  -281.461   LL = -2.87206 \n",
      "  distance to minimum:  4.5619373663437885\n",
      "\n",
      "Iteration step  6  with lambda =  1.0000000000000002e-07\n",
      "  [2.13223718 0.78624113]\n",
      "  LL =  -281.023   LL = -2.86758 \n",
      "  distance to minimum:  0.8202896476635467\n",
      "\n",
      "Iteration step  7  with lambda =  1.0000000000000002e-08\n",
      "  [2.12371085 0.78020073]\n",
      "  LL =  -281.013   LL = -2.86748 \n",
      "  distance to minimum:  0.020169579915755482\n",
      "\n",
      "Iteration step  8  with lambda =  1.0000000000000003e-09\n",
      "  [2.1221833  0.78008383]\n",
      "  LL =  -281.013   LL = -2.86748 \n",
      "  distance to minimum:  5.591395878597832e-05\n"
     ]
    }
   ],
   "source": [
    "# Main loop\n",
    "\n",
    "lam = 0.01       # Low value -> jump close to minimum, high value -> smaller step along gradient\n",
    "\n",
    "dcut = 0.001   # Required precision (distance from minimum)\n",
    "\n",
    "loglmin = loglini\n",
    "parmin = parini\n",
    "\n",
    "par = parini\n",
    "\n",
    "Nit = 0\n",
    "\n",
    "Cov = np.zeros((Nfun,Nfun))\n",
    "\n",
    "dist = dcut+1\n",
    "\n",
    "while dist > dcut :\n",
    "\n",
    "    # work space\n",
    "    \n",
    "    A = np.zeros((Nfun,Nfun))\n",
    "    B = np.zeros(Nfun)\n",
    "\n",
    "    # Values and derivatives at the current point\n",
    "    \n",
    "    fval,fder = myfunder(xvec,par)\n",
    "    \n",
    "    for l in range(Nfun):\n",
    "        B[l] = np.sum(fder[:,l]/fval)\n",
    "        for k in range(Nfun):\n",
    "            A[l,k] = np.sum(fder[:,l]*fder[:,k]/fval/fval)\n",
    "\n",
    "    # Do not try to jump directly to the maximum (lam = 0)\n",
    "\n",
    "    C = A\n",
    "    for l in range(Nfun):\n",
    "#        C[l,l] *= 1 + lam\n",
    "        C[l,l] += lam\n",
    "        \n",
    "    # Inverse of matrix\n",
    "\n",
    "    Cinv = np.linalg.inv(C)\n",
    "\n",
    "    # Solution to the problem - required parameter change\n",
    "\n",
    "    dpar = Cinv @ B\n",
    "\n",
    "    # Check new parameter values\n",
    "    \n",
    "    parnew = par+dpar\n",
    "\n",
    "    fnew = myfun(xvec,parnew) \n",
    "\n",
    "    loglnew = np.sum(np.log(fnew))\n",
    "\n",
    "    # Distance to minimum (assuming current errors)\n",
    "\n",
    "    Cov = np.linalg.inv(A)\n",
    "    e2par = np.diagonal(Cov)\n",
    "    dist = np.sum(dpar*dpar/e2par)\n",
    "    \n",
    "    Nit+=1\n",
    "    print(\"\\nIteration step \",Nit,\" with lambda = \",lam)\n",
    "    print(\" \",parnew)\n",
    "    print(\"  LL =  %8.3f   LL = %8.5f \" % (loglnew,loglnew/(xvec.size-Nfun)))\n",
    "    print(\"  distance to minimum: \",dist)\n",
    "    \n",
    "    if loglnew > loglmin :\n",
    "        lam /= 10\n",
    "        loglmin = loglnew\n",
    "        par = parnew\n",
    "    else:\n",
    "        lam *= 10\n"
   ]
  },
  {
   "cell_type": "code",
   "execution_count": 7,
   "metadata": {},
   "outputs": [
    {
     "name": "stdout",
     "output_type": "stream",
     "text": [
      "\n",
      " Fit results:\n",
      "\n",
      "     par         sigma_p\n",
      "\n",
      "     2.122  +/-  0.218 \n",
      "     0.780  +/-  0.045 \n",
      "\n",
      " Correlation matrix\n",
      "\n",
      "[1.    0.148]\n",
      "[0.148 1.   ]\n",
      "\n",
      " LL =  -281.013   LL/Ndf = -2.86748 \n"
     ]
    }
   ],
   "source": [
    "# Parameter uncertainties \n",
    "# (assuming no need to recalculate Cov, even if there was a slight improvement in the last step)\n",
    "\n",
    "epar = np.sqrt(np.diagonal(Cov))\n",
    "\n",
    "print(\"\\n Fit results:\\n\\n     par         sigma_p\\n\")\n",
    "\n",
    "for ip in range(par.size):\n",
    "    print(\"  %8.3f  +/- %6.3f \" % (par[ip],epar[ip]))\n",
    "\n",
    "# Calculate correlation matrix, including rounding\n",
    "\n",
    "Corr = Cov\n",
    "\n",
    "print(\"\\n Correlation matrix\\n\")\n",
    "for ip in range(par.size):\n",
    "    for jp in range(par.size):\n",
    "        Corr[ip,jp]=int(1000.*Corr[ip,jp]/epar[ip]/epar[jp]+0.5)/1000.\n",
    "        \n",
    "    print(Corr[ip,:])\n",
    "\n",
    "# Fitted function\n",
    "\n",
    "fvec = myfun(xvec,par) \n",
    "\n",
    "# Chi^2 printout\n",
    "\n",
    "logl = np.sum(np.log(fvec))\n",
    "\n",
    "print(\"\\n LL =  %8.3f   LL/Ndf = %8.5f \" % (logl,logl/(xvec.size-Nfun)))\n",
    "\n",
    "# print(\"\\n  x       y         f(x) \")\n",
    "# for ix in range(xvec.size):\n",
    "#     print(\"%6.3f  %8.5f  %8.5f \" % (xvec[ix],yvec[ix],fvec[ix]))"
   ]
  },
  {
   "cell_type": "markdown",
   "metadata": {
    "tags": []
   },
   "source": [
    "### (4) Draw data and fit"
   ]
  },
  {
   "cell_type": "code",
   "execution_count": 8,
   "metadata": {},
   "outputs": [
    {
     "ename": "NameError",
     "evalue": "name 'ttab' is not defined",
     "output_type": "error",
     "traceback": [
      "\u001b[0;31m---------------------------------------------------------------------------\u001b[0m",
      "\u001b[0;31mNameError\u001b[0m                                 Traceback (most recent call last)",
      "\u001b[0;32m<ipython-input-8-a77d4879d8b4>\u001b[0m in \u001b[0;36m<module>\u001b[0;34m\u001b[0m\n\u001b[1;32m     25\u001b[0m \u001b[0mplt\u001b[0m\u001b[0;34m.\u001b[0m\u001b[0mfigure\u001b[0m\u001b[0;34m(\u001b[0m\u001b[0mfigsize\u001b[0m\u001b[0;34m=\u001b[0m\u001b[0;34m(\u001b[0m\u001b[0;36m9\u001b[0m\u001b[0;34m,\u001b[0m \u001b[0;36m6\u001b[0m\u001b[0;34m)\u001b[0m\u001b[0;34m)\u001b[0m\u001b[0;34m\u001b[0m\u001b[0;34m\u001b[0m\u001b[0m\n\u001b[1;32m     26\u001b[0m \u001b[0;34m\u001b[0m\u001b[0m\n\u001b[0;32m---> 27\u001b[0;31m \u001b[0mplt\u001b[0m\u001b[0;34m.\u001b[0m\u001b[0mhist\u001b[0m\u001b[0;34m(\u001b[0m\u001b[0mttab\u001b[0m\u001b[0;34m,\u001b[0m\u001b[0mrange\u001b[0m\u001b[0;34m=\u001b[0m\u001b[0;34m[\u001b[0m\u001b[0;36m0\u001b[0m\u001b[0;34m,\u001b[0m\u001b[0mtmax\u001b[0m\u001b[0;34m]\u001b[0m\u001b[0;34m,\u001b[0m\u001b[0mbins\u001b[0m\u001b[0;34m=\u001b[0m\u001b[0mNbin\u001b[0m\u001b[0;34m,\u001b[0m\u001b[0mlog\u001b[0m\u001b[0;34m=\u001b[0m\u001b[0;32mTrue\u001b[0m\u001b[0;34m,\u001b[0m \u001b[0mhisttype\u001b[0m\u001b[0;34m=\u001b[0m\u001b[0;34m'step'\u001b[0m\u001b[0;34m,\u001b[0m\u001b[0mlinewidth\u001b[0m\u001b[0;34m=\u001b[0m\u001b[0;36m3\u001b[0m\u001b[0;34m)\u001b[0m\u001b[0;34m\u001b[0m\u001b[0;34m\u001b[0m\u001b[0m\n\u001b[0m\u001b[1;32m     28\u001b[0m \u001b[0mplt\u001b[0m\u001b[0;34m.\u001b[0m\u001b[0mplot\u001b[0m\u001b[0;34m(\u001b[0m\u001b[0mxfun\u001b[0m\u001b[0;34m,\u001b[0m\u001b[0myfun\u001b[0m\u001b[0;34m,\u001b[0m\u001b[0;34m'r-'\u001b[0m\u001b[0;34m)\u001b[0m\u001b[0;34m\u001b[0m\u001b[0;34m\u001b[0m\u001b[0m\n\u001b[1;32m     29\u001b[0m \u001b[0mplt\u001b[0m\u001b[0;34m.\u001b[0m\u001b[0mxlim\u001b[0m\u001b[0;34m(\u001b[0m\u001b[0;34m[\u001b[0m\u001b[0;36m0\u001b[0m\u001b[0;34m,\u001b[0m\u001b[0mtmax\u001b[0m\u001b[0;34m]\u001b[0m\u001b[0;34m)\u001b[0m\u001b[0;34m\u001b[0m\u001b[0;34m\u001b[0m\u001b[0m\n",
      "\u001b[0;31mNameError\u001b[0m: name 'ttab' is not defined"
     ]
    },
    {
     "data": {
      "text/plain": [
       "<Figure size 648x432 with 0 Axes>"
      ]
     },
     "metadata": {},
     "output_type": "display_data"
    }
   ],
   "source": [
    "# Fitted dependence wraper\n",
    "\n",
    "def myfit(fx, fpar):\n",
    "    \n",
    "    tdec = fpar[0]\n",
    "    fdec = fpar[1]\n",
    "\n",
    "    # Exponential probability distribution\n",
    "    \n",
    "    fval = fdec/tdec * np.exp(-fx/tdec)\n",
    "\n",
    "    # Add constant term\n",
    "    \n",
    "    fval += (1-fdec)/tmax\n",
    "    \n",
    "    # Normalization\n",
    "    \n",
    "    return Nevt*tmax/Nbin*fval\n",
    "\n",
    "\n",
    "Nf = 100\n",
    "xfun = np.linspace(0.,tmax,Nf)\n",
    "yfun = myfit(xfun,par)\n",
    "\n",
    "plt.figure(figsize=(9, 6))\n",
    "\n",
    "plt.hist(ttab,range=[0,tmax],bins=Nbin,log=True, histtype='step',linewidth=3)\n",
    "plt.plot(xfun,yfun,'r-')\n",
    "plt.xlim([0,tmax])\n",
    "\n",
    "plt.title('Binned LL fit   Npar = {}    LL = {:.2f} / {}        t = {:.3f} $\\pm$ {:.3f} $\\mu s$'.format(Nfun,logl,xvec.size-Nfun,par[0],epar[0]),size=16)\n",
    "plt.ylabel('Counts',size=20)\n",
    "plt.xlabel('Time [$\\mu s$]',size=20)\n",
    "\n",
    "plt.xticks(fontsize=18)\n",
    "plt.yticks(fontsize=18)\n",
    "plt.grid(which='major', axis='both')\n",
    "\n",
    "\n",
    "fname = '11_unbinned_fit_'+str(Nevt)+'_'+str(Nbin)+'.png'\n",
    "plt.savefig(fname)"
   ]
  },
  {
   "cell_type": "code",
   "execution_count": null,
   "metadata": {},
   "outputs": [],
   "source": []
  }
 ],
 "metadata": {
  "kernelspec": {
   "display_name": "Python 3",
   "language": "python",
   "name": "python3"
  },
  "language_info": {
   "codemirror_mode": {
    "name": "ipython",
    "version": 3
   },
   "file_extension": ".py",
   "mimetype": "text/x-python",
   "name": "python",
   "nbconvert_exporter": "python",
   "pygments_lexer": "ipython3",
   "version": "3.9.7"
  }
 },
 "nbformat": 4,
 "nbformat_minor": 4
}
