{
 "cells": [
  {
   "cell_type": "markdown",
   "metadata": {
    "tags": []
   },
   "source": [
    "# Binned likelihood fit example\n",
    "Author: Aleksander Filip Żarnecki (University of Warsaw)"
   ]
  },
  {
   "cell_type": "markdown",
   "metadata": {
    "tags": []
   },
   "source": [
    "### (0) Import libraries "
   ]
  },
  {
   "cell_type": "code",
   "execution_count": 1,
   "metadata": {},
   "outputs": [],
   "source": [
    "import math\n",
    "import numpy as np\n",
    "import matplotlib.pyplot as plt"
   ]
  },
  {
   "cell_type": "markdown",
   "metadata": {
    "tags": []
   },
   "source": [
    "### (1) Define fit model"
   ]
  },
  {
   "cell_type": "code",
   "execution_count": 2,
   "metadata": {},
   "outputs": [],
   "source": [
    "tmax = 100\n",
    "\n",
    "# Exponential decay + uniform background\n",
    "\n",
    "def myfun(x,par):\n",
    "\n",
    "    # decay time\n",
    "    \n",
    "    tdec = par[0]\n",
    "    \n",
    "    # Decay normalisation\n",
    "    \n",
    "    ndec = par[1]\n",
    "\n",
    "    # Background normalisation\n",
    "    \n",
    "    nbg = par[2]\n",
    "    \n",
    "    # Exponential probability distribution\n",
    "    \n",
    "    val = ndec/tdec * np.exp(-x/tdec)\n",
    "\n",
    "    # Add constant term\n",
    "    \n",
    "    val += nbg \n",
    "\n",
    "    return val\n",
    "\n",
    "# Full model: returns values and derivatives\n",
    "\n",
    "def myfunder(x,par):\n",
    "\n",
    "    # output arrays\n",
    "    \n",
    "    val = np.zeros(x.size)\n",
    "    der = np.zeros((x.size,3))\n",
    "\n",
    "    # decay time\n",
    "    \n",
    "    tdec = par[0]\n",
    "    \n",
    "    # Decay normalisation\n",
    "    \n",
    "    ndec = par[1]\n",
    "\n",
    "    # Background normalisation\n",
    "    \n",
    "    nbg = par[2]\n",
    "    \n",
    "    # Exponential probability distribution\n",
    "    \n",
    "    val = 1/tdec * np.exp(-x/tdec)\n",
    "\n",
    "    der[:,0] = ndec*val*(x-tdec)/tdec/tdec\n",
    "    \n",
    "    der[:,1] = val\n",
    "    \n",
    "    der[:,2] =  1.\n",
    "    \n",
    "    val = ndec*val + nbg\n",
    "\n",
    "    return val,der\n",
    "\n",
    "# myfunder(np.array([0.,1.,2.,3.,4.,5.,6.,7.]),np.array([2.2,1000.,10.]))"
   ]
  },
  {
   "cell_type": "markdown",
   "metadata": {},
   "source": [
    "### (2) Read input data"
   ]
  },
  {
   "cell_type": "code",
   "execution_count": 3,
   "metadata": {},
   "outputs": [],
   "source": [
    "# Nevt = 100\n",
    "# infile = \"http://hep.fuw.edu.pl/u/zarnecki/saed23/11_example_data_\"+str(Nevt)+\".dat\"\n",
    "\n",
    "# Old data (as shown in lecture slides)\n",
    "\n",
    "Nevt = 10000\n",
    "infile = \"http://hep.fuw.edu.pl/u/zarnecki/saed22/10_example_data_\"+str(Nevt)+\".dat\"\n",
    "\n",
    "\n",
    "ttab = np.loadtxt(infile)"
   ]
  },
  {
   "cell_type": "code",
   "execution_count": 4,
   "metadata": {},
   "outputs": [],
   "source": [
    "# Create  histogram\n",
    "\n",
    "tmax = 100.\n",
    "Nbin = 100\n",
    "\n",
    "counts, bins = np.histogram(ttab,range=[0,tmax],bins=Nbin)\n",
    "\n",
    "xvec = bins[:Nbin] + bins[1]/2.\n",
    "yvec = counts\n"
   ]
  },
  {
   "cell_type": "markdown",
   "metadata": {},
   "source": [
    "### (3) Iterative fit"
   ]
  },
  {
   "cell_type": "code",
   "execution_count": 5,
   "metadata": {},
   "outputs": [
    {
     "name": "stdout",
     "output_type": "stream",
     "text": [
      "\n",
      "Iterative fit procedure starting from parameter values\n",
      "  [2.e+00 2.e+04 1.e+02]\n",
      "  LL = 45113.367   LL/Ndf = 451.13367 \n"
     ]
    }
   ],
   "source": [
    "# Number of function parameters to consider  (fixed for this model)\n",
    "\n",
    "Nfun = 3\n",
    "\n",
    "# Initial guess for parameters\n",
    "\n",
    "parini = np.zeros(Nfun)\n",
    "parini[0] = 2.\n",
    "parini[1] = 2.*Nevt\n",
    "parini[2] = 0.01*Nevt\n",
    "\n",
    "# Initial function vales\n",
    "\n",
    "# fini,dini = myfunder(xvec,parini) \n",
    "fini = myfun(xvec,parini) \n",
    "\n",
    "# Initial printout\n",
    "\n",
    "loglini = np.sum(yvec*np.log(fini)-fini)\n",
    "\n",
    "print(\"\\nIterative fit procedure starting from parameter values\")\n",
    "print(\" \",parini)\n",
    "print(\"  LL = %8.3f   LL/Ndf = %8.5f \" % (loglini,loglini/xvec.size))"
   ]
  },
  {
   "cell_type": "code",
   "execution_count": 6,
   "metadata": {},
   "outputs": [
    {
     "name": "stdout",
     "output_type": "stream",
     "text": [
      "\n",
      "Iteration step  3  with lambda =  1.0\n",
      "  [2.1594612e+00 1.9999410e+04 3.4495713e+01]\n",
      "  LL =  49461.995   LL/Ndf = 509.91747 \n",
      "  distance to minimum:  5111.097246367396\n",
      "\n",
      "Iteration step  5  with lambda =  1.0\n",
      "  [2.28727020e+00 1.99988271e+04 1.63064588e+01]\n",
      "  LL =  49899.734   LL/Ndf = 514.43025 \n",
      "  distance to minimum:  830.8458968653866\n",
      "\n",
      "Iteration step  6  with lambda =  0.1\n",
      "  [2.32102687e+00 1.99930066e+04 1.77847741e+01]\n",
      "  LL =  49912.185   LL/Ndf = 514.55861 \n",
      "  distance to minimum:  18.78093752733166\n",
      "\n",
      "Iteration step  7  with lambda =  0.01\n",
      "  [2.32932559e+00 1.99349272e+04 1.79506556e+01]\n",
      "  LL =  49946.094   LL/Ndf = 514.90819 \n",
      "  distance to minimum:  34.03882332197936\n",
      "\n",
      "Iteration step  8  with lambda =  0.001\n",
      "  [2.33005517e+00 1.93656899e+04 1.79923295e+01]\n",
      "  LL =  50273.350   LL/Ndf = 518.28196 \n",
      "  distance to minimum:  330.6114083253749\n",
      "\n",
      "Iteration step  9  with lambda =  0.0001\n",
      "  [2.31866259e+00 1.46821690e+04 1.83684135e+01]\n",
      "  LL =  52656.696   LL/Ndf = 542.85254 \n",
      "  distance to minimum:  2665.359205068748\n",
      "\n",
      "Iteration step  10  with lambda =  1e-05\n",
      "  [2.25591662e+00 5.38285443e+03 1.96656394e+01]\n",
      "  LL =  53816.803   LL/Ndf = 554.81240 \n",
      "  distance to minimum:  4076.708705905554\n",
      "\n",
      "Iteration step  11  with lambda =  1.0000000000000002e-06\n",
      "  [2.25501122e+00 7.19023352e+03 1.99389127e+01]\n",
      "  LL =  54326.068   LL/Ndf = 560.06255 \n",
      "  distance to minimum:  847.0591413520212\n",
      "\n",
      "Iteration step  12  with lambda =  1.0000000000000002e-07\n",
      "  [2.23992286e+00 7.97990054e+03 1.99114796e+01]\n",
      "  LL =  54376.345   LL/Ndf = 560.58088 \n",
      "  distance to minimum:  92.64849557267667\n",
      "\n",
      "Iteration step  13  with lambda =  1.0000000000000002e-08\n",
      "  [2.23716671e+00 8.07460430e+03 1.99110482e+01]\n",
      "  LL =  54376.906   LL/Ndf = 560.58666 \n",
      "  distance to minimum:  1.0953684872494829\n",
      "\n",
      "Iteration step  14  with lambda =  1.0000000000000003e-09\n",
      "  [2.23709030e+00 8.07573096e+03 1.99111533e+01]\n",
      "  LL =  54376.906   LL/Ndf = 560.58666 \n",
      "  distance to minimum:  0.0001573078213501449\n"
     ]
    },
    {
     "name": "stderr",
     "output_type": "stream",
     "text": [
      "<ipython-input-6-91f228589dea>:57: RuntimeWarning: invalid value encountered in log\n",
      "  loglnew = np.sum(yvec*np.log(fnew)-fnew)\n"
     ]
    }
   ],
   "source": [
    "# Main loop\n",
    "\n",
    "lam = 0.01       # Low value -> jump close to minimum, high value -> smaller step along gradient\n",
    "\n",
    "dcut = 0.001   # Required precision (distance from minimum)\n",
    "\n",
    "loglmin = loglini\n",
    "parmin = parini\n",
    "\n",
    "par = parini\n",
    "\n",
    "parhist = []\n",
    "parhist.append(par)\n",
    "\n",
    "Nit = 0\n",
    "\n",
    "Cov = np.zeros((Nfun,Nfun))\n",
    "\n",
    "dist = dcut+1\n",
    "\n",
    "while dist > dcut :\n",
    "\n",
    "    # work space\n",
    "    \n",
    "    A = np.zeros((Nfun,Nfun))\n",
    "    B = np.zeros(Nfun)\n",
    "\n",
    "    # Values and derivatives at the current point\n",
    "    \n",
    "    fval,fder = myfunder(xvec,par)\n",
    "    \n",
    "    for l in range(Nfun):\n",
    "        B[l] = np.sum(fder[:,l]*(yvec/fval - 1))\n",
    "        for k in range(Nfun):\n",
    "            A[l,k] = np.sum(fder[:,l]*fder[:,k]*yvec/fval/fval)\n",
    "\n",
    "    # Do not try to jump directly to the maximum (lam = 0)\n",
    "\n",
    "    C = A\n",
    "    for l in range(Nfun):\n",
    "        C[l,l] += lam\n",
    "        \n",
    "    # Inverse of matrix\n",
    "\n",
    "    Cinv = np.linalg.inv(C)\n",
    "\n",
    "    # Solution to the problem - required parameter change\n",
    "\n",
    "    dpar = Cinv @ B\n",
    "\n",
    "    # Check new parameter values\n",
    "    \n",
    "    parnew = par+dpar\n",
    "\n",
    "    fnew = myfun(xvec,parnew) \n",
    "\n",
    "    loglnew = np.sum(yvec*np.log(fnew)-fnew)\n",
    "\n",
    "    # Distance to minimum (assuming current errors)\n",
    "\n",
    "    Cov = np.linalg.inv(A)\n",
    "    e2par = np.diagonal(Cov)\n",
    "    dist = np.sum(dpar*dpar/e2par)\n",
    "    \n",
    "    Nit+=1\n",
    "    if loglnew > loglmin :\n",
    "        print(\"\\nIteration step \",Nit,\" with lambda = \",lam)\n",
    "        print(\" \",parnew)\n",
    "        print(\"  LL =  %8.3f   LL/Ndf = %8.5f \" % (loglnew,loglnew/(xvec.size-Nfun)))\n",
    "        print(\"  distance to minimum: \",dist)\n",
    "    \n",
    "        lam /= 10\n",
    "        loglmin = loglnew\n",
    "        par = parnew\n",
    "    else:\n",
    "        lam *= 10\n",
    "\n",
    "    parhist.append(par)"
   ]
  },
  {
   "cell_type": "code",
   "execution_count": 7,
   "metadata": {},
   "outputs": [
    {
     "name": "stdout",
     "output_type": "stream",
     "text": [
      "\n",
      " Fit results:\n",
      "\n",
      "     par         sigma_p\n",
      "\n",
      "     2.237  +/-  0.029 \n",
      "  8075.731  +/- 91.907 \n",
      "    19.911  +/-  0.481 \n",
      "\n",
      " Correlation matrix\n",
      "\n",
      "[ 1.     0.057 -0.143]\n",
      "[ 0.057  1.    -0.07 ]\n",
      "[-0.143 -0.07   1.   ]\n",
      "\n",
      " LL =  54376.906   LL/Ndf = 560.58666 \n"
     ]
    }
   ],
   "source": [
    "# Parameter uncertainties \n",
    "# (assuming no need to recalculate Cov, even if there was a slight improvement in the last step)\n",
    "\n",
    "epar = np.sqrt(np.diagonal(Cov))\n",
    "\n",
    "print(\"\\n Fit results:\\n\\n     par         sigma_p\\n\")\n",
    "\n",
    "for ip in range(par.size):\n",
    "    print(\"  %8.3f  +/- %6.3f \" % (par[ip],epar[ip]))\n",
    "\n",
    "# Calculate correlation matrix, including rounding\n",
    "\n",
    "Corr = Cov\n",
    "\n",
    "print(\"\\n Correlation matrix\\n\")\n",
    "for ip in range(par.size):\n",
    "    for jp in range(par.size):\n",
    "        Corr[ip,jp]=int(1000.*Corr[ip,jp]/epar[ip]/epar[jp]+0.5)/1000.\n",
    "        \n",
    "    print(Corr[ip,:])\n",
    "\n",
    "# Fitted function\n",
    "\n",
    "fvec = myfun(xvec,par) \n",
    "\n",
    "# Chi^2 printout\n",
    "\n",
    "logl = np.sum(yvec*np.log(fvec)-fvec)\n",
    "\n",
    "print(\"\\n LL =  %8.3f   LL/Ndf = %8.5f \" % (logl,logl/(xvec.size-Nfun)))\n",
    "\n",
    "# print(\"\\n  x       y         f(x) \")\n",
    "# for ix in range(xvec.size):\n",
    "#     print(\"%6.3f  %8.5f  %8.5f \" % (xvec[ix],yvec[ix],fvec[ix]))"
   ]
  },
  {
   "cell_type": "markdown",
   "metadata": {
    "tags": []
   },
   "source": [
    "### (4) Draw data and fit"
   ]
  },
  {
   "cell_type": "code",
   "execution_count": 8,
   "metadata": {},
   "outputs": [
    {
     "data": {
      "image/png": "[encoded data removed]",
      "text/plain": [
       "<Figure size 648x432 with 1 Axes>"
      ]
     },
     "metadata": {
      "needs_background": "light"
     },
     "output_type": "display_data"
    }
   ],
   "source": [
    "Nf = 100\n",
    "xfun = np.linspace(0.,tmax,Nf)\n",
    "yfun = myfun(xfun,par)\n",
    "\n",
    "plt.figure(figsize=(9, 6))\n",
    "\n",
    "plt.hist(ttab,range=[0,tmax],bins=Nbin,log=True, histtype='step',linewidth=3)\n",
    "plt.plot(xfun,yfun,'r-')\n",
    "plt.xlim([0,tmax])\n",
    "\n",
    "plt.title('Binned LL fit   Npar = {}    LL = {:.2f} / {}        t = {:.3f} $\\pm$ {:.3f} $\\mu s$'.format(Nfun,logl,xvec.size-Nfun,par[0],epar[0]),size=16)\n",
    "plt.ylabel('Counts',size=20)\n",
    "plt.xlabel('Time [$\\mu s$]',size=20)\n",
    "\n",
    "plt.xticks(fontsize=18)\n",
    "plt.yticks(fontsize=18)\n",
    "plt.grid(which='major', axis='both')\n",
    "\n",
    "\n",
    "fname = '11_binned_fit2_'+str(Nevt)+'_'+str(Nbin)+'.png'\n",
    "plt.savefig(fname)"
   ]
  },
  {
   "cell_type": "code",
   "execution_count": null,
   "metadata": {},
   "outputs": [],
   "source": []
  },
  {
   "cell_type": "code",
   "execution_count": null,
   "metadata": {},
   "outputs": [],
   "source": []
  }
 ],
 "metadata": {
  "kernelspec": {
   "display_name": "Python 3",
   "language": "python",
   "name": "python3"
  },
  "language_info": {
   "codemirror_mode": {
    "name": "ipython",
    "version": 3
   },
   "file_extension": ".py",
   "mimetype": "text/x-python",
   "name": "python",
   "nbconvert_exporter": "python",
   "pygments_lexer": "ipython3",
   "version": "3.9.7"
  }
 },
 "nbformat": 4,
 "nbformat_minor": 4
}
