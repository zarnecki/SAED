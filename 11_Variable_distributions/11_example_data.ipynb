{
 "cells": [
  {
   "cell_type": "markdown",
   "metadata": {
    "tags": []
   },
   "source": [
    "# Generating test data (P3 experiment)\n",
    "Author: Aleksander Filip Żarnecki (University of Warsaw)"
   ]
  },
  {
   "cell_type": "markdown",
   "metadata": {
    "tags": []
   },
   "source": [
    "### (0) Import libraries "
   ]
  },
  {
   "cell_type": "code",
   "execution_count": 1,
   "metadata": {},
   "outputs": [],
   "source": [
    "import math\n",
    "import numpy as np\n",
    "import matplotlib.pyplot as plt\n"
   ]
  },
  {
   "cell_type": "markdown",
   "metadata": {
    "tags": []
   },
   "source": [
    "### (1) Define generation parameters"
   ]
  },
  {
   "cell_type": "code",
   "execution_count": 2,
   "metadata": {},
   "outputs": [],
   "source": [
    "# Number of measurements to generate\n",
    "\n",
    "Nevt = 1000\n",
    "\n",
    "# All times in µs\n",
    "\n",
    "# Muon lifetime (average decay time)\n",
    "\n",
    "tdec = 2.2\n",
    "\n",
    "# Average time between two passing muons\n",
    "\n",
    "tnext = 400000   # 0.4s\n",
    "\n",
    "# Time measurement range\n",
    "\n",
    "tmax = 100\n",
    "\n",
    "# Probability of muon stopping and decaying in the counter\n",
    "\n",
    "fdec=0.001\n"
   ]
  },
  {
   "cell_type": "markdown",
   "metadata": {},
   "source": [
    "### (2) Generate events"
   ]
  },
  {
   "cell_type": "code",
   "execution_count": 3,
   "metadata": {},
   "outputs": [],
   "source": [
    "# Allocate result table\n",
    "\n",
    "ttab = np.zeros(Nevt)\n",
    "\n",
    "ievt = 0\n",
    "\n",
    "# Run the experiment, and count detected muons \"decays\"...\n",
    "\n",
    "while ievt<Nevt:\n",
    "\n",
    "    # Muon detected in counter: \n",
    "    #   if it stopped, wait for its decay\n",
    "    #   if not, wait for the next cosmic muon\n",
    "    \n",
    "    if np.random.uniform() < fdec: \n",
    "        tmean = tdec\n",
    "    else:\n",
    "        tmean = tnext\n",
    "    \n",
    "    # Generate time for second pulse from exponential distribution\n",
    "    \n",
    "    tgen = tmean*np.random.exponential()\n",
    "    \n",
    "    # Store generated time only, if within the measurement range\n",
    "    \n",
    "    if tgen < tmax:    \n",
    "        ttab[ievt]=tgen\n",
    "        ievt+=1        \n",
    "\n",
    "    # Generation for this event (ievt) is repeated, if measurement not stored        "
   ]
  },
  {
   "cell_type": "code",
   "execution_count": 4,
   "metadata": {},
   "outputs": [],
   "source": [
    "outfile = \"11_example_data_\"+str(Nevt)+\".dat\"\n",
    "\n",
    "# Store data to file\n",
    "\n",
    "ttab.tofile(outfile,\" \",\"%8.3f\")\n"
   ]
  },
  {
   "cell_type": "markdown",
   "metadata": {
    "tags": []
   },
   "source": [
    "### (3) Plot results"
   ]
  },
  {
   "cell_type": "code",
   "execution_count": 5,
   "metadata": {},
   "outputs": [
    {
     "data": {
      "image/png": "[encoded data removed]",
      "text/plain": [
       "<Figure size 1296x432 with 2 Axes>"
      ]
     },
     "metadata": {
      "needs_background": "light"
     },
     "output_type": "display_data"
    }
   ],
   "source": [
    "Nbin = 50   \n",
    "\n",
    "# plt.figure(figsize=(9, 6))\n",
    "\n",
    "plt.subplots(1,2,figsize=(18, 6))\n",
    "\n",
    "plt.suptitle('Distribution of generated decay times',fontsize=20)\n",
    "\n",
    "plt.subplot(121)\n",
    "plt.hist(ttab,range=[0,tmax],bins=Nbin,log=False, histtype='step',linewidth=3)\n",
    "plt.xlim([0,20.])\n",
    "\n",
    "# plt.title('Distribution of generated decay times',size=20,loc='left')\n",
    "plt.ylabel('Counts',size=20)\n",
    "plt.xlabel('Time [$\\mu s$]',size=20)\n",
    "plt.xticks(fontsize=18)\n",
    "plt.yticks(fontsize=18)\n",
    "plt.grid(which='major', axis='both')\n",
    "\n",
    "plt.subplot(122)\n",
    "plt.hist(ttab,range=[0,tmax],bins=Nbin,log=True, histtype='step',linewidth=3)\n",
    "plt.xlim([0,tmax])\n",
    "\n",
    "# plt.title('Distribution of generated decay times',size=20,loc='left')\n",
    "# plt.ylabel('Counts',size=20)\n",
    "plt.xlabel('Time [$\\mu s$]',size=20)\n",
    "\n",
    "plt.xticks(fontsize=18)\n",
    "plt.yticks(fontsize=18)\n",
    "plt.grid(which='major', axis='both')\n",
    "\n",
    "\n",
    "fname = '11_example_data_'+str(Nevt)+'_'+str(Nbin)+'.png'\n",
    "plt.savefig(fname)"
   ]
  },
  {
   "cell_type": "code",
   "execution_count": null,
   "metadata": {},
   "outputs": [],
   "source": []
  }
 ],
 "metadata": {
  "kernelspec": {
   "display_name": "Python 3",
   "language": "python",
   "name": "python3"
  },
  "language_info": {
   "codemirror_mode": {
    "name": "ipython",
    "version": 3
   },
   "file_extension": ".py",
   "mimetype": "text/x-python",
   "name": "python",
   "nbconvert_exporter": "python",
   "pygments_lexer": "ipython3",
   "version": "3.9.7"
  }
 },
 "nbformat": 4,
 "nbformat_minor": 4
}
