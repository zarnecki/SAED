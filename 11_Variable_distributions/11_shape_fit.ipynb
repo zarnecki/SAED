{
 "cells": [
  {
   "cell_type": "markdown",
   "metadata": {
    "tags": []
   },
   "source": [
    "# Binned likelihood shape fit example\n",
    "Author: Aleksander Filip Żarnecki (University of Warsaw)"
   ]
  },
  {
   "cell_type": "markdown",
   "metadata": {
    "tags": []
   },
   "source": [
    "### (0) Import libraries "
   ]
  },
  {
   "cell_type": "code",
   "execution_count": 1,
   "metadata": {},
   "outputs": [],
   "source": [
    "import math\n",
    "import numpy as np\n",
    "import matplotlib.pyplot as plt"
   ]
  },
  {
   "cell_type": "markdown",
   "metadata": {
    "tags": []
   },
   "source": [
    "### (1) Read input data"
   ]
  },
  {
   "cell_type": "code",
   "execution_count": 2,
   "metadata": {},
   "outputs": [],
   "source": [
    "# Nevt = 100\n",
    "# infile = \"http://hep.fuw.edu.pl/u/zarnecki/saed23/11_example_data_\"+str(Nevt)+\".dat\"\n",
    "\n",
    "# Old data (as shown in lecture slides)\n",
    "\n",
    "Nevt = 100\n",
    "infile = \"http://hep.fuw.edu.pl/u/zarnecki/saed22/10_example_data_\"+str(Nevt)+\".dat\"\n",
    "\n",
    "\n",
    "ttab = np.loadtxt(infile)"
   ]
  },
  {
   "cell_type": "code",
   "execution_count": 3,
   "metadata": {},
   "outputs": [],
   "source": [
    "# Create  histogram\n",
    "\n",
    "tmax = 100.\n",
    "Nbin = 20\n",
    "\n",
    "counts, bins = np.histogram(ttab,range=[0,tmax],bins=Nbin)\n",
    "\n",
    "xvec = bins[:Nbin] + bins[1]/2.\n",
    "yvec = counts\n"
   ]
  },
  {
   "cell_type": "markdown",
   "metadata": {
    "tags": []
   },
   "source": [
    "### (2) Define fit model"
   ]
  },
  {
   "cell_type": "code",
   "execution_count": 4,
   "metadata": {},
   "outputs": [],
   "source": [
    "# Measurement range\n",
    "\n",
    "tmax = 100\n",
    "\n",
    "# Declare normalization factor outside function scope (!)\n",
    "\n",
    "norm = 1\n",
    "\n",
    "# Exponential decay + uniform background\n",
    "\n",
    "def myfun(x,par):\n",
    "\n",
    "    global norm\n",
    "    \n",
    "    # decay time\n",
    "    \n",
    "    tdec = par[0]\n",
    "    \n",
    "    # Decay fraction\n",
    "    \n",
    "    fdec = par[1]\n",
    "\n",
    "    # Exponential probability distribution\n",
    "    \n",
    "    val = fdec/tdec * np.exp(-x/tdec)\n",
    "\n",
    "    # Add constant term\n",
    "    \n",
    "    val += (1-fdec)/tmax\n",
    "    \n",
    "    # Normalize to the data\n",
    "    \n",
    "    norm = np.sum(yvec)/np.sum(val)\n",
    "\n",
    "    return norm*val\n",
    "\n",
    "# Full model: returns values and derivatives\n",
    "\n",
    "def myfunder(x,par):\n",
    "\n",
    "    global norm\n",
    "    \n",
    "    # output arrays\n",
    "    \n",
    "    val = np.zeros(x.size)\n",
    "    der = np.zeros((x.size,2))\n",
    "\n",
    "    # decay time\n",
    "    \n",
    "    tdec = par[0]\n",
    "    \n",
    "    # Decay fraction\n",
    "    \n",
    "    fdec = par[1]\n",
    "\n",
    "    # Exponential probability distribution\n",
    "    \n",
    "    val = 1/tdec * np.exp(-x/tdec)\n",
    "\n",
    "    # with background include\n",
    "    \n",
    "    valbg = fdec*val+(1-fdec)/tmax\n",
    "    \n",
    "    # derivatives (without normalisation yet)\n",
    "    \n",
    "    der[:,0] = fdec*val*(x-tdec)/tdec/tdec\n",
    "    \n",
    "    der[:,1] = val-1./tmax\n",
    "    \n",
    "    # Normalization factor \n",
    "    \n",
    "    norm = np.sum(yvec)/np.sum(valbg)\n",
    "    \n",
    "    val = norm*valbg\n",
    "\n",
    "    der[:,0] = norm*der[:,0] - norm*valbg/np.sum(valbg)*np.sum(der[:,0])\n",
    "    der[:,1] = norm*der[:,1] - norm*valbg/np.sum(valbg)*np.sum(der[:,1])\n",
    "   \n",
    "    return val,der\n"
   ]
  },
  {
   "cell_type": "markdown",
   "metadata": {},
   "source": [
    "### (3) Iterative fit"
   ]
  },
  {
   "cell_type": "code",
   "execution_count": 5,
   "metadata": {},
   "outputs": [
    {
     "name": "stdout",
     "output_type": "stream",
     "text": [
      "\n",
      "Iterative fit procedure starting from parameter values\n",
      "  [2.  0.9]\n",
      "  LL =  221.603   LL/Ndf = 11.08017 \n"
     ]
    }
   ],
   "source": [
    "# Number of function parameters to consider  (fixed for this model)\n",
    "\n",
    "Nfun = 2\n",
    "\n",
    "# Initial guess for parameters\n",
    "\n",
    "parini = np.zeros(Nfun)\n",
    "parini[0] = 2.\n",
    "parini[1] = 0.9\n",
    "\n",
    "# Initial function vales\n",
    "\n",
    "# fini,dini = myfunder(xvec,parini) \n",
    "fini = myfun(xvec,parini) \n",
    "\n",
    "# Initial printout\n",
    "\n",
    "loglini = np.sum(yvec*np.log(fini)-fini)\n",
    "\n",
    "print(\"\\nIterative fit procedure starting from parameter values\")\n",
    "print(\" \",parini)\n",
    "print(\"  LL = %8.3f   LL/Ndf = %8.5f \" % (loglini,loglini/xvec.size))"
   ]
  },
  {
   "cell_type": "code",
   "execution_count": 6,
   "metadata": {},
   "outputs": [
    {
     "name": "stdout",
     "output_type": "stream",
     "text": [
      "\n",
      "Iteration step  1  with lambda =  0.01\n",
      "  [2.07283769 0.84957027]\n",
      "  LL =   224.504   LL/Ndf = 12.47244 \n",
      "  distance to minimum:  4.900558355692535\n",
      "\n",
      "Iteration step  2  with lambda =  0.001\n",
      "  [2.04914402 0.81918705]\n",
      "  LL =   224.981   LL/Ndf = 12.49895 \n",
      "  distance to minimum:  0.8446093940882007\n",
      "\n",
      "Iteration step  3  with lambda =  0.0001\n",
      "  [2.03912573 0.81365983]\n",
      "  LL =   224.993   LL/Ndf = 12.49959 \n",
      "  distance to minimum:  0.021283756486439036\n",
      "\n",
      "Iteration step  4  with lambda =  1e-05\n",
      "  [2.03864794 0.81353693]\n",
      "  LL =   224.993   LL/Ndf = 12.49959 \n",
      "  distance to minimum:  1.141533024808907e-05\n"
     ]
    }
   ],
   "source": [
    "# Main loop\n",
    "\n",
    "lam = 0.01       # Low value -> jump close to minimum, high value -> smaller step along gradient\n",
    "\n",
    "dcut = 0.0001   # Required precision (distance from minimum)\n",
    "\n",
    "loglmin = loglini\n",
    "parmin = parini\n",
    "\n",
    "par = parini\n",
    "\n",
    "parhist = []\n",
    "parhist.append(par)\n",
    "\n",
    "Nit = 0\n",
    "\n",
    "Cov = np.zeros((Nfun,Nfun))\n",
    "\n",
    "dist = dcut+1\n",
    "\n",
    "while dist > dcut :\n",
    "\n",
    "    # work space\n",
    "    \n",
    "    A = np.zeros((Nfun,Nfun))\n",
    "    B = np.zeros(Nfun)\n",
    "\n",
    "    # Values and derivatives at the current point\n",
    "    \n",
    "    fval,fder = myfunder(xvec,par)\n",
    "    \n",
    "    for l in range(Nfun):\n",
    "        B[l] = np.sum(fder[:,l]*(yvec/fval - 1))\n",
    "        for k in range(Nfun):\n",
    "            A[l,k] = np.sum(fder[:,l]*fder[:,k]*yvec/fval/fval)\n",
    "\n",
    "    # Do not try to jump directly to the maximum (lam = 0)\n",
    "\n",
    "    C = A\n",
    "    for l in range(Nfun):\n",
    "#        C[l,l] *= 1 + lam\n",
    "        C[l,l] += lam\n",
    "        \n",
    "    # Inverse of matrix\n",
    "\n",
    "    Cinv = np.linalg.inv(C)\n",
    "\n",
    "    # Solution to the problem - required parameter change\n",
    "\n",
    "    dpar = Cinv @ B\n",
    "\n",
    "    # Check new parameter values\n",
    "    \n",
    "    parnew = par+dpar\n",
    "\n",
    "    fnew = myfun(xvec,parnew) \n",
    "\n",
    "    loglnew = np.sum(yvec*np.log(fnew)-fnew)\n",
    "\n",
    "    # Distance to minimum (assuming current errors)\n",
    "\n",
    "    Cov = np.linalg.inv(A)\n",
    "    e2par = np.diagonal(Cov)\n",
    "    dist = np.sum(dpar*dpar/e2par)\n",
    "    \n",
    "    Nit+=1\n",
    "    if loglnew > loglmin :\n",
    "        print(\"\\nIteration step \",Nit,\" with lambda = \",lam)\n",
    "        print(\" \",parnew)\n",
    "        print(\"  LL =  %8.3f   LL/Ndf = %8.5f \" % (loglnew,loglnew/(xvec.size-Nfun)))\n",
    "        print(\"  distance to minimum: \",dist)\n",
    "    \n",
    "        lam /= 10\n",
    "        loglmin = loglnew\n",
    "        par = parnew\n",
    "    else:\n",
    "        lam *= 10\n",
    "\n",
    "    parhist.append(par)"
   ]
  },
  {
   "cell_type": "code",
   "execution_count": 7,
   "metadata": {},
   "outputs": [
    {
     "name": "stdout",
     "output_type": "stream",
     "text": [
      "\n",
      " Fit results:\n",
      "\n",
      "     par         sigma_p\n",
      "\n",
      "     2.039  +/-  0.362 \n",
      "     0.814  +/-  0.040 \n",
      "\n",
      " Correlation matrix\n",
      "\n",
      "[ 1.    -0.124]\n",
      "[-0.124  1.   ]\n",
      "\n",
      " LL =   224.993   LL/Ndf = 12.49959 \n"
     ]
    }
   ],
   "source": [
    "# Parameter uncertainties \n",
    "# (assuming no need to recalculate Cov, even if there was a slight improvement in the last step)\n",
    "\n",
    "epar = np.sqrt(np.diagonal(Cov))\n",
    "\n",
    "print(\"\\n Fit results:\\n\\n     par         sigma_p\\n\")\n",
    "\n",
    "for ip in range(par.size):\n",
    "    print(\"  %8.3f  +/- %6.3f \" % (par[ip],epar[ip]))\n",
    "\n",
    "# Calculate correlation matrix, including rounding\n",
    "\n",
    "Corr = Cov\n",
    "\n",
    "print(\"\\n Correlation matrix\\n\")\n",
    "for ip in range(par.size):\n",
    "    for jp in range(par.size):\n",
    "        Corr[ip,jp]=int(1000.*Corr[ip,jp]/epar[ip]/epar[jp]+0.5)/1000.\n",
    "        \n",
    "    print(Corr[ip,:])\n",
    "\n",
    "# Fitted function\n",
    "\n",
    "fvec = myfun(xvec,par) \n",
    "\n",
    "# Chi^2 printout\n",
    "\n",
    "logl = np.sum(yvec*np.log(fvec)-fvec)\n",
    "\n",
    "print(\"\\n LL =  %8.3f   LL/Ndf = %8.5f \" % (logl,logl/(xvec.size-Nfun)))\n",
    "\n",
    "# print(\"\\n  x       y         f(x) \")\n",
    "# for ix in range(xvec.size):\n",
    "#     print(\"%6.3f  %8.5f  %8.5f \" % (xvec[ix],yvec[ix],fvec[ix]))"
   ]
  },
  {
   "cell_type": "markdown",
   "metadata": {
    "tags": []
   },
   "source": [
    "### (4) Draw data and fit"
   ]
  },
  {
   "cell_type": "code",
   "execution_count": 8,
   "metadata": {},
   "outputs": [
    {
     "data": {
      "image/png": "[encoded data removed]",
      "text/plain": [
       "<Figure size 648x432 with 1 Axes>"
      ]
     },
     "metadata": {
      "needs_background": "light"
     },
     "output_type": "display_data"
    }
   ],
   "source": [
    "# Fitted dependence wraper\n",
    "\n",
    "def myfit(fx, fpar):\n",
    "    \n",
    "    tdec = fpar[0]\n",
    "    fdec = fpar[1]\n",
    "\n",
    "    # Exponential probability distribution\n",
    "    \n",
    "    fval = fdec/tdec * np.exp(-fx/tdec)\n",
    "\n",
    "    # Add constant term\n",
    "    \n",
    "    fval += (1-fdec)/tmax\n",
    "    \n",
    "    # Use global normalization\n",
    "    \n",
    "    return norm*fval\n",
    "\n",
    "\n",
    "Nf = 100\n",
    "xfun = np.linspace(0.,tmax,Nf)\n",
    "yfun = myfit(xfun,par)\n",
    "\n",
    "plt.figure(figsize=(9, 6))\n",
    "\n",
    "plt.hist(ttab,range=[0,tmax],bins=Nbin,log=True, histtype='step',linewidth=3)\n",
    "plt.plot(xfun,yfun,'r-')\n",
    "plt.xlim([0,tmax])\n",
    "\n",
    "plt.title('Binned LL fit   Npar = {}    LL = {:.2f} / {}        t = {:.3f} $\\pm$ {:.3f} $\\mu s$'.format(Nfun,logl,xvec.size-Nfun,par[0],epar[0]),size=16)\n",
    "plt.ylabel('Counts',size=20)\n",
    "plt.xlabel('Time [$\\mu s$]',size=20)\n",
    "\n",
    "plt.xticks(fontsize=18)\n",
    "plt.yticks(fontsize=18)\n",
    "plt.grid(which='major', axis='both')\n",
    "\n",
    "\n",
    "fname = '11_shape_fit_'+str(Nevt)+'_'+str(Nbin)+'.png'\n",
    "plt.savefig(fname)"
   ]
  },
  {
   "cell_type": "code",
   "execution_count": null,
   "metadata": {},
   "outputs": [],
   "source": []
  }
 ],
 "metadata": {
  "kernelspec": {
   "display_name": "Python 3",
   "language": "python",
   "name": "python3"
  },
  "language_info": {
   "codemirror_mode": {
    "name": "ipython",
    "version": 3
   },
   "file_extension": ".py",
   "mimetype": "text/x-python",
   "name": "python",
   "nbconvert_exporter": "python",
   "pygments_lexer": "ipython3",
   "version": "3.9.7"
  }
 },
 "nbformat": 4,
 "nbformat_minor": 4
}
