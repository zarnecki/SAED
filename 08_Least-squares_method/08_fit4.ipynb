{
 "cells": [
  {
   "cell_type": "markdown",
   "metadata": {
    "tags": []
   },
   "source": [
    "# Linear fit example\n",
    "Author: Aleksander Filip Żarnecki (University of Warsaw)"
   ]
  },
  {
   "cell_type": "markdown",
   "metadata": {
    "tags": []
   },
   "source": [
    "### (0) Import libraries "
   ]
  },
  {
   "cell_type": "code",
   "execution_count": 1,
   "metadata": {},
   "outputs": [],
   "source": [
    "import math\n",
    "import numpy as np\n",
    "import matplotlib.pyplot as plt"
   ]
  },
  {
   "cell_type": "markdown",
   "metadata": {
    "tags": []
   },
   "source": [
    "### (1) Definition of model\n",
    "\n",
    "Consider controlled parameter range is [-1,1]"
   ]
  },
  {
   "cell_type": "code",
   "execution_count": 2,
   "metadata": {},
   "outputs": [],
   "source": [
    "# True functional dependece: triangle\n",
    "\n",
    "def mytrue(x):\n",
    "    \n",
    "    tri = x + (x>0.5)*(1-2*x) + (x<-0.5)*(-1-2*x)\n",
    "\n",
    "    return tri"
   ]
  },
  {
   "cell_type": "code",
   "execution_count": 3,
   "metadata": {},
   "outputs": [],
   "source": [
    "# WRONG basis of fit functions:  1, cos(x), sin(x), cos^2(x), sin^2(x) ...\n",
    "\n",
    "def myfun(x,ifun):\n",
    "\n",
    "    pw = int((ifun+1)/2)\n",
    "\n",
    "    if ifun%2 == 1 :\n",
    "        val = np.sin(x*np.pi)\n",
    "    else:\n",
    "        val = np.cos(x*np.pi)\n",
    "           \n",
    "    return val**pw"
   ]
  },
  {
   "cell_type": "code",
   "execution_count": 4,
   "metadata": {},
   "outputs": [],
   "source": [
    "# Full fit model (linear sum of functions)\n",
    "\n",
    "def mymodel(x,par):\n",
    "\n",
    "    val = np.zeros(x.size)\n",
    "    \n",
    "    for ip in range(par.size):\n",
    "        val+=par[ip]*myfun(x,ip)\n",
    "        \n",
    "    return val"
   ]
  },
  {
   "cell_type": "markdown",
   "metadata": {},
   "source": [
    "### (2) Generate pseudo data to fit"
   ]
  },
  {
   "cell_type": "code",
   "execution_count": 5,
   "metadata": {},
   "outputs": [],
   "source": [
    "# Considered values of x\n",
    "\n",
    "xvec = np.linspace(-0.95,0.95,19)\n",
    "\n",
    "# Measurement precision\n",
    "\n",
    "svec = np.linspace(0.05,0.1,xvec.size)\n",
    "s2vec = svec*svec\n",
    "\n",
    "# Pseudo-data\n",
    "\n",
    "yvec = np.random.normal(mytrue(xvec),svec)"
   ]
  },
  {
   "cell_type": "markdown",
   "metadata": {},
   "source": [
    "### (3) Show pseudo data"
   ]
  },
  {
   "cell_type": "code",
   "execution_count": 6,
   "metadata": {},
   "outputs": [
    {
     "data": {
      "text/plain": [
       "[<matplotlib.lines.Line2D at 0x7fd9841bd5e0>]"
      ]
     },
     "execution_count": 6,
     "metadata": {},
     "output_type": "execute_result"
    },
    {
     "data": {
      "image/png": "[encoded data removed]",
      "text/plain": [
       "<Figure size 648x432 with 1 Axes>"
      ]
     },
     "metadata": {
      "needs_background": "light"
     },
     "output_type": "display_data"
    }
   ],
   "source": [
    "plt.figure(figsize=(9, 6))\n",
    "\n",
    "plt.errorbar(xvec,yvec,svec, linestyle='none', marker='o', ms=2, mew=4)\n",
    "\n",
    "plt.title('Pseudo data',size=24)\n",
    "plt.xlabel('x',size=20)\n",
    "plt.ylabel('y(x)',size=20)\n",
    "\n",
    "plt.xticks(fontsize=18)\n",
    "plt.yticks(fontsize=18)\n",
    "plt.grid(which='major', axis='both')\n",
    "\n",
    "xfun = np.linspace(-1,1,100)\n",
    "tfun = mytrue(xfun)\n",
    "plt.plot(xfun,tfun,'--')\n",
    "\n",
    "# fname = '08_fit4_data.png'\n",
    "# plt.savefig(fname)"
   ]
  },
  {
   "cell_type": "markdown",
   "metadata": {},
   "source": [
    "### (4)  Linear fit"
   ]
  },
  {
   "cell_type": "code",
   "execution_count": 7,
   "metadata": {},
   "outputs": [],
   "source": [
    "# Number of model functions to consider \n",
    "\n",
    "Nfun = 9\n",
    "\n",
    "A = np.zeros((Nfun,Nfun))\n",
    "\n",
    "B = np.zeros(Nfun)\n",
    "\n",
    "for l in range(Nfun):\n",
    "    fl = myfun(xvec,l)\n",
    "    B[l] = np.sum(fl*yvec/s2vec)\n",
    "    for k in range(Nfun):\n",
    "        fk = myfun(xvec,k)\n",
    "        A[l,k] = np.sum(fl*fk/s2vec)\n"
   ]
  },
  {
   "cell_type": "code",
   "execution_count": 8,
   "metadata": {},
   "outputs": [
    {
     "name": "stdout",
     "output_type": "stream",
     "text": [
      "\n",
      " Fit results for Npar = 9\n",
      "\n",
      "     par         sigma_p\n",
      "\n",
      "  1472500614714.729  +/-    nan \n",
      "     0.166  +/-  0.078 \n",
      "    -0.005  +/-  0.073 \n",
      "  -1472500614714.847  +/- 1160501.045 \n",
      "  -1472500614714.823  +/- 1238478.895 \n",
      "     0.332  +/-  0.099 \n",
      "     0.031  +/-  0.092 \n",
      "     0.072  +/- 1455190.005 \n",
      "    -0.095  +/- 1455190.005 \n",
      "\n",
      " Correlation matrix\n",
      "\n",
      "[nan nan nan nan nan nan nan nan nan]\n",
      "[   nan  1.    -0.042 -0.    -0.    -0.949 -0.02  -0.    -0.   ]\n",
      "[   nan -0.042  1.     0.    -0.     0.016 -0.948 -0.     0.   ]\n",
      "[   nan -0.     0.     1.    -1.993  0.    -0.    -1.244  1.255]\n",
      "[   nan  0.     0.    -1.896  1.    -0.     0.     1.184 -1.174]\n",
      "[   nan -0.949  0.016  0.     0.     1.     0.039  0.     0.   ]\n",
      "[   nan -0.02  -0.948 -0.     0.     0.039  1.     0.    -0.   ]\n",
      "[   nan -0.    -0.    -1.206  1.22   0.     0.     1.    -1.   ]\n",
      "[   nan -0.    -0.     1.206 -1.22   0.     0.    -1.     1.   ]\n",
      "\n",
      " Fit chi^2 =    76.303   chi^2/Ndf =  7.63030 \n"
     ]
    },
    {
     "name": "stderr",
     "output_type": "stream",
     "text": [
      "<ipython-input-8-2120908d2b81>:11: RuntimeWarning: invalid value encountered in sqrt\n",
      "  epar = np.sqrt(np.diagonal(Cov))\n"
     ]
    }
   ],
   "source": [
    "# Inverse of matrix\n",
    "\n",
    "Cov = np.linalg.inv(A)\n",
    "\n",
    "# Solution to the problem\n",
    "\n",
    "par = Cov @ B\n",
    "\n",
    "# Parameter uncertainties\n",
    "\n",
    "epar = np.sqrt(np.diagonal(Cov))\n",
    "\n",
    "print(\"\\n Fit results for Npar = %d\\n\\n     par         sigma_p\\n\" % (Nfun))\n",
    "\n",
    "for ip in range(par.size):\n",
    "    print(\"  %8.3f  +/- %6.3f \" % (par[ip],epar[ip]))\n",
    "\n",
    "# Calculate correlation matrix, including rounding\n",
    "\n",
    "Corr = Cov\n",
    "\n",
    "print(\"\\n Correlation matrix\\n\")\n",
    "np.set_printoptions(precision=3, suppress=True)\n",
    "for ip in range(par.size):\n",
    "    for jp in range(par.size):\n",
    "        Corr[ip,jp]=Corr[ip,jp]/epar[ip]/epar[jp]\n",
    "        \n",
    "    print(Corr[ip,:])\n",
    "\n",
    "# Fitted function\n",
    "\n",
    "fvec = mymodel(xvec,par) \n",
    "\n",
    "# Chi2 printout\n",
    "\n",
    "chi2 = np.sum((yvec-fvec)**2/s2vec)\n",
    "\n",
    "print(\"\\n Fit chi^2 =  %8.3f   chi^2/Ndf = %8.5f \" % (chi2,chi2/(xvec.size-Nfun)))\n",
    "\n",
    "# Fit values for debug\n",
    "#\n",
    "# print(\"\\n  x       y         f(x) \")\n",
    "# for ix in range(xvec.size):\n",
    "#     print(\"%6.3f  %8.5f  %8.5f \" % (xvec[ix],yvec[ix],fvec[ix]))"
   ]
  },
  {
   "cell_type": "markdown",
   "metadata": {},
   "source": [
    "### (5) Draw data and fit"
   ]
  },
  {
   "cell_type": "code",
   "execution_count": 9,
   "metadata": {},
   "outputs": [
    {
     "data": {
      "image/png": "[encoded data removed]",
      "text/plain": [
       "<Figure size 648x432 with 1 Axes>"
      ]
     },
     "metadata": {
      "needs_background": "light"
     },
     "output_type": "display_data"
    }
   ],
   "source": [
    "plt.figure(figsize=(9, 6))\n",
    "\n",
    "plt.errorbar(xvec,yvec,svec, linestyle='none', marker='o', ms=2, mew=4)\n",
    "\n",
    "plt.title('Linear fit  Npar = '+str(Nfun)+'     $\\chi^{2}$ = '+str(int(100*chi2+0.5)/100.)+' / '+str(xvec.size-Nfun),size=24)\n",
    "plt.xlabel('x',size=20)\n",
    "plt.ylabel('y(x)',size=20)\n",
    "\n",
    "plt.xticks(fontsize=18)\n",
    "plt.yticks(fontsize=18)\n",
    "plt.grid(which='major', axis='both')\n",
    "\n",
    "xfun = np.linspace(-1,1,100)\n",
    "ffun = mymodel(xfun,par)\n",
    "plt.plot(xfun,ffun,'--')\n",
    "\n",
    "fname = '08_fit4_'+str(Nfun)+'.png'\n",
    "plt.savefig(fname)"
   ]
  },
  {
   "cell_type": "code",
   "execution_count": null,
   "metadata": {},
   "outputs": [],
   "source": []
  }
 ],
 "metadata": {
  "kernelspec": {
   "display_name": "Python 3",
   "language": "python",
   "name": "python3"
  },
  "language_info": {
   "codemirror_mode": {
    "name": "ipython",
    "version": 3
   },
   "file_extension": ".py",
   "mimetype": "text/x-python",
   "name": "python",
   "nbconvert_exporter": "python",
   "pygments_lexer": "ipython3",
   "version": "3.9.7"
  }
 },
 "nbformat": 4,
 "nbformat_minor": 4
}
