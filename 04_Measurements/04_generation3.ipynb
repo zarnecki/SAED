{
 "cells": [
  {
   "cell_type": "markdown",
   "metadata": {
    "tags": []
   },
   "source": [
    "# Random number generation (3)\n",
    "Author: Aleksander Filip Żarnecki (University of Warsaw)"
   ]
  },
  {
   "cell_type": "markdown",
   "metadata": {
    "tags": []
   },
   "source": [
    "### (0) Import libraries "
   ]
  },
  {
   "cell_type": "code",
   "execution_count": 1,
   "metadata": {},
   "outputs": [],
   "source": [
    "import math\n",
    "import numpy as np\n",
    "import matplotlib.pyplot as plt"
   ]
  },
  {
   "cell_type": "markdown",
   "metadata": {
    "tags": []
   },
   "source": [
    "### (1) Define probability distribution to generate"
   ]
  },
  {
   "cell_type": "code",
   "execution_count": 5,
   "metadata": {},
   "outputs": [],
   "source": [
    "# Considered distribution is\n",
    "#    g(x) =  sin(x)^2/x^2\n",
    "#\n",
    "# It does not need to be normalized here!\n",
    "\n",
    "def mypdf(x):\n",
    "    val = (np.sin(x)/x)**2\n",
    "    return val"
   ]
  },
  {
   "cell_type": "markdown",
   "metadata": {
    "tags": []
   },
   "source": [
    "### (2) Define function limiting the probability distribution from above"
   ]
  },
  {
   "cell_type": "code",
   "execution_count": 6,
   "metadata": {},
   "outputs": [],
   "source": [
    "# Considered distribution is always below\n",
    "#    f(x) = 1.5/(x^2+1)\n",
    "\n",
    "def mylim(x):\n",
    "    val = 1.5/(1+x*x)\n",
    "    return val"
   ]
  },
  {
   "cell_type": "markdown",
   "metadata": {
    "tags": []
   },
   "source": [
    "### (3) Define inverse of cumulative distribution for approximate shape"
   ]
  },
  {
   "cell_type": "code",
   "execution_count": 7,
   "metadata": {},
   "outputs": [],
   "source": [
    "# Cumulative distribution function for Cauchy distribution is\n",
    "#\n",
    "#   F(x) =  np.arctan(x)/np.pi + 0.5\n",
    "#\n",
    "\n",
    "def invF(u):\n",
    "    x = np.tan(np.pi*(u-0.5))\n",
    "    return x\n",
    "    "
   ]
  },
  {
   "cell_type": "markdown",
   "metadata": {},
   "source": [
    "### (4) Define weighting function "
   ]
  },
  {
   "cell_type": "code",
   "execution_count": 9,
   "metadata": {},
   "outputs": [],
   "source": [
    "# Considered distribution is\n",
    "#    g(x) =  sin(x)^2/x^2\n",
    "#  it is always below\n",
    "#    f(x) = 1.5/(x^2+1)\n",
    "\n",
    "def rAcc(x):\n",
    "    val = mypdf(x)\n",
    "    norm = mylim(x)\n",
    "    return val/norm"
   ]
  },
  {
   "cell_type": "markdown",
   "metadata": {},
   "source": [
    "### (5) Generate a set of random variables from given distribution"
   ]
  },
  {
   "cell_type": "code",
   "execution_count": 29,
   "metadata": {},
   "outputs": [],
   "source": [
    "# Number of generations\n",
    "\n",
    "Nmc = 1000\n",
    "\n",
    "# calculate values from limiting distribution\n",
    "\n",
    "u_tab = np.random.uniform(size=Nmc)\n",
    "\n",
    "v_tab = invF(u_tab)\n",
    "\n",
    "# calculate acceptance weights\n",
    "\n",
    "r_tab = np.random.uniform(size=Nmc)\n",
    "\n",
    "w_tab = r_tab < rAcc(v_tab)\n",
    "\n"
   ]
  },
  {
   "cell_type": "markdown",
   "metadata": {
    "tags": []
   },
   "source": [
    "### (6) Plot results"
   ]
  },
  {
   "cell_type": "code",
   "execution_count": 31,
   "metadata": {},
   "outputs": [
    {
     "data": {
      "image/png": "[encoded data removed]",
      "text/plain": [
       "<Figure size 648x432 with 1 Axes>"
      ]
     },
     "metadata": {
      "needs_background": "light"
     },
     "output_type": "display_data"
    }
   ],
   "source": [
    "# Number of bins in the histogram\n",
    "\n",
    "Nbin = 200\n",
    "\n",
    "Xmin=-15.\n",
    "Xmax= 15.\n",
    "\n",
    "# Plot histogram\n",
    "\n",
    "plt.figure(figsize=(9, 6))\n",
    "\n",
    "plt.hist(v_tab[w_tab],bins=Nbin, range=[Xmin,Xmax], density=True, log=False, histtype='step',linewidth=3)\n",
    "\n",
    "plt.xlabel('x',size=24)\n",
    "plt.ylabel('Fraction per unit value',size=24)\n",
    "plt.xticks(fontsize=20)\n",
    "plt.yticks(fontsize=20)\n",
    "plt.title(\"Distribution of generated values\",size=24)\n",
    "plt.xlim([Xmin,Xmax])\n",
    "\n",
    "# Expected dependence\n",
    "\n",
    "dX = (Xmax-Xmin)/Nbin\n",
    "x_tab = np.linspace(Xmin+dX/2,Xmax-dX/2,Nbin)   # Use points in the middle of the bin\n",
    "y_tab = mylim(x_tab)/np.pi\n",
    "plt.plot(x_tab,y_tab,'--',linewidth=2)\n",
    "\n",
    "fname = '04_generate3_'+str(Nmc)+'.png'\n",
    "plt.savefig(fname)\n",
    "\n",
    "plt.show()"
   ]
  },
  {
   "cell_type": "code",
   "execution_count": 32,
   "metadata": {},
   "outputs": [
    {
     "name": "stdout",
     "output_type": "stream",
     "text": [
      "Generation efficiency:  0.646\n"
     ]
    }
   ],
   "source": [
    "print('Generation efficiency: ',np.sum(w_tab)/Nmc)"
   ]
  },
  {
   "cell_type": "code",
   "execution_count": null,
   "metadata": {},
   "outputs": [],
   "source": []
  }
 ],
 "metadata": {
  "kernelspec": {
   "display_name": "Python 3",
   "language": "python",
   "name": "python3"
  },
  "language_info": {
   "codemirror_mode": {
    "name": "ipython",
    "version": 3
   },
   "file_extension": ".py",
   "mimetype": "text/x-python",
   "name": "python",
   "nbconvert_exporter": "python",
   "pygments_lexer": "ipython3",
   "version": "3.9.7"
  }
 },
 "nbformat": 4,
 "nbformat_minor": 4
}
