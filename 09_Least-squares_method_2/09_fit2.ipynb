{
 "cells": [
  {
   "cell_type": "markdown",
   "metadata": {
    "tags": []
   },
   "source": [
    "# General fit example\n",
    "Author: Aleksander Filip Żarnecki (University of Warsaw)"
   ]
  },
  {
   "cell_type": "markdown",
   "metadata": {
    "tags": []
   },
   "source": [
    "### (0) Import libraries "
   ]
  },
  {
   "cell_type": "code",
   "execution_count": 1,
   "metadata": {},
   "outputs": [],
   "source": [
    "import math\n",
    "import numpy as np\n",
    "import matplotlib.pyplot as plt"
   ]
  },
  {
   "cell_type": "markdown",
   "metadata": {
    "tags": []
   },
   "source": [
    "### (1) Definition of model\n",
    "\n",
    "Consider controlled parameter range is [-1,1]"
   ]
  },
  {
   "cell_type": "code",
   "execution_count": 2,
   "metadata": {},
   "outputs": [],
   "source": [
    "# True functional dependece for data generation (triangle)\n",
    "\n",
    "def mytrue(x):\n",
    "    \n",
    "    tri = x + (x>0.5)*(1-2*x) + (x<-0.5)*(-1-2*x)\n",
    "\n",
    "    return tri"
   ]
  },
  {
   "cell_type": "code",
   "execution_count": 3,
   "metadata": {},
   "outputs": [],
   "source": [
    "# Fit model - sum of terms:  1, sin(ax), cos(ax), sin(2ax), cos(2ax) ...\n",
    "\n",
    "# Basic function (return function values only)\n",
    "\n",
    "def myfun(x,par):\n",
    "\n",
    "    # Scaling factor\n",
    "    \n",
    "    a = par[0]\n",
    "\n",
    "    # output array\n",
    "    \n",
    "    val = np.zeros(x.size)\n",
    "\n",
    "    # Constant term\n",
    "    \n",
    "    val = par[1]\n",
    "\n",
    "    for ip in range(2,par.size,2):\n",
    "        \n",
    "        pw = int(ip/2)\n",
    "\n",
    "        val+=par[ip]*np.sin(pw*a*x)\n",
    "        val+=par[ip+1]*np.cos(pw*a*x)\n",
    "\n",
    "    return val"
   ]
  },
  {
   "cell_type": "code",
   "execution_count": 4,
   "metadata": {},
   "outputs": [],
   "source": [
    "# Full model: returns values and derivatives\n",
    "\n",
    "def myfunder(x,par):\n",
    "\n",
    "    # output arrays\n",
    "    \n",
    "    val = np.zeros(x.size)\n",
    "    der = np.zeros((x.size,par.size))\n",
    "\n",
    "    # Scaling factor (global)\n",
    "    \n",
    "    a = par[0]\n",
    "\n",
    "    # Constant term (global)\n",
    "    \n",
    "    val = par[1]\n",
    "\n",
    "    der[:,1] = 1\n",
    "    \n",
    "    for ip in range(2,par.size,2):\n",
    "        \n",
    "        pw = int(ip/2)\n",
    "\n",
    "        val+=par[ip]*np.sin(pw*a*x)\n",
    "        val+=par[ip+1]*np.cos(pw*a*x)\n",
    "\n",
    "        der[:,ip] = np.sin(pw*a*x)\n",
    "        der[:,ip+1] = np.cos(pw*a*x)\n",
    "        \n",
    "        der[:,0] += par[ip]*pw*x*np.cos(pw*a*x)\n",
    "        der[:,0] -= par[ip+1]*pw*x*np.sin(pw*a*x)\n",
    "        \n",
    "    return val,der"
   ]
  },
  {
   "cell_type": "markdown",
   "metadata": {},
   "source": [
    "### (2) Generate pseudo data to fit"
   ]
  },
  {
   "cell_type": "code",
   "execution_count": 5,
   "metadata": {},
   "outputs": [],
   "source": [
    "# Considered values of x\n",
    "\n",
    "xvec = np.linspace(-0.95,0.95,20)\n",
    "\n",
    "# Measurement precision - assume slow variation with x\n",
    "\n",
    "svec = np.linspace(0.02,0.03,xvec.size)\n",
    "s2vec = svec*svec\n",
    "\n",
    "# Pseudo-data\n",
    "\n",
    "yvec = np.random.normal(mytrue(xvec),svec)\n"
   ]
  },
  {
   "cell_type": "markdown",
   "metadata": {},
   "source": [
    "### (3) Initialize an iterative fit"
   ]
  },
  {
   "cell_type": "code",
   "execution_count": 6,
   "metadata": {},
   "outputs": [
    {
     "name": "stdout",
     "output_type": "stream",
     "text": [
      "\n",
      "Iterative fit procedure starting from parameter values\n",
      "  [ 6.   0.1  0.4 -0.2  0.   0. ]\n",
      "  chi^2 =  7290.558   chi^2/N = 364.52792 \n"
     ]
    }
   ],
   "source": [
    "# Number of function parameters to consider  (must be even!!!)\n",
    "\n",
    "Nfun = 6\n",
    "\n",
    "# Initial guess for parameters\n",
    "\n",
    "parini = np.zeros(Nfun)\n",
    "parini[0] = 6.\n",
    "parini[1] = 0.1\n",
    "parini[2] = 0.4\n",
    "parini[3] = -0.2\n",
    "\n",
    "# Initial function vales\n",
    "\n",
    "fini = myfun(xvec,parini) \n",
    "\n",
    "# Initial printout\n",
    "\n",
    "chi2ini = np.sum((yvec-fini)**2/s2vec)\n",
    "\n",
    "print(\"\\nIterative fit procedure starting from parameter values\")\n",
    "print(\" \",parini)\n",
    "print(\"  chi^2 =  %8.3f   chi^2/N = %8.5f \" % (chi2ini,chi2ini/xvec.size))"
   ]
  },
  {
   "cell_type": "markdown",
   "metadata": {},
   "source": [
    "### (4) Iterative fit procedure"
   ]
  },
  {
   "cell_type": "code",
   "execution_count": 7,
   "metadata": {},
   "outputs": [
    {
     "name": "stdout",
     "output_type": "stream",
     "text": [
      "\n",
      "Iteration step  1  with lambda =  0.01\n",
      "  [ 5.21494755e+00 -8.15790797e-02 -1.65213178e-02  2.09063198e-03\n",
      " -5.78949587e-02  1.40283185e-02]\n",
      "  chi^2 =  2926.016   chi^2/N = 209.00114 \n",
      "  distance to minimum:  5041.600594976873\n",
      "\n",
      "Iteration step  2  with lambda =  0.001\n",
      "  [ 5.88911514 -0.04762511  0.14384168  0.06464969  0.01302072 -0.00692985]\n",
      "  chi^2 =  2920.985   chi^2/N = 208.64176 \n",
      "  distance to minimum:  594.5037922471103\n",
      "\n",
      "Iteration step  3  with lambda =  0.0001\n",
      "  [ 2.82134717 -0.02089761  0.04289126  0.01377859 -0.08285344 -0.0326246 ]\n",
      "  chi^2 =  2659.556   chi^2/N = 189.96832 \n",
      "  distance to minimum:  1293.0022201525812\n",
      "\n",
      "Iteration step  4  with lambda =  1e-05\n",
      "  [ 3.4862355   0.01256547  0.35636767 -0.02283866  0.05350105  0.01522328]\n",
      "  chi^2 =   442.207   chi^2/N = 31.58625 \n",
      "  distance to minimum:  1813.980723937976\n",
      "\n",
      "Iteration step  5  with lambda =  1.0000000000000002e-06\n",
      "  [ 3.06379342e+00  1.85478963e-03  3.97688037e-01  4.39979160e-03\n",
      " -5.85678647e-03  3.25352378e-03]\n",
      "  chi^2 =    74.040   chi^2/N =  5.28857 \n",
      "  distance to minimum:  137.48173550317688\n",
      "\n",
      "Iteration step  6  with lambda =  1.0000000000000002e-07\n",
      "  [ 3.28711393e+00 -2.10834664e-03  4.18956015e-01  8.37708885e-03\n",
      " -2.15702775e-02  5.72618998e-03]\n",
      "  chi^2 =    42.725   chi^2/N =  3.05178 \n",
      "  distance to minimum:  27.898426941823494\n",
      "\n",
      "Iteration step  7  with lambda =  1.0000000000000002e-08\n",
      "  [ 3.26714352e+00 -2.16165491e-03  4.19463149e-01  8.65928762e-03\n",
      " -2.40765455e-02  5.91450993e-03]\n",
      "  chi^2 =    41.715   chi^2/N =  2.97961 \n",
      "  distance to minimum:  0.4150788571370888\n",
      "\n",
      "Iteration step  8  with lambda =  1.0000000000000003e-09\n",
      "  [ 3.26700869e+00 -2.15689415e-03  4.19518230e-01  8.67424099e-03\n",
      " -2.38942805e-02  5.84753950e-03]\n",
      "  chi^2 =    41.714   chi^2/N =  2.97957 \n",
      "  distance to minimum:  0.0004788456093713177\n",
      "\n",
      "Iteration step  9  with lambda =  1.0000000000000003e-10\n",
      "  [ 3.26696976e+00 -2.15620280e-03  4.19516349e-01  8.67278919e-03\n",
      " -2.38866951e-02  5.84890378e-03]\n",
      "  chi^2 =    41.714   chi^2/N =  2.97957 \n",
      "  distance to minimum:  2.009100363745796e-06\n"
     ]
    }
   ],
   "source": [
    "# Main loop\n",
    "\n",
    "lam = 0.01       # Low value -> jump close to minimum, high value -> smaller step along gradient\n",
    "\n",
    "dcut = 0.00001     # Required precision (distance from minimum)\n",
    "\n",
    "chi2min = chi2ini\n",
    "parmin = parini\n",
    "\n",
    "par = parini\n",
    "\n",
    "# History of parameter evolution\n",
    "\n",
    "parhist = []\n",
    "parhist.append(par)\n",
    "\n",
    "Nit = 0\n",
    "\n",
    "Cov = np.zeros((Nfun,Nfun))\n",
    "\n",
    "dist = dcut+1\n",
    "\n",
    "while dist > dcut :\n",
    "\n",
    "    # work space\n",
    "    \n",
    "    A = np.zeros((Nfun,Nfun))\n",
    "    B = np.zeros(Nfun)\n",
    "\n",
    "    # Values and derivatives at the current point\n",
    "    \n",
    "    fval,fder = myfunder(xvec,par)\n",
    "    \n",
    "    dyvec = yvec-fval\n",
    "    \n",
    "    for l in range(Nfun):\n",
    "        B[l] = np.sum(fder[:,l]*dyvec/s2vec)\n",
    "        for k in range(Nfun):\n",
    "            A[l,k] = np.sum(fder[:,l]*fder[:,k]/s2vec)\n",
    "\n",
    "    # Do not try to jump directly to the maximum (lam = 0)\n",
    "\n",
    "    C = np.array(A)\n",
    "    for l in range(Nfun):\n",
    "        C[l,l] += lam\n",
    "        \n",
    "    # Inverse of the matrix\n",
    "\n",
    "    Cinv = np.linalg.inv(C)\n",
    "\n",
    "    # Solution to the problem - required parameter change\n",
    "\n",
    "    dpar = Cinv @ B\n",
    "\n",
    "    # Check new parameter values\n",
    "    \n",
    "    parnew = par+dpar\n",
    "\n",
    "    fnew = myfun(xvec,parnew) \n",
    "\n",
    "    chi2new = np.sum((yvec-fnew)**2/s2vec)\n",
    "\n",
    "    # Distance to minimum (current step length in units of sigma, assuming current errors)\n",
    "\n",
    "    Cov = np.linalg.inv(A)\n",
    "    e2par = np.diagonal(Cov)\n",
    "    dist = np.sum(dpar*dpar/e2par)\n",
    "    \n",
    "    Nit+=1\n",
    "    print(\"\\nIteration step \",Nit,\" with lambda = \",lam)\n",
    "    print(\" \",parnew)\n",
    "    print(\"  chi^2 =  %8.3f   chi^2/N = %8.5f \" % (chi2new,chi2new/(xvec.size-Nfun)))\n",
    "    print(\"  distance to minimum: \",dist)\n",
    "    \n",
    "    if chi2new < chi2min :  # Iteration successful, fit got closer to the minimum\n",
    "        lam /= 10\n",
    "        chi2min = chi2new\n",
    "        par = parnew\n",
    "    else:                   # Iteration failed, reduce step\n",
    "        lam *= 10\n",
    "\n",
    "    parhist.append(par)     # Store step in history"
   ]
  },
  {
   "cell_type": "code",
   "execution_count": 8,
   "metadata": {},
   "outputs": [
    {
     "name": "stdout",
     "output_type": "stream",
     "text": [
      "\n",
      " Fit results:\n",
      "\n",
      "     par         sigma_p\n",
      "\n",
      "     3.267  +/-  0.034 \n",
      "    -0.002  +/-  0.006 \n",
      "     0.420  +/-  0.008 \n",
      "     0.009  +/-  0.008 \n",
      "    -0.024  +/-  0.010 \n",
      "     0.006  +/-  0.008 \n",
      "\n",
      " Correlation matrix\n",
      "\n",
      "[ 1.    -0.11   0.212  0.189 -0.578 -0.22 ]\n",
      "[-0.11   1.     0.149  0.038  0.003 -0.046]\n",
      "[ 0.212  0.149  1.    -0.014 -0.123 -0.141]\n",
      "[ 0.189  0.038 -0.014  1.     0.015  0.057]\n",
      "[-0.578  0.003 -0.123  0.015  1.     0.121]\n",
      "[-0.22  -0.046 -0.141  0.057  0.121  1.   ]\n",
      "\n",
      " chi^2 =    41.714   chi^2/Ndf =  2.97957 \n"
     ]
    }
   ],
   "source": [
    "# Parameter uncertainties \n",
    "# (assuming no need to recalculate Cov, even if there was a slight improvement in the last step)\n",
    "\n",
    "epar = np.sqrt(np.diagonal(Cov))\n",
    "\n",
    "print(\"\\n Fit results:\\n\\n     par         sigma_p\\n\")\n",
    "\n",
    "for ip in range(par.size):\n",
    "    print(\"  %8.3f  +/- %6.3f \" % (par[ip],epar[ip]))\n",
    "\n",
    "# Calculate correlation matrix, including rounding\n",
    "\n",
    "Corr = Cov\n",
    "\n",
    "print(\"\\n Correlation matrix\\n\")\n",
    "for ip in range(par.size):\n",
    "    for jp in range(par.size):\n",
    "        Corr[ip,jp]=int(1000.*Corr[ip,jp]/epar[ip]/epar[jp]+0.5)/1000.\n",
    "        \n",
    "    print(Corr[ip,:])\n",
    "\n",
    "# Fitted function\n",
    "\n",
    "fvec = myfun(xvec,par) \n",
    "\n",
    "# Chi^2 printout\n",
    "\n",
    "chi2 = np.sum((yvec-fvec)**2/s2vec)\n",
    "\n",
    "print(\"\\n chi^2 =  %8.3f   chi^2/Ndf = %8.5f \" % (chi2,chi2/(xvec.size-Nfun)))\n"
   ]
  },
  {
   "cell_type": "code",
   "execution_count": 9,
   "metadata": {},
   "outputs": [
    {
     "data": {
      "image/png": "[encoded data removed]",
      "text/plain": [
       "<Figure size 648x432 with 1 Axes>"
      ]
     },
     "metadata": {
      "needs_background": "light"
     },
     "output_type": "display_data"
    }
   ],
   "source": [
    "plt.figure(figsize=(9, 6))\n",
    "\n",
    "plt.errorbar(xvec,yvec,svec, linestyle='none', marker='o', ms=2, mew=4)\n",
    "\n",
    "plt.plot(xvec,fvec,'--')\n",
    "\n",
    "plt.title('Fit result for Nfun = '+str(Nfun) +'     $\\chi^{2} = $'+str(int(100*chi2+0.5)/100.)+' / '+str(xvec.size-Nfun),size=24)\n",
    "plt.xlabel('x',size=20)\n",
    "plt.ylabel('y(x)',size=20)\n",
    "\n",
    "plt.xticks(fontsize=18)\n",
    "plt.yticks(fontsize=18)\n",
    "plt.grid(which='major', axis='both')\n",
    "\n",
    "fname = '09_fit2_'+str(Nfun)+'.png'\n",
    "plt.savefig(fname)"
   ]
  },
  {
   "cell_type": "markdown",
   "metadata": {
    "tags": []
   },
   "source": [
    "### (5) Draw iteration history"
   ]
  },
  {
   "cell_type": "code",
   "execution_count": 10,
   "metadata": {},
   "outputs": [
    {
     "data": {
      "image/png": "[encoded data removed]",
      "text/plain": [
       "<Figure size 648x432 with 1 Axes>"
      ]
     },
     "metadata": {
      "needs_background": "light"
     },
     "output_type": "display_data"
    }
   ],
   "source": [
    "# Parameters to be ploted\n",
    "\n",
    "ipx=0\n",
    "ipy=2\n",
    "\n",
    "# Expected values (from Fourier series)\n",
    "\n",
    "Amp = 4./np.pi/np.pi;\n",
    "\n",
    "parexp = np.array([np.pi, 0., Amp, 0., 0., 0, -Amp/9., 0., 0., 0, Amp/25., 0., 0., 0, -Amp/49., 0., 0., 0, Amp/81., 0., 0., 0,-Amp/121., 0., 0., 0])\n",
    "\n",
    "parhist=np.array(parhist)\n",
    "\n",
    "plt.figure(figsize=(9, 6))\n",
    "\n",
    "plt.plot(parhist[:,ipx],parhist[:,ipy],'b-o', ms=5)\n",
    "\n",
    "plt.plot(parhist[Nit,ipx],parhist[Nit,ipy],'b-o', ms=10)\n",
    "\n",
    "plt.plot([parexp[ipx]],[parexp[ipy]],'r*', ms=10)\n",
    "\n",
    "plt.title('Fit iterations for Nfun = '+str(Nfun) ,size=24)\n",
    "plt.xlabel('$p_{'+str(ipx)+'}$',size=20)\n",
    "plt.ylabel('$p_{'+str(ipy)+'}$',size=20)\n",
    "\n",
    "plt.xticks(fontsize=18)\n",
    "plt.yticks(fontsize=18)\n",
    "plt.grid(which='major', axis='both')\n",
    "\n",
    "fname = '09_fit2_'+str(Nfun)+'_hist.png'\n",
    "plt.savefig(fname)"
   ]
  },
  {
   "cell_type": "code",
   "execution_count": 11,
   "metadata": {},
   "outputs": [
    {
     "data": {
      "image/png": "[encoded data removed]",
      "text/plain": [
       "<Figure size 648x432 with 1 Axes>"
      ]
     },
     "metadata": {
      "needs_background": "light"
     },
     "output_type": "display_data"
    }
   ],
   "source": [
    "plt.figure(figsize=(9, 6))\n",
    "\n",
    "plt.errorbar(xvec,yvec,svec, linestyle='none', marker='o', ms=2, mew=4)\n",
    "\n",
    "xexp = np.linspace(-0.995,0.995,200)\n",
    "fexp = myfun(xexp,parexp) \n",
    "plt.plot(xexp,fexp,'--')\n",
    "\n",
    "plt.title('Expected shape from Fourier series',size=24)\n",
    "plt.xlabel('x',size=20)\n",
    "plt.ylabel('y(x)',size=20)\n",
    "\n",
    "plt.xticks(fontsize=18)\n",
    "plt.yticks(fontsize=18)\n",
    "plt.grid(which='major', axis='both')\n",
    "\n",
    "fname = '09_fit2_exp.png'\n",
    "plt.savefig(fname)"
   ]
  },
  {
   "cell_type": "code",
   "execution_count": null,
   "metadata": {},
   "outputs": [],
   "source": []
  }
 ],
 "metadata": {
  "kernelspec": {
   "display_name": "Python 3",
   "language": "python",
   "name": "python3"
  },
  "language_info": {
   "codemirror_mode": {
    "name": "ipython",
    "version": 3
   },
   "file_extension": ".py",
   "mimetype": "text/x-python",
   "name": "python",
   "nbconvert_exporter": "python",
   "pygments_lexer": "ipython3",
   "version": "3.9.7"
  }
 },
 "nbformat": 4,
 "nbformat_minor": 4
}
