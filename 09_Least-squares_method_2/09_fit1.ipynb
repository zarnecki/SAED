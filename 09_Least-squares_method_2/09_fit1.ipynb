{
 "cells": [
  {
   "cell_type": "markdown",
   "metadata": {
    "tags": []
   },
   "source": [
    "# General fit example\n",
    "Author: Aleksander Filip Żarnecki (University of Warsaw)"
   ]
  },
  {
   "cell_type": "markdown",
   "metadata": {
    "tags": []
   },
   "source": [
    "### (0) Import libraries "
   ]
  },
  {
   "cell_type": "code",
   "execution_count": 1,
   "metadata": {},
   "outputs": [],
   "source": [
    "import math\n",
    "import numpy as np\n",
    "import matplotlib.pyplot as plt"
   ]
  },
  {
   "cell_type": "markdown",
   "metadata": {
    "tags": []
   },
   "source": [
    "### (1) Definition of model\n",
    "\n",
    "Consider controlled parameter range is [-1,1]"
   ]
  },
  {
   "cell_type": "code",
   "execution_count": 2,
   "metadata": {},
   "outputs": [],
   "source": [
    "# True functional dependece for data generation (triangle)\n",
    "\n",
    "def mytrue(x):\n",
    "    \n",
    "    tri = x + (x>0.5)*(1-2*x) + (x<-0.5)*(-1-2*x)\n",
    "\n",
    "    return tri"
   ]
  },
  {
   "cell_type": "code",
   "execution_count": 3,
   "metadata": {},
   "outputs": [],
   "source": [
    "# Fit model - sum of terms:  1, sin(ax), cos(ax), sin(2ax), cos(2ax) ...\n",
    "\n",
    "# Basic function (return function values only)\n",
    "\n",
    "def myfun(x,par):\n",
    "\n",
    "    # Scaling factor\n",
    "    \n",
    "    a = par[0]\n",
    "\n",
    "    # output array\n",
    "    \n",
    "    val = np.zeros(x.size)\n",
    "\n",
    "    # Constant term\n",
    "    \n",
    "    val = par[1]\n",
    "\n",
    "    for ip in range(2,par.size,2):\n",
    "        \n",
    "        pw = int(ip/2)\n",
    "\n",
    "        val+=par[ip]*np.sin(pw*a*x)\n",
    "        val+=par[ip+1]*np.cos(pw*a*x)\n",
    "\n",
    "    return val"
   ]
  },
  {
   "cell_type": "code",
   "execution_count": 4,
   "metadata": {},
   "outputs": [],
   "source": [
    "# Full model: returns values and derivatives\n",
    "\n",
    "def myfunder(x,par):\n",
    "\n",
    "    # output arrays\n",
    "    \n",
    "    val = np.zeros(x.size)\n",
    "    der = np.zeros((x.size,par.size))\n",
    "\n",
    "    # Scaling factor (global)\n",
    "    \n",
    "    a = par[0]\n",
    "\n",
    "    # Constant term (global)\n",
    "    \n",
    "    val = par[1]\n",
    "\n",
    "    der[:,1] = 1\n",
    "    \n",
    "    for ip in range(2,par.size,2):\n",
    "        \n",
    "        pw = int(ip/2)\n",
    "\n",
    "        val+=par[ip]*np.sin(pw*a*x)\n",
    "        val+=par[ip+1]*np.cos(pw*a*x)\n",
    "\n",
    "        der[:,ip] = np.sin(pw*a*x)\n",
    "        der[:,ip+1] = np.cos(pw*a*x)\n",
    "        \n",
    "        der[:,0] += par[ip]*pw*x*np.cos(pw*a*x)\n",
    "        der[:,0] -= par[ip+1]*pw*x*np.sin(pw*a*x)\n",
    "        \n",
    "    return val,der"
   ]
  },
  {
   "cell_type": "markdown",
   "metadata": {},
   "source": [
    "### (2) Generate pseudo data to fit"
   ]
  },
  {
   "cell_type": "code",
   "execution_count": 5,
   "metadata": {},
   "outputs": [],
   "source": [
    "# Considered values of x\n",
    "\n",
    "xvec = np.linspace(-0.95,0.95,20)\n",
    "\n",
    "# Measurement precision - assume slow variation with x\n",
    "\n",
    "svec = np.linspace(0.02,0.03,xvec.size)\n",
    "s2vec = svec*svec\n",
    "\n",
    "# Pseudo-data\n",
    "\n",
    "yvec = np.random.normal(mytrue(xvec),svec)\n"
   ]
  },
  {
   "cell_type": "markdown",
   "metadata": {},
   "source": [
    "### (3) Initialize an iterative fit"
   ]
  },
  {
   "cell_type": "code",
   "execution_count": 6,
   "metadata": {},
   "outputs": [
    {
     "name": "stdout",
     "output_type": "stream",
     "text": [
      "\n",
      "Iterative fit procedure starting from parameter values\n",
      "  [3.  0.  0.5 0. ]\n",
      "  chi^2 =   327.757   chi^2/N = 16.38787 \n"
     ]
    }
   ],
   "source": [
    "# Number of function parameters to consider  (must be even!!!)\n",
    "\n",
    "Nfun = 4\n",
    "\n",
    "# Initial guess for parameters\n",
    "\n",
    "parini = np.zeros(Nfun)\n",
    "parini[0] = 3.\n",
    "parini[1] = 0.\n",
    "parini[2] = 0.5\n",
    "parini[3] = 0.\n",
    "\n",
    "# Initial function vales\n",
    "\n",
    "fini = myfun(xvec,parini) \n",
    "\n",
    "# Initial printout\n",
    "\n",
    "chi2ini = np.sum((yvec-fini)**2/s2vec)\n",
    "\n",
    "print(\"\\nIterative fit procedure starting from parameter values\")\n",
    "print(\" \",parini)\n",
    "print(\"  chi^2 =  %8.3f   chi^2/N = %8.5f \" % (chi2ini,chi2ini/xvec.size))"
   ]
  },
  {
   "cell_type": "code",
   "execution_count": 7,
   "metadata": {},
   "outputs": [
    {
     "data": {
      "image/png": "[encoded data removed]",
      "text/plain": [
       "<Figure size 648x432 with 1 Axes>"
      ]
     },
     "metadata": {
      "needs_background": "light"
     },
     "output_type": "display_data"
    }
   ],
   "source": [
    "plt.figure(figsize=(9, 6))\n",
    "\n",
    "plt.errorbar(xvec,yvec,svec, linestyle='none', marker='o', ms=2, mew=4)\n",
    "\n",
    "plt.plot(xvec,fini,'--')\n",
    "\n",
    "plt.title('Initial function for  Nfun = '+str(Nfun) +'     $\\chi^{2} = $'+str(int(100*chi2ini+0.5)/100.)+' / '+str(xvec.size-Nfun),size=24)\n",
    "plt.xlabel('x',size=20)\n",
    "plt.ylabel('y(x)',size=20)\n",
    "\n",
    "plt.xticks(fontsize=18)\n",
    "plt.yticks(fontsize=18)\n",
    "plt.grid(which='major', axis='both')\n",
    "\n",
    "fname = '09_fit1_ini.png'\n",
    "plt.savefig(fname)"
   ]
  },
  {
   "cell_type": "markdown",
   "metadata": {},
   "source": [
    "### (4) Iterative fit procedure"
   ]
  },
  {
   "cell_type": "code",
   "execution_count": 8,
   "metadata": {},
   "outputs": [
    {
     "name": "stdout",
     "output_type": "stream",
     "text": [
      "\n",
      "Iteration step  1  with lambda =  0.01\n",
      "  [ 3.21206042e+00 -5.49874878e-04  4.05820622e-01 -5.86231549e-03]\n",
      "  chi^2 =    41.268   chi^2/N =  2.57924 \n",
      "  distance to minimum:  194.87736606618216\n",
      "\n",
      "Iteration step  2  with lambda =  0.001\n",
      "  [ 3.25079276e+00 -9.96641482e-04  4.09036083e-01 -5.81851207e-03]\n",
      "  chi^2 =    39.659   chi^2/N =  2.47867 \n",
      "  distance to minimum:  1.6531940190400511\n",
      "\n",
      "Iteration step  3  with lambda =  0.0001\n",
      "  [ 3.25016859e+00 -9.91012138e-04  4.09098999e-01 -5.85912739e-03]\n",
      "  chi^2 =    39.658   chi^2/N =  2.47864 \n",
      "  distance to minimum:  0.0004912117709635443\n",
      "\n",
      "Iteration step  4  with lambda =  1e-05\n",
      "  [ 3.25017177e+00 -9.91068776e-04  4.09099175e-01 -5.85847756e-03]\n",
      "  chi^2 =    39.658   chi^2/N =  2.47864 \n",
      "  distance to minimum:  1.7899364497588516e-08\n"
     ]
    }
   ],
   "source": [
    "# Main loop\n",
    "\n",
    "lam = 0.01       # Low value -> jump close to minimum, high value -> smaller step along gradient\n",
    "\n",
    "dcut = 0.00001     # Required precision (distance from minimum)\n",
    "\n",
    "chi2min = chi2ini\n",
    "parmin = parini\n",
    "\n",
    "par = parini\n",
    "\n",
    "Nit = 0\n",
    "\n",
    "Cov = np.zeros((Nfun,Nfun))\n",
    "\n",
    "dist = dcut+1\n",
    "\n",
    "while dist > dcut :\n",
    "\n",
    "    # work space\n",
    "    \n",
    "    A = np.zeros((Nfun,Nfun))\n",
    "    B = np.zeros(Nfun)\n",
    "\n",
    "    # Values and derivatives at the current point\n",
    "    \n",
    "    fval,fder = myfunder(xvec,par)\n",
    "    \n",
    "    dyvec = yvec-fval\n",
    "    \n",
    "    for l in range(Nfun):\n",
    "        B[l] = np.sum(fder[:,l]*dyvec/s2vec)\n",
    "        for k in range(Nfun):\n",
    "            A[l,k] = np.sum(fder[:,l]*fder[:,k]/s2vec)\n",
    "\n",
    "    # Do not try to jump directly to the maximum (lam = 0)\n",
    "\n",
    "    C = np.array(A)\n",
    "    for l in range(Nfun):\n",
    "        C[l,l] += lam\n",
    "        \n",
    "    # Inverse of the matrix\n",
    "\n",
    "    Cinv = np.linalg.inv(C)\n",
    "\n",
    "    # Solution to the problem - required parameter change\n",
    "\n",
    "    dpar = Cinv @ B\n",
    "\n",
    "    # Check new parameter values\n",
    "    \n",
    "    parnew = par+dpar\n",
    "\n",
    "    fnew = myfun(xvec,parnew) \n",
    "\n",
    "    chi2new = np.sum((yvec-fnew)**2/s2vec)\n",
    "\n",
    "    # Estimate the distance to minimum from current step (in units of current errors)\n",
    "\n",
    "    Cov = np.linalg.inv(A)\n",
    "    e2par = np.diagonal(Cov)\n",
    "    dist = np.sum(dpar*dpar/e2par)\n",
    "    \n",
    "    Nit+=1\n",
    "    print(\"\\nIteration step \",Nit,\" with lambda = \",lam)\n",
    "    print(\" \",parnew)\n",
    "    print(\"  chi^2 =  %8.3f   chi^2/N = %8.5f \" % (chi2new,chi2new/(xvec.size-Nfun)))\n",
    "    print(\"  distance to minimum: \",dist)\n",
    "    \n",
    "    if chi2new < chi2min :  # Iteration successful, fit got closer to the minimum\n",
    "        lam /= 10\n",
    "        chi2min = chi2new\n",
    "        par = parnew\n",
    "    else:                   # Iteration failed, reduce step\n",
    "        lam *= 10\n"
   ]
  },
  {
   "cell_type": "code",
   "execution_count": 9,
   "metadata": {},
   "outputs": [
    {
     "name": "stdout",
     "output_type": "stream",
     "text": [
      "\n",
      " Fit results:\n",
      "\n",
      "     par         sigma_p\n",
      "\n",
      "     3.250  +/-  0.031 \n",
      "    -0.001  +/-  0.006 \n",
      "     0.409  +/-  0.008 \n",
      "    -0.006  +/-  0.008 \n",
      "\n",
      " Correlation matrix\n",
      "\n",
      "[ 1.    -0.157  0.212  0.25 ]\n",
      "[-0.157  1.     0.135  0.031]\n",
      "[0.212 0.135 1.    0.006]\n",
      "[0.25  0.031 0.006 1.   ]\n",
      "\n",
      " chi^2 =    39.658   chi^2/Ndf =  2.47864 \n"
     ]
    }
   ],
   "source": [
    "# Parameter uncertainties \n",
    "# (assuming no need to recalculate Cov, even if there was a slight improvement in the last step)\n",
    "\n",
    "epar = np.sqrt(np.diagonal(Cov))\n",
    "\n",
    "print(\"\\n Fit results:\\n\\n     par         sigma_p\\n\")\n",
    "\n",
    "for ip in range(par.size):\n",
    "    print(\"  %8.3f  +/- %6.3f \" % (par[ip],epar[ip]))\n",
    "\n",
    "# Calculate correlation matrix, including rounding\n",
    "\n",
    "Corr = Cov\n",
    "\n",
    "print(\"\\n Correlation matrix\\n\")\n",
    "for ip in range(par.size):\n",
    "    for jp in range(par.size):\n",
    "        Corr[ip,jp]=int(1000.*Corr[ip,jp]/epar[ip]/epar[jp]+0.5)/1000.\n",
    "        \n",
    "    print(Corr[ip,:])\n",
    "\n",
    "# Fitted function\n",
    "\n",
    "fvec = myfun(xvec,par) \n",
    "\n",
    "# Chi^2 printout\n",
    "\n",
    "chi2 = np.sum((yvec-fvec)**2/s2vec)\n",
    "\n",
    "print(\"\\n chi^2 =  %8.3f   chi^2/Ndf = %8.5f \" % (chi2,chi2/(xvec.size-Nfun)))\n"
   ]
  },
  {
   "cell_type": "code",
   "execution_count": 10,
   "metadata": {},
   "outputs": [
    {
     "data": {
      "image/png": "[encoded data removed]",
      "text/plain": [
       "<Figure size 648x432 with 1 Axes>"
      ]
     },
     "metadata": {
      "needs_background": "light"
     },
     "output_type": "display_data"
    }
   ],
   "source": [
    "plt.figure(figsize=(9, 6))\n",
    "\n",
    "plt.errorbar(xvec,yvec,svec, linestyle='none', marker='o', ms=2, mew=4)\n",
    "\n",
    "plt.plot(xvec,fvec,'--')\n",
    "\n",
    "plt.title('Fit result for Nfun = '+str(Nfun) +'     $\\chi^{2} = $'+str(int(100*chi2+0.5)/100.)+' / '+str(xvec.size-Nfun),size=24)\n",
    "plt.xlabel('x',size=20)\n",
    "plt.ylabel('y(x)',size=20)\n",
    "\n",
    "plt.xticks(fontsize=18)\n",
    "plt.yticks(fontsize=18)\n",
    "plt.grid(which='major', axis='both')\n",
    "\n",
    "fname = '09_fit1_'+str(Nfun)+'.png'\n",
    "plt.savefig(fname)"
   ]
  },
  {
   "cell_type": "code",
   "execution_count": null,
   "metadata": {},
   "outputs": [],
   "source": []
  }
 ],
 "metadata": {
  "kernelspec": {
   "display_name": "Python 3",
   "language": "python",
   "name": "python3"
  },
  "language_info": {
   "codemirror_mode": {
    "name": "ipython",
    "version": 3
   },
   "file_extension": ".py",
   "mimetype": "text/x-python",
   "name": "python",
   "nbconvert_exporter": "python",
   "pygments_lexer": "ipython3",
   "version": "3.9.7"
  }
 },
 "nbformat": 4,
 "nbformat_minor": 4
}
