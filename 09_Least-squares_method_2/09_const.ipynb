{
 "cells": [
  {
   "cell_type": "markdown",
   "metadata": {
    "tags": []
   },
   "source": [
    "# Linear fit with constraint\n",
    "Author: Aleksander Filip Żarnecki (University of Warsaw)"
   ]
  },
  {
   "cell_type": "markdown",
   "metadata": {
    "tags": []
   },
   "source": [
    "### (0) Import libraries "
   ]
  },
  {
   "cell_type": "code",
   "execution_count": 1,
   "metadata": {},
   "outputs": [],
   "source": [
    "import math\n",
    "import numpy as np\n",
    "import matplotlib.pyplot as plt\n",
    "\n",
    "from scipy.stats import f"
   ]
  },
  {
   "cell_type": "markdown",
   "metadata": {
    "tags": []
   },
   "source": [
    "### (1) Definition of model\n",
    "\n",
    "Consider controlled parameter range is [-1,1]"
   ]
  },
  {
   "cell_type": "code",
   "execution_count": 2,
   "metadata": {},
   "outputs": [],
   "source": [
    "# True functional dependece: sin(x)\n",
    "\n",
    "def mytrue(x):\n",
    "    \n",
    "    val = np.sin(x*np.pi)\n",
    "\n",
    "    return val\n",
    "\n",
    "# Basic functions:  1, x, x^2, x^3 ...\n",
    "\n",
    "def myfun(x,ifun):\n",
    "\n",
    "    return np.power(x,ifun)\n",
    "\n",
    "# Full polynomial model\n",
    "\n",
    "def mymodel(x,par):\n",
    "\n",
    "    val = np.zeros(x.size)\n",
    "    \n",
    "    for ip in range(par.size):\n",
    "        val+=par[ip]*myfun(x,ip)\n",
    "        \n",
    "    return val\n"
   ]
  },
  {
   "cell_type": "markdown",
   "metadata": {},
   "source": [
    "### (2) Generate pseudo data to fit"
   ]
  },
  {
   "cell_type": "code",
   "execution_count": 3,
   "metadata": {},
   "outputs": [],
   "source": [
    "# Considered values of x\n",
    "\n",
    "xvec = np.linspace(-0.95,0.95,20)\n",
    "\n",
    "# Measurement precision (high)\n",
    "\n",
    "svec = np.linspace(0.02,0.03,xvec.size)\n",
    "s2vec = svec*svec\n",
    "\n",
    "# Pseudo-data\n",
    "\n",
    "yvec = np.random.normal(mytrue(xvec),svec)\n"
   ]
  },
  {
   "cell_type": "markdown",
   "metadata": {},
   "source": [
    "### (3)  Linear fit without constraint"
   ]
  },
  {
   "cell_type": "code",
   "execution_count": 4,
   "metadata": {},
   "outputs": [
    {
     "name": "stdout",
     "output_type": "stream",
     "text": [
      "\n",
      " Fit results:\n",
      "\n",
      "     par         sigma_p\n",
      "\n",
      "     0.007  +/-  0.008 \n",
      "     2.673  +/-  0.024 \n",
      "    -0.016  +/-  0.019 \n",
      "    -2.887  +/-  0.037 \n",
      "\n",
      " Correlation matrix\n",
      "\n",
      "[ 1.     0.144 -0.743 -0.156]\n",
      "[ 0.144  1.    -0.105 -0.913]\n",
      "[-0.743 -0.105  1.     0.209]\n",
      "[-0.156 -0.913  0.209  1.   ]\n",
      "\n",
      " chi^2 =   133.164   chi^2/Ndf =  8.32278 \n"
     ]
    }
   ],
   "source": [
    "# Number of model functions to consider \n",
    "\n",
    "Nfun = 4\n",
    "\n",
    "A = np.zeros((Nfun,Nfun))\n",
    "\n",
    "B = np.zeros(Nfun)\n",
    "\n",
    "for l in range(Nfun):\n",
    "    fl = myfun(xvec,l)\n",
    "    B[l] = np.sum(fl*yvec/s2vec)\n",
    "    for k in range(Nfun):\n",
    "        fk = myfun(xvec,k)\n",
    "        A[l,k] = np.sum(fl*fk/s2vec)\n",
    "\n",
    "\n",
    "# Inverse of matrix\n",
    "\n",
    "Cov = np.linalg.inv(A)\n",
    "\n",
    "# Solution to the problem\n",
    "\n",
    "par = Cov @ B\n",
    "\n",
    "# Parameter uncertainties\n",
    "\n",
    "epar = np.sqrt(np.diagonal(Cov))\n",
    "\n",
    "print(\"\\n Fit results:\\n\\n     par         sigma_p\\n\")\n",
    "\n",
    "for ip in range(par.size):\n",
    "    print(\"  %8.3f  +/- %6.3f \" % (par[ip],epar[ip]))\n",
    "\n",
    "# Calculate correlation matrix, including rounding\n",
    "\n",
    "Corr = Cov\n",
    "\n",
    "print(\"\\n Correlation matrix\\n\")\n",
    "for ip in range(par.size):\n",
    "    for jp in range(par.size):\n",
    "        Corr[ip,jp]=int(1000.*Corr[ip,jp]/epar[ip]/epar[jp]+0.5)/1000.\n",
    "        \n",
    "    print(Corr[ip,:])\n",
    "\n",
    "# Fitted function\n",
    "\n",
    "fvec = mymodel(xvec,par) \n",
    "\n",
    "# Chi^2 printout\n",
    "\n",
    "chi2 = np.sum((yvec-fvec)**2/s2vec)\n",
    "\n",
    "print(\"\\n chi^2 =  %8.3f   chi^2/Ndf = %8.5f \" % (chi2,chi2/(xvec.size-Nfun)))\n",
    "\n",
    "# print(\"\\n  x       y         f(x) \")\n",
    "# for ix in range(xvec.size):\n",
    "#     print(\"%6.3f  %8.5f  %8.5f \" % (xvec[ix],yvec[ix],fvec[ix]))"
   ]
  },
  {
   "cell_type": "markdown",
   "metadata": {},
   "source": [
    "### (4)  Linear fit with constraint"
   ]
  },
  {
   "cell_type": "code",
   "execution_count": 5,
   "metadata": {},
   "outputs": [],
   "source": [
    "# Number of constraints\n",
    "\n",
    "Ncon = 3\n",
    "\n",
    "# Constraints given in matrix form    D @ par = E\n",
    "\n",
    "D = np.zeros((Ncon,Nfun))\n",
    "E = np.zeros(Ncon)\n",
    "\n",
    "# First constraing: value at 0 is 0\n",
    "\n",
    "D[0,0] = 1.0\n",
    "E[0] = 0.0\n",
    "\n",
    "# Second constraint: value at 1 is 0\n",
    "\n",
    "for l in range(Nfun):\n",
    "    D[1,l]=1.0\n",
    "\n",
    "E[1] = 0.0\n",
    "    \n",
    "# Third constraint: value at 1 is 0\n",
    "\n",
    "for l in range(Nfun):\n",
    "    D[2,l]=np.power(-1.0,l)\n",
    "\n",
    "E[2] = 0.0\n"
   ]
  },
  {
   "cell_type": "code",
   "execution_count": 6,
   "metadata": {},
   "outputs": [],
   "source": [
    "# Work arrays for new fit\n",
    "\n",
    "Ac = np.zeros((Nfun+Ncon,Nfun+Ncon))\n",
    "\n",
    "Bc = np.zeros(Nfun+Ncon)\n",
    "\n",
    "for l in range(Nfun):\n",
    "    fl = myfun(xvec,l)\n",
    "    Bc[l] = np.sum(fl*yvec/s2vec)\n",
    "    for k in range(Nfun):\n",
    "        fk = myfun(xvec,k)\n",
    "        Ac[l,k] = np.sum(fl*fk/s2vec)\n",
    "\n",
    "# Add constraints\n",
    "\n",
    "    for k in range(Nfun,Nfun+Ncon):\n",
    "        Ac[k,l] = D[k-Nfun,l]\n",
    "        Ac[l,k] = D[k-Nfun,l]\n",
    "\n",
    "for l in range(Nfun,Nfun+Ncon):\n",
    "    Bc[l]=E[l-Nfun]\n"
   ]
  },
  {
   "cell_type": "code",
   "execution_count": 7,
   "metadata": {},
   "outputs": [
    {
     "name": "stdout",
     "output_type": "stream",
     "text": [
      "\n",
      " Fit results:\n",
      "\n",
      "     par         sigma_p\n",
      "\n",
      "    -0.000  +/-  0.000 \n",
      "     2.505  +/-  0.020 \n",
      "    -0.000  +/-  0.000 \n",
      "    -2.505  +/-  0.020 \n",
      "\n",
      " chi^2 =   284.963   chi^2/Ndf = 17.81021 \n"
     ]
    }
   ],
   "source": [
    "# Inverse of matrix\n",
    "\n",
    "CCov = np.linalg.inv(Ac)\n",
    "\n",
    "# Solution to the problem\n",
    "\n",
    "parc = CCov @ Bc\n",
    "\n",
    "# Parameter uncertainties\n",
    "# consider covariance matrix for parameters only\n",
    "\n",
    "Cpar = CCov[:Nfun,:Nfun]\n",
    "\n",
    "eparc = np.sqrt(np.diagonal(Cpar))\n",
    "\n",
    "print(\"\\n Fit results:\\n\\n     par         sigma_p\\n\")\n",
    "\n",
    "for ip in range(Nfun):\n",
    "    print(\"  %8.3f  +/- %6.3f \" % (parc[ip],eparc[ip]))\n",
    "\n",
    "# Fitted function\n",
    "\n",
    "fcvec = mymodel(xvec,parc[:Nfun]) \n",
    "\n",
    "# Chi^2 printout\n",
    "\n",
    "chi2c = np.sum((yvec-fcvec)**2/s2vec)\n",
    "\n",
    "print(\"\\n chi^2 =  %8.3f   chi^2/Ndf = %8.5f \" % (chi2c,chi2c/(xvec.size-Nfun)))\n",
    "\n",
    "# print(\"\\n  x       y         f(x) \")\n",
    "# for ix in range(xvec.size):\n",
    "#     print(\"%6.3f  %8.5f  %8.5f \" % (xvec[ix],yvec[ix],fcvec[ix]))"
   ]
  },
  {
   "cell_type": "code",
   "execution_count": 8,
   "metadata": {},
   "outputs": [
    {
     "name": "stdout",
     "output_type": "stream",
     "text": [
      "\n",
      " F statistics for constraint: 6.080 \n",
      "\n",
      " Statistical fluctuation probability p = 0.0058\n"
     ]
    }
   ],
   "source": [
    "\n",
    "dchi = chi2c - chi2\n",
    "\n",
    "F = (dchi/Ncon)/(chi2/(xvec.size-Nfun))\n",
    "\n",
    "print(\"\\n F statistics for constraint: %.3f \" % (F))\n",
    "\n",
    "p = f.sf(F,Ncon,xvec.size-Nfun)\n",
    "\n",
    "print(\"\\n Statistical fluctuation probability p = %.3g\" % (p))\n"
   ]
  },
  {
   "cell_type": "markdown",
   "metadata": {},
   "source": [
    "### (5) Draw data and fit"
   ]
  },
  {
   "cell_type": "code",
   "execution_count": 12,
   "metadata": {},
   "outputs": [
    {
     "data": {
      "image/png": "[encoded data removed]",
      "text/plain": [
       "<Figure size 648x432 with 1 Axes>"
      ]
     },
     "metadata": {
      "needs_background": "light"
     },
     "output_type": "display_data"
    }
   ],
   "source": [
    "plt.figure(figsize=(9, 6))\n",
    "\n",
    "plt.errorbar(xvec,yvec,svec, linestyle='none', marker='o', ms=2, mew=4)\n",
    "\n",
    "plt.plot(xvec,fvec,'r--')\n",
    "plt.plot(xvec,fcvec,'b--')\n",
    "\n",
    "plt.title('Npar = '+str(Nfun)+'   full(red):  $\\chi^{2}$ = '+str(int(100*chi2+0.5)/100.)+' / '+str(xvec.size-Nfun)\n",
    "                +'     const.(blue): $\\chi^{2}$ = '+str(int(100*chi2c+0.5)/100.)+' / '+str(xvec.size-Nfun+Ncon)\n",
    "                +'     p = '+str(round(p,5)),size=16)\n",
    "    \n",
    "plt.xlabel('x',size=20)\n",
    "plt.ylabel('y(x)',size=20)\n",
    "\n",
    "plt.xticks(fontsize=18)\n",
    "plt.yticks(fontsize=18)\n",
    "plt.grid(which='major', axis='both')\n",
    "\n",
    "fname = '09_const_'+str(Nfun)+'.png'\n",
    "plt.savefig(fname)"
   ]
  },
  {
   "cell_type": "code",
   "execution_count": null,
   "metadata": {},
   "outputs": [],
   "source": []
  }
 ],
 "metadata": {
  "kernelspec": {
   "display_name": "Python 3",
   "language": "python",
   "name": "python3"
  },
  "language_info": {
   "codemirror_mode": {
    "name": "ipython",
    "version": 3
   },
   "file_extension": ".py",
   "mimetype": "text/x-python",
   "name": "python",
   "nbconvert_exporter": "python",
   "pygments_lexer": "ipython3",
   "version": "3.9.7"
  }
 },
 "nbformat": 4,
 "nbformat_minor": 4
}
