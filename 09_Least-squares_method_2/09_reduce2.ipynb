{
 "cells": [
  {
   "cell_type": "markdown",
   "metadata": {
    "tags": []
   },
   "source": [
    "# Linear fit with constraints - elimination (2)\n",
    "Author: Aleksander Filip Żarnecki (University of Warsaw)"
   ]
  },
  {
   "cell_type": "markdown",
   "metadata": {
    "tags": []
   },
   "source": [
    "### (0) Import libraries "
   ]
  },
  {
   "cell_type": "code",
   "execution_count": 1,
   "metadata": {},
   "outputs": [],
   "source": [
    "import math\n",
    "import numpy as np\n",
    "import matplotlib.pyplot as plt\n",
    "\n",
    "from scipy.stats import f"
   ]
  },
  {
   "cell_type": "markdown",
   "metadata": {
    "tags": []
   },
   "source": [
    "### (1) Definition of model\n",
    "\n",
    "Consider controlled parameter range is [-1,1]"
   ]
  },
  {
   "cell_type": "code",
   "execution_count": 8,
   "metadata": {},
   "outputs": [],
   "source": [
    "# True functional dependece (with offset !)\n",
    "\n",
    "def mytrue(x):\n",
    "    \n",
    "    val = 0.55 + 0.5*np.cos(x*np.pi + 0.5*np.cos(x*np.pi/2.))\n",
    "\n",
    "    return val\n",
    "\n",
    "# Basic functions:  1, x, x^2, x^3 ...\n",
    "\n",
    "def myfun(x,ifun):\n",
    "\n",
    "    return np.power(x,ifun)\n",
    "\n",
    "# Full model\n",
    "\n",
    "def mymodel(x,par):\n",
    "\n",
    "    val = np.zeros(x.size)\n",
    "    \n",
    "    for ip in range(par.size):\n",
    "        val+=par[ip]*myfun(x,ip)\n",
    "        \n",
    "    return val\n"
   ]
  },
  {
   "cell_type": "markdown",
   "metadata": {},
   "source": [
    "### (2) Generate pseudo data to fit"
   ]
  },
  {
   "cell_type": "code",
   "execution_count": 3,
   "metadata": {},
   "outputs": [],
   "source": [
    "# Considered values of x\n",
    "\n",
    "xvec = np.linspace(-0.95,0.95,20)\n",
    "\n",
    "# Measurement precision\n",
    "\n",
    "svec = np.linspace(0.02,0.03,xvec.size)\n",
    "s2vec = svec*svec\n",
    "\n",
    "# Pseudo-data\n",
    "\n",
    "yvec = np.random.normal(mytrue(xvec),svec)\n"
   ]
  },
  {
   "cell_type": "markdown",
   "metadata": {},
   "source": [
    "### (3)  Linear fit without constraint"
   ]
  },
  {
   "cell_type": "code",
   "execution_count": 4,
   "metadata": {},
   "outputs": [
    {
     "name": "stdout",
     "output_type": "stream",
     "text": [
      "\n",
      " Fit results:\n",
      "\n",
      "     par         sigma_p\n",
      "\n",
      "     0.996  +/-  0.011 \n",
      "    -0.745  +/-  0.043 \n",
      "    -2.058  +/-  0.068 \n",
      "     1.728  +/-  0.173 \n",
      "     1.120  +/-  0.077 \n",
      "    -1.027  +/-  0.155 \n",
      "\n",
      " Correlation matrix\n",
      "\n",
      "[ 1.     0.102 -0.745 -0.12   0.603  0.124]\n",
      "[ 0.102  1.    -0.074 -0.914  0.06   0.82 ]\n",
      "[-0.745 -0.074  1.     0.161 -0.959 -0.194]\n",
      "[-0.12  -0.914  0.161  1.    -0.152 -0.975]\n",
      "[ 0.603  0.06  -0.959 -0.152  1.     0.203]\n",
      "[ 0.124  0.82  -0.194 -0.975  0.203  1.   ]\n",
      "\n",
      " chi^2 =    10.717   chi^2/Ndf =  0.76552 \n"
     ]
    }
   ],
   "source": [
    "# Number of model functions to consider \n",
    "\n",
    "Nfun = 6\n",
    "\n",
    "A = np.zeros((Nfun,Nfun))\n",
    "\n",
    "B = np.zeros(Nfun)\n",
    "\n",
    "for l in range(Nfun):\n",
    "    fl = myfun(xvec,l)\n",
    "    B[l] = np.sum(fl*yvec/s2vec)\n",
    "    for k in range(Nfun):\n",
    "        fk = myfun(xvec,k)\n",
    "        A[l,k] = np.sum(fl*fk/s2vec)\n",
    "\n",
    "\n",
    "# Inverse of matrix\n",
    "\n",
    "Cov = np.linalg.inv(A)\n",
    "\n",
    "# Solution to the problem\n",
    "\n",
    "par = Cov @ B\n",
    "\n",
    "# Parameter uncertainties\n",
    "\n",
    "epar = np.sqrt(np.diagonal(Cov))\n",
    "\n",
    "print(\"\\n Fit results:\\n\\n     par         sigma_p\\n\")\n",
    "\n",
    "for ip in range(par.size):\n",
    "    print(\"  %8.3f  +/- %6.3f \" % (par[ip],epar[ip]))\n",
    "\n",
    "# Calculate correlation matrix, including rounding\n",
    "\n",
    "Corr = Cov\n",
    "\n",
    "print(\"\\n Correlation matrix\\n\")\n",
    "for ip in range(par.size):\n",
    "    for jp in range(par.size):\n",
    "        Corr[ip,jp]=int(1000.*Corr[ip,jp]/epar[ip]/epar[jp]+0.5)/1000.\n",
    "        \n",
    "    print(Corr[ip,:])\n",
    "\n",
    "# Fitted function\n",
    "\n",
    "fvec = mymodel(xvec,par) \n",
    "\n",
    "# Chi^2 printout\n",
    "\n",
    "chi2 = np.sum((yvec-fvec)**2/s2vec)\n",
    "\n",
    "print(\"\\n chi^2 =  %8.3f   chi^2/Ndf = %8.5f \" % (chi2,chi2/(xvec.size-Nfun)))\n",
    "\n",
    "# print(\"\\n  x       y         f(x) \")\n",
    "# for ix in range(xvec.size):\n",
    "#     print(\"%6.3f  %8.5f  %8.5f \" % (xvec[ix],yvec[ix],fvec[ix]))"
   ]
  },
  {
   "cell_type": "markdown",
   "metadata": {},
   "source": [
    "### (4)  Linear fit of reduced model"
   ]
  },
  {
   "cell_type": "code",
   "execution_count": 5,
   "metadata": {},
   "outputs": [
    {
     "name": "stdout",
     "output_type": "stream",
     "text": [
      "\n",
      " Fit results:\n",
      "\n",
      "     par         sigma_p\n",
      "\n",
      "     0.988  +/-  0.010 \n",
      "    -0.702  +/-  0.039 \n",
      "    -1.957  +/-  0.054 \n",
      "     1.497  +/-  0.134 \n",
      "\n",
      " Correlation matrix\n",
      "\n",
      "[ 1.     0.109 -0.754 -0.125]\n",
      "[ 0.109  1.    -0.08  -0.92 ]\n",
      "[-0.754 -0.08   1.     0.165]\n",
      "[-0.125 -0.92   0.165  1.   ]\n",
      "\n",
      " chi^2 =    23.216   chi^2/Ndf =  1.45103 \n"
     ]
    }
   ],
   "source": [
    "# Number of constraints\n",
    "\n",
    "Ncon = 2\n",
    "\n",
    "# Number of parameters in \"reduced function\" \n",
    "\n",
    "Nred = Nfun-Ncon\n",
    "\n",
    "# reduced model\n",
    "# Constrains included in the functions formula\n",
    "# For given number of input parameters, additional terms added to\n",
    "# take constraints into account (one for even and one for odd terms)\n",
    "\n",
    "def myred(x,par):\n",
    "\n",
    "    parsum = np.zeros(2)\n",
    "    \n",
    "    for ip in range(par.size):\n",
    "        parsum[ip%2] -= par[ip]\n",
    "        \n",
    "    npar = np.zeros(par.size+2)\n",
    "\n",
    "    npar[:par.size]=par\n",
    "    npar[par.size] = parsum[par.size%2]\n",
    "    npar[par.size+1] = parsum[(par.size+1)%2]\n",
    "    \n",
    "    val = np.zeros(x.size)\n",
    "    \n",
    "    for ip in range(npar.size):\n",
    "        val+=npar[ip]*myfun(x,ip)\n",
    "        \n",
    "    return val\n",
    "\n",
    "\n",
    "Ar = np.zeros((Nred,Nred))\n",
    "\n",
    "Br = np.zeros(Nred)\n",
    "\n",
    "# additional terms for even and odd powers\n",
    "\n",
    "lc = np.empty(2, dtype=int)\n",
    "\n",
    "if Nred%2 == 0 :\n",
    "    lc[0] = Nred\n",
    "    lc[1] = Nred+1\n",
    "else:    \n",
    "    lc[0] = Nred+1\n",
    "    lc[1] = Nred\n",
    "\n",
    "# Calculate arrays including constrain terms\n",
    "\n",
    "for l in range(Nred):\n",
    "    fl = myfun(xvec,l) - myfun(xvec,lc[l%2])\n",
    "    Br[l] = np.sum(fl*yvec/s2vec)\n",
    "    for k in range(Nred):\n",
    "        fk = myfun(xvec,k) - myfun(xvec,lc[k%2])\n",
    "        Ar[l,k] = np.sum(fl*fk/s2vec)\n",
    "\n",
    "\n",
    "# Inverse of matrix\n",
    "\n",
    "RCov = np.linalg.inv(Ar)\n",
    "\n",
    "# Solution to the problem\n",
    "\n",
    "parr = RCov @ Br\n",
    "\n",
    "# Parameter uncertainties\n",
    "\n",
    "eparr = np.sqrt(np.diagonal(RCov))\n",
    "\n",
    "print(\"\\n Fit results:\\n\\n     par         sigma_p\\n\")\n",
    "\n",
    "for ip in range(parr.size):\n",
    "    print(\"  %8.3f  +/- %6.3f \" % (parr[ip],eparr[ip]))\n",
    "\n",
    "# Calculate correlation matrix, including rounding\n",
    "\n",
    "RCorr = RCov\n",
    "\n",
    "print(\"\\n Correlation matrix\\n\")\n",
    "for ip in range(parr.size):\n",
    "    for jp in range(parr.size):\n",
    "        RCorr[ip,jp]=int(1000.*RCorr[ip,jp]/eparr[ip]/eparr[jp]+0.5)/1000.\n",
    "        \n",
    "    print(RCorr[ip,:])\n",
    "\n",
    "# Fitted function\n",
    "\n",
    "frvec = myred(xvec,parr) \n",
    "\n",
    "# Chi^2 printout\n",
    "\n",
    "chi2r = np.sum((yvec-frvec)**2/s2vec)\n",
    "\n",
    "print(\"\\n chi^2 =  %8.3f   chi^2/Ndf = %8.5f \" % (chi2r,chi2r/(xvec.size-Nred)))\n",
    "\n",
    "# print(\"\\n  x       y         f(x) \")\n",
    "# for ix in range(xvec.size):\n",
    "#     print(\"%6.3f  %8.5f  %8.5f \" % (xvec[ix],yvec[ix],fvec[ix]))"
   ]
  },
  {
   "cell_type": "code",
   "execution_count": 6,
   "metadata": {},
   "outputs": [
    {
     "name": "stdout",
     "output_type": "stream",
     "text": [
      "\n",
      " F statistics for constraint: 8.164 \n",
      "\n",
      " Statistical fluctuation probability p = 0.00447\n"
     ]
    }
   ],
   "source": [
    "\n",
    "dchi = chi2r - chi2\n",
    "\n",
    "F = (dchi/Ncon)/(chi2/(xvec.size-Nfun))\n",
    "\n",
    "print(\"\\n F statistics for constraint: %.3f \" % (F))\n",
    "\n",
    "p = f.sf(F,Ncon,xvec.size-Nfun)\n",
    "\n",
    "print(\"\\n Statistical fluctuation probability p = %.3g\" % (p))\n"
   ]
  },
  {
   "cell_type": "markdown",
   "metadata": {},
   "source": [
    "### (5) Draw data and fit"
   ]
  },
  {
   "cell_type": "code",
   "execution_count": 7,
   "metadata": {},
   "outputs": [
    {
     "data": {
      "image/png": "[encoded data removed]",
      "text/plain": [
       "<Figure size 648x432 with 1 Axes>"
      ]
     },
     "metadata": {
      "needs_background": "light"
     },
     "output_type": "display_data"
    }
   ],
   "source": [
    "plt.figure(figsize=(9, 6))\n",
    "\n",
    "plt.errorbar(xvec,yvec,svec, linestyle='none', marker='o', ms=2, mew=4)\n",
    "\n",
    "plt.plot(xvec,fvec,'--')\n",
    "plt.plot(xvec,frvec,'--')\n",
    "\n",
    "plt.title('Npar = '+str(Nfun)+'   full:  $\\chi^{2}$ = '+str(int(100*chi2+0.5)/100.)+' / '+str(xvec.size-Nfun)\n",
    "                +'     const.: $\\chi^{2}$ = '+str(int(100*chi2r+0.5)/100.)+' / '+str(xvec.size-Nred)\n",
    "                +'     p = '+str(round(p,5)),size=18)\n",
    "    \n",
    "plt.xlabel('x',size=20)\n",
    "plt.ylabel('y(x)',size=20)\n",
    "\n",
    "plt.xticks(fontsize=18)\n",
    "plt.yticks(fontsize=18)\n",
    "plt.grid(which='major', axis='both')\n",
    "\n",
    "fname = '09_reduce2_'+str(Nfun)+'.png'\n",
    "plt.savefig(fname)"
   ]
  },
  {
   "cell_type": "code",
   "execution_count": null,
   "metadata": {},
   "outputs": [],
   "source": []
  }
 ],
 "metadata": {
  "kernelspec": {
   "display_name": "Python 3",
   "language": "python",
   "name": "python3"
  },
  "language_info": {
   "codemirror_mode": {
    "name": "ipython",
    "version": 3
   },
   "file_extension": ".py",
   "mimetype": "text/x-python",
   "name": "python",
   "nbconvert_exporter": "python",
   "pygments_lexer": "ipython3",
   "version": "3.9.7"
  }
 },
 "nbformat": 4,
 "nbformat_minor": 4
}
