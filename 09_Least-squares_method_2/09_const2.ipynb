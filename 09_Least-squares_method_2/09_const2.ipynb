{
 "cells": [
  {
   "cell_type": "markdown",
   "metadata": {
    "tags": []
   },
   "source": [
    "# Linear fit with constraint\n",
    "Author: Aleksander Filip Żarnecki (University of Warsaw)"
   ]
  },
  {
   "cell_type": "markdown",
   "metadata": {
    "tags": []
   },
   "source": [
    "### (0) Import libraries "
   ]
  },
  {
   "cell_type": "code",
   "execution_count": 1,
   "metadata": {},
   "outputs": [],
   "source": [
    "import math\n",
    "import numpy as np\n",
    "import matplotlib.pyplot as plt\n",
    "\n",
    "from scipy.stats import f"
   ]
  },
  {
   "cell_type": "markdown",
   "metadata": {
    "tags": []
   },
   "source": [
    "### (1) Definition of model\n",
    "\n",
    "Consider controlled parameter range is [-1,1]"
   ]
  },
  {
   "cell_type": "code",
   "execution_count": 2,
   "metadata": {},
   "outputs": [],
   "source": [
    "# True functional dependece: sin(x)\n",
    "\n",
    "def mytrue(x):\n",
    "    \n",
    "    val = 0.5 + 0.5*np.cos(x*np.pi + 0.5*np.cos(x*np.pi/2.))\n",
    "\n",
    "    return val\n",
    "\n",
    "# Basic functions:  1, x, x^2, x^3 ...\n",
    "\n",
    "def myfun(x,ifun):\n",
    "\n",
    "    return np.power(x,ifun)\n",
    "\n",
    "# Full polynomial model\n",
    "\n",
    "def mymodel(x,par):\n",
    "\n",
    "    val = np.zeros(x.size)\n",
    "    \n",
    "    for ip in range(par.size):\n",
    "        val+=par[ip]*myfun(x,ip)\n",
    "        \n",
    "    return val\n"
   ]
  },
  {
   "cell_type": "markdown",
   "metadata": {},
   "source": [
    "### (2) Generate pseudo data to fit"
   ]
  },
  {
   "cell_type": "code",
   "execution_count": 3,
   "metadata": {},
   "outputs": [],
   "source": [
    "# Considered values of x\n",
    "\n",
    "xvec = np.linspace(-0.95,0.95,20)\n",
    "\n",
    "# Measurement precision (high)\n",
    "\n",
    "svec = np.linspace(0.02,0.03,xvec.size)\n",
    "s2vec = svec*svec\n",
    "\n",
    "# Pseudo-data\n",
    "\n",
    "yvec = np.random.normal(mytrue(xvec),svec)\n"
   ]
  },
  {
   "cell_type": "markdown",
   "metadata": {},
   "source": [
    "### (3)  Linear fit without constraint"
   ]
  },
  {
   "cell_type": "code",
   "execution_count": 4,
   "metadata": {},
   "outputs": [
    {
     "name": "stdout",
     "output_type": "stream",
     "text": [
      "\n",
      " Fit results:\n",
      "\n",
      "     par         sigma_p\n",
      "\n",
      "     0.842  +/-  0.008 \n",
      "    -0.422  +/-  0.024 \n",
      "    -1.079  +/-  0.019 \n",
      "     0.486  +/-  0.037 \n",
      "\n",
      " Correlation matrix\n",
      "\n",
      "[ 1.     0.144 -0.743 -0.156]\n",
      "[ 0.144  1.    -0.105 -0.913]\n",
      "[-0.743 -0.105  1.     0.209]\n",
      "[-0.156 -0.913  0.209  1.   ]\n",
      "\n",
      " chi^2 =   318.876   chi^2/Ndf = 19.92973 \n"
     ]
    }
   ],
   "source": [
    "# Number of model functions to consider \n",
    "\n",
    "Nfun = 4\n",
    "\n",
    "A = np.zeros((Nfun,Nfun))\n",
    "\n",
    "B = np.zeros(Nfun)\n",
    "\n",
    "for l in range(Nfun):\n",
    "    fl = myfun(xvec,l)\n",
    "    B[l] = np.sum(fl*yvec/s2vec)\n",
    "    for k in range(Nfun):\n",
    "        fk = myfun(xvec,k)\n",
    "        A[l,k] = np.sum(fl*fk/s2vec)\n",
    "\n",
    "\n",
    "# Inverse of matrix\n",
    "\n",
    "Cov = np.linalg.inv(A)\n",
    "\n",
    "# Solution to the problem\n",
    "\n",
    "par = Cov @ B\n",
    "\n",
    "# Parameter uncertainties\n",
    "\n",
    "epar = np.sqrt(np.diagonal(Cov))\n",
    "\n",
    "print(\"\\n Fit results:\\n\\n     par         sigma_p\\n\")\n",
    "\n",
    "for ip in range(par.size):\n",
    "    print(\"  %8.3f  +/- %6.3f \" % (par[ip],epar[ip]))\n",
    "\n",
    "# Calculate correlation matrix, including rounding\n",
    "\n",
    "Corr = Cov\n",
    "\n",
    "print(\"\\n Correlation matrix\\n\")\n",
    "for ip in range(par.size):\n",
    "    for jp in range(par.size):\n",
    "        Corr[ip,jp]=int(1000.*Corr[ip,jp]/epar[ip]/epar[jp]+0.5)/1000.\n",
    "        \n",
    "    print(Corr[ip,:])\n",
    "\n",
    "# Fitted function\n",
    "\n",
    "fvec = mymodel(xvec,par) \n",
    "\n",
    "# Chi^2 printout\n",
    "\n",
    "chi2 = np.sum((yvec-fvec)**2/s2vec)\n",
    "\n",
    "print(\"\\n chi^2 =  %8.3f   chi^2/Ndf = %8.5f \" % (chi2,chi2/(xvec.size-Nfun)))\n",
    "\n",
    "# print(\"\\n  x       y         f(x) \")\n",
    "# for ix in range(xvec.size):\n",
    "#     print(\"%6.3f  %8.5f  %8.5f \" % (xvec[ix],yvec[ix],fvec[ix]))"
   ]
  },
  {
   "cell_type": "markdown",
   "metadata": {},
   "source": [
    "### (4)  Linear fit with constraint (Lagrange method)"
   ]
  },
  {
   "cell_type": "code",
   "execution_count": 5,
   "metadata": {},
   "outputs": [],
   "source": [
    "# Number of constraints\n",
    "\n",
    "Ncon = 2\n",
    "\n",
    "# Constraints given in matrix form    D @ par = E\n",
    "\n",
    "D = np.zeros((Ncon,Nfun))\n",
    "E = np.zeros(Ncon)\n",
    "\n",
    "# First constraint: value at 1 is 0\n",
    "\n",
    "for l in range(Nfun):\n",
    "    D[0,l]=1.0\n",
    "\n",
    "E[0] = 0.0\n",
    "    \n",
    "# Second constraint: value at -1 is 0\n",
    "\n",
    "for l in range(Nfun):\n",
    "    D[1,l]=np.power(-1.0,l)\n",
    "\n",
    "E[1] = 0.0\n"
   ]
  },
  {
   "cell_type": "code",
   "execution_count": 6,
   "metadata": {},
   "outputs": [],
   "source": [
    "# Work arrays for new fit\n",
    "\n",
    "Ac = np.zeros((Nfun+Ncon,Nfun+Ncon))\n",
    "\n",
    "Bc = np.zeros(Nfun+Ncon)\n",
    "\n",
    "for l in range(Nfun):\n",
    "    fl = myfun(xvec,l)\n",
    "    Bc[l] = np.sum(fl*yvec/s2vec)\n",
    "    for k in range(Nfun):\n",
    "        fk = myfun(xvec,k)\n",
    "        Ac[l,k] = np.sum(fl*fk/s2vec)\n",
    "\n",
    "# Add constraints\n",
    "\n",
    "    for k in range(Nfun,Nfun+Ncon):\n",
    "        Ac[k,l] = D[k-Nfun,l]\n",
    "        Ac[l,k] = D[k-Nfun,l]\n",
    "\n",
    "for l in range(Nfun,Nfun+Ncon):\n",
    "    Bc[l]=E[l-Nfun]\n"
   ]
  },
  {
   "cell_type": "code",
   "execution_count": 7,
   "metadata": {},
   "outputs": [
    {
     "name": "stdout",
     "output_type": "stream",
     "text": [
      "\n",
      " Fit results:\n",
      "\n",
      "     par         sigma_p\n",
      "\n",
      "     0.783  +/-  0.008 \n",
      "    -0.319  +/-  0.020 \n",
      "    -0.783  +/-  0.008 \n",
      "     0.319  +/-  0.020 \n",
      "\n",
      " chi^2 =   694.028   chi^2/Ndf = 38.55713 \n"
     ]
    }
   ],
   "source": [
    "# Inverse of matrix\n",
    "\n",
    "CCov = np.linalg.inv(Ac)\n",
    "\n",
    "# Solution to the problem\n",
    "\n",
    "parc = CCov @ Bc\n",
    "\n",
    "# Parameter uncertainties\n",
    "# consider covariance matrix for parameters only\n",
    "\n",
    "Cpar = CCov[:Nfun,:Nfun]\n",
    "\n",
    "eparc = np.sqrt(np.diagonal(Cpar))\n",
    "\n",
    "print(\"\\n Fit results:\\n\\n     par         sigma_p\\n\")\n",
    "\n",
    "for ip in range(Nfun):\n",
    "    print(\"  %8.3f  +/- %6.3f \" % (parc[ip],eparc[ip]))\n",
    "\n",
    "# Fitted function\n",
    "\n",
    "fcvec = mymodel(xvec,parc[:Nfun]) \n",
    "\n",
    "# Chi^2 printout\n",
    "\n",
    "chi2c = np.sum((yvec-fcvec)**2/s2vec)\n",
    "\n",
    "print(\"\\n chi^2 =  %8.3f   chi^2/Ndf = %8.5f \" % (chi2c,chi2c/(xvec.size-Nfun+Ncon)))\n",
    "\n",
    "# print(\"\\n  x       y         f(x) \")\n",
    "# for ix in range(xvec.size):\n",
    "#     print(\"%6.3f  %8.5f  %8.5f \" % (xvec[ix],yvec[ix],fcvec[ix]))"
   ]
  },
  {
   "cell_type": "code",
   "execution_count": 8,
   "metadata": {},
   "outputs": [
    {
     "name": "stdout",
     "output_type": "stream",
     "text": [
      "\n",
      " F statistics for constraint: 9.412 \n",
      "\n",
      " Statistical fluctuation probability p = 0.00199\n"
     ]
    }
   ],
   "source": [
    "\n",
    "dchi = chi2c - chi2\n",
    "\n",
    "Fc = (dchi/Ncon)/(chi2/(xvec.size-Nfun))\n",
    "\n",
    "print(\"\\n F statistics for constraint: %.3f \" % (Fc))\n",
    "\n",
    "pc = f.sf(Fc,Ncon,xvec.size-Nfun)\n",
    "\n",
    "print(\"\\n Statistical fluctuation probability p = %.3g\" % (pc))\n"
   ]
  },
  {
   "cell_type": "markdown",
   "metadata": {},
   "source": [
    "### (5)  Linear fit with constraints (reduced model)"
   ]
  },
  {
   "cell_type": "code",
   "execution_count": 9,
   "metadata": {},
   "outputs": [
    {
     "name": "stdout",
     "output_type": "stream",
     "text": [
      "\n",
      " Fit results:\n",
      "\n",
      "     par         sigma_p\n",
      "\n",
      "     0.783  +/-  0.008 \n",
      "    -0.319  +/-  0.020 \n",
      "\n",
      " Correlation matrix\n",
      "\n",
      "[1.    0.159]\n",
      "[0.159 1.   ]\n",
      "\n",
      " chi^2 =   694.028   chi^2/Ndf = 38.55713 \n"
     ]
    }
   ],
   "source": [
    "# Number of constraints\n",
    "\n",
    "Ncon = 2\n",
    "\n",
    "# Number of parameters in \"reduced function\" \n",
    "\n",
    "Nred = Nfun-Ncon\n",
    "\n",
    "# reduced model\n",
    "# Constrains included in the functions formula\n",
    "# For given number of input parameters, additional terms added to\n",
    "# take constraints into account (one for even and one for odd terms)\n",
    "\n",
    "def myred(x,par):\n",
    "\n",
    "    parsum = np.zeros(2)\n",
    "    \n",
    "    for ip in range(par.size):\n",
    "        parsum[ip%2] -= par[ip]\n",
    "        \n",
    "    npar = np.zeros(par.size+2)\n",
    "\n",
    "    npar[:par.size]=par\n",
    "    npar[par.size] = parsum[par.size%2]\n",
    "    npar[par.size+1] = parsum[(par.size+1)%2]\n",
    "    \n",
    "    val = np.zeros(x.size)\n",
    "    \n",
    "    for ip in range(npar.size):\n",
    "        val+=npar[ip]*myfun(x,ip)\n",
    "        \n",
    "    return val\n",
    "\n",
    "\n",
    "Ar = np.zeros((Nred,Nred))\n",
    "\n",
    "Br = np.zeros(Nred)\n",
    "\n",
    "# additional terms for even and odd powers\n",
    "\n",
    "lc = np.empty(2, dtype=int)\n",
    "\n",
    "if Nred%2 == 0 :\n",
    "    lc[0] = Nred\n",
    "    lc[1] = Nred+1\n",
    "else:    \n",
    "    lc[0] = Nred+1\n",
    "    lc[1] = Nred\n",
    "\n",
    "# Calculate arrays including constrain terms\n",
    "\n",
    "for l in range(Nred):\n",
    "    fl = myfun(xvec,l) - myfun(xvec,lc[l%2])\n",
    "    Br[l] = np.sum(fl*yvec/s2vec)\n",
    "    for k in range(Nred):\n",
    "        fk = myfun(xvec,k) - myfun(xvec,lc[k%2])\n",
    "        Ar[l,k] = np.sum(fl*fk/s2vec)\n",
    "\n",
    "\n",
    "# Inverse of matrix\n",
    "\n",
    "RCov = np.linalg.inv(Ar)\n",
    "\n",
    "# Solution to the problem\n",
    "\n",
    "parr = RCov @ Br\n",
    "\n",
    "# Parameter uncertainties\n",
    "\n",
    "eparr = np.sqrt(np.diagonal(RCov))\n",
    "\n",
    "print(\"\\n Fit results:\\n\\n     par         sigma_p\\n\")\n",
    "\n",
    "for ip in range(parr.size):\n",
    "    print(\"  %8.3f  +/- %6.3f \" % (parr[ip],eparr[ip]))\n",
    "\n",
    "# Calculate correlation matrix, including rounding\n",
    "\n",
    "RCorr = RCov\n",
    "\n",
    "print(\"\\n Correlation matrix\\n\")\n",
    "for ip in range(parr.size):\n",
    "    for jp in range(parr.size):\n",
    "        RCorr[ip,jp]=int(1000.*RCorr[ip,jp]/eparr[ip]/eparr[jp]+0.5)/1000.\n",
    "        \n",
    "    print(RCorr[ip,:])\n",
    "\n",
    "# Fitted function\n",
    "\n",
    "frvec = myred(xvec,parr) \n",
    "\n",
    "# Chi^2 printout\n",
    "\n",
    "chi2r = np.sum((yvec-frvec)**2/s2vec)\n",
    "\n",
    "print(\"\\n chi^2 =  %8.3f   chi^2/Ndf = %8.5f \" % (chi2r,chi2r/(xvec.size-Nred)))\n",
    "\n",
    "# print(\"\\n  x       y         f(x) \")\n",
    "# for ix in range(xvec.size):\n",
    "#     print(\"%6.3f  %8.5f  %8.5f \" % (xvec[ix],yvec[ix],fvec[ix]))"
   ]
  },
  {
   "cell_type": "code",
   "execution_count": 10,
   "metadata": {},
   "outputs": [
    {
     "name": "stdout",
     "output_type": "stream",
     "text": [
      "\n",
      " F statistics for constraint: 9.412 \n",
      "\n",
      " Statistical fluctuation probability p = 0.00199\n"
     ]
    }
   ],
   "source": [
    "\n",
    "dchi = chi2r - chi2\n",
    "\n",
    "Fr = (dchi/Ncon)/(chi2/(xvec.size-Nfun))\n",
    "\n",
    "print(\"\\n F statistics for constraint: %.3f \" % (Fr))\n",
    "\n",
    "pr = f.sf(Fr,Ncon,xvec.size-Nfun)\n",
    "\n",
    "print(\"\\n Statistical fluctuation probability p = %.3g\" % (pr))\n"
   ]
  },
  {
   "cell_type": "markdown",
   "metadata": {},
   "source": [
    "### (6) Draw data and all fit results"
   ]
  },
  {
   "cell_type": "code",
   "execution_count": 11,
   "metadata": {},
   "outputs": [
    {
     "data": {
      "image/png": "[encoded data removed]",
      "text/plain": [
       "<Figure size 648x432 with 1 Axes>"
      ]
     },
     "metadata": {
      "needs_background": "light"
     },
     "output_type": "display_data"
    }
   ],
   "source": [
    "plt.figure(figsize=(9, 6))\n",
    "\n",
    "plt.errorbar(xvec,yvec,svec, linestyle='none', marker='o', ms=2, mew=4)\n",
    "\n",
    "plt.plot(xvec,fvec,'r--')\n",
    "plt.plot(xvec,fcvec,'c-',linewidth=3)\n",
    "plt.plot(xvec,frvec,'b--',linewidth=1)\n",
    "\n",
    "plt.title('Npar = '+str(Nfun)+'   full(red):  $\\chi^{2}$ = '+str(int(100*chi2+0.5)/100.)+' / '+str(xvec.size-Nfun)\n",
    "                +'     const.(cyan): $\\chi^{2}$ = '+str(int(100*chi2c+0.5)/100.)+' / '+str(xvec.size-Nfun+Ncon)\n",
    "                +'     red.(blue): $\\chi^{2}$ = '+str(int(100*chi2r+0.5)/100.)+' / '+str(xvec.size-Nfun+Ncon)   ,size=14)\n",
    "    \n",
    "plt.xlabel('x',size=20)\n",
    "plt.ylabel('y(x)',size=20)\n",
    "\n",
    "plt.xticks(fontsize=18)\n",
    "plt.yticks(fontsize=18)\n",
    "plt.grid(which='major', axis='both')\n",
    "\n",
    "fname = '09_const2_'+str(Nfun)+'.png'\n",
    "plt.savefig(fname)"
   ]
  },
  {
   "cell_type": "code",
   "execution_count": null,
   "metadata": {},
   "outputs": [],
   "source": []
  }
 ],
 "metadata": {
  "kernelspec": {
   "display_name": "Python 3",
   "language": "python",
   "name": "python3"
  },
  "language_info": {
   "codemirror_mode": {
    "name": "ipython",
    "version": 3
   },
   "file_extension": ".py",
   "mimetype": "text/x-python",
   "name": "python",
   "nbconvert_exporter": "python",
   "pygments_lexer": "ipython3",
   "version": "3.9.7"
  }
 },
 "nbformat": 4,
 "nbformat_minor": 4
}
