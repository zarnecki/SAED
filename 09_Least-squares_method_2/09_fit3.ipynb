{
 "cells": [
  {
   "cell_type": "markdown",
   "metadata": {
    "tags": []
   },
   "source": [
    "# General fit example (2)\n",
    "\n",
    "(model testing)\n",
    "\n",
    "Author: Aleksander Filip Żarnecki (University of Warsaw)"
   ]
  },
  {
   "cell_type": "markdown",
   "metadata": {
    "tags": []
   },
   "source": [
    "### (0) Import libraries "
   ]
  },
  {
   "cell_type": "code",
   "execution_count": 1,
   "metadata": {},
   "outputs": [],
   "source": [
    "import math\n",
    "import numpy as np\n",
    "import matplotlib.pyplot as plt\n",
    "\n",
    "from scipy.stats import norm\n",
    "from scipy.stats import f"
   ]
  },
  {
   "cell_type": "markdown",
   "metadata": {
    "tags": []
   },
   "source": [
    "### (1) Definition of model\n",
    "\n",
    "Consider controlled parameter range is [0,1]"
   ]
  },
  {
   "cell_type": "code",
   "execution_count": 2,
   "metadata": {},
   "outputs": [],
   "source": [
    "# True functional dependece polinomial background + two peaks\n",
    "\n",
    "def mytrue(x):\n",
    "    \n",
    "    bg = 10.0 - 2* x + x*x\n",
    "    \n",
    "    sig1 = 20.0 * norm.pdf(x, loc=0.44, scale=0.05)\n",
    "    \n",
    "    sig2 = 5.0 * norm.pdf(x, loc=0.55, scale=0.10)\n",
    "\n",
    "    return bg + sig1 +sig2\n",
    "\n",
    "\n",
    "# Basic fit function, return function values only\n",
    "#\n",
    "#  Parameters: 0 - 2 background\n",
    "#              3 - 5 first peak\n",
    "#              6 - 8 second peak\n",
    "#\n",
    "def myfun(x,par):\n",
    "\n",
    "    npar = par.size   # should be 6 for sigle peak or 9 for double peak fit\n",
    "    \n",
    "    bg = par[0] + par[1]*x + par[2]*x*x\n",
    "    \n",
    "    if npar<6 :\n",
    "        return bg\n",
    "    \n",
    "    sig1 = par[3] * norm.pdf(x, loc=par[4], scale=par[5])\n",
    "    \n",
    "    if npar<9 :\n",
    "        return bg + sig1\n",
    "    \n",
    "    sig2 = par[6] * norm.pdf(x, loc=par[7], scale=par[8])\n",
    "\n",
    "    return bg + sig1 + sig2\n",
    "\n",
    "# Full model: returns values and derivatives\n",
    "\n",
    "def myfunder(x,par):\n",
    "\n",
    "    npar = par.size   # should be 6 for sigle peak or 9 for double peak fit\n",
    "\n",
    "    # output arrays\n",
    "    \n",
    "    val = np.zeros(x.size)\n",
    "    der = np.zeros((x.size,npar))\n",
    "\n",
    "    # Background\n",
    "    \n",
    "    bg = par[0] + par[1]*x + par[2]*x*x\n",
    "    \n",
    "    der[:,0] = 1\n",
    "    der[:,1] = x\n",
    "    der[:,2] = x*x\n",
    "   \n",
    "    val += bg\n",
    "    \n",
    "    if npar < 6 :\n",
    "        return val,der\n",
    "    \n",
    "    # First signal peak\n",
    "    \n",
    "    sig1 = norm.pdf(x, loc=par[4], scale=par[5])\n",
    "    \n",
    "    der[:,3] = sig1\n",
    "    sig1 *= par[3]\n",
    "    der[:,4] = (x-par[4])/par[5]/par[5]*sig1\n",
    "    der[:,5] = (x-par[4])*(x-par[4])/par[5]/par[5]/par[5]*sig1\n",
    "    \n",
    "    val += sig1\n",
    "    \n",
    "    if npar < 9 :\n",
    "        return val,der\n",
    "    \n",
    "    # Second signal peak\n",
    "    \n",
    "    sig2 = norm.pdf(x, loc=par[7], scale=par[8])\n",
    "    \n",
    "    der[:,6] = sig2\n",
    "    sig2 *= par[6]\n",
    "    der[:,7] = (x-par[7])/par[8]/par[8]*sig2\n",
    "    der[:,8] = (x-par[7])*(x-par[7])/par[8]/par[8]/par[8]*sig2\n",
    "    \n",
    "    val += sig2\n",
    "       \n",
    "    return val,der\n",
    "\n"
   ]
  },
  {
   "cell_type": "markdown",
   "metadata": {},
   "source": [
    "### (2) Generate pseudo data to fit"
   ]
  },
  {
   "cell_type": "code",
   "execution_count": 3,
   "metadata": {},
   "outputs": [],
   "source": [
    "# Considered values of x\n",
    "\n",
    "xvec = np.linspace(0.025,0.975,20)\n",
    "\n",
    "# Measurement precision\n",
    "\n",
    "svec = np.linspace(2.,4.,xvec.size)\n",
    "# svec = np.linspace(0.2,0.3,xvec.size)   # Uncomment to test the impact of uncertainties\n",
    "s2vec = svec*svec\n",
    "\n",
    "# Pseudo-data\n",
    "\n",
    "yvec = np.random.normal(mytrue(xvec),svec)\n"
   ]
  },
  {
   "cell_type": "markdown",
   "metadata": {},
   "source": [
    "### (3) Initial fit settings"
   ]
  },
  {
   "cell_type": "code",
   "execution_count": 4,
   "metadata": {},
   "outputs": [],
   "source": [
    "# Number of function parameters to consider \n",
    "\n",
    "Nfun1 = 9\n",
    "\n",
    "# Second hypothesis to compare (Nfun2<Nfun1 !!!)\n",
    "\n",
    "Nfun2 = 6\n",
    "\n",
    "# Initial guess for parameters (Nfun1)\n",
    "\n",
    "parini = np.zeros(Nfun1)\n",
    "\n",
    "# Background guess\n",
    "\n",
    "parini[0] = 10.\n",
    "parini[1] = -1.\n",
    "parini[2] = +1.\n",
    "\n",
    "# First peak guess\n",
    "\n",
    "parini[3] = 20.\n",
    "parini[4] = 0.4\n",
    "parini[5] = 0.1\n",
    "\n",
    "# Second peak guess\n",
    "\n",
    "parini[6] = 5.\n",
    "parini[7] = 0.5\n",
    "parini[8] = 0.1"
   ]
  },
  {
   "cell_type": "markdown",
   "metadata": {},
   "source": [
    "### (4) Iterative fit procedure"
   ]
  },
  {
   "cell_type": "code",
   "execution_count": 5,
   "metadata": {},
   "outputs": [],
   "source": [
    "# Helper function for chi2 calculation\n",
    "# Uses global data vectors: xvec,yvec,s2vec\n",
    "\n",
    "def mychi2(parvec):\n",
    "    fvec = myfun(xvec,parvec) \n",
    "    chi2 = np.sum((yvec-fvec)**2/s2vec)\n",
    "    return chi2"
   ]
  },
  {
   "cell_type": "code",
   "execution_count": 6,
   "metadata": {},
   "outputs": [],
   "source": [
    "# Main fit procedure\n",
    "# Uses global data vectors: xvec,yvec,s2vec\n",
    "\n",
    "def myiterfit(parini):\n",
    "    \n",
    "    Nfun = parini.size\n",
    "    \n",
    "    lam = 0.01   \n",
    "    dcut = 0.0001 \n",
    "\n",
    "    chi2min = mychi2(parini)\n",
    "    parmin = parini\n",
    "\n",
    "    par = parini\n",
    "\n",
    "    Nit = 0\n",
    "    Nimp = 0\n",
    "\n",
    "    Cov = np.zeros((Nfun,Nfun))\n",
    "\n",
    "    dist = dcut+1\n",
    "\n",
    "    while dist > dcut :\n",
    "\n",
    "        # work space\n",
    "\n",
    "        A = np.zeros((Nfun,Nfun))\n",
    "        B = np.zeros(Nfun)\n",
    "\n",
    "        # Values and derivatives at the current point\n",
    "\n",
    "        fval,fder = myfunder(xvec,par)\n",
    "\n",
    "        dyvec = yvec-fval\n",
    "\n",
    "        for l in range(Nfun):\n",
    "            B[l] = np.sum(fder[:,l]*dyvec/s2vec)\n",
    "            for k in range(Nfun):\n",
    "                A[l,k] = np.sum(fder[:,l]*fder[:,k]/s2vec)\n",
    "\n",
    "        # Do not try to jump directly to the maximum (lam = 0)\n",
    "\n",
    "        C = A\n",
    "        for l in range(Nfun):\n",
    "            C[l,l] *= 1 + lam\n",
    "\n",
    "        # Inverse of matrix\n",
    "\n",
    "        Cinv = np.linalg.inv(C)\n",
    "\n",
    "        # Solution to the problem - required parameter change\n",
    "\n",
    "        dpar = Cinv @ B\n",
    "\n",
    "        # Check new parameter values\n",
    "\n",
    "        parnew = par+dpar\n",
    "\n",
    "        chi2new = mychi2(parnew)\n",
    "\n",
    "        # Estimate the distance to minimum from current step (in units of current errors)\n",
    "\n",
    "        Cov = np.linalg.inv(A)\n",
    "        e2par = np.diagonal(Cov)\n",
    "        dist = np.sum(dpar*dpar/e2par)\n",
    "\n",
    "        Nit+=1\n",
    "\n",
    "        if chi2new < chi2min :\n",
    "            Nimp += 1\n",
    "            lam /= 10\n",
    "            chi2min = chi2new\n",
    "            par = parnew\n",
    "        else:\n",
    "            lam *= 10\n",
    "\n",
    "\n",
    "    # Parameter uncertainties \n",
    "    # (assuming no need to recalculate Cov, even if there was a slight improvement in the last step)\n",
    "\n",
    "    epar = np.sqrt(np.diagonal(Cov))\n",
    "\n",
    "    print(\"\\n Fit results:\\n\\n     par         sigma_p\\n\")\n",
    "\n",
    "    for ip in range(par.size):\n",
    "        print(\"  %8.3f  +/- %6.3f \" % (par[ip],epar[ip]))\n",
    "\n",
    "    # Calculate correlation matrix, including rounding\n",
    "\n",
    "    Corr = Cov\n",
    "\n",
    "    print(\"\\n Correlation matrix\\n\")\n",
    "    for ip in range(par.size):\n",
    "        for jp in range(par.size):\n",
    "            Corr[ip,jp]=int(1000.*Corr[ip,jp]/epar[ip]/epar[jp]+0.5)/1000.\n",
    "\n",
    "        print(Corr[ip,:])\n",
    "\n",
    "    # Fitted function\n",
    "\n",
    "    fvec = myfun(xvec,par) \n",
    "\n",
    "    # Chi^2 printout\n",
    "\n",
    "    chi2 = np.sum((yvec-fvec)**2/s2vec)\n",
    "\n",
    "    print(\"\\n chi^2 =  %8.3f   chi^2/Ndf = %8.5f \" % (chi2,chi2/(xvec.size-Nfun)))\n",
    "\n",
    "    return chi2,par,epar"
   ]
  },
  {
   "cell_type": "markdown",
   "metadata": {},
   "source": [
    "### (5) Actual fit"
   ]
  },
  {
   "cell_type": "code",
   "execution_count": 7,
   "metadata": {},
   "outputs": [
    {
     "name": "stdout",
     "output_type": "stream",
     "text": [
      "\n",
      " Fit results:\n",
      "\n",
      "     par         sigma_p\n",
      "\n",
      "    10.243  +/-  1.299 \n",
      "     4.025  +/-  7.882 \n",
      "    -3.319  +/-  8.434 \n",
      "    24.665  +/-  0.400 \n",
      "     0.439  +/-  0.002 \n",
      "     0.060  +/-  0.002 \n",
      "    -1.998  +/-  1.508 \n",
      "     0.354  +/-  0.004 \n",
      "     0.018  +/-  0.008 \n",
      "\n",
      " Correlation matrix\n",
      "\n",
      "[ 1.    -0.679  0.527  0.065  0.039  0.027  0.    -0.01   0.002]\n",
      "[-0.679  1.    -0.958 -0.3    0.139 -0.332  0.039 -0.026 -0.04 ]\n",
      "[ 0.527 -0.958  1.     0.299 -0.155  0.328 -0.037  0.033  0.04 ]\n",
      "[ 0.065 -0.3    0.299  1.    -0.055 -0.115  0.032  0.145  0.045]\n",
      "[ 0.039  0.139 -0.155 -0.055  1.    -0.732  0.158 -0.098 -0.245]\n",
      "[ 0.027 -0.332  0.328 -0.115 -0.732  1.    -0.171  0.021  0.222]\n",
      "[ 0.     0.039 -0.037  0.032  0.158 -0.171  1.     0.881  0.894]\n",
      "[-0.01  -0.026  0.033  0.145 -0.098  0.021  0.881  1.     0.882]\n",
      "[ 0.002 -0.04   0.04   0.045 -0.245  0.222  0.894  0.882  1.   ]\n",
      "\n",
      " chi^2 =    28.330   chi^2/Ndf =  2.57542 \n"
     ]
    }
   ],
   "source": [
    "# For first hypothesis\n",
    "\n",
    "chi2_1,par_1,epar_1 = myiterfit(parini)\n",
    "\n",
    "# For function plotting\n",
    "\n",
    "x_fun = np.linspace(0.,1.,101)\n",
    "fun_1 = myfun(x_fun,par_1) \n",
    "\n",
    "bg_1 = myfun(x_fun,par_1[:3])\n",
    "f1_1 = myfun(x_fun,par_1[:6])"
   ]
  },
  {
   "cell_type": "code",
   "execution_count": 8,
   "metadata": {},
   "outputs": [
    {
     "data": {
      "image/png": "[encoded data removed]",
      "text/plain": [
       "<Figure size 648x432 with 1 Axes>"
      ]
     },
     "metadata": {
      "needs_background": "light"
     },
     "output_type": "display_data"
    }
   ],
   "source": [
    "plt.figure(figsize=(9, 6))\n",
    "\n",
    "plt.errorbar(xvec,yvec,svec, linestyle='none', marker='o', ms=2, mew=4)\n",
    "\n",
    "plt.plot(x_fun,fun_1,'--')\n",
    "plt.plot(x_fun,bg_1,'--')\n",
    "plt.plot(x_fun,f1_1,'--')\n",
    "\n",
    "plt.title('Fit result for Nfun = '+str(Nfun1) +'     $\\chi^{2} = $'+str(int(100*chi2_1+0.5)/100.)+' / '+str(xvec.size-Nfun1),size=24)\n",
    "plt.xlabel('x',size=20)\n",
    "plt.ylabel('y(x)',size=20)\n",
    "\n",
    "plt.xticks(fontsize=18)\n",
    "plt.yticks(fontsize=18)\n",
    "plt.grid(which='major', axis='both')\n",
    "\n",
    "fname = '09_fit3_'+str(Nfun1)+'.png'\n",
    "plt.savefig(fname)"
   ]
  },
  {
   "cell_type": "code",
   "execution_count": 9,
   "metadata": {},
   "outputs": [
    {
     "name": "stdout",
     "output_type": "stream",
     "text": [
      "\n",
      " Fit results:\n",
      "\n",
      "     par         sigma_p\n",
      "\n",
      "     9.620  +/-  1.614 \n",
      "    12.697  +/- 11.033 \n",
      "   -12.254  +/- 11.660 \n",
      "    22.169  +/-  0.379 \n",
      "     0.444  +/-  0.001 \n",
      "     0.054  +/-  0.001 \n",
      "\n",
      " Correlation matrix\n",
      "\n",
      "[ 1.    -0.817  0.728  0.205  0.076  0.233]\n",
      "[-0.817  1.    -0.977 -0.362 -0.045 -0.465]\n",
      "[ 0.728 -0.977  1.     0.359  0.022  0.462]\n",
      "[ 0.205 -0.362  0.359  1.     0.015 -0.212]\n",
      "[ 0.076 -0.045  0.022  0.015  1.     0.082]\n",
      "[ 0.233 -0.465  0.462 -0.212  0.082  1.   ]\n",
      "\n",
      " chi^2 =    38.113   chi^2/Ndf =  2.72233 \n"
     ]
    }
   ],
   "source": [
    "# For second hypothesis\n",
    "\n",
    "chi2_2,par_2,epar_2 = myiterfit(parini[:6])\n",
    "\n",
    "# For function plotting\n",
    "\n",
    "fun_2 = myfun(x_fun,par_2) \n",
    "\n",
    "bg_2 = myfun(x_fun,par_2[:3])"
   ]
  },
  {
   "cell_type": "code",
   "execution_count": 10,
   "metadata": {},
   "outputs": [
    {
     "data": {
      "image/png": "[encoded data removed]",
      "text/plain": [
       "<Figure size 648x432 with 1 Axes>"
      ]
     },
     "metadata": {
      "needs_background": "light"
     },
     "output_type": "display_data"
    }
   ],
   "source": [
    "plt.figure(figsize=(9, 6))\n",
    "\n",
    "plt.errorbar(xvec,yvec,svec, linestyle='none', marker='o', ms=2, mew=4)\n",
    "\n",
    "plt.plot(x_fun,fun_2,'--')\n",
    "plt.plot(x_fun,bg_2,'--')\n",
    "\n",
    "plt.title('Fit result for Nfun = '+str(Nfun2) +'     $\\chi^{2} = $'+str(int(100*chi2_2+0.5)/100.)+' / '+str(xvec.size-Nfun2),size=24)\n",
    "plt.xlabel('x',size=20)\n",
    "plt.ylabel('y(x)',size=20)\n",
    "\n",
    "plt.xticks(fontsize=18)\n",
    "plt.yticks(fontsize=18)\n",
    "plt.grid(which='major', axis='both')\n",
    "\n",
    "fname = '09_fit3_'+str(Nfun2)+'.png'\n",
    "plt.savefig(fname)"
   ]
  },
  {
   "cell_type": "markdown",
   "metadata": {},
   "source": [
    "### (6) Test the two hypotheiss"
   ]
  },
  {
   "cell_type": "code",
   "execution_count": 11,
   "metadata": {},
   "outputs": [],
   "source": [
    "# Fit with all parameters\n",
    "\n",
    "Nchi_1 = xvec.size-Nfun1 \n",
    "chi2ndf_1 = chi2_1/Nchi_1\n",
    "\n",
    "# Change when removing parameters\n",
    "\n",
    "Nchi_2 = Nfun1-Nfun2\n",
    "chi2ndf_2 = (chi2_2-chi2_1)/Nchi_2\n",
    "\n",
    "# Test value\n",
    "\n",
    "Ftest = chi2ndf_2/chi2ndf_1\n",
    "\n",
    "ptest = 1 - f.cdf(Ftest,Nchi_1,Nchi_2)"
   ]
  },
  {
   "cell_type": "code",
   "execution_count": 12,
   "metadata": {},
   "outputs": [
    {
     "name": "stdout",
     "output_type": "stream",
     "text": [
      "F-test result  p = 0.4755 \n",
      "probability of Chi2 increase by  9.783 when removing 3 needless parameters\n"
     ]
    }
   ],
   "source": [
    "print(\"F-test result  p = %.4g \" % (ptest))\n",
    "print(\"probability of Chi2 increase by %6.3f when removing %d needless parameters\" % (chi2_2-chi2_1,Nchi_2))"
   ]
  },
  {
   "cell_type": "code",
   "execution_count": null,
   "metadata": {},
   "outputs": [],
   "source": []
  }
 ],
 "metadata": {
  "kernelspec": {
   "display_name": "Python 3",
   "language": "python",
   "name": "python3"
  },
  "language_info": {
   "codemirror_mode": {
    "name": "ipython",
    "version": 3
   },
   "file_extension": ".py",
   "mimetype": "text/x-python",
   "name": "python",
   "nbconvert_exporter": "python",
   "pygments_lexer": "ipython3",
   "version": "3.9.7"
  }
 },
 "nbformat": 4,
 "nbformat_minor": 4
}
