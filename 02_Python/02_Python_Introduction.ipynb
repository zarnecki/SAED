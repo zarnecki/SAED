{
 "cells": [
  {
   "cell_type": "markdown",
   "metadata": {
    "colab_type": "text",
    "id": "MonTGYfCIDu_",
    "tags": []
   },
   "source": [
    "### Lecture 2\n",
    "\n",
    "# Python and computing tools introduction"
   ]
  },
  {
   "cell_type": "markdown",
   "metadata": {
    "tags": []
   },
   "source": [
    "## (1) Containers\n",
    "\n",
    "The goal of the lecture is not only to present the theoretical concepts but also to demonstrate how they can be applied in practical terms to data analysis. We will address many (relatively simple) problems and try to look at example solutions. All examples presented are based on Python and multiple additiona packages, which will be shortly introduced today.\n",
    "\n",
    "To avoid the burden of installing and configuring all the required packages on your personal computers, we will use virtual environments known as containers. Containers are lightweight versions of old time virtual machines. Two popular environments used to run the containers are:\n",
    "\n",
    "* [Apptainer](https://apptainer.org/) (previously singularity; still difficult to find in Google)\n",
    "* [Docker](https://www.docker.com/)\n",
    "\n",
    "Both Docker and Apptainer can use the same input files. Docker is available for any operating system, Apptainer only for Linux ones. Notebooks presented at this lecture are developed with [akalinow/root-fedora35](https://hub.docker.com/repository/docker/akalinow/root-fedora35/general) container prepared for the other course some time ago. This is a container based on Fedora Linux ditribution, and conains all packages we will use during the classes. \n",
    "\n",
    "Detailed instructions on installing and starting Docker are given [here](https://github.com/akalinow/Modern_Particle_Physics_Experiments/blob/2022_2023/Docker/README.md)"
   ]
  },
  {
   "cell_type": "markdown",
   "metadata": {},
   "source": [
    "* Visual Studio Code\n",
    "\n",
    "Visual studio code has a number of usefull extentions allowing to connect to running containers. `We encourage` you to try it at home."
   ]
  },
  {
   "cell_type": "markdown",
   "metadata": {},
   "source": [
    "## (2) Python basics"
   ]
  },
  {
   "cell_type": "code",
   "execution_count": 1,
   "metadata": {},
   "outputs": [],
   "source": [
    "#Single line comment starts with a single hash sign: #\n",
    "\n",
    "'''\n",
    "Multi line comment starts and ends with triple quotation mark.\n",
    "'''\n",
    "\n",
    "aaa = 0    # Comment can also follow any code line (makes your code more compact)"
   ]
  },
  {
   "cell_type": "code",
   "execution_count": 2,
   "metadata": {},
   "outputs": [],
   "source": [
    "# A library is loaded with import\n",
    "import math\n",
    "\n",
    "# A library can be loaded, and given an alias \n",
    "import math as m\n",
    "\n",
    "# A single module or function witin library is loaded with\n",
    "from math import atan"
   ]
  },
  {
   "cell_type": "code",
   "execution_count": 3,
   "metadata": {},
   "outputs": [
    {
     "name": "stdout",
     "output_type": "stream",
     "text": [
      "Helo world.\n",
      "Helo again!\n",
      "\n",
      "Pi is roughly  3.14  more precisely  3.141592653589793\n",
      "Pi is roughly 3.14, more precisely 3.1416\n",
      "\n",
      "Quarks have thre colors:  \u001b[31mR\u001b[0m \u001b[32mG\u001b[0m \u001b[34mB\u001b[0m \n",
      "\n",
      "\"math\" library includes following members:\n",
      " ['__doc__', '__file__', '__loader__', '__name__', '__package__', '__spec__', 'acos', 'acosh', 'asin', 'asinh', 'atan', 'atan2', 'atanh', 'ceil', 'comb', 'copysign', 'cos', 'cosh', 'degrees', 'dist', 'e', 'erf', 'erfc', 'exp', 'expm1', 'fabs', 'factorial', 'floor', 'fmod', 'frexp', 'fsum', 'gamma', 'gcd', 'hypot', 'inf', 'isclose', 'isfinite', 'isinf', 'isnan', 'isqrt', 'lcm', 'ldexp', 'lgamma', 'log', 'log10', 'log1p', 'log2', 'modf', 'nan', 'nextafter', 'perm', 'pi', 'pow', 'prod', 'radians', 'remainder', 'sin', 'sinh', 'sqrt', 'tan', 'tanh', 'tau', 'trunc', 'ulp']\n"
     ]
    }
   ],
   "source": [
    "# Printout to screen is made with `print(...)` function\n",
    "\n",
    "print(\"Helo world.\")  # Each printed line will end with  'new line', so next print will go to next line...\n",
    "\n",
    "print(\"Helo again!\\n\")  # You can add more empty lines for clarity of the output\n",
    "\n",
    "\n",
    "# Print can be used with all data types, numbers in particular, one can also use formulas:\n",
    "\n",
    "print(\"Pi is roughly \",3.14,\" more precisely \",4.0*atan(1.0))\n",
    "\n",
    "#Nice formatting can be made with `format(...)` function of a string class:\n",
    "\n",
    "print(\"Pi is roughly {}, more precisely {:.4f}\\n\".format(3.14, 4.0*atan(1.0)))\n",
    "\n",
    "\n",
    "#An eycandy colored text can be printer using package colored\n",
    "\n",
    "from termcolor import colored\n",
    "\n",
    "print(\"Quarks have thre colors: \",colored(\"R\",\"red\"),colored(\"G\",\"green\"),colored(\"B\",\"blue\"),\"\\n\")\n",
    "\n",
    "\n",
    "# Library, but also class members can be listed with dir(...) function:\n",
    "\n",
    "print(\"\\\"math\\\" library includes following members:\\n\",dir(math))"
   ]
  },
  {
   "cell_type": "code",
   "execution_count": 4,
   "metadata": {},
   "outputs": [
    {
     "name": "stdout",
     "output_type": "stream",
     "text": [
      "A string variable.\n",
      "The \"mytext\" variable has type <class 'str'> \n",
      "\n",
      "Following methods are defined for \"mytext\" variable:\n",
      " ['__add__', '__class__', '__contains__', '__delattr__', '__dir__', '__doc__', '__eq__', '__format__', '__ge__', '__getattribute__', '__getitem__', '__getnewargs__', '__gt__', '__hash__', '__init__', '__init_subclass__', '__iter__', '__le__', '__len__', '__lt__', '__mod__', '__mul__', '__ne__', '__new__', '__reduce__', '__reduce_ex__', '__repr__', '__rmod__', '__rmul__', '__setattr__', '__sizeof__', '__str__', '__subclasshook__', 'capitalize', 'casefold', 'center', 'count', 'encode', 'endswith', 'expandtabs', 'find', 'format', 'format_map', 'index', 'isalnum', 'isalpha', 'isascii', 'isdecimal', 'isdigit', 'isidentifier', 'islower', 'isnumeric', 'isprintable', 'isspace', 'istitle', 'isupper', 'join', 'ljust', 'lower', 'lstrip', 'maketrans', 'partition', 'removeprefix', 'removesuffix', 'replace', 'rfind', 'rindex', 'rjust', 'rpartition', 'rsplit', 'rstrip', 'split', 'splitlines', 'startswith', 'strip', 'swapcase', 'title', 'translate', 'upper', 'zfill'] \n",
      "\n"
     ]
    }
   ],
   "source": [
    "#Variables are defined with name and value. Typing is not required\n",
    "mytext = \"A string variable.\"\n",
    "\n",
    "print(mytext)\n",
    "print(\"The \\\"mytext\\\" variable has type\",type(mytext),\"\\n\")\n",
    "\n",
    "#Object variables and methods can be listed with dir(...) function:\n",
    "print(\"Following methods are defined for \\\"mytext\\\" variable:\\n\",dir(mytext),\"\\n\")"
   ]
  },
  {
   "cell_type": "code",
   "execution_count": 5,
   "metadata": {},
   "outputs": [
    {
     "name": "stdout",
     "output_type": "stream",
     "text": [
      "a STRING VARIABLE.\n",
      "The string variable.\n"
     ]
    }
   ],
   "source": [
    "# Try to use the methods shown\n",
    "print(mytext.swapcase())\n",
    "print(mytext.replace('A','The'))"
   ]
  },
  {
   "cell_type": "code",
   "execution_count": 6,
   "metadata": {},
   "outputs": [
    {
     "name": "stdout",
     "output_type": "stream",
     "text": [
      "x variable is odd\n",
      "x variable has type  <class 'int'>\n"
     ]
    }
   ],
   "source": [
    "#Conditional statement is created using if, elif and else statements:\n",
    "\n",
    "x = 11\n",
    "\n",
    "# x = 3.3   # Uncomment to see what happens...\n",
    "\n",
    "if x%2==0:\n",
    "    print(\"x variable is even\")\n",
    "elif x%2==1:\n",
    "    print(\"x variable is odd\")\n",
    "else:\n",
    "    print(colored(\"This branch should never activate\",\"red\"))\n",
    "    print(\"try to understand why you are here!\")\n",
    "\n",
    "print(\"x variable has type \",type(x))   # It is sometimes useful to check!"
   ]
  },
  {
   "cell_type": "code",
   "execution_count": 7,
   "metadata": {},
   "outputs": [
    {
     "name": "stdout",
     "output_type": "stream",
     "text": [
      "x variable is multiple of 5\n"
     ]
    }
   ],
   "source": [
    "# The range of conditional statement is defined by intendation!\n",
    "\n",
    "x = 15  \n",
    "# x = 30   # Uncomment to see what happens\n",
    "\n",
    "if x%2==0:\n",
    "    print(\"x variable is even\")\n",
    "    \n",
    "    if x%3==0:\n",
    "        print(\"x variable is multiple of 3\")\n",
    "    \n",
    "if x%5==0:      \n",
    "    print(\"x variable is multiple of 5\")\n",
    "            "
   ]
  },
  {
   "cell_type": "code",
   "execution_count": 8,
   "metadata": {},
   "outputs": [
    {
     "name": "stdout",
     "output_type": "stream",
     "text": [
      "Value of list item with index 0 is 1\n",
      "Value of tuple item with index 0 is 10\n",
      "The full dictionary: {'one': 1, 'two': 2, 'three': 3}\n",
      "Value of dictionary item with index \"one\" is 1\n"
     ]
    }
   ],
   "source": [
    "#Some basic composite types:\n",
    "\n",
    "# List\n",
    "x = [1,2,3,4,5]\n",
    "\n",
    "index = 0\n",
    "print(\"Value of list item with index {} is {}\".format(index,x[index]))\n",
    "\n",
    "# Tuple - a constant list\n",
    "x = (10,20)\n",
    "print(\"Value of tuple item with index {} is {}\".format(index,x[index]))\n",
    "#x[0] = 12 # <--- this line gives error - you can not modify a tuple\n",
    "\n",
    "# Dictionary - an \"list\" indexed by key objects\n",
    "empty_dict = {}\n",
    "x = {\"one\": 1, \"two\": 2, \"three\": 3}\n",
    "print(\"The full dictionary:\",x)\n",
    "index = \"one\"\n",
    "print(\"Value of dictionary item with index \\\"{}\\\" is {}\".format(index,x[index]))"
   ]
  },
  {
   "cell_type": "code",
   "execution_count": 9,
   "metadata": {},
   "outputs": [
    {
     "name": "stdout",
     "output_type": "stream",
     "text": [
      "0 1 2 3 4 5 6 7 8 9 \n",
      "Value of  0  with type  <class 'int'>\n",
      "Value of  1  with type  <class 'int'>\n",
      "Value of  3  with type  <class 'int'>\n",
      "Value of  5  with type  <class 'int'>\n",
      "Value of  9.7  with type  <class 'float'>\n",
      "Value of  15  with type  <class 'int'>\n",
      "Value of  20  with type  <class 'int'>\n",
      "Value of  30  with type  <class 'int'>\n",
      "Value of  50  with type  <class 'int'>\n",
      "Value of  99.9  with type  <class 'float'>\n"
     ]
    }
   ],
   "source": [
    "# Iteration is made with for statement:\n",
    "\n",
    "for x in range(0,10):\n",
    "    print(x, end=\" \")   # use end=\" \" to avoid new line after each value\n",
    "   \n",
    "print()  # Just new line\n",
    "\n",
    "# But arbitrary list of values can also be given\n",
    "\n",
    "xx = [ 0, 1, 3, 5, 9.7, 15, 20, 30, 50, 99.9]   # List can include different data types! Be careful...\n",
    "\n",
    "for x in xx:\n",
    "    print(\"Value of \",x,\" with type \",type(x))    \n"
   ]
  },
  {
   "cell_type": "code",
   "execution_count": 10,
   "metadata": {},
   "outputs": [
    {
     "name": "stdout",
     "output_type": "stream",
     "text": [
      "Type of x is  <class 'tuple'>\n",
      "Content of x is:  (2, 4)\n",
      "a = 2, b = 4\n",
      "c = 4, d = 2\n"
     ]
    }
   ],
   "source": [
    "## Functions are defined with def statement.\n",
    "## functions can return many values - in that case a function returns tuple\n",
    "\n",
    "def myFunc(x):\n",
    "    return x, x**2\n",
    "\n",
    "x = myFunc(2)\n",
    "\n",
    "print(\"Type of x is \",type(x))\n",
    "print(\"Content of x is: \",x)\n",
    "\n",
    "#Multiple values returned by function cen be directly assigned to variables\n",
    "a,b = myFunc(2)\n",
    "print(\"a = {}, b = {}\".format(a,b))\n",
    "\n",
    "#It is also possible to catch only selected variables\n",
    "_,c = myFunc(2)\n",
    "d,_ = myFunc(2)\n",
    "print(\"c = {}, d = {}\".format(c,d))"
   ]
  },
  {
   "cell_type": "markdown",
   "metadata": {},
   "source": [
    "## (3) Introduction to packages used during the Workshop\n",
    "\n",
    "During this workshop we will use only a core set of packages used for computation and plotting:\n",
    "\n",
    "* [numpy](https://numpy.org/) - The fundamental package for scientific computing with Python\n",
    "* [matplotlib](https://matplotlib.org/) - Visualization with Python\n",
    "* [SciPy](https://scipy.org/) - Fundamental algorithms for scientific computing in Python\n",
    "* [ROOT](https://root.cern/doc/master/group__tutorial__pyroot.html) - Data analysis framework used in the hight energy physics community\n",
    "* [scikit-learn](https://scikit-learn.org/dev/index.html) - Machine Learning in Python, simple and efficient (not discussed today)"
   ]
  },
  {
   "cell_type": "code",
   "execution_count": 11,
   "metadata": {},
   "outputs": [
    {
     "name": "stdout",
     "output_type": "stream",
     "text": [
      "Welcome to JupyROOT 6.24/04\n"
     ]
    }
   ],
   "source": [
    "import numpy as np\n",
    "import matplotlib.pyplot as plt\n",
    "import ROOT"
   ]
  },
  {
   "cell_type": "markdown",
   "metadata": {
    "tags": []
   },
   "source": [
    "## (3.1) Numpy\n",
    "\n",
    "Numpy is a powerful library for mathematical operations. In particular, it provides advanced matrix operations.<br>\n",
    "For details of different routines, have a look at [numpy reference](https://numpy.org/doc/stable/reference/routines.html)"
   ]
  },
  {
   "cell_type": "code",
   "execution_count": 12,
   "metadata": {},
   "outputs": [
    {
     "name": "stdout",
     "output_type": "stream",
     "text": [
      "\u001b[34mx :\n",
      "\u001b[0m [[1 2 1]\n",
      " [5 5 4]\n",
      " [0 1 2]] \n",
      "\n",
      "\u001b[34mThe shape of x is:\u001b[0m (3, 3) , type is  int64 \n",
      "\n",
      "\u001b[34mElement access: \u001b[0m x[0][1] =  2 \n",
      "\n",
      "\u001b[34my :\n",
      "\u001b[0m [[1. 0. 0.]\n",
      " [0. 1. 0.]\n",
      " [0. 0. 1.]] \n",
      "\n",
      "\u001b[34mThe shape of y is:\u001b[0m (3, 3) , type is  float64 \n",
      "\n",
      "\u001b[34mResult of x+y:\n",
      "\u001b[0m [[2. 2. 1.]\n",
      " [5. 6. 4.]\n",
      " [0. 1. 3.]] \n",
      "\n",
      "\u001b[34mResult of x*y:\n",
      "\u001b[0m [[1. 0. 0.]\n",
      " [0. 5. 0.]\n",
      " [0. 0. 2.]] \n",
      "\n"
     ]
    }
   ],
   "source": [
    "# Definition of 2-D array (matrix is an array of arrays)\n",
    "\n",
    "x = np.array([(1,2,1),(5,5,4), (0,1,2)])\n",
    "print(colored(\"x :\\n\",\"blue\"),x,\"\\n\")\n",
    "print(colored(\"The shape of x is:\",\"blue\"),x.shape,\", type is \",x.dtype,\"\\n\")\n",
    "\n",
    "# Single elements of the matrix: first index is row, second index is column, counting always from 0 (!)\n",
    "\n",
    "print(colored(\"Element access: \",\"blue\"),\"x[0][1] = \",x[0][1],\"\\n\")\n",
    "\n",
    "\n",
    "# Unit matrix of the same size\n",
    "\n",
    "y = np.identity(x.shape[0])\n",
    "print(colored(\"y :\\n\",\"blue\"), y, \"\\n\")\n",
    "print(colored(\"The shape of y is:\",\"blue\"),y.shape,\", type is \",y.dtype,\"\\n\")\n",
    "\n",
    "# Most of the matrix operations are element-wise (when possible)\n",
    "\n",
    "print(colored(\"Result of x+y:\\n\",\"blue\"),x+y,\"\\n\")\n",
    "\n",
    "print(colored(\"Result of x*y:\\n\",\"blue\"),x*y,\"\\n\")"
   ]
  },
  {
   "cell_type": "code",
   "execution_count": 13,
   "metadata": {},
   "outputs": [
    {
     "name": "stdout",
     "output_type": "stream",
     "text": [
      "\u001b[34mResult of z=x-2*y-1:\n",
      "\u001b[0m [[0. 3. 2.]\n",
      " [6. 4. 5.]\n",
      " [1. 2. 1.]] \n",
      "\n",
      "\u001b[34mResult of z**2\n",
      "\u001b[0m [[ 0.  9.  4.]\n",
      " [36. 16. 25.]\n",
      " [ 1.  4.  1.]] \n",
      "\n",
      "\u001b[34mResult of sqrt(z)\n",
      "\u001b[0m [[0.         1.73205081 1.41421356]\n",
      " [2.44948974 2.         2.23606798]\n",
      " [1.         1.41421356 1.        ]] \n",
      "\n"
     ]
    }
   ],
   "source": [
    "# All operations with scalar arguments are also done element by element\n",
    "\n",
    "z = x - 2*y + 1 \n",
    "\n",
    "print(colored(\"Result of z=x-2*y-1:\\n\",\"blue\"),z,\"\\n\")\n",
    "\n",
    "print(colored(\"Result of z**2\\n\",\"blue\"),z**2,\"\\n\")   # Power\n",
    "\n",
    "print(colored(\"Result of sqrt(z)\\n\",\"blue\"),np.sqrt(z),\"\\n\")   # Try to change to different function, eg. np.sin()\n"
   ]
  },
  {
   "cell_type": "code",
   "execution_count": 14,
   "metadata": {},
   "outputs": [
    {
     "name": "stdout",
     "output_type": "stream",
     "text": [
      "\u001b[34mResult of x dot y:\n",
      "\u001b[0m [[1. 2. 1.]\n",
      " [5. 5. 4.]\n",
      " [0. 1. 2.]] \n",
      "\n",
      "\u001b[34mResult of x @ y:\n",
      "\u001b[0m [[1. 2. 1.]\n",
      " [5. 5. 4.]\n",
      " [0. 1. 2.]] \n",
      "\n"
     ]
    }
   ],
   "source": [
    "# Ordinary mathematical matrix operations have to selected with proper method:\n",
    "\n",
    "print(colored(\"Result of x dot y:\\n\",\"blue\"), x.dot(y),\"\\n\")\n",
    "\n",
    "# Or (equivalent notation)\n",
    "\n",
    "print(colored(\"Result of x @ y:\\n\",\"blue\"), x @ y,\"\\n\")"
   ]
  },
  {
   "cell_type": "code",
   "execution_count": 15,
   "metadata": {},
   "outputs": [
    {
     "name": "stdout",
     "output_type": "stream",
     "text": [
      "\u001b[34mx matrix is:\n",
      "\u001b[0m [[1 2 1]\n",
      " [5 5 4]\n",
      " [0 1 2]] \n",
      "\n",
      "\u001b[34my maxtrix is:\n",
      "\u001b[0m [[1 2 3]] \n",
      "\n",
      "\u001b[34mResult of x*y:\n",
      "\u001b[0m [[ 1  4  3]\n",
      " [ 5 10 12]\n",
      " [ 0  2  6]] \n",
      "\n",
      "\u001b[34mResult of y*x:\n",
      "\u001b[0m [[ 1  4  3]\n",
      " [ 5 10 12]\n",
      " [ 0  2  6]] \n",
      "\n",
      "\u001b[34my maxtrix is:\n",
      "\u001b[0m [[1 2]] \n",
      "\n"
     ]
    }
   ],
   "source": [
    "#Matrices are extended (broadcasted) when dimensions do not allow for element wise operations.\n",
    "#the broadcasting is performed if is it possible for given input matrices shape:\n",
    "\n",
    "print(colored(\"x matrix is:\\n\",\"blue\"),x,\"\\n\")\n",
    "\n",
    "y = np.array([[1,2,3]])  # 1 x 3 matrix\n",
    "print(colored(\"y maxtrix is:\\n\",\"blue\"), y, \"\\n\")\n",
    "\n",
    "# Order does not matter\n",
    "print(colored(\"Result of x*y:\\n\",\"blue\"),x*y,\"\\n\")\n",
    "print(colored(\"Result of y*x:\\n\",\"blue\"),y*x,\"\\n\")\n",
    "\n",
    "#The broadcasting is performed if is it possible for given input matrices shape.\n",
    "#Select first two columns of the y matrix:\n",
    "y = y[:,0:2]\n",
    "print(colored(\"y maxtrix is:\\n\",\"blue\"),y,\"\\n\")\n",
    "# print(\"Result of x*y:\\n {}\\n\".format(x*y)) #<-- this line gives error, shape do not match for broadcasting"
   ]
  },
  {
   "cell_type": "code",
   "execution_count": 16,
   "metadata": {},
   "outputs": [
    {
     "name": "stdout",
     "output_type": "stream",
     "text": [
      "\u001b[34mx matrix is:\n",
      "\u001b[0m [[1 2 1]\n",
      " [5 5 4]\n",
      " [0 1 2]] \n",
      "\n",
      "\u001b[34my vector is:\n",
      "\u001b[0m [1. 0. 0.] \n",
      "\n",
      "\u001b[34mThe shape of y is:\u001b[0m (3,) , type is  float64 \n",
      "\n",
      "\u001b[34mResult of x*y:\n",
      "\u001b[0m [[1. 0. 0.]\n",
      " [5. 0. 0.]\n",
      " [0. 0. 0.]] \n",
      "\n",
      "\u001b[34mResult of y*x:\n",
      "\u001b[0m [[1. 0. 0.]\n",
      " [5. 0. 0.]\n",
      " [0. 0. 0.]] \n",
      "\n",
      "\u001b[34mResult of y @ x:\n",
      "\u001b[0m [1. 2. 1.] \n",
      "\n",
      "\u001b[34mResult of x @ y:\n",
      "\u001b[0m [1. 5. 0.] \n",
      "\n"
     ]
    }
   ],
   "source": [
    "# Vector (1D array) object\n",
    "\n",
    "print(colored(\"x matrix is:\\n\",\"blue\"),x,\"\\n\")\n",
    "\n",
    "y = np.array([1.,0.,0.])\n",
    "print(colored(\"y vector is:\\n\",\"blue\"), y, \"\\n\")\n",
    "print(colored(\"The shape of y is:\",\"blue\"),y.shape,\", type is \",y.dtype,\"\\n\")\n",
    "\n",
    "# Vector x Matrix\n",
    "\n",
    "# Element by element (with matrix broadcasting) - order does not matter\n",
    "print(colored(\"Result of x*y:\\n\",\"blue\"),x*y,\"\\n\")\n",
    "print(colored(\"Result of y*x:\\n\",\"blue\"),y*x,\"\\n\")\n",
    "\n",
    "\n",
    "# Algebraic product - order DOES matter\n",
    "\n",
    "print(colored(\"Result of y @ x:\\n\",\"blue\"),y @ x,\"\\n\")  \n",
    "print(colored(\"Result of x @ y:\\n\",\"blue\"),x @ y,\"\\n\")  \n",
    "\n"
   ]
  },
  {
   "cell_type": "code",
   "execution_count": 17,
   "metadata": {},
   "outputs": [
    {
     "name": "stdout",
     "output_type": "stream",
     "text": [
      "\u001b[34mx matrix is:\n",
      "\u001b[0m [[1. 1. 1. 1.]\n",
      " [1. 1. 1. 1.]\n",
      " [1. 1. 1. 1.]\n",
      " [1. 1. 1. 1.]] \n",
      "\n",
      "\u001b[34mTotal sum of elements is:\u001b[0m 16.0\n",
      "\u001b[34mTotal sum of columns for each row is:\u001b[0m [4. 4. 4. 4.]\n"
     ]
    }
   ],
   "source": [
    "#Create a 4x4 matrix filled with 1.0\n",
    "x = np.full((4,4), 1.0)\n",
    "print(colored(\"x matrix is:\\n\",\"blue\"),x,\"\\n\")\n",
    "\n",
    "#Sum all elements\n",
    "print(colored(\"Total sum of elements is:\",\"blue\"),np.sum(x))\n",
    "\n",
    "#Sum all columns\n",
    "print(colored(\"Total sum of columns for each row is:\",\"blue\"),np.sum(x, axis=1))"
   ]
  },
  {
   "cell_type": "markdown",
   "metadata": {},
   "source": [
    "### Linear algebra\n",
    "\n",
    "Numpy includes also many methods for linear algebra, see\n",
    "[numpy linalg reference](https://numpy.org/doc/stable/reference/routines.linalg.html)\n",
    "\n",
    "Can be used to solve matrix equations, eg.\n",
    "\n",
    "$ \\left\\{ \\begin{array}{c} 5 x + 3 y + 2 z = 6 \\\\\n",
    "  2 x + 5 y + 3 z = 3 \\\\\n",
    "  3 x + 2 y + 4 z = 9 \\end{array} \\right. $\n",
    "  \n",
    "In matrix notation:\n",
    "\n",
    "$ {\\cal A} \\cdot \\vec{x} = \\vec{B}$\n",
    "\n",
    "where $\\vec{x} = (x,y,z)$, solution is:\n",
    "\n",
    "$ \\vec{x} = {\\cal A}^{-1} \\cdot \\vec{B}$"
   ]
  },
  {
   "cell_type": "code",
   "execution_count": 18,
   "metadata": {},
   "outputs": [
    {
     "name": "stdout",
     "output_type": "stream",
     "text": [
      "Solution is  [ 1. -1.  2.]\n"
     ]
    }
   ],
   "source": [
    "# Matrix and vector defining the equation:\n",
    "\n",
    "A = np.array([[5,3,2],[2,5,3],[3,2,4]],dtype=np.float64)\n",
    "B = np.array([6,3,9],dtype=np.float64)\n",
    "\n",
    "# Vector of results\n",
    "\n",
    "x = np.linalg.inv(A) @ B\n",
    "\n",
    "print(\"Solution is \",x)"
   ]
  },
  {
   "cell_type": "markdown",
   "metadata": {
    "tags": []
   },
   "source": [
    "## (3.2) Matplotlib\n",
    "\n",
    "Basic plots are made with matplotlib library. More advanced plots can be made with [seaborn](https://seaborn.pydata.org/) library"
   ]
  },
  {
   "cell_type": "code",
   "execution_count": 19,
   "metadata": {},
   "outputs": [
    {
     "name": "stdout",
     "output_type": "stream",
     "text": [
      "\u001b[34mRandom data matrix shape is:\u001b[0m (2, 100)\n"
     ]
    },
    {
     "data": {
      "image/png": "[encoded data removed]",
      "text/plain": [
       "<Figure size 720x720 with 4 Axes>"
      ]
     },
     "metadata": {
      "needs_background": "light"
     },
     "output_type": "display_data"
    }
   ],
   "source": [
    "#Create z 2x2 plot set. Control plot size with figsize parameter\n",
    "axes = plt.figure(figsize=(10,10)).subplots(2, 2);\n",
    "\n",
    "#Create a list of points on the X axis\n",
    "x = np.arange(0,2.0*np.pi,0.01)\n",
    "\n",
    "#Calculate the desired functions for all the points in one line\n",
    "y1 = np.sin(x)\n",
    "y2 = np.cos(x)\n",
    "\n",
    "#Plot many lines on a single figure (called \"axis\" in matplotlib)\n",
    "axes[0,0].plot(x, y1, label=\"sin(x)\")\n",
    "axes[0,0].plot(x, y2, label=\"cos(x)\")\n",
    "axes[0,0].legend()\n",
    "axes[0,0].set_xlabel('x')\n",
    "axes[0,0].set_ylabel('y')\n",
    "\n",
    "#Plot on a different axis. X values are not provided - put index of a value on the X axis\n",
    "#Use Latex in labels, change a line style\n",
    "axes[0,1].plot(2*y1, label=r\"$2\\cdot sin(x)$\", linewidth=3, linestyle=\"--\",color=\"brown\")\n",
    "axes[0,1].set_xlabel('x')\n",
    "axes[0,1].set_ylabel('y')\n",
    "axes[0,1].legend()\n",
    "\n",
    "#Draw set of random points: 2 columns of 100 rows from a uniform distribution\n",
    "data = np.random.rand(2,100)\n",
    "print(colored(\"Random data matrix shape is:\",\"blue\"),data.shape)\n",
    "\n",
    "#Use each columns as a point coordinate\n",
    "axes[1,0].scatter(data[0,:], data[1,:], label=\"random points\")\n",
    "axes[1,0].set_xlabel('x')\n",
    "axes[1,0].set_ylabel('y')\n",
    "\n",
    "#Draw a set of random numberd from normal distribution\n",
    "data = np.random.randn(10000)\n",
    "\n",
    "#Plot a histogram of data values\n",
    "axes[1,1].hist(data, bins=20);\n",
    "axes[1,1].set_xlabel('Number of points')\n",
    "axes[1,1].set_ylabel('Value');"
   ]
  },
  {
   "cell_type": "markdown",
   "metadata": {},
   "source": [
    "# Alternative (simplified) syntax for using matplotlib. Works for most cases...\n",
    "\n",
    "#  Generate test data\n",
    "\n",
    "Nmc = 10000\n",
    "\n",
    "# Uniform points in (X,Y) \n",
    "\n",
    "xy = 2.*np.random.rand(Nmc,2) - 1.    # Domain is from -1 to 1\n",
    "\n",
    "# Add constraint:\n",
    "\n",
    "x = xy[:,0]\n",
    "y = xy[:,1]\n",
    "\n",
    "r = np.sqrt(x**2+y**2)\n",
    "phi = np.arctan2(y,x)\n",
    "phi *= 180./np.pi   # convert to degrees\n",
    "\n",
    "test = (r < 1.)*(phi<135.)*(phi>-135.)           #  selection criteria; for numpy '*' has to be used instead of 'and'\n",
    "\n",
    "print(np.sum(test),\" points out of \",Nmc,\" selected\")\n",
    "\n",
    "# Plot generated points\n",
    "\n",
    "plt.subplots(1,2,figsize=(18, 8))\n",
    "\n",
    "plt.subplot(121)\n",
    "\n",
    "plt.plot(x[test],y[test],'.')\n",
    "    \n",
    "plt.xlabel('X',size=20)\n",
    "plt.ylabel('Y',size=20)\n",
    "plt.xticks(fontsize=16)\n",
    "plt.yticks(fontsize=16)\n",
    "plt.title(\"Selected random points\",size=24)\n",
    "\n",
    "plt.subplot(222)\n",
    "\n",
    "plt.hist(x[test],density=True,log=False,bins=50,range=(-1.,1.))\n",
    "         \n",
    "plt.xlabel('X',size=16)\n",
    "plt.ylabel('Density',size=16)\n",
    "plt.xticks(fontsize=14)\n",
    "plt.yticks(fontsize=14)\n",
    "plt.title(\"Single coordinate distribution\",size=24)\n",
    "\n",
    "\n",
    "plt.subplot(224)\n",
    "\n",
    "plt.hist(y[test],density=True,log=False,bins=50,range=(-1.,1.))\n",
    "         \n",
    "plt.xlabel('Y',size=16)\n",
    "plt.ylabel('Density',size=16)\n",
    "plt.xticks(fontsize=14)\n",
    "plt.yticks(fontsize=14)\n",
    "\n",
    "fname = 'test_plot.png'\n",
    "\n",
    "plt.savefig(fname)\n",
    "\n",
    "plt.show()"
   ]
  },
  {
   "cell_type": "markdown",
   "metadata": {
    "tags": []
   },
   "source": [
    "## (3.3) SciPy\n",
    "\n",
    "Fundamental algorithms for scientific computing in Python: [SciPy](https://scipy.org/)\n",
    "\n",
    "For details of different packages see [reference manual](https://docs.scipy.org/doc/scipy/reference/index.html)\n",
    "\n",
    "For this lecture, we will mostly use statistical function package [scipy.stat](https://docs.scipy.org/doc/scipy/reference/stats.html)"
   ]
  },
  {
   "cell_type": "code",
   "execution_count": 21,
   "metadata": {
    "tags": []
   },
   "outputs": [
    {
     "data": {
      "image/png": "[encoded data removed]",
      "text/plain": [
       "<Figure size 864x576 with 1 Axes>"
      ]
     },
     "metadata": {
      "needs_background": "light"
     },
     "output_type": "display_data"
    }
   ],
   "source": [
    "# For normal distribution import:\n",
    "\n",
    "from scipy.stats import norm  \n",
    "\n",
    "# Generate random set of points\n",
    "\n",
    "Nmc = 10000\n",
    "\n",
    "mean = 2.7\n",
    "sigma = 0.4\n",
    "\n",
    "r = norm.rvs(mean,sigma,size=Nmc)\n",
    "\n",
    "# Expected variable range\n",
    "\n",
    "eps = 0.00001    # Tail fraction cut-off\n",
    "\n",
    "rmin = norm.ppf(eps,mean,sigma)      # Percent point function: inverse of cumulative distribution function\n",
    "rmax = norm.ppf(1.-eps,mean,sigma)\n",
    "\n",
    "# Plot generated point distribution\n",
    "\n",
    "plt.figure(figsize=(12, 8))\n",
    "\n",
    "plt.hist(r,density=True,log=False,bins=50,range=(rmin,rmax))    # Try changing log flag to True !\n",
    "         \n",
    "plt.title(\"SciPy test\",size=24)\n",
    "\n",
    "plt.xlabel('Random variable',size=20)\n",
    "plt.ylabel('Density',size=20)\n",
    "plt.xticks(fontsize=14)\n",
    "plt.yticks(fontsize=14)\n",
    "\n",
    "# Compare with the expected PDF\n",
    "\n",
    "Nfun = 100\n",
    "x = np.linspace(rmin,rmax,Nfun)\n",
    "\n",
    "plt.plot(x, norm.pdf(x,mean,sigma),'r-', lw=3)\n",
    "\n",
    "# Add cumulative distribution\n",
    "\n",
    "plt.plot(x, norm.cdf(x,mean,sigma),'b--', lw=3)\n",
    "\n",
    "# Store and show the plot\n",
    "\n",
    "fname = 'test_plot2.png'\n",
    "\n",
    "plt.savefig(fname)\n",
    "\n",
    "plt.show()"
   ]
  },
  {
   "cell_type": "markdown",
   "metadata": {},
   "source": [
    "## (3.4) ROOT\n",
    "\n",
    "Data analysis can be mede with ROOT. This includes:\n",
    "\n",
    "* plotting\n",
    "* histogram operations (much more convenient than in other packeges)\n",
    "* function fit to data\n",
    "* much more..."
   ]
  },
  {
   "cell_type": "code",
   "execution_count": 43,
   "metadata": {},
   "outputs": [
    {
     "name": "stdout",
     "output_type": "stream",
     "text": [
      "Function integral =  0.9999702503316914\n",
      "Formula based function:     breit_wigner \n",
      "         breit_wigner : [1]/TMath::Pi()/2/(TMath::Power(x - [0],2) + TMath::Power([1]/2,2)) Ndim= 1, Npar= 2, Number= 0 \n",
      " Formula expression: \n",
      "\t[Gamma]/TMath::Pi()/2/(TMath::Power(x-[m],2)+TMath::Power([Gamma]/2,2)) \n"
     ]
    },
    {
     "name": "stderr",
     "output_type": "stream",
     "text": [
      "Warning in <TCanvas::Constructor>: Deleting canvas with same name: aCanvas\n",
      "Warning in <TROOT::Append>: Replacing existing TH1: hData (Potential memory leak).\n"
     ]
    },
    {
     "data": {
      "image/png": "[encoded data removed]",
      "text/plain": [
       "<IPython.core.display.Image object>"
      ]
     },
     "metadata": {},
     "output_type": "display_data"
    }
   ],
   "source": [
    "# Set log scale for vertical axis\n",
    "ROOT.gStyle.SetOptLogy(1)\n",
    "\n",
    "#Create a Canvas where the plot will be made\n",
    "aCanvas = ROOT.TCanvas( 'aCanvas', 'Example plots', 600, 400)\n",
    "aCanvas.Divide(2,1)\n",
    "aCanvas.Draw()\n",
    "#Create a function from given formula\n",
    "breit_wigner = ROOT.TF1( 'breit_wigner', '[1]/TMath::Pi()/2/(TMath::Power(x - [0],2) + TMath::Power([1]/2,2))', 2, 4)\n",
    "#Set names of the parameters\n",
    "breit_wigner.SetParName(0, \"m\")\n",
    "breit_wigner.SetParName(1, \"Gamma\")\n",
    "\n",
    "#Set the values of parameters\n",
    "breit_wigner.SetParameter(\"m\", 3.096)\n",
    "breit_wigner.SetParameter(\"Gamma\", 0.0000926)\n",
    "# breit_wigner.SetParameter(\"Gamma\", 0.1)               # Try to see what happens for larger width\n",
    "\n",
    "#Calculate the integral\n",
    "integral = breit_wigner.Integral(2,4)\n",
    "print(\"Function integral = \",integral)\n",
    "\n",
    "#Print the function definition\n",
    "breit_wigner.Print()\n",
    "\n",
    "#Draw the function\n",
    "aCanvas.cd(1)\n",
    "breit_wigner.Draw()\n",
    "\n",
    "\n",
    "#Create a histogram\n",
    "hData = ROOT.TH1F(\"hData\",\"Mass distribution;m [GeV/c^{2}];#events\",100,2,4)\n",
    "\n",
    "#Fill with random numbner samples from distribution given by user function\n",
    "nEvents = 10000\n",
    "hData.FillRandom('breit_wigner', nEvents)\n",
    "\n",
    "aCanvas.cd(2)\n",
    "hData.Draw()"
   ]
  },
  {
   "cell_type": "code",
   "execution_count": 44,
   "metadata": {},
   "outputs": [
    {
     "name": "stderr",
     "output_type": "stream",
     "text": [
      "Warning in <TCanvas::Constructor>: Deleting canvas with same name: aCanvas\n",
      "Warning in <TROOT::Append>: Replacing existing TH1: hData2 (Potential memory leak).\n"
     ]
    },
    {
     "data": {
      "image/png": "[encoded data removed]",
      "text/plain": [
       "<IPython.core.display.Image object>"
      ]
     },
     "metadata": {},
     "output_type": "display_data"
    }
   ],
   "source": [
    "#Create a Canvas where the plot will be made\n",
    "aCanvas = ROOT.TCanvas( 'aCanvas', 'Example plots', 600, 400)\n",
    "aCanvas.Divide(2,1)\n",
    "aCanvas.Draw()\n",
    "\n",
    "# Define the funtions in python\n",
    "def mybw(x,par):  # Both x and par are arrays!\n",
    "    m0 = par[0]\n",
    "    Gamma = par[1]\n",
    "    m = x[0]\n",
    "\n",
    "    # relativistic Brite-Wigner this time\n",
    "    k = 1    # Normalization is not relevant here\n",
    "    val = k/((m**2 - m0**2)**2 + (m0*Gamma)**2)\n",
    "    return val\n",
    "\n",
    "mmin = 2.\n",
    "mmax = 4.\n",
    "#Create a ROOT function from user function\n",
    "rel_breit_wigner = ROOT.TF1( 'rel_breit_wigner', mybw, mmin, mmax, 2)  # Last argument is the number of parameters\n",
    "\n",
    "#Set names of the parameters\n",
    "rel_breit_wigner.SetParName(0, \"m\")\n",
    "rel_breit_wigner.SetParName(1, \"Gamma\")\n",
    "\n",
    "#Set the values of parameters\n",
    "rel_breit_wigner.SetParameter(\"m\", 3.096)\n",
    "rel_breit_wigner.SetParameter(\"Gamma\", 0.0000926)\n",
    "\n",
    "#Draw the function\n",
    "aCanvas.cd(1)\n",
    "rel_breit_wigner.Draw()\n",
    "\n",
    "#Create a histogram\n",
    "hData2 = ROOT.TH1F(\"hData2\",\"Mass distribution;m [GeV/c^{2}];#events\",100,mmin,mmax)\n",
    "\n",
    "#Fill with random numbner samples from distribution given by user function\n",
    "nEvents = 10000\n",
    "hData2.FillRandom('rel_breit_wigner', nEvents)\n",
    "\n",
    "aCanvas.cd(2)\n",
    "hData2.Draw()"
   ]
  },
  {
   "cell_type": "markdown",
   "metadata": {},
   "source": [
    "## Homework\n",
    "\n",
    "Look for the recent data describing age and gender structure of the population of Poland. One of the possibile sources is the [Central Statistical Office](https://stat.gov.pl/) (Polish: Główny Urząd Statystyczny).\n",
    "\n",
    "Prepare the plot showing the gender balance as a function of age. Can it be used to draw any conclusions concerning the life expectancy?"
   ]
  },
  {
   "cell_type": "code",
   "execution_count": null,
   "metadata": {},
   "outputs": [],
   "source": []
  }
 ],
 "metadata": {
  "colab": {
   "collapsed_sections": [],
   "name": "02_Python_Introduction.ipynb",
   "provenance": [
    {
     "file_id": "0BzwQ_Lscn8yDWnZVeHU1MjluWFU",
     "timestamp": 1546856440599
    }
   ]
  },
  "kernelspec": {
   "display_name": "Python 3",
   "language": "python",
   "name": "python3"
  },
  "language_info": {
   "codemirror_mode": {
    "name": "ipython",
    "version": 3
   },
   "file_extension": ".py",
   "mimetype": "text/x-python",
   "name": "python",
   "nbconvert_exporter": "python",
   "pygments_lexer": "ipython3",
   "version": "3.9.7"
  },
  "toc-autonumbering": false,
  "toc-showcode": false,
  "toc-showmarkdowntxt": false,
  "toc-showtags": false
 },
 "nbformat": 4,
 "nbformat_minor": 4
}
