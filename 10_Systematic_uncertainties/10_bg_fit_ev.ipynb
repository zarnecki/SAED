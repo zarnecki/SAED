{
 "cells": [
  {
   "cell_type": "markdown",
   "metadata": {
    "tags": []
   },
   "source": [
    "# Systematic uncertainties - background fit example\n",
    "\n",
    "Author: Aleksander Filip Żarnecki (University of Warsaw)"
   ]
  },
  {
   "cell_type": "markdown",
   "metadata": {
    "tags": []
   },
   "source": [
    "### (0) Import libraries "
   ]
  },
  {
   "cell_type": "code",
   "execution_count": 1,
   "metadata": {},
   "outputs": [],
   "source": [
    "import math\n",
    "import numpy as np\n",
    "from scipy.stats import norm\n",
    "import matplotlib.pyplot as plt"
   ]
  },
  {
   "cell_type": "code",
   "execution_count": 2,
   "metadata": {},
   "outputs": [],
   "source": [
    "# Printout settings\n",
    "np.set_printoptions(precision=3, linewidth=100, suppress=True)\n",
    "\n",
    "# More advanced: prevent zeros from being stripped from the end of floats:\n",
    "np.set_printoptions(formatter={'float_kind': '{: 0.3f}'.format})"
   ]
  },
  {
   "cell_type": "markdown",
   "metadata": {
    "tags": []
   },
   "source": [
    "### (1) Definition of background model\n",
    "\n",
    "Consider controlled parameter range is [0,1]"
   ]
  },
  {
   "cell_type": "code",
   "execution_count": 3,
   "metadata": {},
   "outputs": [],
   "source": [
    "# True background distribution\n",
    "\n",
    "def mybg(x):\n",
    "    \n",
    "    bg = 10.0 - 2* x + x*x\n",
    "    \n",
    "    return bg"
   ]
  },
  {
   "cell_type": "markdown",
   "metadata": {},
   "source": [
    "### (2) Definition of fit model"
   ]
  },
  {
   "cell_type": "code",
   "execution_count": 4,
   "metadata": {},
   "outputs": [],
   "source": [
    "# Basic functions:  1, x, x^2, x^3 ...\n",
    "\n",
    "def myfun(x,ifun):\n",
    "\n",
    "    return np.power(x,ifun)\n",
    "\n",
    "# Full model\n",
    "\n",
    "def mymodel(x,par):\n",
    "\n",
    "    val = np.zeros(x.size)\n",
    "    \n",
    "    for ip in range(par.size):\n",
    "        val+=par[ip]*myfun(x,ip)\n",
    "        \n",
    "    return val"
   ]
  },
  {
   "cell_type": "markdown",
   "metadata": {},
   "source": [
    "### (3) Generate pseudo data to fit"
   ]
  },
  {
   "cell_type": "code",
   "execution_count": 5,
   "metadata": {},
   "outputs": [],
   "source": [
    "# Considered values of x\n",
    "\n",
    "xvec = np.linspace(0.05,0.95,10)\n",
    "\n",
    "# Measurement precision\n",
    "# Assume background is measured with precision ten time better than in the actual experiment\n",
    "\n",
    "#  svec = np.linspace(2.,4.,xvec.size)  # used for the actual experiment\n",
    "\n",
    "svec = np.linspace(0.2,0.4,xvec.size)\n",
    "\n",
    "s2vec = svec*svec\n",
    "\n",
    "# Pseudo-data\n",
    "\n",
    "yvec = np.random.normal(mybg(xvec),svec)\n"
   ]
  },
  {
   "cell_type": "markdown",
   "metadata": {},
   "source": [
    "### (4)  Linear fit"
   ]
  },
  {
   "cell_type": "code",
   "execution_count": 15,
   "metadata": {},
   "outputs": [],
   "source": [
    "# Number of model functions to consider \n",
    "\n",
    "Nfun = 3\n",
    "\n",
    "A = np.zeros((Nfun,Nfun))\n",
    "\n",
    "B = np.zeros(Nfun)\n",
    "\n",
    "for l in range(Nfun):\n",
    "    fl = myfun(xvec,l)\n",
    "    B[l] = np.sum(fl*yvec/s2vec)\n",
    "    for k in range(Nfun):\n",
    "        fk = myfun(xvec,k)\n",
    "        A[l,k] = np.sum(fl*fk/s2vec)\n"
   ]
  },
  {
   "cell_type": "code",
   "execution_count": 16,
   "metadata": {},
   "outputs": [
    {
     "name": "stdout",
     "output_type": "stream",
     "text": [
      "\n",
      " Fit results:\n",
      "\n",
      "     par         sigma_p\n",
      "\n",
      "    10.174  +/-  0.214 \n",
      "    -2.915  +/-  1.185 \n",
      "     1.560  +/-  1.265 \n",
      "\n",
      " Correlation matrix\n",
      "\n",
      "[ 1.000 -0.842  0.719]\n",
      "[-0.842  1.000 -0.962]\n",
      "[ 0.719 -0.962  1.000]\n",
      "\n",
      " chi^2 =     4.175   chi^2/Ndf =  0.59645 \n"
     ]
    }
   ],
   "source": [
    "# Inverse of matrix\n",
    "\n",
    "Cov = np.linalg.inv(A)\n",
    "\n",
    "# Solution to the problem\n",
    "\n",
    "par = Cov @ B\n",
    "\n",
    "# Parameter uncertainties\n",
    "\n",
    "epar = np.sqrt(np.diagonal(Cov))\n",
    "\n",
    "print(\"\\n Fit results:\\n\\n     par         sigma_p\\n\")\n",
    "\n",
    "for ip in range(par.size):\n",
    "    print(\"  %8.3f  +/- %6.3f \" % (par[ip],epar[ip]))\n",
    "\n",
    "# Calculate correlation matrix, including rounding\n",
    "\n",
    "Corr = np.array(Cov)\n",
    "\n",
    "print(\"\\n Correlation matrix\\n\")\n",
    "for ip in range(par.size):\n",
    "    for jp in range(par.size):\n",
    "        Corr[ip,jp]=int(1000.*Corr[ip,jp]/epar[ip]/epar[jp]+0.5)/1000.\n",
    "        \n",
    "    print(Corr[ip,:])\n",
    "\n",
    "# Fitted function\n",
    "\n",
    "fvec = mymodel(xvec,par) \n",
    "\n",
    "# Chi^2 printout\n",
    "\n",
    "chi2 = np.sum((yvec-fvec)**2/s2vec)\n",
    "\n",
    "print(\"\\n chi^2 =  %8.3f   chi^2/Ndf = %8.5f \" % (chi2,chi2/(xvec.size-Nfun)))\n",
    "\n",
    "# print(\"\\n  x       y        sigma_y \")\n",
    "# for ix in range(xvec.size):\n",
    "#      print(\"%6.3f  %8.5f  %8.5f \" % (xvec[ix],yvec[ix],svec[ix]))\n"
   ]
  },
  {
   "cell_type": "markdown",
   "metadata": {
    "tags": []
   },
   "source": [
    "### (5) Draw background data and fit"
   ]
  },
  {
   "cell_type": "code",
   "execution_count": 17,
   "metadata": {},
   "outputs": [
    {
     "data": {
      "image/png": "[encoded data removed]",
      "text/plain": [
       "<Figure size 648x432 with 1 Axes>"
      ]
     },
     "metadata": {
      "needs_background": "light"
     },
     "output_type": "display_data"
    }
   ],
   "source": [
    "plt.figure(figsize=(9, 6))\n",
    "\n",
    "plt.errorbar(xvec,yvec,svec, linestyle='none', marker='o', ms=2, mew=4)\n",
    "\n",
    "plt.plot(xvec,fvec,'--')\n",
    "\n",
    "plt.title('Background fit  Npar = '+str(Nfun)+'     $\\chi^{2}$ = '+str(int(100*chi2+0.5)/100.)+' / '+str(xvec.size-Nfun),size=24)\n",
    "plt.xlabel('x',size=20)\n",
    "plt.ylabel('y(x)',size=20)\n",
    "\n",
    "plt.xticks(fontsize=18)\n",
    "plt.yticks(fontsize=18)\n",
    "plt.ylim([0.,14.])\n",
    "plt.grid(which='major', axis='both')\n",
    "\n",
    "fname = '10_bg_fit_ev_'+str(Nfun)+'.png'\n",
    "plt.savefig(fname)"
   ]
  },
  {
   "cell_type": "markdown",
   "metadata": {},
   "source": [
    "### (6) Expected background covariance matrix"
   ]
  },
  {
   "cell_type": "code",
   "execution_count": 18,
   "metadata": {},
   "outputs": [
    {
     "name": "stdout",
     "output_type": "stream",
     "text": [
      "\n",
      " Fitted background:\n",
      "\n",
      "     x        mu_bg      sigma_bg\n",
      "\n",
      "     0.050   10.032  +/-  0.169 \n",
      "     0.150    9.771  +/-  0.114 \n",
      "     0.250    9.542  +/-  0.110 \n",
      "     0.350    9.344  +/-  0.127 \n",
      "     0.450    9.178  +/-  0.138 \n",
      "     0.550    9.042  +/-  0.139 \n",
      "     0.650    8.938  +/-  0.136 \n",
      "     0.750    8.864  +/-  0.149 \n",
      "     0.850    8.822  +/-  0.201 \n",
      "     0.950    8.812  +/-  0.294 \n",
      "\n",
      " Correlation matrix\n",
      "\n",
      "[ 1.000  0.847  0.360 -0.021 -0.217 -0.306 -0.293 -0.149  0.051  0.197]\n",
      "[ 0.847  1.000  0.800  0.506  0.309  0.172  0.054 -0.044 -0.090 -0.092]\n",
      "[ 0.360  0.800  1.000  0.921  0.805  0.675  0.473  0.152 -0.153 -0.328]\n",
      "[-0.021  0.506  0.921  1.000  0.970  0.887  0.694  0.316 -0.089 -0.344]\n",
      "[-0.217  0.309  0.805  0.970  1.000  0.969  0.824  0.470  0.048 -0.237]\n",
      "[-0.306  0.172  0.675  0.887  0.969  1.000  0.935  0.660  0.266 -0.028]\n",
      "[-0.293  0.054  0.473  0.694  0.824  0.935  1.000  0.882  0.585  0.319]\n",
      "[-0.149 -0.044  0.152  0.316  0.470  0.660  0.882  1.000  0.898  0.727]\n",
      "[ 0.051 -0.090 -0.153 -0.089  0.048  0.266  0.585  0.898  1.000  0.955]\n",
      "[ 0.197 -0.092 -0.328 -0.344 -0.237 -0.028  0.319  0.727  0.955  1.000]\n"
     ]
    }
   ],
   "source": [
    "# Expected bacground values\n",
    "\n",
    "muvec = mymodel(xvec,par) \n",
    "\n",
    "# Matrix of derivatives   $\\partial \\mu_i / \\partial p_j$\n",
    "\n",
    "Der = np.zeros((xvec.size,Nfun))\n",
    "\n",
    "for ip in range(Nfun):\n",
    "    Der[:,ip] = np.power(xvec,ip)\n",
    "\n",
    "# Error propagation -> expectation covariance matrix\n",
    "\n",
    "muCov = Der @ Cov @ np.transpose(Der)\n",
    "\n",
    "# Background erros\n",
    "\n",
    "muErr = np.sqrt(np.diagonal(muCov))\n",
    "\n",
    "# Printout\n",
    "\n",
    "print(\"\\n Fitted background:\\n\\n     x        mu_bg      sigma_bg\\n\")\n",
    "\n",
    "for ix in range(xvec.size):\n",
    "    print(\"  %8.3f %8.3f  +/- %6.3f \" % (xvec[ix],muvec[ix],muErr[ix]))\n",
    "\n",
    "# Calculate correlation matrix\n",
    "\n",
    "muCorr = np.array(muCov)\n",
    "\n",
    "print(\"\\n Correlation matrix\\n\")\n",
    "\n",
    "for ix in range(xvec.size):\n",
    "    for jx in range(xvec.size):\n",
    "        muCorr[ix,jx]=muCorr[ix,jx]/muErr[ix]/muErr[jx]\n",
    "        \n",
    "    print(muCorr[ix,:])\n",
    "\n"
   ]
  },
  {
   "cell_type": "markdown",
   "metadata": {},
   "source": [
    "### (7) Eigenvectors"
   ]
  },
  {
   "cell_type": "code",
   "execution_count": 19,
   "metadata": {},
   "outputs": [
    {
     "name": "stdout",
     "output_type": "stream",
     "text": [
      "Eigenvalues of the correlation matrix:\n",
      " [ 4.854  3.113  2.033  0.000  0.000  0.000 -0.000 -0.000 -0.000 -0.000]\n"
     ]
    }
   ],
   "source": [
    "# Calculate eigenvalues and eigenvectors of square matrix\n",
    "\n",
    "Lam0, muEVec0 = np.linalg.eig(muCorr)\n",
    "\n",
    "# sort eigenvalues\n",
    "\n",
    "isL = np.argsort(Lam0)[::-1]\n",
    "\n",
    "# Take only real part. Imaginary part is due to numerical precision.\n",
    "\n",
    "Lam=np.real(Lam0[isL])\n",
    "\n",
    "muEVec = np.real(muEVec0[:,isL])\n",
    "\n",
    "print(\"Eigenvalues of the correlation matrix:\\n\",Lam)"
   ]
  },
  {
   "cell_type": "code",
   "execution_count": 20,
   "metadata": {},
   "outputs": [
    {
     "name": "stdout",
     "output_type": "stream",
     "text": [
      "3  eigenvectors found (with significant eigenvalues)\n",
      "\n",
      " Uncertainty (relative  2.20319) along direction 1: \n",
      "[ 0.011 -0.044 -0.086 -0.115 -0.131 -0.134 -0.125 -0.102 -0.067 -0.018]\n",
      "\n",
      " Uncertainty (relative  1.76440) along direction 2: \n",
      "[ 0.049  0.062  0.063  0.052  0.030 -0.004 -0.050 -0.108 -0.177 -0.257]\n",
      "\n",
      " Uncertainty (relative  1.42577) along direction 3: \n",
      "[ 0.161  0.086  0.028 -0.011 -0.031 -0.034 -0.018  0.017  0.070  0.141]\n"
     ]
    }
   ],
   "source": [
    "# Scale relevant eigenvectors to the expected 1 sigma variations\n",
    "#\n",
    "# Square roots of eigenvalues give uncertainties along eigenvector directions\n",
    "# still to be multiplied by uncertainties of individual estimates...\n",
    "\n",
    "Lmin = 0.0001  # Minimum eigenvalue allowed\n",
    "\n",
    "EVerr = np.zeros(Lam.size)\n",
    "nEV = 0\n",
    "\n",
    "for iv in range(Lam.size):\n",
    "\n",
    "    if Lam[iv]<=0.01: break\n",
    "    nEV += 1\n",
    "\n",
    "    EVerr[iv]=np.sqrt(Lam[iv])\n",
    "    \n",
    "    for ix in range(muvec.size):\n",
    "        muEVec[ix,iv] *= muErr[ix]*EVerr[iv]\n",
    "       \n",
    "\n",
    "# Printout\n",
    "# Square roots of eigenvalues give uncertainties along eigenvector directions\n",
    "# (still to be multiplied by uncertainties of individual estimates)\n",
    "\n",
    "print(nEV,\" eigenvectors found (with significant eigenvalues)\")\n",
    "\n",
    "for iv in range(nEV):\n",
    "    print(\"\\n Uncertainty (relative %8.5f) along direction %d: \" % (EVerr[iv],iv+1))\n",
    "    print(muEVec[:,iv])"
   ]
  },
  {
   "cell_type": "markdown",
   "metadata": {},
   "source": [
    "### (8) Draw eigenvectors"
   ]
  },
  {
   "cell_type": "code",
   "execution_count": 21,
   "metadata": {},
   "outputs": [
    {
     "data": {
      "image/png": "[encoded data removed]",
      "text/plain": [
       "<Figure size 648x432 with 1 Axes>"
      ]
     },
     "metadata": {
      "needs_background": "light"
     },
     "output_type": "display_data"
    }
   ],
   "source": [
    "plt.figure(figsize=(9, 6))\n",
    "\n",
    "for iv in range(nEV):\n",
    "    plt.plot(xvec,muEVec[:,iv],'-',label=str(iv+1))\n",
    "\n",
    "plt.title('Background systematics uncertainty eigenvectors',size=20)\n",
    "plt.xlabel('x',size=20)\n",
    "plt.ylabel('y(x)',size=20)\n",
    "\n",
    "plt.xticks(fontsize=18)\n",
    "plt.yticks(fontsize=18)\n",
    "plt.grid(which='major', axis='both')\n",
    "plt.legend()\n",
    "fname = '10_bg_fit_ev2_'+str(nEV)+'.png'\n",
    "plt.savefig(fname)"
   ]
  },
  {
   "cell_type": "code",
   "execution_count": 32,
   "metadata": {},
   "outputs": [
    {
     "name": "stdout",
     "output_type": "stream",
     "text": [
      "\n",
      " Fitted background:\n",
      "\n",
      "     x        mu_bg      sigma_bg    sigma_EV\n",
      "\n",
      "     0.050   10.032  +/-  0.169       0.169\n",
      "     0.150    9.771  +/-  0.114       0.114\n",
      "     0.250    9.542  +/-  0.110       0.110\n",
      "     0.350    9.344  +/-  0.127       0.127\n",
      "     0.450    9.178  +/-  0.138       0.138\n",
      "     0.550    9.042  +/-  0.139       0.139\n",
      "     0.650    8.938  +/-  0.136       0.136\n",
      "     0.750    8.864  +/-  0.149       0.149\n",
      "     0.850    8.822  +/-  0.201       0.201\n",
      "     0.950    8.812  +/-  0.294       0.294\n",
      "\n",
      " Correlation matrix from  3  eigenvectors\n",
      "\n",
      "[ 1.000  0.847  0.360 -0.021 -0.217 -0.306 -0.293 -0.149  0.051  0.197]\n",
      "[ 0.847  1.000  0.800  0.506  0.309  0.172  0.054 -0.044 -0.090 -0.092]\n",
      "[ 0.360  0.800  1.000  0.921  0.805  0.675  0.473  0.152 -0.153 -0.328]\n",
      "[-0.021  0.506  0.921  1.000  0.970  0.887  0.694  0.316 -0.089 -0.344]\n",
      "[-0.217  0.309  0.805  0.970  1.000  0.969  0.824  0.470  0.048 -0.237]\n",
      "[-0.306  0.172  0.675  0.887  0.969  1.000  0.935  0.660  0.266 -0.028]\n",
      "[-0.293  0.054  0.473  0.694  0.824  0.935  1.000  0.882  0.585  0.319]\n",
      "[-0.149 -0.044  0.152  0.316  0.470  0.660  0.882  1.000  0.898  0.727]\n",
      "[ 0.051 -0.090 -0.153 -0.089  0.048  0.266  0.585  0.898  1.000  0.955]\n",
      "[ 0.197 -0.092 -0.328 -0.344 -0.237 -0.028  0.319  0.727  0.955  1.000]\n",
      "\n",
      " Correlation matrix from the fit \n",
      "\n",
      "[ 1.000  0.847  0.360 -0.021 -0.217 -0.306 -0.293 -0.149  0.051  0.197]\n",
      "[ 0.847  1.000  0.800  0.506  0.309  0.172  0.054 -0.044 -0.090 -0.092]\n",
      "[ 0.360  0.800  1.000  0.921  0.805  0.675  0.473  0.152 -0.153 -0.328]\n",
      "[-0.021  0.506  0.921  1.000  0.970  0.887  0.694  0.316 -0.089 -0.344]\n",
      "[-0.217  0.309  0.805  0.970  1.000  0.969  0.824  0.470  0.048 -0.237]\n",
      "[-0.306  0.172  0.675  0.887  0.969  1.000  0.935  0.660  0.266 -0.028]\n",
      "[-0.293  0.054  0.473  0.694  0.824  0.935  1.000  0.882  0.585  0.319]\n",
      "[-0.149 -0.044  0.152  0.316  0.470  0.660  0.882  1.000  0.898  0.727]\n",
      "[ 0.051 -0.090 -0.153 -0.089  0.048  0.266  0.585  0.898  1.000  0.955]\n",
      "[ 0.197 -0.092 -0.328 -0.344 -0.237 -0.028  0.319  0.727  0.955  1.000]\n"
     ]
    }
   ],
   "source": [
    "# Check uncertainties resulting from eigenvectors\n",
    "\n",
    "muErrEV = np.zeros(muvec.size)\n",
    "muCovEV = np.zeros((muvec.size,muvec.size))\n",
    "\n",
    "Nuse = 3   # Number of eigenvectors to use\n",
    "\n",
    "if Nuse > nEV :\n",
    "    Nuse = nEV\n",
    "\n",
    "for iv in range(Nuse):\n",
    "    muErrEV = muErrEV + muEVec[:,iv]*muEVec[:,iv]\n",
    "    \n",
    "muErrEV = np.sqrt(muErrEV)\n",
    "\n",
    "# Covariance matrix\n",
    "\n",
    "for ix in range(muvec.size):\n",
    "    for jx in range(muvec.size):\n",
    "        for iv in range(Nuse):\n",
    "            muCovEV[ix,jx] = muCovEV[ix,jx] + muEVec[ix,iv]*muEVec[jx,iv]\n",
    "                \n",
    "# Printout\n",
    "\n",
    "print(\"\\n Fitted background:\\n\\n     x        mu_bg      sigma_bg    sigma_EV\\n\")\n",
    "\n",
    "for ix in range(xvec.size):\n",
    "    print(\"  %8.3f %8.3f  +/- %6.3f      %6.3f\" % (xvec[ix],muvec[ix],muErr[ix],muErrEV[ix]))\n",
    "\n",
    "\n",
    "muCorrEV = np.array(muCovEV)\n",
    "\n",
    "print(\"\\n Correlation matrix from \",Nuse,\" eigenvectors\\n\")\n",
    "\n",
    "for ix in range(xvec.size):\n",
    "    for jx in range(xvec.size):\n",
    "        muCorrEV[ix,jx]=muCorrEV[ix,jx]/muErrEV[ix]/muErrEV[jx]\n",
    "\n",
    "    print(muCorrEV[ix,:])\n",
    "\n",
    "# For comparison\n",
    "\n",
    "print(\"\\n Correlation matrix from the fit \\n\")\n",
    "for ix in range(xvec.size):\n",
    "    print(muCorr[ix,:])"
   ]
  },
  {
   "cell_type": "code",
   "execution_count": 33,
   "metadata": {},
   "outputs": [
    {
     "data": {
      "image/png": "[encoded data removed]",
      "text/plain": [
       "<Figure size 1296x504 with 4 Axes>"
      ]
     },
     "metadata": {
      "needs_background": "light"
     },
     "output_type": "display_data"
    }
   ],
   "source": [
    "plt.subplots(1,2,figsize=(18, 7))\n",
    "\n",
    "plt.subplot(121)\n",
    "plt.pcolormesh(muCorr, cmap='viridis')\n",
    "plt.colorbar()\n",
    "\n",
    "plt.title('Correlation matrix from fit',size=20)\n",
    "plt.xticks(fontsize=18)\n",
    "plt.yticks(fontsize=18)\n",
    "\n",
    "\n",
    "plt.subplot(122)\n",
    "plt.pcolormesh(muCorrEV, cmap='viridis')\n",
    "plt.colorbar()\n",
    "\n",
    "plt.title('Correlation matrix from  eigenvectors',size=20)\n",
    "plt.xticks(fontsize=18)\n",
    "plt.yticks(fontsize=18)\n",
    "\n",
    "fname = '10_bg_fit_ev3_'+str(nEV)+'.png'\n",
    "plt.savefig(fname)"
   ]
  },
  {
   "cell_type": "code",
   "execution_count": null,
   "metadata": {},
   "outputs": [],
   "source": []
  },
  {
   "cell_type": "code",
   "execution_count": null,
   "metadata": {},
   "outputs": [],
   "source": []
  }
 ],
 "metadata": {
  "kernelspec": {
   "display_name": "Python 3",
   "language": "python",
   "name": "python3"
  },
  "language_info": {
   "codemirror_mode": {
    "name": "ipython",
    "version": 3
   },
   "file_extension": ".py",
   "mimetype": "text/x-python",
   "name": "python",
   "nbconvert_exporter": "python",
   "pygments_lexer": "ipython3",
   "version": "3.9.7"
  }
 },
 "nbformat": 4,
 "nbformat_minor": 4
}
