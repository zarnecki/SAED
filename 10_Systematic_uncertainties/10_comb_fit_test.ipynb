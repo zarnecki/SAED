{
 "cells": [
  {
   "cell_type": "markdown",
   "metadata": {
    "tags": []
   },
   "source": [
    "# General fit  with systematic parameters\n",
    "\n",
    "(model testing)\n",
    "\n",
    "Author: Aleksander Filip Żarnecki (University of Warsaw)"
   ]
  },
  {
   "cell_type": "markdown",
   "metadata": {
    "tags": []
   },
   "source": [
    "### (0) Import libraries "
   ]
  },
  {
   "cell_type": "code",
   "execution_count": 1,
   "metadata": {},
   "outputs": [],
   "source": [
    "import math\n",
    "import numpy as np\n",
    "from scipy.stats import norm\n",
    "from scipy.stats import f\n",
    "import matplotlib.pyplot as plt"
   ]
  },
  {
   "cell_type": "code",
   "execution_count": 2,
   "metadata": {},
   "outputs": [],
   "source": [
    "# Printout settings\n",
    "np.set_printoptions(precision=3, linewidth=100, suppress=True)\n",
    "\n",
    "# More advanced: prevent zeros from being stripped from the end of floats:\n",
    "np.set_printoptions(formatter={'float_kind': '{: 0.3f}'.format})"
   ]
  },
  {
   "cell_type": "markdown",
   "metadata": {
    "tags": []
   },
   "source": [
    "### (1) Definition of data model\n",
    "\n",
    "Consider controlled parameter range is [0,1]"
   ]
  },
  {
   "cell_type": "code",
   "execution_count": 3,
   "metadata": {},
   "outputs": [],
   "source": [
    "# True functional dependece baskground + two signal peaks\n",
    "\n",
    "def mytrue(x):\n",
    "    \n",
    "    bg = 10.0 - 2* x + x*x\n",
    "    \n",
    "    sig1 = 20.0 * norm.pdf(x, loc=0.44, scale=0.05)\n",
    "    \n",
    "    sig2 = 5.0 * norm.pdf(x, loc=0.55, scale=0.10)\n",
    "\n",
    "    return bg+sig1+sig2"
   ]
  },
  {
   "cell_type": "markdown",
   "metadata": {},
   "source": [
    "### (2) Definition of fit model"
   ]
  },
  {
   "cell_type": "code",
   "execution_count": 4,
   "metadata": {},
   "outputs": [],
   "source": [
    "# Basic function, return function values only\n",
    "#\n",
    "#  Parameters: 0 - 2 background\n",
    "#              3 - 5 first peak\n",
    "#              6 - 8 second peak\n",
    "#\n",
    "def myfun(x,par):\n",
    "\n",
    "    npar = par.size   # should be 6 for sigle peak or 9 for double peak fit\n",
    "    \n",
    "    bg = par[0] + par[1]*x + par[2]*x*x\n",
    "    \n",
    "    if npar<6 :\n",
    "        return bg\n",
    "    \n",
    "    sig1 = par[3] * norm.pdf(x, loc=par[4], scale=par[5])\n",
    "    \n",
    "    if npar<9 :\n",
    "        return bg + sig1\n",
    "    \n",
    "    sig2 = par[6] * norm.pdf(x, loc=par[7], scale=par[8])\n",
    "\n",
    "    return bg + sig1 + sig2\n",
    "\n",
    "# Full model: returns values and derivatives\n",
    "\n",
    "def myfunder(x,par):\n",
    "\n",
    "    npar = par.size   # should be 6 for sigle peak or 9 for double peak fit\n",
    "\n",
    "    # output arrays\n",
    "    \n",
    "    val = np.zeros(x.size)\n",
    "    der = np.zeros((x.size,npar))\n",
    "\n",
    "    # Background\n",
    "    \n",
    "    bg = par[0] + par[1]*x + par[2]*x*x\n",
    "    \n",
    "    der[:,0] = 1\n",
    "    der[:,1] = x\n",
    "    der[:,2] = x*x\n",
    "   \n",
    "    val += bg\n",
    "    \n",
    "    if npar < 6 :\n",
    "        return val,der\n",
    "    \n",
    "    # First signal peak\n",
    "    \n",
    "    sig1 = norm.pdf(x, loc=par[4], scale=par[5])\n",
    "    \n",
    "    der[:,3] = sig1\n",
    "    sig1 *= par[3]\n",
    "    der[:,4] = (x-par[4])/par[5]/par[5]*sig1\n",
    "    der[:,5] = (x-par[4])*(x-par[4])/par[5]/par[5]/par[5]*sig1\n",
    "    \n",
    "    val += sig1\n",
    "    \n",
    "    if npar < 9 :\n",
    "        return val,der\n",
    "    \n",
    "    # Second signal peak\n",
    "    \n",
    "    sig2 = norm.pdf(x, loc=par[7], scale=par[8])\n",
    "    \n",
    "    der[:,6] = sig2\n",
    "    sig2 *= par[6]\n",
    "    der[:,7] = (x-par[7])/par[8]/par[8]*sig2\n",
    "    der[:,8] = (x-par[7])*(x-par[7])/par[8]/par[8]/par[8]*sig2\n",
    "    \n",
    "    val += sig2\n",
    "       \n",
    "    return val,der\n"
   ]
  },
  {
   "cell_type": "markdown",
   "metadata": {},
   "source": [
    "### (3) Generate pseudo data to fit and read background fit results"
   ]
  },
  {
   "cell_type": "code",
   "execution_count": 5,
   "metadata": {},
   "outputs": [],
   "source": [
    "# Considered values of x\n",
    "\n",
    "xvec = np.linspace(0.025,0.975,20)\n",
    "\n",
    "# Measurement precision\n",
    "\n",
    "svec = np.linspace(2.,4.,xvec.size)\n",
    "s2vec = svec*svec\n",
    "\n",
    "# Pseudo-data\n",
    "\n",
    "yvec = np.random.normal(mytrue(xvec),svec)"
   ]
  },
  {
   "cell_type": "code",
   "execution_count": 6,
   "metadata": {},
   "outputs": [],
   "source": [
    "# Read background fit output\n",
    "\n",
    "Nbg = 3\n",
    "parfile = \"10_bg_fit_par_3.dat\"\n",
    "covfile = \"10_bg_fit_cov_3.dat\"\n",
    "\n",
    "# Fitted parameters\n",
    "\n",
    "bgpar = np.fromfile(parfile,sep=' ')\n",
    "\n",
    "# Covariance matrix\n",
    "\n",
    "bgcinput = np.fromfile(covfile,sep=' ')\n",
    "\n",
    "bgcov = bgcinput.reshape(Nbg,Nbg)\n",
    "\n",
    "# Inverse of bg covariance matrix\n",
    "\n",
    "bgcinv = np.linalg.inv(bgcov)\n"
   ]
  },
  {
   "cell_type": "markdown",
   "metadata": {},
   "source": [
    "### (4) Iterative fit settings"
   ]
  },
  {
   "cell_type": "code",
   "execution_count": 7,
   "metadata": {},
   "outputs": [],
   "source": [
    "# Helper function for chi2 calculation\n",
    "# Uses global data vectors: xvec,yvec,s2vec\n",
    "\n",
    "def mychi2(parvec):\n",
    "    fvec = myfun(xvec,parvec) \n",
    "    chi2 = np.sum((yvec-fvec)**2/s2vec)\n",
    "\n",
    "    if UseBG:\n",
    "        dbgpar = parvec[:Nbg] - bgpar\n",
    "        chi2 += dbgpar @ bgcinv @ dbgpar\n",
    "\n",
    "    return chi2"
   ]
  },
  {
   "cell_type": "code",
   "execution_count": 16,
   "metadata": {},
   "outputs": [
    {
     "name": "stdout",
     "output_type": "stream",
     "text": [
      "\n",
      "Iterative fit procedure starting from parameter values\n",
      "  [ 10.000 -1.000  1.000  20.000  0.400  0.100  5.000  0.500  0.100]\n",
      "  chi^2 =  1719.015   chi^2/N = 85.95077 \n"
     ]
    }
   ],
   "source": [
    "# Number of function parameters to consider  (3, 6 or 9)\n",
    "\n",
    "Nfun1 = 9\n",
    "\n",
    "Nfun2 = 6\n",
    "\n",
    "# Flag to include background constraints (1 or 0)\n",
    "\n",
    "UseBG = 0\n",
    "\n",
    "# Initial guess for parameters (max size)\n",
    "\n",
    "parini = np.zeros(9)\n",
    "\n",
    "# Background guess or input\n",
    "\n",
    "parini[0] = 10.\n",
    "parini[1] = -1.\n",
    "parini[2] = +1.\n",
    "\n",
    "# First peak guess\n",
    "\n",
    "parini[3] = 20.\n",
    "parini[4] = 0.4\n",
    "parini[5] = 0.1\n",
    "\n",
    "# Second peak guess\n",
    "\n",
    "parini[6] = 5.\n",
    "parini[7] = 0.5\n",
    "parini[8] = 0.1\n",
    "\n",
    "\n",
    "# Initial printout\n",
    "\n",
    "chi2ini = mychi2(parini) \n",
    "\n",
    "print(\"\\nIterative fit procedure starting from parameter values\")\n",
    "print(\" \",parini)\n",
    "print(\"  chi^2 =  %8.3f   chi^2/N = %8.5f \" % (chi2ini,chi2ini/xvec.size))"
   ]
  },
  {
   "cell_type": "code",
   "execution_count": 17,
   "metadata": {},
   "outputs": [],
   "source": [
    "# Main fit procedure\n",
    "# Uses global data vectors: xvec,yvec,s2vec\n",
    "\n",
    "def myiterfit(parini):\n",
    "    \n",
    "    # Main loop\n",
    "\n",
    "    lam = 0.01       # Low value -> jump close to minimum, high value -> smaller step along gradient\n",
    "\n",
    "    dcut = 0.0001   # Required precision (distance from minimum)\n",
    "\n",
    "    chi2min = mychi2(parini)\n",
    "    parmin = parini\n",
    "\n",
    "    par = parini\n",
    "\n",
    "    Nit = 0\n",
    "    Nimp = 0\n",
    "\n",
    "    Nfun = parini.size\n",
    "    \n",
    "    Cov = np.zeros((Nfun,Nfun))\n",
    "\n",
    "    dist = dcut+1\n",
    "\n",
    "    while dist > dcut :\n",
    "\n",
    "        # work space\n",
    "\n",
    "        A = np.zeros((Nfun,Nfun))\n",
    "        B = np.zeros(Nfun)\n",
    "\n",
    "        # Values and derivatives at the current point\n",
    "\n",
    "        fval,fder = myfunder(xvec,par)\n",
    "\n",
    "        dyvec = yvec-fval\n",
    "\n",
    "        for l in range(Nfun):\n",
    "            B[l] = np.sum(fder[:,l]*dyvec/s2vec)\n",
    "            for k in range(Nfun):\n",
    "                A[l,k] = np.sum(fder[:,l]*fder[:,k]/s2vec)\n",
    "\n",
    "        # Background uncertainties\n",
    "\n",
    "        if UseBG:\n",
    "            dbgpar = par[:Nbg] - bgpar\n",
    "            for l in range(Nbg):\n",
    "                B[l] -= np.sum(dbgpar*bgcinv[l,:])\n",
    "                for k in range(Nbg):\n",
    "                    A[l,k] += bgcinv[l,k]\n",
    "\n",
    "        # Do not try to jump directly to the maximum (lam = 0)\n",
    "\n",
    "        C = np.array(A)\n",
    "        for l in range(Nfun):\n",
    "            C[l,l] += lam\n",
    "\n",
    "        # Inverse of matrix\n",
    "\n",
    "        Cinv = np.linalg.inv(C)\n",
    "\n",
    "        # Solution to the problem - required parameter change\n",
    "\n",
    "        dpar = Cinv @ B\n",
    "\n",
    "        # Check new parameter values\n",
    "\n",
    "        parnew = par+dpar\n",
    "\n",
    "        fnew = myfun(xvec,parnew) \n",
    "\n",
    "        chi2new = np.sum((yvec-fnew)**2/s2vec)\n",
    "\n",
    "        if UseBG:\n",
    "            dbgpar = parnew[:Nbg] - bgpar\n",
    "            chi2new += dbgpar @ bgcinv @ dbgpar\n",
    "\n",
    "        # Distance to minimum (assuming current errors)\n",
    "\n",
    "        Cov = np.linalg.inv(A)\n",
    "        e2par = np.diagonal(Cov)\n",
    "        dist = np.sum(dpar*dpar/e2par)\n",
    "\n",
    "        Nit+=1\n",
    "\n",
    "        if chi2new < chi2min :\n",
    "            Nimp += 1\n",
    "            lam /= 10\n",
    "            chi2min = chi2new\n",
    "            par = parnew\n",
    "        else:\n",
    "            lam *= 10\n",
    "\n",
    "\n",
    "    # Parameter uncertainties \n",
    "    # (assuming no need to recalculate Cov, even if there was a slight improvement in the last step)\n",
    "\n",
    "    epar = np.sqrt(np.diagonal(Cov))\n",
    "\n",
    "    print(\"\\n Fit results:\\n\\n     par         sigma_p\\n\")\n",
    "\n",
    "    for ip in range(par.size):\n",
    "        print(\"  %8.3f  +/- %6.3f \" % (par[ip],epar[ip]))\n",
    "\n",
    "    # Calculate correlation matrix, including rounding\n",
    "\n",
    "    Corr = np.array(Cov)\n",
    "\n",
    "    print(\"\\n Correlation matrix\\n\")\n",
    "    for ip in range(par.size):\n",
    "        for jp in range(par.size):\n",
    "            Corr[ip,jp]=Corr[ip,jp]/epar[ip]/epar[jp]\n",
    "\n",
    "        print(Corr[ip,:])\n",
    "\n",
    "    chi2 = mychi2(par)\n",
    "\n",
    "    print(\"\\n chi^2 =  %8.3f   chi^2/Ndf = %8.5f \" % (chi2,chi2/(xvec.size-Nfun)))\n",
    "\n",
    "    return chi2,par,epar"
   ]
  },
  {
   "cell_type": "markdown",
   "metadata": {},
   "source": [
    "### (5) Actual fit of two hypothesis"
   ]
  },
  {
   "cell_type": "code",
   "execution_count": 18,
   "metadata": {},
   "outputs": [
    {
     "name": "stdout",
     "output_type": "stream",
     "text": [
      "\n",
      " Fit results:\n",
      "\n",
      "     par         sigma_p\n",
      "\n",
      "     9.093  +/-  1.837 \n",
      "    15.183  +/- 14.124 \n",
      "   -17.368  +/- 13.866 \n",
      "    20.652  +/-  1.926 \n",
      "     0.443  +/-  0.002 \n",
      "     0.050  +/-  0.002 \n",
      "     2.897  +/-  1.143 \n",
      "     0.575  +/-  0.103 \n",
      "     0.090  +/-  0.074 \n",
      "\n",
      " Correlation matrix\n",
      "\n",
      "[ 1.000 -0.861  0.799 -0.108 -0.144  0.004  0.305 -0.098  0.213]\n",
      "[-0.861  1.000 -0.980  0.147  0.217 -0.035 -0.408  0.140 -0.295]\n",
      "[ 0.799 -0.980  1.000 -0.095 -0.183  0.076  0.359 -0.101  0.229]\n",
      "[-0.108  0.147 -0.095  1.000  0.845  0.813 -0.746  0.970 -0.947]\n",
      "[-0.144  0.217 -0.183  0.845  1.000  0.810 -0.846  0.881 -0.781]\n",
      "[ 0.004 -0.035  0.076  0.813  0.810  1.000 -0.734  0.877 -0.757]\n",
      "[ 0.305 -0.408  0.359 -0.746 -0.846 -0.734  1.000 -0.781  0.700]\n",
      "[-0.098  0.140 -0.101  0.970  0.881  0.877 -0.781  1.000 -0.909]\n",
      "[ 0.213 -0.295  0.229 -0.947 -0.781 -0.757  0.700 -0.909  1.000]\n",
      "\n",
      " chi^2 =    14.629   chi^2/Ndf =  1.32989 \n"
     ]
    }
   ],
   "source": [
    "# For first hypothesis\n",
    "\n",
    "chi2_1,par_1,epar_1 = myiterfit(parini[:Nfun1])\n",
    "\n",
    "# For function plotting\n",
    "\n",
    "x_fun = np.linspace(0.,1.,101)\n",
    "fun_1 = myfun(x_fun,par_1) \n",
    "\n",
    "bg_1 = myfun(x_fun,par_1[:3])\n",
    "f1_1 = myfun(x_fun,par_1[:6])"
   ]
  },
  {
   "cell_type": "code",
   "execution_count": 19,
   "metadata": {},
   "outputs": [
    {
     "data": {
      "image/png": "[encoded data removed]",
      "text/plain": [
       "<Figure size 648x432 with 1 Axes>"
      ]
     },
     "metadata": {
      "needs_background": "light"
     },
     "output_type": "display_data"
    }
   ],
   "source": [
    "plt.figure(figsize=(9, 6))\n",
    "\n",
    "plt.errorbar(xvec,yvec,svec, linestyle='none', marker='o', ms=2, mew=4)\n",
    "\n",
    "plt.plot(x_fun,fun_1,'--')\n",
    "plt.plot(x_fun,bg_1,'--')\n",
    "plt.plot(x_fun,f1_1,'--')\n",
    "\n",
    "plt.title('Fit result for Nfun = '+str(Nfun1) +'     $\\chi^{2} = $'+str(int(100*chi2_1+0.5)/100.)+' / '+str(xvec.size-Nfun1),size=24)\n",
    "plt.xlabel('x',size=20)\n",
    "plt.ylabel('y(x)',size=20)\n",
    "\n",
    "plt.xticks(fontsize=18)\n",
    "plt.yticks(fontsize=18)\n",
    "plt.grid(which='major', axis='both')\n",
    "\n",
    "fname = '10_comb_fit_'+str(Nfun1)+'.png'\n",
    "plt.savefig(fname)"
   ]
  },
  {
   "cell_type": "code",
   "execution_count": 20,
   "metadata": {},
   "outputs": [
    {
     "name": "stdout",
     "output_type": "stream",
     "text": [
      "\n",
      " Fit results:\n",
      "\n",
      "     par         sigma_p\n",
      "\n",
      "     5.611  +/-  1.605 \n",
      "    48.743  +/- 10.763 \n",
      "   -48.906  +/- 11.375 \n",
      "    20.689  +/-  0.363 \n",
      "     0.445  +/-  0.001 \n",
      "     0.051  +/-  0.001 \n",
      "\n",
      " Correlation matrix\n",
      "\n",
      "[ 1.000 -0.820  0.727  0.188  0.068  0.223]\n",
      "[-0.820  1.000 -0.977 -0.336 -0.039 -0.446]\n",
      "[ 0.727 -0.977  1.000  0.332  0.017  0.442]\n",
      "[ 0.188 -0.336  0.332  1.000  0.013 -0.250]\n",
      "[ 0.068 -0.039  0.017  0.013  1.000  0.074]\n",
      "[ 0.223 -0.446  0.442 -0.250  0.074  1.000]\n",
      "\n",
      " chi^2 =    25.303   chi^2/Ndf =  1.80735 \n"
     ]
    }
   ],
   "source": [
    "# For second hypothesis\n",
    "\n",
    "chi2_2,par_2,epar_2 = myiterfit(parini[:Nfun2])\n",
    "\n",
    "# For function plotting\n",
    "\n",
    "fun_2 = myfun(x_fun,par_2) \n",
    "\n",
    "bg_2 = myfun(x_fun,par_2[:3])"
   ]
  },
  {
   "cell_type": "code",
   "execution_count": 21,
   "metadata": {},
   "outputs": [
    {
     "data": {
      "image/png": "[encoded data removed]",
      "text/plain": [
       "<Figure size 648x432 with 1 Axes>"
      ]
     },
     "metadata": {
      "needs_background": "light"
     },
     "output_type": "display_data"
    }
   ],
   "source": [
    "plt.figure(figsize=(9, 6))\n",
    "\n",
    "plt.errorbar(xvec,yvec,svec, linestyle='none', marker='o', ms=2, mew=4)\n",
    "\n",
    "plt.plot(x_fun,fun_2,'--')\n",
    "plt.plot(x_fun,bg_2,'--')\n",
    "\n",
    "plt.title('Fit result for Nfun = '+str(Nfun2) +'     $\\chi^{2} = $'+str(int(100*chi2_2+0.5)/100.)+' / '+str(xvec.size-Nfun2),size=24)\n",
    "plt.xlabel('x',size=20)\n",
    "plt.ylabel('y(x)',size=20)\n",
    "\n",
    "plt.xticks(fontsize=18)\n",
    "plt.yticks(fontsize=18)\n",
    "plt.grid(which='major', axis='both')\n",
    "\n",
    "fname = '10_comb_fit_'+str(Nfun2)+'.png'\n",
    "plt.savefig(fname)"
   ]
  },
  {
   "cell_type": "markdown",
   "metadata": {},
   "source": [
    "### (6) Test the two hypotheiss"
   ]
  },
  {
   "cell_type": "code",
   "execution_count": 22,
   "metadata": {},
   "outputs": [],
   "source": [
    "# Fit with all parameters\n",
    "\n",
    "Nchi_1 = xvec.size-Nfun1 \n",
    "chi2ndf_1 = chi2_1/Nchi_1\n",
    "\n",
    "# Change when removing parameters\n",
    "\n",
    "Nchi_2 = Nfun1-Nfun2\n",
    "chi2ndf_2 = (chi2_2-chi2_1)/Nchi_2\n",
    "\n",
    "# Test value\n",
    "\n",
    "Ftest = chi2ndf_2/chi2ndf_1\n",
    "\n",
    "ptest =  f.sf(Ftest,Nchi_2,Nchi_1)"
   ]
  },
  {
   "cell_type": "code",
   "execution_count": 23,
   "metadata": {},
   "outputs": [
    {
     "name": "stdout",
     "output_type": "stream",
     "text": [
      "F-test result  p = 0.09881 \n",
      "probability of Chi2 increase by 10.674 when removing 3 needless parameters\n"
     ]
    }
   ],
   "source": [
    "print(\"F-test result  p = %.4g \" % (ptest))\n",
    "print(\"probability of Chi2 increase by %6.3f when removing %d needless parameters\" % (chi2_2-chi2_1,Nchi_2))"
   ]
  },
  {
   "cell_type": "code",
   "execution_count": null,
   "metadata": {},
   "outputs": [],
   "source": []
  }
 ],
 "metadata": {
  "kernelspec": {
   "display_name": "Python 3",
   "language": "python",
   "name": "python3"
  },
  "language_info": {
   "codemirror_mode": {
    "name": "ipython",
    "version": 3
   },
   "file_extension": ".py",
   "mimetype": "text/x-python",
   "name": "python",
   "nbconvert_exporter": "python",
   "pygments_lexer": "ipython3",
   "version": "3.9.7"
  }
 },
 "nbformat": 4,
 "nbformat_minor": 4
}
