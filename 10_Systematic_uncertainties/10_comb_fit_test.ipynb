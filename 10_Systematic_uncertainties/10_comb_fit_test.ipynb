{
 "cells": [
  {
   "cell_type": "markdown",
   "metadata": {
    "tags": []
   },
   "source": [
    "# General fit  with systematic parameters\n",
    "\n",
    "(model testing)\n",
    "\n",
    "Author: Aleksander Filip Żarnecki (University of Warsaw)"
   ]
  },
  {
   "cell_type": "markdown",
   "metadata": {
    "tags": []
   },
   "source": [
    "### (0) Import libraries "
   ]
  },
  {
   "cell_type": "code",
   "execution_count": 1,
   "metadata": {},
   "outputs": [],
   "source": [
    "import math\n",
    "import numpy as np\n",
    "from scipy.stats import norm\n",
    "from scipy.stats import f\n",
    "import matplotlib.pyplot as plt"
   ]
  },
  {
   "cell_type": "code",
   "execution_count": 2,
   "metadata": {},
   "outputs": [],
   "source": [
    "# Printout settings\n",
    "np.set_printoptions(precision=3, linewidth=100, suppress=True)\n",
    "\n",
    "# More advanced: prevent zeros from being stripped from the end of floats:\n",
    "np.set_printoptions(formatter={'float_kind': '{: 0.3f}'.format})"
   ]
  },
  {
   "cell_type": "markdown",
   "metadata": {
    "tags": []
   },
   "source": [
    "### (1) Definition of data model\n",
    "\n",
    "Consider controlled parameter range is [0,1]"
   ]
  },
  {
   "cell_type": "code",
   "execution_count": 3,
   "metadata": {},
   "outputs": [],
   "source": [
    "# True functional dependece baskground + two signal peaks\n",
    "\n",
    "def mytrue(x):\n",
    "    \n",
    "    bg = 10.0 - 2* x + x*x\n",
    "    \n",
    "    sig1 = 20.0 * norm.pdf(x, loc=0.44, scale=0.05)\n",
    "    \n",
    "    sig2 = 5.0 * norm.pdf(x, loc=0.55, scale=0.10)\n",
    "\n",
    "    return bg+sig1+sig2"
   ]
  },
  {
   "cell_type": "markdown",
   "metadata": {},
   "source": [
    "### (2) Definition of fit model"
   ]
  },
  {
   "cell_type": "code",
   "execution_count": 4,
   "metadata": {},
   "outputs": [],
   "source": [
    "# Basic function, return function values only\n",
    "#\n",
    "#  Parameters: 0 - 2 background\n",
    "#              3 - 5 first peak\n",
    "#              6 - 8 second peak\n",
    "#\n",
    "def myfun(x,par):\n",
    "\n",
    "    npar = par.size   # should be 6 for sigle peak or 9 for double peak fit\n",
    "    \n",
    "    bg = par[0] + par[1]*x + par[2]*x*x\n",
    "    \n",
    "    if npar<6 :\n",
    "        return bg\n",
    "    \n",
    "    sig1 = par[3] * norm.pdf(x, loc=par[4], scale=par[5])\n",
    "    \n",
    "    if npar<9 :\n",
    "        return bg + sig1\n",
    "    \n",
    "    sig2 = par[6] * norm.pdf(x, loc=par[7], scale=par[8])\n",
    "\n",
    "    return bg + sig1 + sig2\n",
    "\n",
    "# Full model: returns values and derivatives\n",
    "\n",
    "def myfunder(x,par):\n",
    "\n",
    "    npar = par.size   # should be 6 for sigle peak or 9 for double peak fit\n",
    "\n",
    "    # output arrays\n",
    "    \n",
    "    val = np.zeros(x.size)\n",
    "    der = np.zeros((x.size,npar))\n",
    "\n",
    "    # Background\n",
    "    \n",
    "    bg = par[0] + par[1]*x + par[2]*x*x\n",
    "    \n",
    "    der[:,0] = 1\n",
    "    der[:,1] = x\n",
    "    der[:,2] = x*x\n",
    "   \n",
    "    val += bg\n",
    "    \n",
    "    if npar < 6 :\n",
    "        return val,der\n",
    "    \n",
    "    # First signal peak\n",
    "    \n",
    "    sig1 = norm.pdf(x, loc=par[4], scale=par[5])\n",
    "    \n",
    "    der[:,3] = sig1\n",
    "    sig1 *= par[3]\n",
    "    der[:,4] = (x-par[4])/par[5]/par[5]*sig1\n",
    "    der[:,5] = (x-par[4])*(x-par[4])/par[5]/par[5]/par[5]*sig1\n",
    "    \n",
    "    val += sig1\n",
    "    \n",
    "    if npar < 9 :\n",
    "        return val,der\n",
    "    \n",
    "    # Second signal peak\n",
    "    \n",
    "    sig2 = norm.pdf(x, loc=par[7], scale=par[8])\n",
    "    \n",
    "    der[:,6] = sig2\n",
    "    sig2 *= par[6]\n",
    "    der[:,7] = (x-par[7])/par[8]/par[8]*sig2\n",
    "    der[:,8] = (x-par[7])*(x-par[7])/par[8]/par[8]/par[8]*sig2\n",
    "    \n",
    "    val += sig2\n",
    "       \n",
    "    return val,der\n"
   ]
  },
  {
   "cell_type": "markdown",
   "metadata": {},
   "source": [
    "### (3) Generate pseudo data to fit and read background fit results"
   ]
  },
  {
   "cell_type": "code",
   "execution_count": 5,
   "metadata": {},
   "outputs": [],
   "source": [
    "# Considered values of x\n",
    "\n",
    "xvec = np.linspace(0.025,0.975,20)\n",
    "\n",
    "# Measurement precision\n",
    "\n",
    "svec = np.linspace(2.,4.,xvec.size)\n",
    "s2vec = svec*svec\n",
    "\n",
    "# Pseudo-data\n",
    "\n",
    "yvec = np.random.normal(mytrue(xvec),svec)"
   ]
  },
  {
   "cell_type": "code",
   "execution_count": 6,
   "metadata": {},
   "outputs": [],
   "source": [
    "# Read background fit output\n",
    "\n",
    "Nbg = 3\n",
    "\n",
    "# Reading from file does not work in Confluence...\n",
    "#\n",
    "# parfile = \"10_bg_fit_par_3.dat\"\n",
    "# covfile = \"10_bg_fit_cov_3.dat\"\n",
    "\n",
    "# Fitted parameters\n",
    "\n",
    "# bgpar = np.fromfile(parfile,sep=' ')    \n",
    "bgpar = np.array([ 9.921, -1.816,  0.848])\n",
    "\n",
    "# Covariance matrix\n",
    "\n",
    "# bgcinput = np.fromfile(covfile,sep=' ')\n",
    "bgcinput = np.array([ 0.023, -0.104,  0.094, -0.104,  0.681, -0.696,  0.094, -0.696,  0.770])\n",
    "\n",
    "bgcov = bgcinput.reshape(Nbg,Nbg)\n",
    "\n",
    "# Inverse of bg covariance matrix\n",
    "\n",
    "bgcinv = np.linalg.inv(bgcov)\n"
   ]
  },
  {
   "cell_type": "markdown",
   "metadata": {},
   "source": [
    "### (4) Iterative fit settings"
   ]
  },
  {
   "cell_type": "code",
   "execution_count": 7,
   "metadata": {},
   "outputs": [],
   "source": [
    "# Helper function for chi2 calculation\n",
    "# Uses global data vectors: xvec,yvec,s2vec\n",
    "\n",
    "def mychi2(parvec):\n",
    "    fvec = myfun(xvec,parvec) \n",
    "    chi2 = np.sum((yvec-fvec)**2/s2vec)\n",
    "\n",
    "    if UseBG:\n",
    "        dbgpar = parvec[:Nbg] - bgpar\n",
    "        chi2 += dbgpar @ bgcinv @ dbgpar\n",
    "\n",
    "    return chi2"
   ]
  },
  {
   "cell_type": "code",
   "execution_count": 8,
   "metadata": {},
   "outputs": [
    {
     "name": "stdout",
     "output_type": "stream",
     "text": [
      "\n",
      "Iterative fit procedure starting from parameter values\n",
      "  [ 10.000 -1.000  1.000  20.000  0.400  0.100  5.000  0.500  0.100]\n",
      "  chi^2 =  1638.124   chi^2/N = 81.90622 \n"
     ]
    }
   ],
   "source": [
    "# Number of function parameters to consider  (3, 6 or 9)\n",
    "\n",
    "Nfun1 = 9\n",
    "\n",
    "Nfun2 = 6\n",
    "\n",
    "# Flag to include background constraints (1 or 0)\n",
    "\n",
    "UseBG = 1\n",
    "\n",
    "# Initial guess for parameters (max size)\n",
    "\n",
    "parini = np.zeros(9)\n",
    "\n",
    "# Background guess or input\n",
    "\n",
    "parini[0] = 10.\n",
    "parini[1] = -1.\n",
    "parini[2] = +1.\n",
    "\n",
    "# First peak guess\n",
    "\n",
    "parini[3] = 20.\n",
    "parini[4] = 0.4\n",
    "parini[5] = 0.1\n",
    "\n",
    "# Second peak guess\n",
    "\n",
    "parini[6] = 5.\n",
    "parini[7] = 0.5\n",
    "parini[8] = 0.1\n",
    "\n",
    "\n",
    "# Initial printout\n",
    "\n",
    "chi2ini = mychi2(parini) \n",
    "\n",
    "print(\"\\nIterative fit procedure starting from parameter values\")\n",
    "print(\" \",parini)\n",
    "print(\"  chi^2 =  %8.3f   chi^2/N = %8.5f \" % (chi2ini,chi2ini/xvec.size))"
   ]
  },
  {
   "cell_type": "code",
   "execution_count": 9,
   "metadata": {},
   "outputs": [],
   "source": [
    "# Main fit procedure\n",
    "# Uses global data vectors: xvec,yvec,s2vec\n",
    "\n",
    "def myiterfit(parini):\n",
    "    \n",
    "    # Main loop\n",
    "\n",
    "    lam = 0.01       # Low value -> jump close to minimum, high value -> smaller step along gradient\n",
    "\n",
    "    dcut = 0.0001   # Required precision (distance from minimum)\n",
    "\n",
    "    chi2min = mychi2(parini)\n",
    "    parmin = parini\n",
    "\n",
    "    par = parini\n",
    "\n",
    "    Nit = 0\n",
    "    Nimp = 0\n",
    "\n",
    "    Nfun = parini.size\n",
    "    \n",
    "    Cov = np.zeros((Nfun,Nfun))\n",
    "\n",
    "    dist = dcut+1\n",
    "\n",
    "    while dist > dcut :\n",
    "\n",
    "        # work space\n",
    "\n",
    "        A = np.zeros((Nfun,Nfun))\n",
    "        B = np.zeros(Nfun)\n",
    "\n",
    "        # Values and derivatives at the current point\n",
    "\n",
    "        fval,fder = myfunder(xvec,par)\n",
    "\n",
    "        dyvec = yvec-fval\n",
    "\n",
    "        for l in range(Nfun):\n",
    "            B[l] = np.sum(fder[:,l]*dyvec/s2vec)\n",
    "            for k in range(Nfun):\n",
    "                A[l,k] = np.sum(fder[:,l]*fder[:,k]/s2vec)\n",
    "\n",
    "        # Background uncertainties\n",
    "\n",
    "        if UseBG:\n",
    "            dbgpar = par[:Nbg] - bgpar\n",
    "            for l in range(Nbg):\n",
    "                B[l] -= np.sum(dbgpar*bgcinv[l,:])\n",
    "                for k in range(Nbg):\n",
    "                    A[l,k] += bgcinv[l,k]\n",
    "\n",
    "        # Do not try to jump directly to the maximum (lam = 0)\n",
    "\n",
    "        C = np.array(A)\n",
    "        for l in range(Nfun):\n",
    "            C[l,l] += lam\n",
    "\n",
    "        # Inverse of matrix\n",
    "\n",
    "        Cinv = np.linalg.inv(C)\n",
    "\n",
    "        # Solution to the problem - required parameter change\n",
    "\n",
    "        dpar = Cinv @ B\n",
    "\n",
    "        # Check new parameter values\n",
    "\n",
    "        parnew = par+dpar\n",
    "\n",
    "        fnew = myfun(xvec,parnew) \n",
    "\n",
    "        chi2new = np.sum((yvec-fnew)**2/s2vec)\n",
    "\n",
    "        if UseBG:\n",
    "            dbgpar = parnew[:Nbg] - bgpar\n",
    "            chi2new += dbgpar @ bgcinv @ dbgpar\n",
    "\n",
    "        # Distance to minimum (assuming current errors)\n",
    "\n",
    "        Cov = np.linalg.inv(A)\n",
    "        e2par = np.diagonal(Cov)\n",
    "        dist = np.sum(dpar*dpar/e2par)\n",
    "\n",
    "        Nit+=1\n",
    "\n",
    "        if chi2new < chi2min :\n",
    "            Nimp += 1\n",
    "            lam /= 10\n",
    "            chi2min = chi2new\n",
    "            par = parnew\n",
    "        else:\n",
    "            lam *= 10\n",
    "\n",
    "\n",
    "    # Parameter uncertainties \n",
    "    # (assuming no need to recalculate Cov, even if there was a slight improvement in the last step)\n",
    "\n",
    "    epar = np.sqrt(np.diagonal(Cov))\n",
    "\n",
    "    print(\"\\n Fit results:\\n\\n     par         sigma_p\\n\")\n",
    "\n",
    "    for ip in range(par.size):\n",
    "        print(\"  %8.3f  +/- %6.3f \" % (par[ip],epar[ip]))\n",
    "\n",
    "    # Calculate correlation matrix, including rounding\n",
    "\n",
    "    Corr = np.array(Cov)\n",
    "\n",
    "    print(\"\\n Correlation matrix\\n\")\n",
    "    for ip in range(par.size):\n",
    "        for jp in range(par.size):\n",
    "            Corr[ip,jp]=Corr[ip,jp]/epar[ip]/epar[jp]\n",
    "\n",
    "        print(Corr[ip,:])\n",
    "\n",
    "    chi2 = mychi2(par)\n",
    "\n",
    "    print(\"\\n chi^2 =  %8.3f   chi^2/Ndf = %8.5f \" % (chi2,chi2/(xvec.size-Nfun)))\n",
    "\n",
    "    return chi2,par,epar"
   ]
  },
  {
   "cell_type": "markdown",
   "metadata": {},
   "source": [
    "### (5) Actual fit of two hypothesis"
   ]
  },
  {
   "cell_type": "code",
   "execution_count": 10,
   "metadata": {},
   "outputs": [
    {
     "name": "stdout",
     "output_type": "stream",
     "text": [
      "\n",
      " Fit results:\n",
      "\n",
      "     par         sigma_p\n",
      "\n",
      "     9.922  +/-  0.151 \n",
      "    -1.770  +/-  0.823 \n",
      "     0.773  +/-  0.875 \n",
      "    22.012  +/-  0.741 \n",
      "     0.442  +/-  0.003 \n",
      "     0.054  +/-  0.002 \n",
      "     2.728  +/-  0.562 \n",
      "     0.583  +/-  0.037 \n",
      "     0.063  +/-  0.028 \n",
      "\n",
      " Correlation matrix\n",
      "\n",
      "[ 1.000 -0.831  0.706  0.002 -0.002 -0.001  0.011 -0.001  0.004]\n",
      "[-0.831  1.000 -0.961 -0.012 -0.001 -0.012 -0.012 -0.005 -0.001]\n",
      "[ 0.706 -0.961  1.000  0.016  0.004  0.015  0.008  0.008 -0.005]\n",
      "[ 0.002 -0.012  0.016  1.000  0.809  0.566 -0.333  0.822 -0.871]\n",
      "[-0.002 -0.001  0.004  0.809  1.000  0.836 -0.586  0.929 -0.863]\n",
      "[-0.001 -0.012  0.015  0.566  0.836  1.000 -0.662  0.844 -0.717]\n",
      "[ 0.011 -0.012  0.008 -0.333 -0.586 -0.662  1.000 -0.559  0.292]\n",
      "[-0.001 -0.005  0.008  0.822  0.929  0.844 -0.559  1.000 -0.844]\n",
      "[ 0.004 -0.001 -0.005 -0.871 -0.863 -0.717  0.292 -0.844  1.000]\n",
      "\n",
      " chi^2 =    14.963   chi^2/Ndf =  1.36024 \n"
     ]
    }
   ],
   "source": [
    "# For first hypothesis\n",
    "\n",
    "chi2_1,par_1,epar_1 = myiterfit(parini[:Nfun1])\n",
    "\n",
    "# For function plotting\n",
    "\n",
    "x_fun = np.linspace(0.,1.,101)\n",
    "fun_1 = myfun(x_fun,par_1) \n",
    "\n",
    "bg_1 = myfun(x_fun,par_1[:3])\n",
    "f1_1 = myfun(x_fun,par_1[:6])"
   ]
  },
  {
   "cell_type": "code",
   "execution_count": 11,
   "metadata": {},
   "outputs": [
    {
     "data": {
      "image/png": "[encoded data removed]",
      "text/plain": [
       "<Figure size 648x432 with 1 Axes>"
      ]
     },
     "metadata": {
      "needs_background": "light"
     },
     "output_type": "display_data"
    }
   ],
   "source": [
    "plt.figure(figsize=(9, 6))\n",
    "\n",
    "plt.errorbar(xvec,yvec,svec, linestyle='none', marker='o', ms=2, mew=4)\n",
    "\n",
    "plt.plot(x_fun,fun_1,'--')\n",
    "plt.plot(x_fun,bg_1,'--')\n",
    "plt.plot(x_fun,f1_1,'--')\n",
    "\n",
    "plt.title('Fit result for Nfun = '+str(Nfun1) +'     $\\chi^{2} = $'+str(int(100*chi2_1+0.5)/100.)+' / '+str(xvec.size-Nfun1),size=24)\n",
    "plt.xlabel('x',size=20)\n",
    "plt.ylabel('y(x)',size=20)\n",
    "\n",
    "plt.xticks(fontsize=18)\n",
    "plt.yticks(fontsize=18)\n",
    "plt.grid(which='major', axis='both')\n",
    "\n",
    "fname = '10_comb_fit_'+str(Nfun1)+'.png'\n",
    "plt.savefig(fname)"
   ]
  },
  {
   "cell_type": "code",
   "execution_count": 12,
   "metadata": {},
   "outputs": [
    {
     "name": "stdout",
     "output_type": "stream",
     "text": [
      "\n",
      " Fit results:\n",
      "\n",
      "     par         sigma_p\n",
      "\n",
      "     9.951  +/-  0.151 \n",
      "    -1.808  +/-  0.823 \n",
      "     0.861  +/-  0.875 \n",
      "    26.565  +/-  0.367 \n",
      "     0.448  +/-  0.001 \n",
      "     0.061  +/-  0.001 \n",
      "\n",
      " Correlation matrix\n",
      "\n",
      "[ 1.000 -0.831  0.706  0.012  0.008  0.009]\n",
      "[-0.831  1.000 -0.961 -0.025 -0.004 -0.030]\n",
      "[ 0.706 -0.961  1.000  0.024  0.000  0.029]\n",
      "[ 0.012 -0.025  0.024  1.000  0.000 -0.573]\n",
      "[ 0.008 -0.004  0.000  0.000  1.000  0.088]\n",
      "[ 0.009 -0.030  0.029 -0.573  0.088  1.000]\n",
      "\n",
      " chi^2 =   122.513   chi^2/Ndf =  8.75089 \n"
     ]
    }
   ],
   "source": [
    "# For second hypothesis\n",
    "\n",
    "chi2_2,par_2,epar_2 = myiterfit(parini[:Nfun2])\n",
    "\n",
    "# For function plotting\n",
    "\n",
    "fun_2 = myfun(x_fun,par_2) \n",
    "\n",
    "bg_2 = myfun(x_fun,par_2[:3])"
   ]
  },
  {
   "cell_type": "code",
   "execution_count": 13,
   "metadata": {},
   "outputs": [
    {
     "data": {
      "image/png": "[encoded data removed]",
      "text/plain": [
       "<Figure size 648x432 with 1 Axes>"
      ]
     },
     "metadata": {
      "needs_background": "light"
     },
     "output_type": "display_data"
    }
   ],
   "source": [
    "plt.figure(figsize=(9, 6))\n",
    "\n",
    "plt.errorbar(xvec,yvec,svec, linestyle='none', marker='o', ms=2, mew=4)\n",
    "\n",
    "plt.plot(x_fun,fun_2,'--')\n",
    "plt.plot(x_fun,bg_2,'--')\n",
    "\n",
    "plt.title('Fit result for Nfun = '+str(Nfun2) +'     $\\chi^{2} = $'+str(int(100*chi2_2+0.5)/100.)+' / '+str(xvec.size-Nfun2),size=24)\n",
    "plt.xlabel('x',size=20)\n",
    "plt.ylabel('y(x)',size=20)\n",
    "\n",
    "plt.xticks(fontsize=18)\n",
    "plt.yticks(fontsize=18)\n",
    "plt.grid(which='major', axis='both')\n",
    "\n",
    "fname = '10_comb_fit_'+str(Nfun2)+'.png'\n",
    "plt.savefig(fname)"
   ]
  },
  {
   "cell_type": "markdown",
   "metadata": {},
   "source": [
    "### (6) Test the two hypotheiss"
   ]
  },
  {
   "cell_type": "code",
   "execution_count": 14,
   "metadata": {},
   "outputs": [],
   "source": [
    "# Fit with all parameters\n",
    "\n",
    "Nchi_1 = xvec.size-Nfun1 \n",
    "chi2ndf_1 = chi2_1/Nchi_1\n",
    "\n",
    "# Change when removing parameters\n",
    "\n",
    "Nchi_2 = Nfun1-Nfun2\n",
    "chi2ndf_2 = (chi2_2-chi2_1)/Nchi_2\n",
    "\n",
    "# Test value\n",
    "\n",
    "Ftest = chi2ndf_2/chi2ndf_1\n",
    "\n",
    "ptest =  f.sf(Ftest,Nchi_2,Nchi_1)"
   ]
  },
  {
   "cell_type": "code",
   "execution_count": 15,
   "metadata": {},
   "outputs": [
    {
     "name": "stdout",
     "output_type": "stream",
     "text": [
      "F-test result  p = 2.538e-05 \n",
      "probability of Chi2 increase by 107.550 when removing 3 needless parameters\n"
     ]
    }
   ],
   "source": [
    "print(\"F-test result  p = %.4g \" % (ptest))\n",
    "print(\"probability of Chi2 increase by %6.3f when removing %d needless parameters\" % (chi2_2-chi2_1,Nchi_2))"
   ]
  },
  {
   "cell_type": "code",
   "execution_count": null,
   "metadata": {},
   "outputs": [],
   "source": []
  }
 ],
 "metadata": {
  "kernelspec": {
   "display_name": "Python 3",
   "language": "python",
   "name": "python3"
  },
  "language_info": {
   "codemirror_mode": {
    "name": "ipython",
    "version": 3
   },
   "file_extension": ".py",
   "mimetype": "text/x-python",
   "name": "python",
   "nbconvert_exporter": "python",
   "pygments_lexer": "ipython3",
   "version": "3.9.7"
  }
 },
 "nbformat": 4,
 "nbformat_minor": 4
}
