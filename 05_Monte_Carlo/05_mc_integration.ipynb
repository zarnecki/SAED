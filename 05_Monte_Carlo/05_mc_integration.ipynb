{
 "cells": [
  {
   "cell_type": "markdown",
   "metadata": {
    "tags": []
   },
   "source": [
    "# Monte Carlo integration example\n",
    "\n",
    "Volume integration in 3-D\n",
    "\n",
    "Author: Aleksander Filip Żarnecki (University of Warsaw)"
   ]
  },
  {
   "cell_type": "markdown",
   "metadata": {
    "tags": []
   },
   "source": [
    "### (0) Import libraries "
   ]
  },
  {
   "cell_type": "code",
   "execution_count": 1,
   "metadata": {},
   "outputs": [],
   "source": [
    "import math\n",
    "import numpy as np\n",
    "import matplotlib.pyplot as plt"
   ]
  },
  {
   "cell_type": "markdown",
   "metadata": {
    "tags": []
   },
   "source": [
    "### (1) Shape definition"
   ]
  },
  {
   "cell_type": "code",
   "execution_count": 2,
   "metadata": {},
   "outputs": [],
   "source": [
    "# Return 1 for point inside sphere, 0 otherwise\n",
    "\n",
    "def isInside(x,y,z) :\n",
    "    \"Sphere with unit radius and origing at (0,0,0)\"\n",
    "    r2 = x*x + y*y + z*z\n",
    "    return int( r2 < 1 )"
   ]
  },
  {
   "cell_type": "markdown",
   "metadata": {},
   "source": [
    "### (2) Run Monte Carlo integration of volume"
   ]
  },
  {
   "cell_type": "code",
   "execution_count": 3,
   "metadata": {},
   "outputs": [],
   "source": [
    "def mcVol(Nmc):\n",
    "\n",
    "    # Integration range (common for all coordinates)\n",
    "\n",
    "    Xmin = -1.\n",
    "    Xmax = 1.\n",
    "\n",
    "    Vtot = (Xmax-Xmin)**3\n",
    "\n",
    "    dV = Vtot/Nmc\n",
    "    \n",
    "    # Generate random points in space\n",
    "    \n",
    "    V = 0\n",
    "    \n",
    "    for imc in range(Nmc):\n",
    "        x = np.random.uniform(Xmin,Xmax,size=3)\n",
    "        V+=dV*isInside(x[0],x[1],x[2])\n",
    "    \n",
    "    return V"
   ]
  },
  {
   "cell_type": "markdown",
   "metadata": {
    "tags": []
   },
   "source": [
    "### (4) Integration with increasing precision"
   ]
  },
  {
   "cell_type": "code",
   "execution_count": 4,
   "metadata": {
    "tags": []
   },
   "outputs": [
    {
     "name": "stdout",
     "output_type": "stream",
     "text": [
      "Monte Carlo integration:\n",
      "30 3.9999999999999996\n",
      "100 3.600000000000002\n",
      "300 4.346666666666673\n",
      "1000 4.248000000000003\n",
      "3000 4.2293333333334\n",
      "10000 4.163199999999672\n",
      "30000 4.139199999999622\n",
      "100000 4.17224000000209\n",
      "300000 4.196453333345163\n",
      "1000000 4.194591999953919\n",
      "Expected value:  4.1887902047863905\n"
     ]
    }
   ],
   "source": [
    "# Test values for number of divisions\n",
    "\n",
    "n_tab = np.array([30,100,300,1000,3000,10000,30000,100000,300000,1000000])\n",
    "\n",
    "# Main loop\n",
    "\n",
    "v_tab = np.empty(n_tab.size)\n",
    "\n",
    "print(\"Monte Carlo integration:\")\n",
    "\n",
    "for ind in range(n_tab.size):\n",
    "    n = n_tab[ind]\n",
    "    v_tab[ind] = mcVol(n)\n",
    "    print(n,v_tab[ind])\n",
    "\n",
    "Vexp = 4./3.*np.pi\n",
    "print(\"Expected value: \",Vexp)"
   ]
  },
  {
   "cell_type": "markdown",
   "metadata": {
    "tags": []
   },
   "source": [
    "### (4) Plot results"
   ]
  },
  {
   "cell_type": "code",
   "execution_count": 5,
   "metadata": {},
   "outputs": [
    {
     "data": {
      "image/png": "[encoded data removed]",
      "text/plain": [
       "<Figure size 648x432 with 1 Axes>"
      ]
     },
     "metadata": {
      "needs_background": "light"
     },
     "output_type": "display_data"
    }
   ],
   "source": [
    "# Create result graph\n",
    "\n",
    "dv_tab = np.abs(v_tab/Vexp - 1.)\n",
    "\n",
    "plt.figure(figsize=(9, 6))\n",
    "\n",
    "plt.loglog(n_tab,dv_tab,'o',markersize=10)\n",
    "\n",
    "plt.title(\"Monte Carlo integration\",size=24)\n",
    "plt.xlabel('Number of steps',size=24)\n",
    "plt.ylabel('Relative difference',size=24)\n",
    "\n",
    "plt.xticks(fontsize=20)\n",
    "plt.yticks(fontsize=20)\n",
    "plt.grid(which='major', axis='both')\n",
    "\n",
    "fname = '05_mc_integration.png'\n",
    "plt.savefig(fname)\n",
    "\n",
    "plt.show()"
   ]
  },
  {
   "cell_type": "code",
   "execution_count": null,
   "metadata": {},
   "outputs": [],
   "source": []
  }
 ],
 "metadata": {
  "kernelspec": {
   "display_name": "Python 3",
   "language": "python",
   "name": "python3"
  },
  "language_info": {
   "codemirror_mode": {
    "name": "ipython",
    "version": 3
   },
   "file_extension": ".py",
   "mimetype": "text/x-python",
   "name": "python",
   "nbconvert_exporter": "python",
   "pygments_lexer": "ipython3",
   "version": "3.9.7"
  }
 },
 "nbformat": 4,
 "nbformat_minor": 4
}
