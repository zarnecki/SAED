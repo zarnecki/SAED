{
 "cells": [
  {
   "cell_type": "markdown",
   "metadata": {
    "tags": []
   },
   "source": [
    "# Numerical integration example\n",
    "\n",
    "Volume integration in N-D\n",
    "\n",
    "Author: Aleksander Filip Żarnecki (University of Warsaw)"
   ]
  },
  {
   "cell_type": "markdown",
   "metadata": {
    "tags": []
   },
   "source": [
    "### (0) Import libraries "
   ]
  },
  {
   "cell_type": "code",
   "execution_count": 1,
   "metadata": {},
   "outputs": [],
   "source": [
    "import math\n",
    "import numpy as np\n",
    "from scipy.special import gamma\n",
    "import matplotlib.pyplot as plt"
   ]
  },
  {
   "cell_type": "markdown",
   "metadata": {
    "tags": []
   },
   "source": [
    "### (1) Shape definition"
   ]
  },
  {
   "cell_type": "code",
   "execution_count": 2,
   "metadata": {},
   "outputs": [],
   "source": [
    "# Defines the unit shere in arbitrary number of dimensions\n",
    "\n",
    "def isInside(x) :\n",
    "    \"Sphere with unit radius and origing at (0,0,0)\"\n",
    "    r2 = np.sum(x*x)\n",
    "    return int( r2 < 1 )"
   ]
  },
  {
   "cell_type": "markdown",
   "metadata": {},
   "source": [
    "### (2) Run numerical integration of volume"
   ]
  },
  {
   "cell_type": "code",
   "execution_count": 3,
   "metadata": {},
   "outputs": [],
   "source": [
    "def intVol(Ndim, Ndiv):\n",
    "\n",
    "    # Integration range (common for all coordinates)\n",
    "\n",
    "    Xmin = -1.\n",
    "    Xmax = 1.\n",
    "\n",
    "    dX = (Xmax-Xmin)/Ndiv\n",
    "    \n",
    "    # Test points in one coordinate\n",
    "\n",
    "    Xrange = np.arange(Xmin+dX/2.,Xmax,dX)\n",
    "\n",
    "    # Test points in Ndim\n",
    "    \n",
    "    ND = Ndiv**Ndim   # Number of points in the grid\n",
    "\n",
    "    Xgrid = np.empty((ND,Ndim))\n",
    "    \n",
    "    # Point index in Ndim can be decoded into Ndim indexes to 1D value table\n",
    "    \n",
    "    for ind in range(ND):\n",
    "        ival = ind                 # Make a copy not to affect loop counter\n",
    "        for idim in range(Ndim):\n",
    "            i1d = ival%Ndiv\n",
    "            Xgrid[ind,idim] = Xrange[i1d]\n",
    "            ival//=Ndiv\n",
    "           \n",
    "    # Main loop\n",
    "\n",
    "    V = 0\n",
    "    dV = dX**Ndim\n",
    "\n",
    "    for ind in range(ND):\n",
    "        V+=dV*isInside(Xgrid[ind])\n",
    "    \n",
    "    return V"
   ]
  },
  {
   "cell_type": "markdown",
   "metadata": {
    "tags": []
   },
   "source": [
    "### (3) Integration with increasing precision"
   ]
  },
  {
   "cell_type": "code",
   "execution_count": 4,
   "metadata": {
    "tags": []
   },
   "outputs": [
    {
     "name": "stdout",
     "output_type": "stream",
     "text": [
      "Numerical integration:\n",
      "3 6.716049382716052\n",
      "4 6.0\n",
      "5 5.867519999999933\n",
      "7 5.451062057475715\n",
      "10 4.88448000000038\n",
      "15 5.34195094650478\n",
      "20 5.303679999968383\n",
      "25 5.28626810876283\n"
     ]
    }
   ],
   "source": [
    "Ndim = 5\n",
    "\n",
    "# Test values for number of divisions\n",
    "\n",
    "n_tab = np.array([3,4,5,7,10,15,20,25]) # ,30,35,40,50,70,100])\n",
    "\n",
    "# Main loop\n",
    "\n",
    "v_tab = np.empty(n_tab.size)\n",
    "\n",
    "print(\"Numerical integration:\")\n",
    "\n",
    "for ind in range(n_tab.size):\n",
    "    n = n_tab[ind]\n",
    "    v_tab[ind] = intVol(Ndim,n)\n",
    "    print(n,v_tab[ind])"
   ]
  },
  {
   "cell_type": "code",
   "execution_count": 5,
   "metadata": {
    "tags": []
   },
   "outputs": [
    {
     "name": "stdout",
     "output_type": "stream",
     "text": [
      "Expected value:  5.263789013914324\n"
     ]
    }
   ],
   "source": [
    "# Expected volume\n",
    "\n",
    "Vexp = np.pi**(Ndim/2.)/gamma(1.+Ndim/2.)\n",
    "\n",
    "print(\"Expected value: \",Vexp)"
   ]
  },
  {
   "cell_type": "markdown",
   "metadata": {
    "tags": []
   },
   "source": [
    "### (4) Plot results"
   ]
  },
  {
   "cell_type": "code",
   "execution_count": 6,
   "metadata": {},
   "outputs": [
    {
     "data": {
      "image/png": "[encoded data removed]",
      "text/plain": [
       "<Figure size 648x432 with 1 Axes>"
      ]
     },
     "metadata": {
      "needs_background": "light"
     },
     "output_type": "display_data"
    }
   ],
   "source": [
    "# Create result graph\n",
    "\n",
    "nd_tab = n_tab**Ndim\n",
    "\n",
    "dv_tab = np.abs(v_tab/Vexp - 1.)\n",
    "\n",
    "plt.figure(figsize=(9, 6))\n",
    "\n",
    "plt.loglog(nd_tab,dv_tab,'o',markersize=10)\n",
    "\n",
    "plt.title(\"Numerical integration\",size=24)\n",
    "plt.xlabel('Number of steps',size=24)\n",
    "plt.ylabel('Relative difference',size=24)\n",
    "\n",
    "plt.xticks(fontsize=20)\n",
    "plt.yticks(fontsize=20)\n",
    "plt.grid(which='major', axis='both')\n",
    "\n",
    "fname = '05_numerical_integration_2.png'\n",
    "plt.savefig(fname)\n",
    "\n",
    "plt.show()"
   ]
  },
  {
   "cell_type": "code",
   "execution_count": null,
   "metadata": {},
   "outputs": [],
   "source": []
  }
 ],
 "metadata": {
  "kernelspec": {
   "display_name": "Python 3",
   "language": "python",
   "name": "python3"
  },
  "language_info": {
   "codemirror_mode": {
    "name": "ipython",
    "version": 3
   },
   "file_extension": ".py",
   "mimetype": "text/x-python",
   "name": "python",
   "nbconvert_exporter": "python",
   "pygments_lexer": "ipython3",
   "version": "3.9.7"
  }
 },
 "nbformat": 4,
 "nbformat_minor": 4
}
