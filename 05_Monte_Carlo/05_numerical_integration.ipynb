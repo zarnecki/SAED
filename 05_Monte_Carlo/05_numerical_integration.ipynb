{
 "cells": [
  {
   "cell_type": "markdown",
   "metadata": {
    "tags": []
   },
   "source": [
    "# Numerical integration example\n",
    "\n",
    "Volume integration in 3-D\n",
    "\n",
    "Author: Aleksander Filip Żarnecki (University of Warsaw)"
   ]
  },
  {
   "cell_type": "markdown",
   "metadata": {
    "tags": []
   },
   "source": [
    "### (0) Import libraries "
   ]
  },
  {
   "cell_type": "code",
   "execution_count": 1,
   "metadata": {},
   "outputs": [],
   "source": [
    "import math\n",
    "import numpy as np\n",
    "import matplotlib.pyplot as plt"
   ]
  },
  {
   "cell_type": "markdown",
   "metadata": {
    "tags": []
   },
   "source": [
    "### (1) Shape definition"
   ]
  },
  {
   "cell_type": "code",
   "execution_count": 2,
   "metadata": {},
   "outputs": [],
   "source": [
    "# Return 1 for point inside sphere, 0 otherwise\n",
    "\n",
    "def isInside(x,y,z) :\n",
    "    \"Sphere with unit radius and origing at (0,0,0)\"\n",
    "    r2 = x*x + y*y + z*z\n",
    "    return int( r2 < 1 )"
   ]
  },
  {
   "cell_type": "markdown",
   "metadata": {},
   "source": [
    "### (2) Run numerical integration of volume"
   ]
  },
  {
   "cell_type": "code",
   "execution_count": 3,
   "metadata": {},
   "outputs": [],
   "source": [
    "# Number of divisions along each axis taken as argument\n",
    "\n",
    "def intVol(Ndiv):\n",
    "\n",
    "    # Integration range (common for all coordinates)\n",
    "\n",
    "    Xmin = -1.\n",
    "    Xmax = 1.\n",
    "\n",
    "    dX = (Xmax-Xmin)/Ndiv\n",
    "    dV = dX**3\n",
    "\n",
    "    # Test points in one coordinate\n",
    "\n",
    "    Xrange = np.arange(Xmin+dX/2.,Xmax,dX)\n",
    "\n",
    "    # Main loop\n",
    "\n",
    "    V = 0\n",
    "\n",
    "    for x in Xrange:\n",
    "        for y in Xrange:\n",
    "            for z in Xrange:\n",
    "                V+=dV*isInside(x,y,z)\n",
    "    \n",
    "    return V"
   ]
  },
  {
   "cell_type": "markdown",
   "metadata": {
    "tags": []
   },
   "source": [
    "### (3) Integration with increasing precision"
   ]
  },
  {
   "cell_type": "code",
   "execution_count": 4,
   "metadata": {
    "tags": []
   },
   "outputs": [
    {
     "name": "stdout",
     "output_type": "stream",
     "text": [
      "Numerical integration:\n",
      "3 5.629629629629626\n",
      "4 4.0\n",
      "5 5.184000000000004\n",
      "7 4.174927113702611\n",
      "10 4.416000000000003\n",
      "15 4.245333333333356\n",
      "20 4.223999999999745\n",
      "25 4.2071040000002125\n",
      "30 4.245333333334476\n",
      "35 4.212244897957702\n",
      "40 4.194000000001563\n",
      "50 4.208128000002886\n",
      "70 4.196944606428023\n",
      "100 4.1918719999538405\n",
      "\n",
      " Expected value:  4.1887902047863905\n"
     ]
    }
   ],
   "source": [
    "# Test values for number of divisions\n",
    "\n",
    "n_tab = np.array([3,4,5,7,10,15,20,25,30,35,40,50,70,100])\n",
    "\n",
    "# Main loop\n",
    "\n",
    "v_tab = np.empty(n_tab.size)\n",
    "\n",
    "print(\"Numerical integration:\")\n",
    "\n",
    "for ind in range(n_tab.size):\n",
    "    n = n_tab[ind]\n",
    "    v_tab[ind] = intVol(n)\n",
    "    print(n,v_tab[ind])\n",
    "\n",
    "Vexp = 4./3.*np.pi\n",
    "print(\"\\n Expected value: \",Vexp)"
   ]
  },
  {
   "cell_type": "markdown",
   "metadata": {
    "tags": []
   },
   "source": [
    "### (4) Plot results"
   ]
  },
  {
   "cell_type": "code",
   "execution_count": 5,
   "metadata": {},
   "outputs": [
    {
     "data": {
      "image/png": "[encoded data removed]",
      "text/plain": [
       "<Figure size 648x432 with 1 Axes>"
      ]
     },
     "metadata": {
      "needs_background": "light"
     },
     "output_type": "display_data"
    }
   ],
   "source": [
    "# Create result graph\n",
    "\n",
    "n3_tab = n_tab**3\n",
    "\n",
    "dv_tab = np.abs(v_tab/Vexp - 1.)\n",
    "\n",
    "plt.figure(figsize=(9, 6))\n",
    "\n",
    "plt.loglog(n3_tab,dv_tab,'o',markersize=10)\n",
    "\n",
    "plt.title(\"Numerical integration\",size=24)\n",
    "plt.xlabel('Number of steps',size=24)\n",
    "plt.ylabel('Relative difference',size=24)\n",
    "\n",
    "plt.xticks(fontsize=20)\n",
    "plt.yticks(fontsize=20)\n",
    "#plt.xlim([-0.5,Nmax+0.5])\n",
    "#plt.ylim([0.,1.1*np.max(prob_data)])      \n",
    "plt.grid(which='major', axis='both')\n",
    "\n",
    "fname = '05_numerical_integration.png'\n",
    "plt.savefig(fname)\n",
    "\n",
    "plt.show()"
   ]
  },
  {
   "cell_type": "code",
   "execution_count": null,
   "metadata": {},
   "outputs": [],
   "source": []
  }
 ],
 "metadata": {
  "kernelspec": {
   "display_name": "Python 3",
   "language": "python",
   "name": "python3"
  },
  "language_info": {
   "codemirror_mode": {
    "name": "ipython",
    "version": 3
   },
   "file_extension": ".py",
   "mimetype": "text/x-python",
   "name": "python",
   "nbconvert_exporter": "python",
   "pygments_lexer": "ipython3",
   "version": "3.9.7"
  }
 },
 "nbformat": 4,
 "nbformat_minor": 4
}
