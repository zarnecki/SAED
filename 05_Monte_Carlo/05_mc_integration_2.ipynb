{
 "cells": [
  {
   "cell_type": "markdown",
   "metadata": {
    "tags": []
   },
   "source": [
    "# Monte Carlo integration example\n",
    "\n",
    "Volume integration in N-D\n",
    "\n",
    "Author: Aleksander Filip Żarnecki (University of Warsaw)"
   ]
  },
  {
   "cell_type": "markdown",
   "metadata": {
    "tags": []
   },
   "source": [
    "### (0) Import libraries "
   ]
  },
  {
   "cell_type": "code",
   "execution_count": 1,
   "metadata": {},
   "outputs": [],
   "source": [
    "import math\n",
    "import numpy as np\n",
    "from scipy.special import gamma\n",
    "import matplotlib.pyplot as plt"
   ]
  },
  {
   "cell_type": "markdown",
   "metadata": {
    "tags": []
   },
   "source": [
    "### (1) Shape definition"
   ]
  },
  {
   "cell_type": "code",
   "execution_count": 2,
   "metadata": {},
   "outputs": [],
   "source": [
    "# Defines the unit shere in arbitrary number of dimensions\n",
    "\n",
    "def isInside(x) :\n",
    "    \"Sphere with unit radius and origing at (0,0,0)\"\n",
    "    r2 = np.sum(x*x)\n",
    "    return int( r2 < 1 )"
   ]
  },
  {
   "cell_type": "markdown",
   "metadata": {},
   "source": [
    "### (3) Run Monte Carlo integration of volume"
   ]
  },
  {
   "cell_type": "code",
   "execution_count": 3,
   "metadata": {},
   "outputs": [],
   "source": [
    "def mcVol(Nmc,Ndim=3):\n",
    "\n",
    "    # Integration range (common for all coordinates)\n",
    "\n",
    "    Xmin = -1.\n",
    "    Xmax = 1.\n",
    "\n",
    "    Vtot = (Xmax-Xmin)**Ndim\n",
    "\n",
    "    dV = Vtot/Nmc\n",
    "    \n",
    "    # Generate random points in space\n",
    "    \n",
    "    V = 0\n",
    "    \n",
    "    for imc in range(Nmc):\n",
    "        x = np.random.uniform(Xmin,Xmax,size=Ndim)\n",
    "        V+=dV*isInside(x)\n",
    "    \n",
    "    return V"
   ]
  },
  {
   "cell_type": "markdown",
   "metadata": {
    "tags": []
   },
   "source": [
    "### (4) Integration with increasing precision"
   ]
  },
  {
   "cell_type": "code",
   "execution_count": 4,
   "metadata": {
    "tags": []
   },
   "outputs": [
    {
     "name": "stdout",
     "output_type": "stream",
     "text": [
      "Monte Carlo integration:\n",
      "30 8.533333333333333\n",
      "100 3.8399999999999994\n",
      "300 5.333333333333328\n",
      "1000 5.120000000000004\n",
      "3000 5.397333333333321\n",
      "10000 5.139199999999956\n",
      "30000 5.185066666666408\n",
      "100000 5.313600000000809\n",
      "300000 5.246613333327983\n",
      "1000000 5.271936000004611\n"
     ]
    }
   ],
   "source": [
    "# Test values for number of divisions\n",
    "\n",
    "Ndim = 5\n",
    "\n",
    "n_tab = np.array([30,100,300,1000,3000,10000,30000,100000,300000,1000000])\n",
    "\n",
    "# Main loop\n",
    "\n",
    "v_tab = np.empty(n_tab.size)\n",
    "\n",
    "print(\"Monte Carlo integration:\")\n",
    "\n",
    "for ind in range(n_tab.size):\n",
    "    n = n_tab[ind]\n",
    "    v_tab[ind] = mcVol(n,Ndim)\n",
    "    print(n,v_tab[ind])\n"
   ]
  },
  {
   "cell_type": "code",
   "execution_count": 5,
   "metadata": {
    "tags": []
   },
   "outputs": [
    {
     "name": "stdout",
     "output_type": "stream",
     "text": [
      "Expected value:  5.263789013914324\n"
     ]
    }
   ],
   "source": [
    "# Expected volume\n",
    "\n",
    "Vexp = np.pi**(Ndim/2.)/gamma(1.+Ndim/2.)\n",
    "\n",
    "print(\"Expected value: \",Vexp)"
   ]
  },
  {
   "cell_type": "markdown",
   "metadata": {
    "tags": []
   },
   "source": [
    "### (4) Plot results"
   ]
  },
  {
   "cell_type": "code",
   "execution_count": 6,
   "metadata": {},
   "outputs": [
    {
     "data": {
      "image/png": "[encoded data removed]",
      "text/plain": [
       "<Figure size 648x432 with 1 Axes>"
      ]
     },
     "metadata": {
      "needs_background": "light"
     },
     "output_type": "display_data"
    }
   ],
   "source": [
    "# Create result graph\n",
    "\n",
    "dv_tab = np.abs(v_tab/Vexp - 1.)\n",
    "\n",
    "plt.figure(figsize=(9, 6))\n",
    "\n",
    "plt.loglog(n_tab,dv_tab,'o',markersize=10)\n",
    "\n",
    "plt.title(\"Monte Carlo integration\",size=24)\n",
    "plt.xlabel('Number of steps',size=24)\n",
    "plt.ylabel('Relative difference',size=24)\n",
    "\n",
    "plt.xticks(fontsize=20)\n",
    "plt.yticks(fontsize=20)\n",
    "plt.grid(which='major', axis='both')\n",
    "\n",
    "fname = '05_mc_integration_2.png'\n",
    "plt.savefig(fname)\n",
    "\n",
    "plt.show()"
   ]
  },
  {
   "cell_type": "code",
   "execution_count": null,
   "metadata": {},
   "outputs": [],
   "source": []
  }
 ],
 "metadata": {
  "kernelspec": {
   "display_name": "Python 3",
   "language": "python",
   "name": "python3"
  },
  "language_info": {
   "codemirror_mode": {
    "name": "ipython",
    "version": 3
   },
   "file_extension": ".py",
   "mimetype": "text/x-python",
   "name": "python",
   "nbconvert_exporter": "python",
   "pygments_lexer": "ipython3",
   "version": "3.9.7"
  }
 },
 "nbformat": 4,
 "nbformat_minor": 4
}
