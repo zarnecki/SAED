{
 "cells": [
  {
   "cell_type": "markdown",
   "metadata": {
    "tags": []
   },
   "source": [
    "# Nearest Neighbors discriminant (3)\n",
    "\n",
    "See: https://scikit-learn.org/stable/modules/neighbors.html\n",
    "\n",
    "Author: Aleksander Filip Żarnecki (University of Warsaw)"
   ]
  },
  {
   "cell_type": "markdown",
   "metadata": {},
   "source": [
    "### (0) Import libraries "
   ]
  },
  {
   "cell_type": "code",
   "execution_count": 1,
   "metadata": {
    "tags": []
   },
   "outputs": [],
   "source": [
    "import numpy as np\n",
    "import matplotlib.pyplot as plt\n",
    "from sklearn.neighbors import KNeighborsClassifier"
   ]
  },
  {
   "cell_type": "markdown",
   "metadata": {},
   "source": [
    "### (1) Define 2D sample generation procedure"
   ]
  },
  {
   "cell_type": "code",
   "execution_count": 2,
   "metadata": {},
   "outputs": [],
   "source": [
    "# Generate 2D normal distributed sample using method from lecture 4\n",
    "\n",
    "def mydata(Nmc,pos,sig,corr=0.0):\n",
    "\n",
    "    data = np.empty(shape=(Nmc,2))\n",
    "    \n",
    "    phi = 0.5*np.arcsin(corr)\n",
    "\n",
    "    g = np.random.normal(size=(2,Nmc))\n",
    "\n",
    "    data[:,0] = pos[0] + sig[0]*(g[0]*np.cos(phi) + g[1]*np.sin(phi))\n",
    "    data[:,1] = pos[1] + sig[1]*(g[0]*np.sin(phi) + g[1]*np.cos(phi))\n",
    "    \n",
    "    return data"
   ]
  },
  {
   "cell_type": "markdown",
   "metadata": {},
   "source": [
    "### (2) Generating train and test data"
   ]
  },
  {
   "cell_type": "code",
   "execution_count": 3,
   "metadata": {},
   "outputs": [
    {
     "name": "stdout",
     "output_type": "stream",
     "text": [
      "Train data defined, size:  1000\n",
      "Test data defined, size:  100\n"
     ]
    }
   ],
   "source": [
    "# Sample size\n",
    "\n",
    "Ntrain = 1000\n",
    "Ntest = 100\n",
    "\n",
    "# Two hypothesis\n",
    "\n",
    "h1 = np.array([-1.,-1.])\n",
    "h2 = np.array([1.,1.])\n",
    "\n",
    "# Fraction of first hypothesis\n",
    "\n",
    "fh1 = 0.5\n",
    "\n",
    "# Measurement uncertainties\n",
    "\n",
    "sig = np.array([1.2,0.6])\n",
    "corr = 0.9\n",
    "\n",
    "# Generate train sample \n",
    "# ---------------------\n",
    "\n",
    "h1train = mydata(Ntrain,h1,sig,corr)\n",
    "h2train = mydata(Ntrain,h2,sig,corr)\n",
    "\n",
    "# Uniform distributed numbers\n",
    "\n",
    "rtrain = np.random.uniform(size=Ntrain)\n",
    "\n",
    "# Mix of two hypothesis\n",
    "\n",
    "y_train = rtrain > fh1\n",
    "\n",
    "y2_train = np.resize(np.repeat(y_train,2),(Ntrain,2))\n",
    "\n",
    "X_train = y2_train * h1train + (1 - y2_train)*h2train\n",
    "\n",
    "print(\"Train data defined, size: \",y_train.size)\n",
    "\n",
    "# Generate test sample \n",
    "# --------------------\n",
    "\n",
    "h1test = mydata(Ntest,h1,sig,corr)\n",
    "h2test = mydata(Ntest,h2,sig,corr)\n",
    "\n",
    "# Uniform distributed numbers\n",
    "\n",
    "rtest = np.random.uniform(size=Ntest)\n",
    "\n",
    "# Mix of two hypothesis\n",
    "\n",
    "y_test = rtest > fh1\n",
    "\n",
    "y2_test = np.resize(np.repeat(y_test,2),(Ntest,2))\n",
    "\n",
    "X_test = y2_test * h1test + (1 - y2_test)*h2test\n",
    "\n",
    "print(\"Test data defined, size: \",y_test.size)\n"
   ]
  },
  {
   "cell_type": "markdown",
   "metadata": {},
   "source": [
    "### (3) Nearest Neighbors classifier "
   ]
  },
  {
   "cell_type": "code",
   "execution_count": 4,
   "metadata": {},
   "outputs": [
    {
     "name": "stdout",
     "output_type": "stream",
     "text": [
      "Distance between two hypothesis is : 3.199049566457978\n"
     ]
    }
   ],
   "source": [
    "# Calculate covariance matrix and its inverse\n",
    "\n",
    "acorr = np.array([[1.,corr],[corr,1.]])\n",
    "\n",
    "cov = np.outer(sig,sig) * acorr\n",
    "\n",
    "cinv = np.linalg.inv(cov+cov)\n",
    "\n",
    "# define distance metric function\n",
    "\n",
    "def mydist(x1,x2):\n",
    "    \n",
    "    dx = x1-x2\n",
    "    \n",
    "    dist = dx @ cinv @ dx\n",
    "    \n",
    "    return np.sqrt(dist)\n",
    "    \n",
    "dtest = mydist(h1,h2)\n",
    "print(\"Distance between two hypothesis is :\",dtest)"
   ]
  },
  {
   "cell_type": "code",
   "execution_count": 5,
   "metadata": {},
   "outputs": [
    {
     "name": "stdout",
     "output_type": "stream",
     "text": [
      "Number of mislabeled training points out of a total 1000 points : 14\n",
      "Number of mislabeled test points out of a total 100 points : 2\n"
     ]
    }
   ],
   "source": [
    "# Number of neighbors\n",
    "\n",
    "kn = 10\n",
    "\n",
    "## Too simple: without taking variable scale differences and correlation into account\n",
    "\n",
    "# neigh = KNeighborsClassifier(n_neighbors=kn)  \n",
    "\n",
    "## Proper way: define classifier using proper metric\n",
    "\n",
    "neigh = KNeighborsClassifier(n_neighbors=kn,metric=mydist)\n",
    "\n",
    "## The same, but using built-in metric\n",
    "\n",
    "# neigh = KNeighborsClassifier(n_neighbors=kn,metric='mahalanobis', metric_params={'VI': cinv},n_jobs=8)  \n",
    "\n",
    "neigh.fit(X_train, y_train)\n",
    "\n",
    "y_train_pred = neigh.predict(X_train)\n",
    "\n",
    "print(\"Number of mislabeled training points out of a total %d points : %d\"\n",
    "        % (X_train.shape[0], (y_train != y_train_pred).sum()))\n",
    "\n",
    "y_test_pred = neigh.predict(X_test)\n",
    "\n",
    "print(\"Number of mislabeled test points out of a total %d points : %d\"\n",
    "        % (X_test.shape[0], (y_test != y_test_pred).sum()))\n"
   ]
  },
  {
   "cell_type": "markdown",
   "metadata": {},
   "source": [
    "### (4) Plot results"
   ]
  },
  {
   "cell_type": "code",
   "execution_count": 8,
   "metadata": {},
   "outputs": [],
   "source": [
    "# 2D grid for decision histogram (as background)\n",
    "\n",
    "Xmin = -5.0\n",
    "Xmax = 5.0\n",
    "Nbin = 100\n",
    "dX = (Xmax-Xmin)/Nbin\n",
    "\n",
    "Xrange = np.linspace(Xmin+0.5*dX,Xmax-0.5*dX,Nbin)\n",
    "\n",
    "X1grid, X2grid = np.meshgrid(Xrange,Xrange)\n",
    "\n",
    "yval = np.empty(X1grid.shape)\n",
    "\n",
    "# Loop over 2D grid (time consuming!)\n",
    "    \n",
    "for i in range(Nbin):\n",
    "    for j in range(Nbin):\n",
    "\n",
    "        x1 = X1grid[i,j]  \n",
    "        x2 = X2grid[i,j]  \n",
    "    \n",
    "        yval[i,j] = neigh.predict(np.array([[x1,x2]]))"
   ]
  },
  {
   "cell_type": "code",
   "execution_count": 9,
   "metadata": {},
   "outputs": [
    {
     "data": {
      "image/png": "[encoded data removed]",
      "text/plain": [
       "<Figure size 1152x504 with 2 Axes>"
      ]
     },
     "metadata": {
      "needs_background": "light"
     },
     "output_type": "display_data"
    }
   ],
   "source": [
    "# Create result graph\n",
    "\n",
    "plt.subplots(1,2,figsize=(16, 7))\n",
    "\n",
    "plt.suptitle(\"Nearest neighbors Classifier for   $\\sigma$ = \"+str(sig)+'    $\\\\rho$ = '+str(corr)+\"     $f_{1}$ = \"+str(fh1)+\"   k = \"+str(kn),fontsize=22)\n",
    "\n",
    "# Train sample\n",
    "\n",
    "plt.subplot(121)\n",
    "\n",
    "# Decision pattern as background\n",
    "\n",
    "plt.plot(X1grid[yval==0],X2grid[yval==0],'o',color='yellow')\n",
    "plt.xlim([Xmin,Xmax])\n",
    "plt.ylim([Xmin,Xmax])\n",
    "\n",
    "# Training points in two categories\n",
    "\n",
    "plt.plot(X_train[:,0][y_train==0],X_train[:,1][y_train==0],'o',color='blue',ms=3)\n",
    "plt.plot(X_train[:,0][y_train==1],X_train[:,1][y_train==1],'o',color='green',ms=3)\n",
    "\n",
    "plt.title(\"Training sample\",size=20)\n",
    "plt.xlabel('$x_1$',size=20)\n",
    "plt.ylabel('$x_2$',size=20)\n",
    "\n",
    "plt.xticks(fontsize=18)\n",
    "plt.yticks(fontsize=18)\n",
    "plt.grid(which='major', axis='both')\n",
    "\n",
    "# Test sample\n",
    "\n",
    "plt.subplot(122)\n",
    "\n",
    "# Decision pattern as background\n",
    "\n",
    "plt.plot(X1grid[yval==0],X2grid[yval==0],'o',color='yellow')\n",
    "plt.xlim([Xmin,Xmax])\n",
    "plt.ylim([Xmin,Xmax])\n",
    "\n",
    "# Test points in two categories\n",
    "\n",
    "plt.plot(X_test[:,0][y_test==0],X_test[:,1][y_test==0],'o',color='blue',ms=5)\n",
    "plt.plot(X_test[:,0][y_test==1],X_test[:,1][y_test==1],'o',color='green',ms=5)\n",
    "\n",
    "plt.title(\"Test sample\",size=20)\n",
    "plt.xlabel('$x_1$',size=20)\n",
    "# plt.ylabel('$x_2$',size=20)\n",
    "\n",
    "plt.xticks(fontsize=18)\n",
    "plt.yticks(fontsize=18)\n",
    "plt.grid(which='major', axis='both')\n",
    "\n",
    "\n",
    "fname = '12_kNN4_'+str(sig[0])+'_'+str(sig[1])+'_'+str(corr)+'_'+str(fh1)+'_'+str(kn)+'.png'\n",
    "\n",
    "plt.savefig(fname)\n",
    "\n",
    "plt.show()"
   ]
  },
  {
   "cell_type": "code",
   "execution_count": null,
   "metadata": {},
   "outputs": [],
   "source": []
  }
 ],
 "metadata": {
  "kernelspec": {
   "display_name": "Python 3",
   "language": "python",
   "name": "python3"
  },
  "language_info": {
   "codemirror_mode": {
    "name": "ipython",
    "version": 3
   },
   "file_extension": ".py",
   "mimetype": "text/x-python",
   "name": "python",
   "nbconvert_exporter": "python",
   "pygments_lexer": "ipython3",
   "version": "3.9.7"
  }
 },
 "nbformat": 4,
 "nbformat_minor": 4
}
