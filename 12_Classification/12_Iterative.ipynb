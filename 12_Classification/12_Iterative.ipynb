{
 "cells": [
  {
   "cell_type": "markdown",
   "metadata": {},
   "source": [
    "# Iterative linear discriminant\n",
    "\n",
    "Author: Aleksander Filip Żarnecki (University of Warsaw)"
   ]
  },
  {
   "cell_type": "markdown",
   "metadata": {},
   "source": [
    "### (0) Import libraries "
   ]
  },
  {
   "cell_type": "code",
   "execution_count": 1,
   "metadata": {},
   "outputs": [],
   "source": [
    "import numpy as np\n",
    "import matplotlib.pyplot as plt"
   ]
  },
  {
   "cell_type": "markdown",
   "metadata": {},
   "source": [
    "### (1) Define 2D sample generation procedure"
   ]
  },
  {
   "cell_type": "code",
   "execution_count": 2,
   "metadata": {},
   "outputs": [],
   "source": [
    "# Generate 2D normal distributed sample using method from lecture 4\n",
    "\n",
    "def mydata(Nmc,pos,sig,corr=0.0):\n",
    "\n",
    "    data = np.empty(shape=(Nmc,2))\n",
    "    \n",
    "    phi = 0.5*np.arcsin(corr)\n",
    "\n",
    "    g = np.random.normal(size=(2,Nmc))\n",
    "\n",
    "    data[:,0] = pos[0] + sig[0]*(g[0]*np.cos(phi) + g[1]*np.sin(phi))\n",
    "    data[:,1] = pos[1] + sig[1]*(g[0]*np.sin(phi) + g[1]*np.cos(phi))\n",
    "    \n",
    "    return data"
   ]
  },
  {
   "cell_type": "markdown",
   "metadata": {},
   "source": [
    "### (2) Generating data"
   ]
  },
  {
   "cell_type": "code",
   "execution_count": 3,
   "metadata": {},
   "outputs": [
    {
     "name": "stdout",
     "output_type": "stream",
     "text": [
      "Test data defined, size:  100\n"
     ]
    }
   ],
   "source": [
    "# Test data consist of two 2D event samples\n",
    "# one generated from H1 hypothesis and one from H2\n",
    "\n",
    "# Events per sample\n",
    "\n",
    "Nmc = 50\n",
    "\n",
    "# Measurement uncertainties and correlation (same for both hypothesis)\n",
    "\n",
    "sig = np.array([1.2,0.6])\n",
    "corr = -0.5\n",
    "\n",
    "# Nominal values for each case (2D)\n",
    "\n",
    "h1 = np.array([-1.,-1.])\n",
    "h2 = np.array([1.,1.])\n",
    "\n",
    "\n",
    "X = np.empty(shape=(2*Nmc,2))\n",
    "y = np.empty(shape=(2*Nmc))\n",
    "\n",
    "\n",
    "X[:Nmc,:] = mydata(Nmc,h1,sig,corr)\n",
    "y[:Nmc] = -1\n",
    "\n",
    "X[Nmc:,:] = mydata(Nmc,h2,sig,corr)\n",
    "y[Nmc:] = 1\n",
    "\n",
    "print(\"Test data defined, size: \",y.size)"
   ]
  },
  {
   "cell_type": "markdown",
   "metadata": {},
   "source": [
    "### (3) Calculate expected covariance matrix"
   ]
  },
  {
   "cell_type": "code",
   "execution_count": 4,
   "metadata": {},
   "outputs": [],
   "source": [
    "# Expected covariance matrix of the measurements\n",
    "# (same for both hypothesis)\n",
    "\n",
    "acorr = np.array([[1.,corr],[corr,1.]])\n",
    "\n",
    "cov = np.outer(sig,sig) * acorr"
   ]
  },
  {
   "cell_type": "markdown",
   "metadata": {},
   "source": [
    "### (4) Calculate linear discriminant (for reference)"
   ]
  },
  {
   "cell_type": "code",
   "execution_count": 5,
   "metadata": {},
   "outputs": [
    {
     "name": "stdout",
     "output_type": "stream",
     "text": [
      "Reference discriminant coefficients: w0 = 0.3714   w1 = 0.9285\n"
     ]
    }
   ],
   "source": [
    "cinv = np.linalg.inv(cov+cov)\n",
    "\n",
    "w = cinv @ ( h2 - h1 )\n",
    "\n",
    "norm = np.sum(w*w)\n",
    "\n",
    "w /= np.sqrt(norm)\n",
    "\n",
    "print(\"Reference discriminant coefficients: w0 = %.4f   w1 = %.4f\"%(w[0],w[1]))"
   ]
  },
  {
   "cell_type": "code",
   "execution_count": 6,
   "metadata": {},
   "outputs": [
    {
     "name": "stdout",
     "output_type": "stream",
     "text": [
      "Reference discriminant line: y = -0.4000 * x  +  0.0000\n"
     ]
    }
   ],
   "source": [
    "# Division line should cross in the middle between h1 and h2\n",
    "\n",
    "h0 = 0.5*(h1+h2)\n",
    "\n",
    "w0 = w @ h0\n",
    "\n",
    "# Coefficients for the line    w @ h = w0\n",
    "\n",
    "aw = -w[0]/w[1]\n",
    "bw = w0/w[1]\n",
    "\n",
    "print(\"Reference discriminant line: y = %.4f * x  +  %.4f\"%(aw,bw))"
   ]
  },
  {
   "cell_type": "markdown",
   "metadata": {},
   "source": [
    "### (5) Iterative approach"
   ]
  },
  {
   "cell_type": "code",
   "execution_count": 7,
   "metadata": {},
   "outputs": [
    {
     "name": "stdout",
     "output_type": "stream",
     "text": [
      "Initial coefficients:  0.0016582690451820566 ,  -0.9999986250709418\n",
      "Initial distance:  14.440771408387482 ,  29  events properly classified\n",
      "7  iterations, final distance:  2.3529311160444633 ,  100  events properly classified\n",
      "Final coefficients:  0.6593733220884731 ,  0.751815683607366\n",
      "Discriminant line: y =  -0.8770411903681825  * x  +   -0.1340718069798048\n"
     ]
    }
   ],
   "source": [
    "# Start from random weights and offset (!)\n",
    "\n",
    "wvec = 2.0*np.random.uniform(size=2)-1.0\n",
    "wcut = 2.0*np.random.uniform()-1.0\n",
    "\n",
    "nwv = np.sqrt(np.sum(wvec*wvec))\n",
    "print(\"Initial coefficients: \",wvec[0]/nwv,\", \",wvec[1]/nwv)\n",
    "    \n",
    "\n",
    "# Initial prediction\n",
    "\n",
    "ypred  = np.tanh( (X @ wvec) - wcut) \n",
    "dy = ypred - y\n",
    "dist = np.sum(dy*dy)\n",
    "nok = np.sum(ypred*y > 0)\n",
    "\n",
    "# Iteration starting step\n",
    "\n",
    "eta = 0.01\n",
    "\n",
    "it = 0\n",
    "dmin = dist\n",
    "print(\"Initial distance: \",np.sqrt(dist),\", \",nok,\" events properly classified\")\n",
    "\n",
    "# Debug printout\n",
    "# print(it,eta,wvec,wcut,nok,dist)\n",
    "  \n",
    "while True :\n",
    "\n",
    "    it+=1\n",
    "    \n",
    "    dw = dy @ X\n",
    "\n",
    "    cutnew = wcut + eta/Nmc * np.sum(dy)\n",
    "    wnew = wvec - eta/Nmc * dw\n",
    "    \n",
    "    ypred  = np.tanh( (X @ wnew) - cutnew) \n",
    "    \n",
    "    nok = np.sum(ypred*y > 0)\n",
    "\n",
    "    dy = ypred - y\n",
    "    dist = np.sum(dy*dy)\n",
    "\n",
    "# Debug printout\n",
    "#    if it%10 == 0 :\n",
    "#        print(it,eta,wnew,cutnew,nok,dist)\n",
    "  \n",
    "    if dist < dmin :\n",
    "        wcut = cutnew\n",
    "        wvec = wnew\n",
    "        eta *= 2.0\n",
    "        dmin = dist\n",
    "    else:\n",
    "        eta /= 2.\n",
    "        \n",
    "    if eta < 0.0000001 : break\n",
    "    \n",
    "    if nok == 2*Nmc : break\n",
    "    \n",
    "    if it == 1000 : break\n",
    "\n",
    "  \n",
    "# Normalized direction vector\n",
    "\n",
    "nwv = np.sqrt(np.sum(wvec*wvec))\n",
    "\n",
    "print(it,\" iterations, final distance: \",np.sqrt(dist),\", \",nok,\" events properly classified\")\n",
    "print(\"Final coefficients: \",wvec[0]/nwv,\", \",wvec[1]/nwv)\n",
    "    \n",
    "ai = -wvec[0]/wvec[1]\n",
    "bi = wcut/wvec[1]\n",
    "\n",
    "print(\"Discriminant line: y = \",ai,\" * x  +  \",bi)"
   ]
  },
  {
   "cell_type": "markdown",
   "metadata": {},
   "source": [
    "### (6) Plot results"
   ]
  },
  {
   "cell_type": "code",
   "execution_count": 8,
   "metadata": {},
   "outputs": [],
   "source": [
    "# Create result graph\n",
    "\n",
    "Xmin = -5.0\n",
    "Xmax = 5.0\n",
    "Np = 2\n",
    "\n",
    "Xfun = np.linspace(Xmin,Xmax,Np)\n",
    "\n",
    "# Discriminant line from the generated sample and from the distribution parameters\n",
    "\n",
    "Yifun = ai*Xfun + bi\n",
    "Ywfun = aw*Xfun + bw"
   ]
  },
  {
   "cell_type": "code",
   "execution_count": 9,
   "metadata": {},
   "outputs": [
    {
     "data": {
      "image/png": "[encoded data removed]",
      "text/plain": [
       "<Figure size 576x576 with 1 Axes>"
      ]
     },
     "metadata": {
      "needs_background": "light"
     },
     "output_type": "display_data"
    }
   ],
   "source": [
    "plt.figure(figsize=(8, 8))\n",
    "\n",
    "# Training points in two categories\n",
    "\n",
    "plt.plot(X[:Nmc,0],X[:Nmc,1],'o',color='blue',ms=5)\n",
    "plt.plot(X[Nmc:,0],X[Nmc:,1],'o',color='green',ms=5)\n",
    "\n",
    "plt.title(\"Linear discriminant   $\\sigma$ = \"+str(sig)+\"   $\\\\rho$ = \"+str(corr),size=20)\n",
    "plt.xlabel('$x_1$',size=20)\n",
    "plt.ylabel('$x_2$',size=20)\n",
    "\n",
    "plt.plot(Xfun,Yifun,'-',color='magenta',linewidth=3)\n",
    "plt.plot(Xfun,Ywfun,'--',color='red')\n",
    "\n",
    "plt.xlim([Xmin,Xmax])\n",
    "plt.ylim([Xmin,Xmax])\n",
    "\n",
    "plt.xticks(fontsize=18)\n",
    "plt.yticks(fontsize=18)\n",
    "plt.grid(which='major', axis='both')\n",
    "\n",
    "if Nmc == 50 :\n",
    "    fname = '12_Iterative_'+str(sig[0])+'_'+str(sig[1])+'_'+str(corr)+'.png'\n",
    "else :\n",
    "    fname = '12_Iterative_'+str(sig[0])+'_'+str(sig[1])+'_'+str(corr)+'_'+str(2*Nmc)+'.png'\n",
    "    \n",
    "\n",
    "plt.savefig(fname)\n",
    "\n",
    "plt.show()"
   ]
  },
  {
   "cell_type": "code",
   "execution_count": null,
   "metadata": {},
   "outputs": [],
   "source": []
  },
  {
   "cell_type": "code",
   "execution_count": null,
   "metadata": {},
   "outputs": [],
   "source": []
  }
 ],
 "metadata": {
  "kernelspec": {
   "display_name": "Python 3",
   "language": "python",
   "name": "python3"
  },
  "language_info": {
   "codemirror_mode": {
    "name": "ipython",
    "version": 3
   },
   "file_extension": ".py",
   "mimetype": "text/x-python",
   "name": "python",
   "nbconvert_exporter": "python",
   "pygments_lexer": "ipython3",
   "version": "3.9.7"
  }
 },
 "nbformat": 4,
 "nbformat_minor": 4
}
