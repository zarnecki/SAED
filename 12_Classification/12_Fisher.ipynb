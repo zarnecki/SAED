{
 "cells": [
  {
   "cell_type": "markdown",
   "metadata": {},
   "source": [
    "# Fishers linear discriminant\n",
    "\n",
    "See: https://scikit-learn.org/stable/modules/lda_qda.html\n",
    "\n",
    "and https://scikit-learn.org/stable/modules/generated/sklearn.discriminant_analysis.LinearDiscriminantAnalysis.html\n",
    "\n",
    "Author: Aleksander Filip Żarnecki (University of Warsaw)"
   ]
  },
  {
   "cell_type": "markdown",
   "metadata": {},
   "source": [
    "### (0) Import libraries "
   ]
  },
  {
   "cell_type": "code",
   "execution_count": 1,
   "metadata": {},
   "outputs": [],
   "source": [
    "import numpy as np\n",
    "import matplotlib.pyplot as plt\n",
    "from sklearn.discriminant_analysis import LinearDiscriminantAnalysis"
   ]
  },
  {
   "cell_type": "markdown",
   "metadata": {},
   "source": [
    "### (1) Define 2D sample generation procedure"
   ]
  },
  {
   "cell_type": "code",
   "execution_count": 2,
   "metadata": {},
   "outputs": [],
   "source": [
    "# Generate 2D normal distributed sample using method from lecture 4\n",
    "\n",
    "def mydata(Nmc,pos,sig,corr=0.0):\n",
    "\n",
    "    data = np.empty(shape=(Nmc,2))\n",
    "    \n",
    "    phi = 0.5*np.arcsin(corr)\n",
    "\n",
    "    g = np.random.normal(size=(2,Nmc))\n",
    "\n",
    "    data[:,0] = pos[0] + sig[0]*(g[0]*np.cos(phi) + g[1]*np.sin(phi))\n",
    "    data[:,1] = pos[1] + sig[1]*(g[0]*np.sin(phi) + g[1]*np.cos(phi))\n",
    "    \n",
    "    return data"
   ]
  },
  {
   "cell_type": "markdown",
   "metadata": {},
   "source": [
    "### (2) Generating data"
   ]
  },
  {
   "cell_type": "code",
   "execution_count": 3,
   "metadata": {},
   "outputs": [
    {
     "name": "stdout",
     "output_type": "stream",
     "text": [
      "Test data defined, size:  100\n"
     ]
    }
   ],
   "source": [
    "# Test data consist of two 2D event samples\n",
    "# one generated from H1 hypothesis and one from H2\n",
    "\n",
    "# Events per sample\n",
    "\n",
    "Nmc = 50\n",
    "\n",
    "# Measurement uncertainties and correlation (same for both hypothesis)\n",
    "\n",
    "sig = np.array([0.4,0.2])\n",
    "corr = 0.0\n",
    "\n",
    "# Nominal values for each case (2D)\n",
    "\n",
    "h1 = np.array([-1.,-1.])\n",
    "h2 = np.array([1.,1.])\n",
    "\n",
    "\n",
    "X = np.empty(shape=(2*Nmc,2))\n",
    "y = np.empty(shape=(2*Nmc))\n",
    "\n",
    "\n",
    "X[:Nmc,:] = mydata(Nmc,h1,sig,corr)\n",
    "y[:Nmc] = 1\n",
    "\n",
    "X[Nmc:,:] = mydata(Nmc,h2,sig,corr)\n",
    "y[Nmc:] = 2\n",
    "\n",
    "print(\"Test data defined, size: \",y.size)"
   ]
  },
  {
   "cell_type": "markdown",
   "metadata": {},
   "source": [
    "### (3) Calculate expected covariance matrix"
   ]
  },
  {
   "cell_type": "code",
   "execution_count": 4,
   "metadata": {},
   "outputs": [],
   "source": [
    "# Expected covariance matrix of the measurements\n",
    "# (same for both hypothesis)\n",
    "\n",
    "acorr = np.array([[1.,corr],[corr,1.]])\n",
    "\n",
    "cov = np.outer(sig,sig) * acorr"
   ]
  },
  {
   "cell_type": "markdown",
   "metadata": {},
   "source": [
    "### (4) Calculate expected discriminant direction"
   ]
  },
  {
   "cell_type": "code",
   "execution_count": 5,
   "metadata": {},
   "outputs": [
    {
     "name": "stdout",
     "output_type": "stream",
     "text": [
      "Discriminant coefficients: w0 = 0.2425   w1 = 0.9701\n"
     ]
    }
   ],
   "source": [
    "cinv = np.linalg.inv(cov+cov)\n",
    "\n",
    "w = cinv @ ( h2 - h1 )\n",
    "\n",
    "norm = np.sum(w*w)\n",
    "\n",
    "w /= np.sqrt(norm)\n",
    "\n",
    "print(\"Discriminant coefficients: w0 = %.4f   w1 = %.4f\"%(w[0],w[1]))"
   ]
  },
  {
   "cell_type": "code",
   "execution_count": 6,
   "metadata": {},
   "outputs": [
    {
     "name": "stdout",
     "output_type": "stream",
     "text": [
      "Discriminant line: y = -0.2500 * x  +  0.0000\n"
     ]
    }
   ],
   "source": [
    "# Division line should cross in the middle between h1 and h2\n",
    "\n",
    "h0 = 0.5*(h1+h2)\n",
    "\n",
    "w0 = w @ h0\n",
    "\n",
    "# Coefficients for the line    w @ h = w0\n",
    "\n",
    "aw = -w[0]/w[1]\n",
    "bw = w0/w[1]\n",
    "\n",
    "print(\"Discriminant line: y = %.4f * x  +  %.4f\"%(aw,bw))"
   ]
  },
  {
   "cell_type": "markdown",
   "metadata": {},
   "source": [
    "### (5) Linear discriminant for the generated sample from sklearn"
   ]
  },
  {
   "cell_type": "code",
   "execution_count": 7,
   "metadata": {},
   "outputs": [
    {
     "name": "stdout",
     "output_type": "stream",
     "text": [
      "Discriminant coefficients: w0 = 0.2694   w1 = 0.9630\n",
      "Discriminant line: y = -0.2797 * x  +  0.0039\n"
     ]
    }
   ],
   "source": [
    "# Create discriminant\n",
    "\n",
    "clf = LinearDiscriminantAnalysis(solver=\"svd\")    # ‘svd’, ‘lsqr’, 'eigen'\n",
    "clf.fit(X, y)\n",
    "\n",
    "# Check result (coefficients)\n",
    "\n",
    "cf = clf.coef_[0]\n",
    "\n",
    "# Normalise to unit vector (for comparison)\n",
    "\n",
    "ncf = np.sqrt(np.sum(cf*cf))\n",
    "\n",
    "print(\"Discriminant coefficients: w0 = %.4f   w1 = %.4f\"%(cf[0]/ncf,cf[1]/ncf))\n",
    "\n",
    "# Check reference value at (0,0)\n",
    "\n",
    "off = clf.predict_proba([[0.,0.]])\n",
    "\n",
    "# Line to draw for p=0.5  ( y = a x + b )\n",
    "\n",
    "a = -cf[0]/cf[1]\n",
    "b = (0.5-off[0,0])/cf[1]\n",
    "\n",
    "print(\"Discriminant line: y = %.4f * x  +  %.4f\"%(a,b))"
   ]
  },
  {
   "cell_type": "markdown",
   "metadata": {},
   "source": [
    "### (6) Plot results"
   ]
  },
  {
   "cell_type": "code",
   "execution_count": 8,
   "metadata": {},
   "outputs": [],
   "source": [
    "# Create result graph\n",
    "\n",
    "Xmin = -5.0\n",
    "Xmax = 5.0\n",
    "Np = 2\n",
    "\n",
    "Xfun = np.linspace(Xmin,Xmax,Np)\n",
    "\n",
    "# Discriminant line from the generated sample and from the distribution parameters\n",
    "\n",
    "Yfun = a*Xfun + b\n",
    "Ywfun = aw*Xfun + bw"
   ]
  },
  {
   "cell_type": "code",
   "execution_count": 10,
   "metadata": {},
   "outputs": [
    {
     "data": {
      "image/png": "[encoded data removed]",
      "text/plain": [
       "<Figure size 576x576 with 1 Axes>"
      ]
     },
     "metadata": {
      "needs_background": "light"
     },
     "output_type": "display_data"
    }
   ],
   "source": [
    "plt.figure(figsize=(8, 8))\n",
    "\n",
    "# Training points in two categories\n",
    "\n",
    "plt.plot(X[:Nmc,0],X[:Nmc,1],'o',color='blue',ms=5)\n",
    "plt.plot(X[Nmc:,0],X[Nmc:,1],'o',color='green',ms=5)\n",
    "\n",
    "plt.title(\"Linear discriminant   $\\sigma$ = \"+str(sig)+\"   $\\\\rho$ = \"+str(corr),size=20)\n",
    "plt.xlabel('$x_1$',size=20)\n",
    "plt.ylabel('$x_2$',size=20)\n",
    "\n",
    "plt.plot(Xfun,Yfun,'-',color='magenta',linewidth=3)\n",
    "plt.plot(Xfun,Ywfun,'--',color='red')\n",
    "\n",
    "plt.xlim([Xmin,Xmax])\n",
    "plt.ylim([Xmin,Xmax])\n",
    "\n",
    "plt.xticks(fontsize=18)\n",
    "plt.yticks(fontsize=18)\n",
    "plt.grid(which='major', axis='both')\n",
    "\n",
    "if Nmc == 50 :\n",
    "    fname = '12_Fisher_'+str(sig[0])+'_'+str(sig[1])+'_'+str(corr)+'.png'\n",
    "else :\n",
    "    fname = '12_Fisher_'+str(sig[0])+'_'+str(sig[1])+'_'+str(corr)+'_'+str(2*Nmc)+'.png'\n",
    "    \n",
    "\n",
    "plt.savefig(fname)\n",
    "\n",
    "plt.show()"
   ]
  },
  {
   "cell_type": "code",
   "execution_count": null,
   "metadata": {},
   "outputs": [],
   "source": []
  },
  {
   "cell_type": "code",
   "execution_count": null,
   "metadata": {},
   "outputs": [],
   "source": []
  }
 ],
 "metadata": {
  "kernelspec": {
   "display_name": "Python 3",
   "language": "python",
   "name": "python3"
  },
  "language_info": {
   "codemirror_mode": {
    "name": "ipython",
    "version": 3
   },
   "file_extension": ".py",
   "mimetype": "text/x-python",
   "name": "python",
   "nbconvert_exporter": "python",
   "pygments_lexer": "ipython3",
   "version": "3.9.7"
  }
 },
 "nbformat": 4,
 "nbformat_minor": 4
}
